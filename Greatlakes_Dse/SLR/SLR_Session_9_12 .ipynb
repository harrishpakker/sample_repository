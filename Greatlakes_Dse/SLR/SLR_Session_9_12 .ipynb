{
 "cells": [
  {
   "cell_type": "code",
   "execution_count": 5,
   "metadata": {},
   "outputs": [],
   "source": [
    "import pandas as pd\n",
    "import numpy as np\n",
    "import matplotlib.pyplot as plt\n",
    "import seaborn as sb"
   ]
  },
  {
   "cell_type": "code",
   "execution_count": 2,
   "metadata": {},
   "outputs": [],
   "source": [
    "data=pd.DataFrame({'Mileage':[15,14,17,7,10,7,20,21,18,11,7.9,8.6,12.3,17.1,19.4],\n",
    "                 'Premium':[175.5,110.2,95.7,260.2,185.4,200.9,56.9,77.5,150,120.3,250,220,217.5,140.88,97.25]})"
   ]
  },
  {
   "cell_type": "code",
   "execution_count": 3,
   "metadata": {},
   "outputs": [],
   "source": [
    "x=data['Mileage']\n",
    "y=data['Premium']"
   ]
  },
  {
   "cell_type": "code",
   "execution_count": 37,
   "metadata": {},
   "outputs": [],
   "source": [
    "#y.values.reshape(-1,1)"
   ]
  },
  {
   "cell_type": "code",
   "execution_count": 6,
   "metadata": {},
   "outputs": [
    {
     "data": {
      "text/plain": [
       "[<matplotlib.lines.Line2D at 0x1ee78a3d9c8>]"
      ]
     },
     "execution_count": 6,
     "metadata": {},
     "output_type": "execute_result"
    },
    {
     "data": {
      "image/png": "[encoded data removed]",
      "text/plain": [
       "<Figure size 432x288 with 1 Axes>"
      ]
     },
     "metadata": {
      "needs_background": "light"
     },
     "output_type": "display_data"
    }
   ],
   "source": [
    "plt.plot(x,y,\"*\")"
   ]
  },
  {
   "cell_type": "code",
   "execution_count": 7,
   "metadata": {},
   "outputs": [
    {
     "data": {
      "text/html": [
       "<div>\n",
       "<style scoped>\n",
       "    .dataframe tbody tr th:only-of-type {\n",
       "        vertical-align: middle;\n",
       "    }\n",
       "\n",
       "    .dataframe tbody tr th {\n",
       "        vertical-align: top;\n",
       "    }\n",
       "\n",
       "    .dataframe thead th {\n",
       "        text-align: right;\n",
       "    }\n",
       "</style>\n",
       "<table border=\"1\" class=\"dataframe\">\n",
       "  <thead>\n",
       "    <tr style=\"text-align: right;\">\n",
       "      <th></th>\n",
       "      <th>Mileage</th>\n",
       "      <th>Premium</th>\n",
       "    </tr>\n",
       "  </thead>\n",
       "  <tbody>\n",
       "    <tr>\n",
       "      <th>Mileage</th>\n",
       "      <td>1.000000</td>\n",
       "      <td>-0.850834</td>\n",
       "    </tr>\n",
       "    <tr>\n",
       "      <th>Premium</th>\n",
       "      <td>-0.850834</td>\n",
       "      <td>1.000000</td>\n",
       "    </tr>\n",
       "  </tbody>\n",
       "</table>\n",
       "</div>"
      ],
      "text/plain": [
       "          Mileage   Premium\n",
       "Mileage  1.000000 -0.850834\n",
       "Premium -0.850834  1.000000"
      ]
     },
     "execution_count": 7,
     "metadata": {},
     "output_type": "execute_result"
    }
   ],
   "source": [
    "data.corr()"
   ]
  },
  {
   "cell_type": "code",
   "execution_count": 16,
   "metadata": {},
   "outputs": [],
   "source": [
    "# can i take b1 value as 1 ??? No because it is negatively correalted.\n",
    "# Lets assume\n",
    "b1=-1\n",
    "b0=250"
   ]
  },
  {
   "cell_type": "code",
   "execution_count": 17,
   "metadata": {},
   "outputs": [],
   "source": [
    "yreg= b1*x +b0"
   ]
  },
  {
   "cell_type": "code",
   "execution_count": 18,
   "metadata": {},
   "outputs": [
    {
     "data": {
      "text/plain": [
       "[<matplotlib.lines.Line2D at 0x1ee79b71248>]"
      ]
     },
     "execution_count": 18,
     "metadata": {},
     "output_type": "execute_result"
    },
    {
     "data": {
      "image/png": "[encoded data removed]",
      "text/plain": [
       "<Figure size 432x288 with 1 Axes>"
      ]
     },
     "metadata": {
      "needs_background": "light"
     },
     "output_type": "display_data"
    }
   ],
   "source": [
    "plt.plot(x,y,\"*\")\n",
    "plt.plot(x,yreg)\n",
    "# its a poor fit"
   ]
  },
  {
   "cell_type": "code",
   "execution_count": 38,
   "metadata": {},
   "outputs": [
    {
     "data": {
      "image/png": "[encoded data removed]",
      "text/plain": [
       "<Figure size 432x288 with 1 Axes>"
      ]
     },
     "metadata": {
      "needs_background": "light"
     },
     "output_type": "display_data"
    }
   ],
   "source": [
    "for b1 in [-1,-2,-4,-5,-6,-8,-9]:\n",
    "    plt.plot(x,y,\"*\")\n",
    "    plt.plot(x,b1*x+b0)\n",
    "    \n",
    "# Explore for differnt coefficients"
   ]
  },
  {
   "cell_type": "code",
   "execution_count": 39,
   "metadata": {},
   "outputs": [],
   "source": [
    "# Use the formlua we have derived using OLS to compute b1 and b0\n",
    "\n",
    "b1=np.sum((x-x.mean())*(y-y.mean())) / np.sum((x-x.mean())**2)"
   ]
  },
  {
   "cell_type": "code",
   "execution_count": 40,
   "metadata": {},
   "outputs": [
    {
     "data": {
      "text/plain": [
       "-11.057345018753576"
      ]
     },
     "execution_count": 40,
     "metadata": {},
     "output_type": "execute_result"
    }
   ],
   "source": [
    "b1"
   ]
  },
  {
   "cell_type": "code",
   "execution_count": 41,
   "metadata": {},
   "outputs": [
    {
     "data": {
      "text/plain": [
       "308.5535288233406"
      ]
     },
     "execution_count": 41,
     "metadata": {},
     "output_type": "execute_result"
    }
   ],
   "source": [
    "b0=y.mean()-b1*x.mean()\n",
    "b0"
   ]
  },
  {
   "cell_type": "code",
   "execution_count": 42,
   "metadata": {},
   "outputs": [
    {
     "data": {
      "text/plain": [
       "[<matplotlib.lines.Line2D at 0x1ee79e289c8>]"
      ]
     },
     "execution_count": 42,
     "metadata": {},
     "output_type": "execute_result"
    },
    {
     "data": {
      "image/png": "[encoded data removed]",
      "text/plain": [
       "<Figure size 432x288 with 1 Axes>"
      ]
     },
     "metadata": {
      "needs_background": "light"
     },
     "output_type": "display_data"
    }
   ],
   "source": [
    "plt.plot(x,y,\"*\")\n",
    "plt.plot(x,b1*x+b0)"
   ]
  },
  {
   "cell_type": "code",
   "execution_count": 25,
   "metadata": {},
   "outputs": [
    {
     "data": {
      "text/plain": [
       "0     32.806646\n",
       "1    -43.550699\n",
       "2    -24.878664\n",
       "3     29.047886\n",
       "4    -12.580079\n",
       "5    -30.252114\n",
       "6    -30.506628\n",
       "7      1.150717\n",
       "8     40.478682\n",
       "9    -66.622734\n",
       "10    28.799497\n",
       "11     6.539638\n",
       "12    44.951815\n",
       "13    21.407071\n",
       "14     3.208965\n",
       "dtype: float64"
      ]
     },
     "execution_count": 25,
     "metadata": {},
     "output_type": "execute_result"
    }
   ],
   "source": [
    "# residue - difference between actual and predicted(fitted) value\n",
    "yreg=b1*x+b0 # fitted value\n",
    "residue=y-yreg\n",
    "residue\n",
    "\n",
    "#The first observation residue is 32.8, which tells that actual value is 32 units more than predicted value.\n",
    "#the second observation reside is -43.55, then means the actual value is 43 units less than predicted"
   ]
  },
  {
   "cell_type": "code",
   "execution_count": 43,
   "metadata": {},
   "outputs": [
    {
     "data": {
      "text/plain": [
       "-1.8474111129762605e-13"
      ]
     },
     "execution_count": 43,
     "metadata": {},
     "output_type": "execute_result"
    }
   ],
   "source": [
    "np.sum(residue)\n",
    "#Sum of residue close to zero is the indicator of the balanced position line, \n",
    "#but it doesn't mean the total error of the model is less"
   ]
  },
  {
   "cell_type": "code",
   "execution_count": 27,
   "metadata": {},
   "outputs": [
    {
     "data": {
      "text/plain": [
       "15879.610267170086"
      ]
     },
     "execution_count": 27,
     "metadata": {},
     "output_type": "execute_result"
    }
   ],
   "source": [
    "#sum of square error\n",
    "sse = np.sum((y-yreg)**2)\n",
    "sse"
   ]
  },
  {
   "cell_type": "code",
   "execution_count": 28,
   "metadata": {},
   "outputs": [
    {
     "data": {
      "text/plain": [
       "1058.6406844780058"
      ]
     },
     "execution_count": 28,
     "metadata": {},
     "output_type": "execute_result"
    }
   ],
   "source": [
    "#mean square error\n",
    "mse=np.mean((y-yreg)**2)\n",
    "mse"
   ]
  },
  {
   "cell_type": "code",
   "execution_count": 30,
   "metadata": {},
   "outputs": [
    {
     "data": {
      "text/plain": [
       "32.53675897316765"
      ]
     },
     "execution_count": 30,
     "metadata": {},
     "output_type": "execute_result"
    }
   ],
   "source": [
    "# Root mean square error\n",
    "rmse=np.sqrt(mse)\n",
    "rmse"
   ]
  },
  {
   "cell_type": "code",
   "execution_count": 32,
   "metadata": {},
   "outputs": [],
   "source": [
    "# Variance measure\n",
    "# SST - Sum of Square of Total \n",
    "    # sum of square Differnce between the mean model value(average of output) and actual value\n",
    "# SSR - sum of Square of Regression \n",
    "    # sum of square Differnce between the mean model output and regression model output(yreg) \n",
    "# SSE - sum of square of error\n",
    "    # sum of square Differnce between the actual output and regression model output (yreg)"
   ]
  },
  {
   "cell_type": "code",
   "execution_count": 33,
   "metadata": {},
   "outputs": [
    {
     "data": {
      "text/plain": [
       "<matplotlib.lines.Line2D at 0x1ee79d3cf88>"
      ]
     },
     "execution_count": 33,
     "metadata": {},
     "output_type": "execute_result"
    },
    {
     "data": {
      "image/png": "[encoded data removed]",
      "text/plain": [
       "<Figure size 432x288 with 1 Axes>"
      ]
     },
     "metadata": {
      "needs_background": "light"
     },
     "output_type": "display_data"
    }
   ],
   "source": [
    "plt.plot(x,y,\"*\") # actual output\n",
    "plt.plot(x,b1*x+b0) # reression model\n",
    "plt.axhline(y.mean(),color='r') # mean model"
   ]
  },
  {
   "cell_type": "code",
   "execution_count": 34,
   "metadata": {},
   "outputs": [],
   "source": [
    "sst = np.sum((y.mean() - y)**2)\n",
    "ssr = np.sum((y.mean()-yreg)**2)\n",
    "sse = np.sum((y-yreg)**2)"
   ]
  },
  {
   "cell_type": "code",
   "execution_count": 35,
   "metadata": {},
   "outputs": [
    {
     "data": {
      "text/plain": [
       "(57517.81137333333, 41638.201106163266, 15879.610267170086)"
      ]
     },
     "execution_count": 35,
     "metadata": {},
     "output_type": "execute_result"
    }
   ],
   "source": [
    "sst,ssr,sse"
   ]
  },
  {
   "cell_type": "code",
   "execution_count": 44,
   "metadata": {},
   "outputs": [
    {
     "data": {
      "text/plain": [
       "57517.81137333335"
      ]
     },
     "execution_count": 44,
     "metadata": {},
     "output_type": "execute_result"
    }
   ],
   "source": [
    "ssr+sse  # sst = ssr+sse"
   ]
  },
  {
   "cell_type": "code",
   "execution_count": 45,
   "metadata": {},
   "outputs": [],
   "source": [
    "r_square = ssr/sst  #--- models explained variance out of total varaince\n",
    "\n",
    "# generally vary from 0 to 1"
   ]
  },
  {
   "cell_type": "code",
   "execution_count": 46,
   "metadata": {},
   "outputs": [
    {
     "data": {
      "text/plain": [
       "0.7239183847921543"
      ]
     },
     "execution_count": 46,
     "metadata": {},
     "output_type": "execute_result"
    }
   ],
   "source": [
    "r_square"
   ]
  },
  {
   "cell_type": "code",
   "execution_count": 47,
   "metadata": {},
   "outputs": [],
   "source": [
    "# The constructed linear regression model abilty to explain the variance in the output is by 72%"
   ]
  },
  {
   "cell_type": "code",
   "execution_count": 48,
   "metadata": {},
   "outputs": [],
   "source": [
    "import statsmodels.api as sm"
   ]
  },
  {
   "cell_type": "code",
   "execution_count": 50,
   "metadata": {},
   "outputs": [],
   "source": [
    "xc=sm.add_constant(x)"
   ]
  },
  {
   "cell_type": "code",
   "execution_count": 51,
   "metadata": {},
   "outputs": [
    {
     "data": {
      "text/plain": [
       "0    15.0\n",
       "1    14.0\n",
       "Name: Mileage, dtype: float64"
      ]
     },
     "execution_count": 51,
     "metadata": {},
     "output_type": "execute_result"
    }
   ],
   "source": [
    "x.head(2)"
   ]
  },
  {
   "cell_type": "code",
   "execution_count": 52,
   "metadata": {},
   "outputs": [
    {
     "data": {
      "text/html": [
       "<div>\n",
       "<style scoped>\n",
       "    .dataframe tbody tr th:only-of-type {\n",
       "        vertical-align: middle;\n",
       "    }\n",
       "\n",
       "    .dataframe tbody tr th {\n",
       "        vertical-align: top;\n",
       "    }\n",
       "\n",
       "    .dataframe thead th {\n",
       "        text-align: right;\n",
       "    }\n",
       "</style>\n",
       "<table border=\"1\" class=\"dataframe\">\n",
       "  <thead>\n",
       "    <tr style=\"text-align: right;\">\n",
       "      <th></th>\n",
       "      <th>const</th>\n",
       "      <th>Mileage</th>\n",
       "    </tr>\n",
       "  </thead>\n",
       "  <tbody>\n",
       "    <tr>\n",
       "      <th>0</th>\n",
       "      <td>1.0</td>\n",
       "      <td>15.0</td>\n",
       "    </tr>\n",
       "    <tr>\n",
       "      <th>1</th>\n",
       "      <td>1.0</td>\n",
       "      <td>14.0</td>\n",
       "    </tr>\n",
       "  </tbody>\n",
       "</table>\n",
       "</div>"
      ],
      "text/plain": [
       "   const  Mileage\n",
       "0    1.0     15.0\n",
       "1    1.0     14.0"
      ]
     },
     "execution_count": 52,
     "metadata": {},
     "output_type": "execute_result"
    }
   ],
   "source": [
    "xc.head(2)"
   ]
  },
  {
   "cell_type": "code",
   "execution_count": 53,
   "metadata": {},
   "outputs": [
    {
     "name": "stderr",
     "output_type": "stream",
     "text": [
      "C:\\Users\\senthil kumar\\anaconda3\\lib\\site-packages\\scipy\\stats\\stats.py:1535: UserWarning: kurtosistest only valid for n>=20 ... continuing anyway, n=15\n",
      "  \"anyway, n=%i\" % int(n))\n"
     ]
    },
    {
     "data": {
      "text/html": [
       "<table class=\"simpletable\">\n",
       "<caption>OLS Regression Results</caption>\n",
       "<tr>\n",
       "  <th>Dep. Variable:</th>         <td>Premium</td>     <th>  R-squared:         </th> <td>   0.724</td>\n",
       "</tr>\n",
       "<tr>\n",
       "  <th>Model:</th>                   <td>OLS</td>       <th>  Adj. R-squared:    </th> <td>   0.703</td>\n",
       "</tr>\n",
       "<tr>\n",
       "  <th>Method:</th>             <td>Least Squares</td>  <th>  F-statistic:       </th> <td>   34.09</td>\n",
       "</tr>\n",
       "<tr>\n",
       "  <th>Date:</th>             <td>Tue, 08 Dec 2020</td> <th>  Prob (F-statistic):</th> <td>5.79e-05</td>\n",
       "</tr>\n",
       "<tr>\n",
       "  <th>Time:</th>                 <td>10:25:04</td>     <th>  Log-Likelihood:    </th> <td> -73.520</td>\n",
       "</tr>\n",
       "<tr>\n",
       "  <th>No. Observations:</th>      <td>    15</td>      <th>  AIC:               </th> <td>   151.0</td>\n",
       "</tr>\n",
       "<tr>\n",
       "  <th>Df Residuals:</th>          <td>    13</td>      <th>  BIC:               </th> <td>   152.5</td>\n",
       "</tr>\n",
       "<tr>\n",
       "  <th>Df Model:</th>              <td>     1</td>      <th>                     </th>     <td> </td>   \n",
       "</tr>\n",
       "<tr>\n",
       "  <th>Covariance Type:</th>      <td>nonrobust</td>    <th>                     </th>     <td> </td>   \n",
       "</tr>\n",
       "</table>\n",
       "<table class=\"simpletable\">\n",
       "<tr>\n",
       "     <td></td>        <th>coef</th>     <th>std err</th>      <th>t</th>      <th>P>|t|</th>  <th>[0.025</th>    <th>0.975]</th>  \n",
       "</tr>\n",
       "<tr>\n",
       "  <th>const</th>   <td>  308.5535</td> <td>   27.447</td> <td>   11.242</td> <td> 0.000</td> <td>  249.258</td> <td>  367.849</td>\n",
       "</tr>\n",
       "<tr>\n",
       "  <th>Mileage</th> <td>  -11.0573</td> <td>    1.894</td> <td>   -5.838</td> <td> 0.000</td> <td>  -15.149</td> <td>   -6.966</td>\n",
       "</tr>\n",
       "</table>\n",
       "<table class=\"simpletable\">\n",
       "<tr>\n",
       "  <th>Omnibus:</th>       <td> 1.087</td> <th>  Durbin-Watson:     </th> <td>   2.337</td>\n",
       "</tr>\n",
       "<tr>\n",
       "  <th>Prob(Omnibus):</th> <td> 0.581</td> <th>  Jarque-Bera (JB):  </th> <td>   0.908</td>\n",
       "</tr>\n",
       "<tr>\n",
       "  <th>Skew:</th>          <td>-0.389</td> <th>  Prob(JB):          </th> <td>   0.635</td>\n",
       "</tr>\n",
       "<tr>\n",
       "  <th>Kurtosis:</th>      <td> 2.079</td> <th>  Cond. No.          </th> <td>    44.3</td>\n",
       "</tr>\n",
       "</table><br/><br/>Warnings:<br/>[1] Standard Errors assume that the covariance matrix of the errors is correctly specified."
      ],
      "text/plain": [
       "<class 'statsmodels.iolib.summary.Summary'>\n",
       "\"\"\"\n",
       "                            OLS Regression Results                            \n",
       "==============================================================================\n",
       "Dep. Variable:                Premium   R-squared:                       0.724\n",
       "Model:                            OLS   Adj. R-squared:                  0.703\n",
       "Method:                 Least Squares   F-statistic:                     34.09\n",
       "Date:                Tue, 08 Dec 2020   Prob (F-statistic):           5.79e-05\n",
       "Time:                        10:25:04   Log-Likelihood:                -73.520\n",
       "No. Observations:                  15   AIC:                             151.0\n",
       "Df Residuals:                      13   BIC:                             152.5\n",
       "Df Model:                           1                                         \n",
       "Covariance Type:            nonrobust                                         \n",
       "==============================================================================\n",
       "                 coef    std err          t      P>|t|      [0.025      0.975]\n",
       "------------------------------------------------------------------------------\n",
       "const        308.5535     27.447     11.242      0.000     249.258     367.849\n",
       "Mileage      -11.0573      1.894     -5.838      0.000     -15.149      -6.966\n",
       "==============================================================================\n",
       "Omnibus:                        1.087   Durbin-Watson:                   2.337\n",
       "Prob(Omnibus):                  0.581   Jarque-Bera (JB):                0.908\n",
       "Skew:                          -0.389   Prob(JB):                        0.635\n",
       "Kurtosis:                       2.079   Cond. No.                         44.3\n",
       "==============================================================================\n",
       "\n",
       "Warnings:\n",
       "[1] Standard Errors assume that the covariance matrix of the errors is correctly specified.\n",
       "\"\"\""
      ]
     },
     "execution_count": 53,
     "metadata": {},
     "output_type": "execute_result"
    }
   ],
   "source": [
    "xc=sm.add_constant(x)\n",
    "ols=sm.OLS(y,xc)\n",
    "ols_mod=ols.fit()\n",
    "ols_mod.summary()"
   ]
  },
  {
   "cell_type": "code",
   "execution_count": 54,
   "metadata": {},
   "outputs": [],
   "source": [
    "# H0 : All the input feature coefficients are zero\n",
    "\n",
    "#p value is less than 0.05, so we are rejecting the null hypothesis, \n",
    "#which means the model input features are significant, in other words my model is not a mean model"
   ]
  },
  {
   "cell_type": "code",
   "execution_count": null,
   "metadata": {},
   "outputs": [],
   "source": [
    "#b1 (mileage coeff) = -11.0573\n",
    "\n",
    "# for every one unit of increase in mileage the premium amount will decrease by 11.0573 units,\n",
    "# provided all other inputs are remain constant."
   ]
  },
  {
   "cell_type": "code",
   "execution_count": 55,
   "metadata": {},
   "outputs": [
    {
     "data": {
      "text/plain": [
       "15879.610267170086"
      ]
     },
     "execution_count": 55,
     "metadata": {},
     "output_type": "execute_result"
    }
   ],
   "source": [
    "sse"
   ]
  },
  {
   "cell_type": "code",
   "execution_count": 57,
   "metadata": {},
   "outputs": [],
   "source": [
    "k=1 # no of input feature\n",
    "mse = sse/(len(x)-k-1)"
   ]
  },
  {
   "cell_type": "code",
   "execution_count": 58,
   "metadata": {},
   "outputs": [],
   "source": [
    "rmse=np.sqrt(mse)"
   ]
  },
  {
   "cell_type": "code",
   "execution_count": 59,
   "metadata": {},
   "outputs": [],
   "source": [
    "std_err=rmse / np.sqrt(np.sum((x-x.mean())**2))"
   ]
  },
  {
   "cell_type": "code",
   "execution_count": 60,
   "metadata": {},
   "outputs": [
    {
     "data": {
      "text/plain": [
       "1.8938829107553148"
      ]
     },
     "execution_count": 60,
     "metadata": {},
     "output_type": "execute_result"
    }
   ],
   "source": [
    "std_err"
   ]
  },
  {
   "cell_type": "code",
   "execution_count": null,
   "metadata": {},
   "outputs": [],
   "source": [
    "#ttset\n",
    "# H0: The corresponding input variabe coefficient is zero"
   ]
  },
  {
   "cell_type": "code",
   "execution_count": 61,
   "metadata": {},
   "outputs": [
    {
     "data": {
      "text/plain": [
       "-5.8384285201613375"
      ]
     },
     "execution_count": 61,
     "metadata": {},
     "output_type": "execute_result"
    }
   ],
   "source": [
    "# tstat= (est_coef - true_coef) / std_err\n",
    "\n",
    "tstat=(-11.0573 - 0)/std_err\n",
    "tstat"
   ]
  },
  {
   "cell_type": "code",
   "execution_count": 66,
   "metadata": {},
   "outputs": [
    {
     "data": {
      "text/plain": [
       "-2.160368656461013"
      ]
     },
     "execution_count": 66,
     "metadata": {},
     "output_type": "execute_result"
    }
   ],
   "source": [
    "from scipy import stats as stats\n",
    "t_table_value=stats.t.ppf(0.05/2,len(x)-2)\n",
    "t_table_value"
   ]
  },
  {
   "cell_type": "code",
   "execution_count": 63,
   "metadata": {},
   "outputs": [],
   "source": [
    "# Automobile expert saying that one unit increase in milage will reduce the premium by 20 units ? \n",
    "# Can we accept his openion? \n",
    "# use 20 in place of true value in tstat formula and analyse\n",
    "# Also can use Confidence Interval to make decision about his statement.\n",
    "#Confidence interval is 15 to 6, 20 is out of this rance, so we can reject his statement."
   ]
  },
  {
   "cell_type": "code",
   "execution_count": 67,
   "metadata": {},
   "outputs": [],
   "source": [
    "data=pd.read_csv('GDP_Country1.csv')\n",
    "#data=pd.read_csv('https://raw.githubusercontent.com/tkseneee/Dataset/master/GDP_Country1.csv')"
   ]
  },
  {
   "cell_type": "code",
   "execution_count": 68,
   "metadata": {},
   "outputs": [
    {
     "data": {
      "text/html": [
       "<div>\n",
       "<style scoped>\n",
       "    .dataframe tbody tr th:only-of-type {\n",
       "        vertical-align: middle;\n",
       "    }\n",
       "\n",
       "    .dataframe tbody tr th {\n",
       "        vertical-align: top;\n",
       "    }\n",
       "\n",
       "    .dataframe thead th {\n",
       "        text-align: right;\n",
       "    }\n",
       "</style>\n",
       "<table border=\"1\" class=\"dataframe\">\n",
       "  <thead>\n",
       "    <tr style=\"text-align: right;\">\n",
       "      <th></th>\n",
       "      <th>Country</th>\n",
       "      <th>Population</th>\n",
       "      <th>Area_sqm</th>\n",
       "      <th>Pop_Density_per sqm</th>\n",
       "      <th>Coastline (coast/area ratio)</th>\n",
       "      <th>Net migration</th>\n",
       "      <th>Infant mortality (per 1000 births)</th>\n",
       "      <th>GDP ($ per capita)</th>\n",
       "      <th>Literacy (%)</th>\n",
       "      <th>Phones (per 1000)</th>\n",
       "      <th>Arable (%)</th>\n",
       "      <th>Crops (%)</th>\n",
       "      <th>Other (%)</th>\n",
       "      <th>Climate</th>\n",
       "      <th>Birthrate</th>\n",
       "      <th>Deathrate</th>\n",
       "      <th>Agriculture</th>\n",
       "      <th>Industry</th>\n",
       "      <th>Service</th>\n",
       "    </tr>\n",
       "  </thead>\n",
       "  <tbody>\n",
       "    <tr>\n",
       "      <th>0</th>\n",
       "      <td>Afghanistan</td>\n",
       "      <td>31056997</td>\n",
       "      <td>647500</td>\n",
       "      <td>48.0</td>\n",
       "      <td>0.00</td>\n",
       "      <td>23.06</td>\n",
       "      <td>163.07</td>\n",
       "      <td>700.0</td>\n",
       "      <td>36.0</td>\n",
       "      <td>3.2</td>\n",
       "      <td>12.13</td>\n",
       "      <td>0.22</td>\n",
       "      <td>87.65</td>\n",
       "      <td>1.0</td>\n",
       "      <td>46.60</td>\n",
       "      <td>20.34</td>\n",
       "      <td>0.380</td>\n",
       "      <td>0.240</td>\n",
       "      <td>0.380</td>\n",
       "    </tr>\n",
       "    <tr>\n",
       "      <th>1</th>\n",
       "      <td>Albania</td>\n",
       "      <td>3581655</td>\n",
       "      <td>28748</td>\n",
       "      <td>124.6</td>\n",
       "      <td>1.26</td>\n",
       "      <td>-4.93</td>\n",
       "      <td>21.52</td>\n",
       "      <td>4500.0</td>\n",
       "      <td>86.5</td>\n",
       "      <td>71.2</td>\n",
       "      <td>21.09</td>\n",
       "      <td>4.42</td>\n",
       "      <td>74.49</td>\n",
       "      <td>3.0</td>\n",
       "      <td>15.11</td>\n",
       "      <td>5.22</td>\n",
       "      <td>0.232</td>\n",
       "      <td>0.188</td>\n",
       "      <td>0.579</td>\n",
       "    </tr>\n",
       "  </tbody>\n",
       "</table>\n",
       "</div>"
      ],
      "text/plain": [
       "        Country  Population  Area_sqm  Pop_Density_per sqm  \\\n",
       "0  Afghanistan     31056997    647500                 48.0   \n",
       "1      Albania      3581655     28748                124.6   \n",
       "\n",
       "   Coastline (coast/area ratio)  Net migration  \\\n",
       "0                          0.00          23.06   \n",
       "1                          1.26          -4.93   \n",
       "\n",
       "   Infant mortality (per 1000 births)  GDP ($ per capita)  Literacy (%)  \\\n",
       "0                              163.07               700.0          36.0   \n",
       "1                               21.52              4500.0          86.5   \n",
       "\n",
       "   Phones (per 1000)  Arable (%)  Crops (%)  Other (%)  Climate  Birthrate  \\\n",
       "0                3.2       12.13       0.22      87.65      1.0      46.60   \n",
       "1               71.2       21.09       4.42      74.49      3.0      15.11   \n",
       "\n",
       "   Deathrate  Agriculture  Industry  Service  \n",
       "0      20.34        0.380     0.240    0.380  \n",
       "1       5.22        0.232     0.188    0.579  "
      ]
     },
     "execution_count": 68,
     "metadata": {},
     "output_type": "execute_result"
    }
   ],
   "source": [
    "data.head(2)"
   ]
  },
  {
   "cell_type": "code",
   "execution_count": 69,
   "metadata": {},
   "outputs": [
    {
     "data": {
      "text/html": [
       "<div>\n",
       "<style scoped>\n",
       "    .dataframe tbody tr th:only-of-type {\n",
       "        vertical-align: middle;\n",
       "    }\n",
       "\n",
       "    .dataframe tbody tr th {\n",
       "        vertical-align: top;\n",
       "    }\n",
       "\n",
       "    .dataframe thead th {\n",
       "        text-align: right;\n",
       "    }\n",
       "</style>\n",
       "<table border=\"1\" class=\"dataframe\">\n",
       "  <thead>\n",
       "    <tr style=\"text-align: right;\">\n",
       "      <th></th>\n",
       "      <th>Population</th>\n",
       "      <th>Area_sqm</th>\n",
       "      <th>Pop_Density_per sqm</th>\n",
       "      <th>Coastline (coast/area ratio)</th>\n",
       "      <th>Net migration</th>\n",
       "      <th>Infant mortality (per 1000 births)</th>\n",
       "      <th>GDP ($ per capita)</th>\n",
       "      <th>Literacy (%)</th>\n",
       "      <th>Phones (per 1000)</th>\n",
       "      <th>Arable (%)</th>\n",
       "      <th>Crops (%)</th>\n",
       "      <th>Other (%)</th>\n",
       "      <th>Climate</th>\n",
       "      <th>Birthrate</th>\n",
       "      <th>Deathrate</th>\n",
       "      <th>Agriculture</th>\n",
       "      <th>Industry</th>\n",
       "      <th>Service</th>\n",
       "    </tr>\n",
       "    <tr>\n",
       "      <th>Country</th>\n",
       "      <th></th>\n",
       "      <th></th>\n",
       "      <th></th>\n",
       "      <th></th>\n",
       "      <th></th>\n",
       "      <th></th>\n",
       "      <th></th>\n",
       "      <th></th>\n",
       "      <th></th>\n",
       "      <th></th>\n",
       "      <th></th>\n",
       "      <th></th>\n",
       "      <th></th>\n",
       "      <th></th>\n",
       "      <th></th>\n",
       "      <th></th>\n",
       "      <th></th>\n",
       "      <th></th>\n",
       "    </tr>\n",
       "  </thead>\n",
       "  <tbody>\n",
       "    <tr>\n",
       "      <th>Afghanistan</th>\n",
       "      <td>31056997</td>\n",
       "      <td>647500</td>\n",
       "      <td>48.0</td>\n",
       "      <td>0.00</td>\n",
       "      <td>23.06</td>\n",
       "      <td>163.07</td>\n",
       "      <td>700.0</td>\n",
       "      <td>36.0</td>\n",
       "      <td>3.2</td>\n",
       "      <td>12.13</td>\n",
       "      <td>0.22</td>\n",
       "      <td>87.65</td>\n",
       "      <td>1.0</td>\n",
       "      <td>46.60</td>\n",
       "      <td>20.34</td>\n",
       "      <td>0.380</td>\n",
       "      <td>0.240</td>\n",
       "      <td>0.380</td>\n",
       "    </tr>\n",
       "    <tr>\n",
       "      <th>Albania</th>\n",
       "      <td>3581655</td>\n",
       "      <td>28748</td>\n",
       "      <td>124.6</td>\n",
       "      <td>1.26</td>\n",
       "      <td>-4.93</td>\n",
       "      <td>21.52</td>\n",
       "      <td>4500.0</td>\n",
       "      <td>86.5</td>\n",
       "      <td>71.2</td>\n",
       "      <td>21.09</td>\n",
       "      <td>4.42</td>\n",
       "      <td>74.49</td>\n",
       "      <td>3.0</td>\n",
       "      <td>15.11</td>\n",
       "      <td>5.22</td>\n",
       "      <td>0.232</td>\n",
       "      <td>0.188</td>\n",
       "      <td>0.579</td>\n",
       "    </tr>\n",
       "  </tbody>\n",
       "</table>\n",
       "</div>"
      ],
      "text/plain": [
       "              Population  Area_sqm  Pop_Density_per sqm  \\\n",
       "Country                                                   \n",
       "Afghanistan     31056997    647500                 48.0   \n",
       "Albania          3581655     28748                124.6   \n",
       "\n",
       "              Coastline (coast/area ratio)  Net migration  \\\n",
       "Country                                                     \n",
       "Afghanistan                           0.00          23.06   \n",
       "Albania                               1.26          -4.93   \n",
       "\n",
       "              Infant mortality (per 1000 births)  GDP ($ per capita)  \\\n",
       "Country                                                                \n",
       "Afghanistan                               163.07               700.0   \n",
       "Albania                                    21.52              4500.0   \n",
       "\n",
       "              Literacy (%)  Phones (per 1000)  Arable (%)  Crops (%)  \\\n",
       "Country                                                                \n",
       "Afghanistan           36.0                3.2       12.13       0.22   \n",
       "Albania               86.5               71.2       21.09       4.42   \n",
       "\n",
       "              Other (%)  Climate  Birthrate  Deathrate  Agriculture  Industry  \\\n",
       "Country                                                                         \n",
       "Afghanistan       87.65      1.0      46.60      20.34        0.380     0.240   \n",
       "Albania           74.49      3.0      15.11       5.22        0.232     0.188   \n",
       "\n",
       "              Service  \n",
       "Country                \n",
       "Afghanistan     0.380  \n",
       "Albania         0.579  "
      ]
     },
     "execution_count": 69,
     "metadata": {},
     "output_type": "execute_result"
    }
   ],
   "source": [
    "data1=data.set_index('Country')\n",
    "data1.head(2)"
   ]
  },
  {
   "cell_type": "code",
   "execution_count": 71,
   "metadata": {},
   "outputs": [
    {
     "data": {
      "text/plain": [
       "Population                            0.000000\n",
       "Area_sqm                              0.000000\n",
       "Pop_Density_per sqm                   0.000000\n",
       "Coastline (coast/area ratio)          0.000000\n",
       "Net migration                         0.013216\n",
       "Infant mortality (per 1000 births)    0.013216\n",
       "GDP ($ per capita)                    0.004405\n",
       "Literacy (%)                          0.079295\n",
       "Phones (per 1000)                     0.017621\n",
       "Arable (%)                            0.008811\n",
       "Crops (%)                             0.008811\n",
       "Other (%)                             0.008811\n",
       "Climate                               0.096916\n",
       "Birthrate                             0.013216\n",
       "Deathrate                             0.017621\n",
       "Agriculture                           0.066079\n",
       "Industry                              0.070485\n",
       "Service                               0.066079\n",
       "dtype: float64"
      ]
     },
     "execution_count": 71,
     "metadata": {},
     "output_type": "execute_result"
    }
   ],
   "source": [
    "data1.isnull().sum()/len(data1)"
   ]
  },
  {
   "cell_type": "code",
   "execution_count": 82,
   "metadata": {},
   "outputs": [],
   "source": [
    "#!pip install missingpy\n",
    "#from missingpy import KNNImputer\n",
    "from sklearn.impute import KNNImputer\n",
    "impu=KNNImputer()\n",
    "data2=impu.fit_transform(data1)\n",
    "data2=pd.DataFrame(data2,columns=data1.columns,index=data1.index)"
   ]
  },
  {
   "cell_type": "code",
   "execution_count": 83,
   "metadata": {},
   "outputs": [
    {
     "data": {
      "text/html": [
       "<div>\n",
       "<style scoped>\n",
       "    .dataframe tbody tr th:only-of-type {\n",
       "        vertical-align: middle;\n",
       "    }\n",
       "\n",
       "    .dataframe tbody tr th {\n",
       "        vertical-align: top;\n",
       "    }\n",
       "\n",
       "    .dataframe thead th {\n",
       "        text-align: right;\n",
       "    }\n",
       "</style>\n",
       "<table border=\"1\" class=\"dataframe\">\n",
       "  <thead>\n",
       "    <tr style=\"text-align: right;\">\n",
       "      <th></th>\n",
       "      <th>Population</th>\n",
       "      <th>Area_sqm</th>\n",
       "      <th>Pop_Density_per sqm</th>\n",
       "      <th>Coastline (coast/area ratio)</th>\n",
       "      <th>Net migration</th>\n",
       "      <th>Infant mortality (per 1000 births)</th>\n",
       "      <th>GDP ($ per capita)</th>\n",
       "      <th>Literacy (%)</th>\n",
       "      <th>Phones (per 1000)</th>\n",
       "      <th>Arable (%)</th>\n",
       "      <th>Crops (%)</th>\n",
       "      <th>Other (%)</th>\n",
       "      <th>Climate</th>\n",
       "      <th>Birthrate</th>\n",
       "      <th>Deathrate</th>\n",
       "      <th>Agriculture</th>\n",
       "      <th>Industry</th>\n",
       "      <th>Service</th>\n",
       "    </tr>\n",
       "    <tr>\n",
       "      <th>Country</th>\n",
       "      <th></th>\n",
       "      <th></th>\n",
       "      <th></th>\n",
       "      <th></th>\n",
       "      <th></th>\n",
       "      <th></th>\n",
       "      <th></th>\n",
       "      <th></th>\n",
       "      <th></th>\n",
       "      <th></th>\n",
       "      <th></th>\n",
       "      <th></th>\n",
       "      <th></th>\n",
       "      <th></th>\n",
       "      <th></th>\n",
       "      <th></th>\n",
       "      <th></th>\n",
       "      <th></th>\n",
       "    </tr>\n",
       "  </thead>\n",
       "  <tbody>\n",
       "    <tr>\n",
       "      <th>Afghanistan</th>\n",
       "      <td>31056997.0</td>\n",
       "      <td>647500.0</td>\n",
       "      <td>48.0</td>\n",
       "      <td>0.00</td>\n",
       "      <td>23.06</td>\n",
       "      <td>163.07</td>\n",
       "      <td>700.0</td>\n",
       "      <td>36.0</td>\n",
       "      <td>3.2</td>\n",
       "      <td>12.13</td>\n",
       "      <td>0.22</td>\n",
       "      <td>87.65</td>\n",
       "      <td>1.0</td>\n",
       "      <td>46.60</td>\n",
       "      <td>20.34</td>\n",
       "      <td>0.380</td>\n",
       "      <td>0.240</td>\n",
       "      <td>0.380</td>\n",
       "    </tr>\n",
       "    <tr>\n",
       "      <th>Albania</th>\n",
       "      <td>3581655.0</td>\n",
       "      <td>28748.0</td>\n",
       "      <td>124.6</td>\n",
       "      <td>1.26</td>\n",
       "      <td>-4.93</td>\n",
       "      <td>21.52</td>\n",
       "      <td>4500.0</td>\n",
       "      <td>86.5</td>\n",
       "      <td>71.2</td>\n",
       "      <td>21.09</td>\n",
       "      <td>4.42</td>\n",
       "      <td>74.49</td>\n",
       "      <td>3.0</td>\n",
       "      <td>15.11</td>\n",
       "      <td>5.22</td>\n",
       "      <td>0.232</td>\n",
       "      <td>0.188</td>\n",
       "      <td>0.579</td>\n",
       "    </tr>\n",
       "  </tbody>\n",
       "</table>\n",
       "</div>"
      ],
      "text/plain": [
       "              Population  Area_sqm  Pop_Density_per sqm  \\\n",
       "Country                                                   \n",
       "Afghanistan   31056997.0  647500.0                 48.0   \n",
       "Albania        3581655.0   28748.0                124.6   \n",
       "\n",
       "              Coastline (coast/area ratio)  Net migration  \\\n",
       "Country                                                     \n",
       "Afghanistan                           0.00          23.06   \n",
       "Albania                               1.26          -4.93   \n",
       "\n",
       "              Infant mortality (per 1000 births)  GDP ($ per capita)  \\\n",
       "Country                                                                \n",
       "Afghanistan                               163.07               700.0   \n",
       "Albania                                    21.52              4500.0   \n",
       "\n",
       "              Literacy (%)  Phones (per 1000)  Arable (%)  Crops (%)  \\\n",
       "Country                                                                \n",
       "Afghanistan           36.0                3.2       12.13       0.22   \n",
       "Albania               86.5               71.2       21.09       4.42   \n",
       "\n",
       "              Other (%)  Climate  Birthrate  Deathrate  Agriculture  Industry  \\\n",
       "Country                                                                         \n",
       "Afghanistan       87.65      1.0      46.60      20.34        0.380     0.240   \n",
       "Albania           74.49      3.0      15.11       5.22        0.232     0.188   \n",
       "\n",
       "              Service  \n",
       "Country                \n",
       "Afghanistan     0.380  \n",
       "Albania         0.579  "
      ]
     },
     "execution_count": 83,
     "metadata": {},
     "output_type": "execute_result"
    }
   ],
   "source": [
    "data2.head(2)"
   ]
  },
  {
   "cell_type": "code",
   "execution_count": 84,
   "metadata": {},
   "outputs": [
    {
     "data": {
      "text/plain": [
       "Population                            0\n",
       "Area_sqm                              0\n",
       "Pop_Density_per sqm                   0\n",
       "Coastline (coast/area ratio)          0\n",
       "Net migration                         0\n",
       "Infant mortality (per 1000 births)    0\n",
       "GDP ($ per capita)                    0\n",
       "Literacy (%)                          0\n",
       "Phones (per 1000)                     0\n",
       "Arable (%)                            0\n",
       "Crops (%)                             0\n",
       "Other (%)                             0\n",
       "Climate                               0\n",
       "Birthrate                             0\n",
       "Deathrate                             0\n",
       "Agriculture                           0\n",
       "Industry                              0\n",
       "Service                               0\n",
       "dtype: int64"
      ]
     },
     "execution_count": 84,
     "metadata": {},
     "output_type": "execute_result"
    }
   ],
   "source": [
    "data2.isnull().sum()"
   ]
  },
  {
   "cell_type": "code",
   "execution_count": 85,
   "metadata": {},
   "outputs": [
    {
     "name": "stderr",
     "output_type": "stream",
     "text": [
      "C:\\Users\\senthil kumar\\anaconda3\\lib\\site-packages\\seaborn\\_decorators.py:43: FutureWarning: Pass the following variable as a keyword arg: x. From version 0.12, the only valid positional argument will be `data`, and passing other arguments without an explicit keyword will result in an error or misinterpretation.\n",
      "  FutureWarning\n"
     ]
    },
    {
     "data": {
      "image/png": "[encoded data removed]",
      "text/plain": [
       "<Figure size 432x288 with 1 Axes>"
      ]
     },
     "metadata": {
      "needs_background": "light"
     },
     "output_type": "display_data"
    },
    {
     "name": "stderr",
     "output_type": "stream",
     "text": [
      "C:\\Users\\senthil kumar\\anaconda3\\lib\\site-packages\\seaborn\\_decorators.py:43: FutureWarning: Pass the following variable as a keyword arg: x. From version 0.12, the only valid positional argument will be `data`, and passing other arguments without an explicit keyword will result in an error or misinterpretation.\n",
      "  FutureWarning\n"
     ]
    },
    {
     "data": {
      "image/png": "[encoded data removed]",
      "text/plain": [
       "<Figure size 432x288 with 1 Axes>"
      ]
     },
     "metadata": {
      "needs_background": "light"
     },
     "output_type": "display_data"
    },
    {
     "name": "stderr",
     "output_type": "stream",
     "text": [
      "C:\\Users\\senthil kumar\\anaconda3\\lib\\site-packages\\seaborn\\_decorators.py:43: FutureWarning: Pass the following variable as a keyword arg: x. From version 0.12, the only valid positional argument will be `data`, and passing other arguments without an explicit keyword will result in an error or misinterpretation.\n",
      "  FutureWarning\n"
     ]
    },
    {
     "data": {
      "image/png": "[encoded data removed]",
      "text/plain": [
       "<Figure size 432x288 with 1 Axes>"
      ]
     },
     "metadata": {
      "needs_background": "light"
     },
     "output_type": "display_data"
    },
    {
     "name": "stderr",
     "output_type": "stream",
     "text": [
      "C:\\Users\\senthil kumar\\anaconda3\\lib\\site-packages\\seaborn\\_decorators.py:43: FutureWarning: Pass the following variable as a keyword arg: x. From version 0.12, the only valid positional argument will be `data`, and passing other arguments without an explicit keyword will result in an error or misinterpretation.\n",
      "  FutureWarning\n"
     ]
    },
    {
     "data": {
      "image/png": "[encoded data removed]",
      "text/plain": [
       "<Figure size 432x288 with 1 Axes>"
      ]
     },
     "metadata": {
      "needs_background": "light"
     },
     "output_type": "display_data"
    },
    {
     "name": "stderr",
     "output_type": "stream",
     "text": [
      "C:\\Users\\senthil kumar\\anaconda3\\lib\\site-packages\\seaborn\\_decorators.py:43: FutureWarning: Pass the following variable as a keyword arg: x. From version 0.12, the only valid positional argument will be `data`, and passing other arguments without an explicit keyword will result in an error or misinterpretation.\n",
      "  FutureWarning\n"
     ]
    },
    {
     "data": {
      "image/png": "[encoded data removed]",
      "text/plain": [
       "<Figure size 432x288 with 1 Axes>"
      ]
     },
     "metadata": {
      "needs_background": "light"
     },
     "output_type": "display_data"
    },
    {
     "name": "stderr",
     "output_type": "stream",
     "text": [
      "C:\\Users\\senthil kumar\\anaconda3\\lib\\site-packages\\seaborn\\_decorators.py:43: FutureWarning: Pass the following variable as a keyword arg: x. From version 0.12, the only valid positional argument will be `data`, and passing other arguments without an explicit keyword will result in an error or misinterpretation.\n",
      "  FutureWarning\n"
     ]
    },
    {
     "data": {
      "image/png": "[encoded data removed]",
      "text/plain": [
       "<Figure size 432x288 with 1 Axes>"
      ]
     },
     "metadata": {
      "needs_background": "light"
     },
     "output_type": "display_data"
    },
    {
     "name": "stderr",
     "output_type": "stream",
     "text": [
      "C:\\Users\\senthil kumar\\anaconda3\\lib\\site-packages\\seaborn\\_decorators.py:43: FutureWarning: Pass the following variable as a keyword arg: x. From version 0.12, the only valid positional argument will be `data`, and passing other arguments without an explicit keyword will result in an error or misinterpretation.\n",
      "  FutureWarning\n"
     ]
    },
    {
     "data": {
      "image/png": "[encoded data removed]",
      "text/plain": [
       "<Figure size 432x288 with 1 Axes>"
      ]
     },
     "metadata": {
      "needs_background": "light"
     },
     "output_type": "display_data"
    },
    {
     "name": "stderr",
     "output_type": "stream",
     "text": [
      "C:\\Users\\senthil kumar\\anaconda3\\lib\\site-packages\\seaborn\\_decorators.py:43: FutureWarning: Pass the following variable as a keyword arg: x. From version 0.12, the only valid positional argument will be `data`, and passing other arguments without an explicit keyword will result in an error or misinterpretation.\n",
      "  FutureWarning\n"
     ]
    },
    {
     "data": {
      "image/png": "[encoded data removed]",
      "text/plain": [
       "<Figure size 432x288 with 1 Axes>"
      ]
     },
     "metadata": {
      "needs_background": "light"
     },
     "output_type": "display_data"
    },
    {
     "name": "stderr",
     "output_type": "stream",
     "text": [
      "C:\\Users\\senthil kumar\\anaconda3\\lib\\site-packages\\seaborn\\_decorators.py:43: FutureWarning: Pass the following variable as a keyword arg: x. From version 0.12, the only valid positional argument will be `data`, and passing other arguments without an explicit keyword will result in an error or misinterpretation.\n",
      "  FutureWarning\n"
     ]
    },
    {
     "data": {
      "image/png": "[encoded data removed]",
      "text/plain": [
       "<Figure size 432x288 with 1 Axes>"
      ]
     },
     "metadata": {
      "needs_background": "light"
     },
     "output_type": "display_data"
    },
    {
     "name": "stderr",
     "output_type": "stream",
     "text": [
      "C:\\Users\\senthil kumar\\anaconda3\\lib\\site-packages\\seaborn\\_decorators.py:43: FutureWarning: Pass the following variable as a keyword arg: x. From version 0.12, the only valid positional argument will be `data`, and passing other arguments without an explicit keyword will result in an error or misinterpretation.\n",
      "  FutureWarning\n"
     ]
    },
    {
     "data": {
      "image/png": "[encoded data removed]",
      "text/plain": [
       "<Figure size 432x288 with 1 Axes>"
      ]
     },
     "metadata": {
      "needs_background": "light"
     },
     "output_type": "display_data"
    },
    {
     "name": "stderr",
     "output_type": "stream",
     "text": [
      "C:\\Users\\senthil kumar\\anaconda3\\lib\\site-packages\\seaborn\\_decorators.py:43: FutureWarning: Pass the following variable as a keyword arg: x. From version 0.12, the only valid positional argument will be `data`, and passing other arguments without an explicit keyword will result in an error or misinterpretation.\n",
      "  FutureWarning\n"
     ]
    },
    {
     "data": {
      "image/png": "[encoded data removed]",
      "text/plain": [
       "<Figure size 432x288 with 1 Axes>"
      ]
     },
     "metadata": {
      "needs_background": "light"
     },
     "output_type": "display_data"
    },
    {
     "name": "stderr",
     "output_type": "stream",
     "text": [
      "C:\\Users\\senthil kumar\\anaconda3\\lib\\site-packages\\seaborn\\_decorators.py:43: FutureWarning: Pass the following variable as a keyword arg: x. From version 0.12, the only valid positional argument will be `data`, and passing other arguments without an explicit keyword will result in an error or misinterpretation.\n",
      "  FutureWarning\n"
     ]
    },
    {
     "data": {
      "image/png": "[encoded data removed]",
      "text/plain": [
       "<Figure size 432x288 with 1 Axes>"
      ]
     },
     "metadata": {
      "needs_background": "light"
     },
     "output_type": "display_data"
    },
    {
     "name": "stderr",
     "output_type": "stream",
     "text": [
      "C:\\Users\\senthil kumar\\anaconda3\\lib\\site-packages\\seaborn\\_decorators.py:43: FutureWarning: Pass the following variable as a keyword arg: x. From version 0.12, the only valid positional argument will be `data`, and passing other arguments without an explicit keyword will result in an error or misinterpretation.\n",
      "  FutureWarning\n"
     ]
    },
    {
     "data": {
      "image/png": "[encoded data removed]",
      "text/plain": [
       "<Figure size 432x288 with 1 Axes>"
      ]
     },
     "metadata": {
      "needs_background": "light"
     },
     "output_type": "display_data"
    },
    {
     "name": "stderr",
     "output_type": "stream",
     "text": [
      "C:\\Users\\senthil kumar\\anaconda3\\lib\\site-packages\\seaborn\\_decorators.py:43: FutureWarning: Pass the following variable as a keyword arg: x. From version 0.12, the only valid positional argument will be `data`, and passing other arguments without an explicit keyword will result in an error or misinterpretation.\n",
      "  FutureWarning\n"
     ]
    },
    {
     "data": {
      "image/png": "[encoded data removed]",
      "text/plain": [
       "<Figure size 432x288 with 1 Axes>"
      ]
     },
     "metadata": {
      "needs_background": "light"
     },
     "output_type": "display_data"
    },
    {
     "name": "stderr",
     "output_type": "stream",
     "text": [
      "C:\\Users\\senthil kumar\\anaconda3\\lib\\site-packages\\seaborn\\_decorators.py:43: FutureWarning: Pass the following variable as a keyword arg: x. From version 0.12, the only valid positional argument will be `data`, and passing other arguments without an explicit keyword will result in an error or misinterpretation.\n",
      "  FutureWarning\n"
     ]
    },
    {
     "data": {
      "image/png": "[encoded data removed]",
      "text/plain": [
       "<Figure size 432x288 with 1 Axes>"
      ]
     },
     "metadata": {
      "needs_background": "light"
     },
     "output_type": "display_data"
    },
    {
     "name": "stderr",
     "output_type": "stream",
     "text": [
      "C:\\Users\\senthil kumar\\anaconda3\\lib\\site-packages\\seaborn\\_decorators.py:43: FutureWarning: Pass the following variable as a keyword arg: x. From version 0.12, the only valid positional argument will be `data`, and passing other arguments without an explicit keyword will result in an error or misinterpretation.\n",
      "  FutureWarning\n"
     ]
    },
    {
     "data": {
      "image/png": "[encoded data removed]",
      "text/plain": [
       "<Figure size 432x288 with 1 Axes>"
      ]
     },
     "metadata": {
      "needs_background": "light"
     },
     "output_type": "display_data"
    },
    {
     "name": "stderr",
     "output_type": "stream",
     "text": [
      "C:\\Users\\senthil kumar\\anaconda3\\lib\\site-packages\\seaborn\\_decorators.py:43: FutureWarning: Pass the following variable as a keyword arg: x. From version 0.12, the only valid positional argument will be `data`, and passing other arguments without an explicit keyword will result in an error or misinterpretation.\n",
      "  FutureWarning\n"
     ]
    },
    {
     "data": {
      "image/png": "[encoded data removed]",
      "text/plain": [
       "<Figure size 432x288 with 1 Axes>"
      ]
     },
     "metadata": {
      "needs_background": "light"
     },
     "output_type": "display_data"
    },
    {
     "name": "stderr",
     "output_type": "stream",
     "text": [
      "C:\\Users\\senthil kumar\\anaconda3\\lib\\site-packages\\seaborn\\_decorators.py:43: FutureWarning: Pass the following variable as a keyword arg: x. From version 0.12, the only valid positional argument will be `data`, and passing other arguments without an explicit keyword will result in an error or misinterpretation.\n",
      "  FutureWarning\n"
     ]
    },
    {
     "data": {
      "image/png": "[encoded data removed]",
      "text/plain": [
       "<Figure size 432x288 with 1 Axes>"
      ]
     },
     "metadata": {
      "needs_background": "light"
     },
     "output_type": "display_data"
    }
   ],
   "source": [
    "for i in data2.columns:\n",
    "    sb.boxplot(data2[i])\n",
    "    plt.show()"
   ]
  },
  {
   "cell_type": "code",
   "execution_count": 80,
   "metadata": {},
   "outputs": [],
   "source": [
    "# Linear regression very sensitive to outliers"
   ]
  },
  {
   "cell_type": "code",
   "execution_count": 86,
   "metadata": {},
   "outputs": [],
   "source": [
    "#Outlier Treatment\n",
    "#Capping the outliers #Winsorization\n",
    "for i in data2.columns:\n",
    "    q1=data2[i].quantile(0.25)\n",
    "    q3=data2[i].quantile(0.75)\n",
    "    iqr=q3-q1\n",
    "    ub=q3 + 1.5*iqr\n",
    "    lb=q1 - 1.5*iqr\n",
    "    uc=data2[i].quantile(0.99)\n",
    "    lc=data2[i].quantile(0.01)\n",
    "    for ind1 in data2[i].index:\n",
    "        if data2.loc[ind1, i] >ub:            \n",
    "            data2.loc[ind1, i] =uc\n",
    "        if data2.loc[ind1, i] < lb:\n",
    "            data2.loc[ind1, i] =lc"
   ]
  },
  {
   "cell_type": "code",
   "execution_count": 87,
   "metadata": {},
   "outputs": [
    {
     "name": "stderr",
     "output_type": "stream",
     "text": [
      "C:\\Users\\senthil kumar\\anaconda3\\lib\\site-packages\\seaborn\\_decorators.py:43: FutureWarning: Pass the following variable as a keyword arg: x. From version 0.12, the only valid positional argument will be `data`, and passing other arguments without an explicit keyword will result in an error or misinterpretation.\n",
      "  FutureWarning\n"
     ]
    },
    {
     "data": {
      "image/png": "[encoded data removed]",
      "text/plain": [
       "<Figure size 432x288 with 1 Axes>"
      ]
     },
     "metadata": {
      "needs_background": "light"
     },
     "output_type": "display_data"
    },
    {
     "name": "stderr",
     "output_type": "stream",
     "text": [
      "C:\\Users\\senthil kumar\\anaconda3\\lib\\site-packages\\seaborn\\_decorators.py:43: FutureWarning: Pass the following variable as a keyword arg: x. From version 0.12, the only valid positional argument will be `data`, and passing other arguments without an explicit keyword will result in an error or misinterpretation.\n",
      "  FutureWarning\n"
     ]
    },
    {
     "data": {
      "image/png": "[encoded data removed]",
      "text/plain": [
       "<Figure size 432x288 with 1 Axes>"
      ]
     },
     "metadata": {
      "needs_background": "light"
     },
     "output_type": "display_data"
    },
    {
     "name": "stderr",
     "output_type": "stream",
     "text": [
      "C:\\Users\\senthil kumar\\anaconda3\\lib\\site-packages\\seaborn\\_decorators.py:43: FutureWarning: Pass the following variable as a keyword arg: x. From version 0.12, the only valid positional argument will be `data`, and passing other arguments without an explicit keyword will result in an error or misinterpretation.\n",
      "  FutureWarning\n"
     ]
    },
    {
     "data": {
      "image/png": "[encoded data removed]",
      "text/plain": [
       "<Figure size 432x288 with 1 Axes>"
      ]
     },
     "metadata": {
      "needs_background": "light"
     },
     "output_type": "display_data"
    },
    {
     "name": "stderr",
     "output_type": "stream",
     "text": [
      "C:\\Users\\senthil kumar\\anaconda3\\lib\\site-packages\\seaborn\\_decorators.py:43: FutureWarning: Pass the following variable as a keyword arg: x. From version 0.12, the only valid positional argument will be `data`, and passing other arguments without an explicit keyword will result in an error or misinterpretation.\n",
      "  FutureWarning\n"
     ]
    },
    {
     "data": {
      "image/png": "[encoded data removed]",
      "text/plain": [
       "<Figure size 432x288 with 1 Axes>"
      ]
     },
     "metadata": {
      "needs_background": "light"
     },
     "output_type": "display_data"
    },
    {
     "name": "stderr",
     "output_type": "stream",
     "text": [
      "C:\\Users\\senthil kumar\\anaconda3\\lib\\site-packages\\seaborn\\_decorators.py:43: FutureWarning: Pass the following variable as a keyword arg: x. From version 0.12, the only valid positional argument will be `data`, and passing other arguments without an explicit keyword will result in an error or misinterpretation.\n",
      "  FutureWarning\n"
     ]
    },
    {
     "data": {
      "image/png": "[encoded data removed]",
      "text/plain": [
       "<Figure size 432x288 with 1 Axes>"
      ]
     },
     "metadata": {
      "needs_background": "light"
     },
     "output_type": "display_data"
    },
    {
     "name": "stderr",
     "output_type": "stream",
     "text": [
      "C:\\Users\\senthil kumar\\anaconda3\\lib\\site-packages\\seaborn\\_decorators.py:43: FutureWarning: Pass the following variable as a keyword arg: x. From version 0.12, the only valid positional argument will be `data`, and passing other arguments without an explicit keyword will result in an error or misinterpretation.\n",
      "  FutureWarning\n"
     ]
    },
    {
     "data": {
      "image/png": "[encoded data removed]",
      "text/plain": [
       "<Figure size 432x288 with 1 Axes>"
      ]
     },
     "metadata": {
      "needs_background": "light"
     },
     "output_type": "display_data"
    },
    {
     "name": "stderr",
     "output_type": "stream",
     "text": [
      "C:\\Users\\senthil kumar\\anaconda3\\lib\\site-packages\\seaborn\\_decorators.py:43: FutureWarning: Pass the following variable as a keyword arg: x. From version 0.12, the only valid positional argument will be `data`, and passing other arguments without an explicit keyword will result in an error or misinterpretation.\n",
      "  FutureWarning\n"
     ]
    },
    {
     "data": {
      "image/png": "[encoded data removed]",
      "text/plain": [
       "<Figure size 432x288 with 1 Axes>"
      ]
     },
     "metadata": {
      "needs_background": "light"
     },
     "output_type": "display_data"
    },
    {
     "name": "stderr",
     "output_type": "stream",
     "text": [
      "C:\\Users\\senthil kumar\\anaconda3\\lib\\site-packages\\seaborn\\_decorators.py:43: FutureWarning: Pass the following variable as a keyword arg: x. From version 0.12, the only valid positional argument will be `data`, and passing other arguments without an explicit keyword will result in an error or misinterpretation.\n",
      "  FutureWarning\n"
     ]
    },
    {
     "data": {
      "image/png": "[encoded data removed]",
      "text/plain": [
       "<Figure size 432x288 with 1 Axes>"
      ]
     },
     "metadata": {
      "needs_background": "light"
     },
     "output_type": "display_data"
    },
    {
     "name": "stderr",
     "output_type": "stream",
     "text": [
      "C:\\Users\\senthil kumar\\anaconda3\\lib\\site-packages\\seaborn\\_decorators.py:43: FutureWarning: Pass the following variable as a keyword arg: x. From version 0.12, the only valid positional argument will be `data`, and passing other arguments without an explicit keyword will result in an error or misinterpretation.\n",
      "  FutureWarning\n"
     ]
    },
    {
     "data": {
      "image/png": "[encoded data removed]",
      "text/plain": [
       "<Figure size 432x288 with 1 Axes>"
      ]
     },
     "metadata": {
      "needs_background": "light"
     },
     "output_type": "display_data"
    },
    {
     "name": "stderr",
     "output_type": "stream",
     "text": [
      "C:\\Users\\senthil kumar\\anaconda3\\lib\\site-packages\\seaborn\\_decorators.py:43: FutureWarning: Pass the following variable as a keyword arg: x. From version 0.12, the only valid positional argument will be `data`, and passing other arguments without an explicit keyword will result in an error or misinterpretation.\n",
      "  FutureWarning\n"
     ]
    },
    {
     "data": {
      "image/png": "[encoded data removed]",
      "text/plain": [
       "<Figure size 432x288 with 1 Axes>"
      ]
     },
     "metadata": {
      "needs_background": "light"
     },
     "output_type": "display_data"
    },
    {
     "name": "stderr",
     "output_type": "stream",
     "text": [
      "C:\\Users\\senthil kumar\\anaconda3\\lib\\site-packages\\seaborn\\_decorators.py:43: FutureWarning: Pass the following variable as a keyword arg: x. From version 0.12, the only valid positional argument will be `data`, and passing other arguments without an explicit keyword will result in an error or misinterpretation.\n",
      "  FutureWarning\n"
     ]
    },
    {
     "data": {
      "image/png": "[encoded data removed]",
      "text/plain": [
       "<Figure size 432x288 with 1 Axes>"
      ]
     },
     "metadata": {
      "needs_background": "light"
     },
     "output_type": "display_data"
    },
    {
     "name": "stderr",
     "output_type": "stream",
     "text": [
      "C:\\Users\\senthil kumar\\anaconda3\\lib\\site-packages\\seaborn\\_decorators.py:43: FutureWarning: Pass the following variable as a keyword arg: x. From version 0.12, the only valid positional argument will be `data`, and passing other arguments without an explicit keyword will result in an error or misinterpretation.\n",
      "  FutureWarning\n"
     ]
    },
    {
     "data": {
      "image/png": "[encoded data removed]",
      "text/plain": [
       "<Figure size 432x288 with 1 Axes>"
      ]
     },
     "metadata": {
      "needs_background": "light"
     },
     "output_type": "display_data"
    },
    {
     "name": "stderr",
     "output_type": "stream",
     "text": [
      "C:\\Users\\senthil kumar\\anaconda3\\lib\\site-packages\\seaborn\\_decorators.py:43: FutureWarning: Pass the following variable as a keyword arg: x. From version 0.12, the only valid positional argument will be `data`, and passing other arguments without an explicit keyword will result in an error or misinterpretation.\n",
      "  FutureWarning\n"
     ]
    },
    {
     "data": {
      "image/png": "[encoded data removed]",
      "text/plain": [
       "<Figure size 432x288 with 1 Axes>"
      ]
     },
     "metadata": {
      "needs_background": "light"
     },
     "output_type": "display_data"
    },
    {
     "name": "stderr",
     "output_type": "stream",
     "text": [
      "C:\\Users\\senthil kumar\\anaconda3\\lib\\site-packages\\seaborn\\_decorators.py:43: FutureWarning: Pass the following variable as a keyword arg: x. From version 0.12, the only valid positional argument will be `data`, and passing other arguments without an explicit keyword will result in an error or misinterpretation.\n",
      "  FutureWarning\n"
     ]
    },
    {
     "data": {
      "image/png": "[encoded data removed]",
      "text/plain": [
       "<Figure size 432x288 with 1 Axes>"
      ]
     },
     "metadata": {
      "needs_background": "light"
     },
     "output_type": "display_data"
    },
    {
     "name": "stderr",
     "output_type": "stream",
     "text": [
      "C:\\Users\\senthil kumar\\anaconda3\\lib\\site-packages\\seaborn\\_decorators.py:43: FutureWarning: Pass the following variable as a keyword arg: x. From version 0.12, the only valid positional argument will be `data`, and passing other arguments without an explicit keyword will result in an error or misinterpretation.\n",
      "  FutureWarning\n"
     ]
    },
    {
     "data": {
      "image/png": "[encoded data removed]",
      "text/plain": [
       "<Figure size 432x288 with 1 Axes>"
      ]
     },
     "metadata": {
      "needs_background": "light"
     },
     "output_type": "display_data"
    },
    {
     "name": "stderr",
     "output_type": "stream",
     "text": [
      "C:\\Users\\senthil kumar\\anaconda3\\lib\\site-packages\\seaborn\\_decorators.py:43: FutureWarning: Pass the following variable as a keyword arg: x. From version 0.12, the only valid positional argument will be `data`, and passing other arguments without an explicit keyword will result in an error or misinterpretation.\n",
      "  FutureWarning\n"
     ]
    },
    {
     "data": {
      "image/png": "[encoded data removed]",
      "text/plain": [
       "<Figure size 432x288 with 1 Axes>"
      ]
     },
     "metadata": {
      "needs_background": "light"
     },
     "output_type": "display_data"
    },
    {
     "name": "stderr",
     "output_type": "stream",
     "text": [
      "C:\\Users\\senthil kumar\\anaconda3\\lib\\site-packages\\seaborn\\_decorators.py:43: FutureWarning: Pass the following variable as a keyword arg: x. From version 0.12, the only valid positional argument will be `data`, and passing other arguments without an explicit keyword will result in an error or misinterpretation.\n",
      "  FutureWarning\n"
     ]
    },
    {
     "data": {
      "image/png": "[encoded data removed]",
      "text/plain": [
       "<Figure size 432x288 with 1 Axes>"
      ]
     },
     "metadata": {
      "needs_background": "light"
     },
     "output_type": "display_data"
    },
    {
     "name": "stderr",
     "output_type": "stream",
     "text": [
      "C:\\Users\\senthil kumar\\anaconda3\\lib\\site-packages\\seaborn\\_decorators.py:43: FutureWarning: Pass the following variable as a keyword arg: x. From version 0.12, the only valid positional argument will be `data`, and passing other arguments without an explicit keyword will result in an error or misinterpretation.\n",
      "  FutureWarning\n"
     ]
    },
    {
     "data": {
      "image/png": "[encoded data removed]",
      "text/plain": [
       "<Figure size 432x288 with 1 Axes>"
      ]
     },
     "metadata": {
      "needs_background": "light"
     },
     "output_type": "display_data"
    }
   ],
   "source": [
    "for i in data2.columns:\n",
    "    sb.boxplot(data2[i])\n",
    "    plt.show()"
   ]
  },
  {
   "cell_type": "code",
   "execution_count": 88,
   "metadata": {},
   "outputs": [
    {
     "data": {
      "text/plain": [
       "Index(['Country', 'Population', 'Area_sqm', 'Pop_Density_per sqm',\n",
       "       'Coastline (coast/area ratio)', 'Net migration',\n",
       "       'Infant mortality (per 1000 births)', 'GDP ($ per capita)',\n",
       "       'Literacy (%)', 'Phones (per 1000)', 'Arable (%)', 'Crops (%)',\n",
       "       'Other (%)', 'Climate', 'Birthrate', 'Deathrate', 'Agriculture',\n",
       "       'Industry', 'Service'],\n",
       "      dtype='object')"
      ]
     },
     "execution_count": 88,
     "metadata": {},
     "output_type": "execute_result"
    }
   ],
   "source": [
    "data.columns"
   ]
  },
  {
   "cell_type": "code",
   "execution_count": 89,
   "metadata": {},
   "outputs": [],
   "source": [
    "out=data2['GDP ($ per capita)']\n",
    "inp=data2.drop('GDP ($ per capita)',axis=1)"
   ]
  },
  {
   "cell_type": "code",
   "execution_count": 91,
   "metadata": {},
   "outputs": [
    {
     "data": {
      "text/html": [
       "<table class=\"simpletable\">\n",
       "<caption>OLS Regression Results</caption>\n",
       "<tr>\n",
       "  <th>Dep. Variable:</th>    <td>GDP ($ per capita)</td> <th>  R-squared:         </th> <td>   0.801</td>\n",
       "</tr>\n",
       "<tr>\n",
       "  <th>Model:</th>                    <td>OLS</td>        <th>  Adj. R-squared:    </th> <td>   0.785</td>\n",
       "</tr>\n",
       "<tr>\n",
       "  <th>Method:</th>              <td>Least Squares</td>   <th>  F-statistic:       </th> <td>   49.48</td>\n",
       "</tr>\n",
       "<tr>\n",
       "  <th>Date:</th>              <td>Wed, 09 Dec 2020</td>  <th>  Prob (F-statistic):</th> <td>1.40e-63</td>\n",
       "</tr>\n",
       "<tr>\n",
       "  <th>Time:</th>                  <td>10:48:01</td>      <th>  Log-Likelihood:    </th> <td> -2222.8</td>\n",
       "</tr>\n",
       "<tr>\n",
       "  <th>No. Observations:</th>       <td>   227</td>       <th>  AIC:               </th> <td>   4482.</td>\n",
       "</tr>\n",
       "<tr>\n",
       "  <th>Df Residuals:</th>           <td>   209</td>       <th>  BIC:               </th> <td>   4543.</td>\n",
       "</tr>\n",
       "<tr>\n",
       "  <th>Df Model:</th>               <td>    17</td>       <th>                     </th>     <td> </td>   \n",
       "</tr>\n",
       "<tr>\n",
       "  <th>Covariance Type:</th>       <td>nonrobust</td>     <th>                     </th>     <td> </td>   \n",
       "</tr>\n",
       "</table>\n",
       "<table class=\"simpletable\">\n",
       "<tr>\n",
       "                   <td></td>                     <th>coef</th>     <th>std err</th>      <th>t</th>      <th>P>|t|</th>  <th>[0.025</th>    <th>0.975]</th>  \n",
       "</tr>\n",
       "<tr>\n",
       "  <th>const</th>                              <td> 8642.6765</td> <td> 1.21e+04</td> <td>    0.715</td> <td> 0.475</td> <td>-1.52e+04</td> <td> 3.25e+04</td>\n",
       "</tr>\n",
       "<tr>\n",
       "  <th>Population</th>                         <td> 1.698e-06</td> <td> 3.89e-06</td> <td>    0.437</td> <td> 0.663</td> <td>-5.97e-06</td> <td> 9.36e-06</td>\n",
       "</tr>\n",
       "<tr>\n",
       "  <th>Area_sqm</th>                           <td>-1.905e-05</td> <td>    0.000</td> <td>   -0.166</td> <td> 0.868</td> <td>   -0.000</td> <td>    0.000</td>\n",
       "</tr>\n",
       "<tr>\n",
       "  <th>Pop_Density_per sqm</th>                <td>    0.0281</td> <td>    0.188</td> <td>    0.150</td> <td> 0.881</td> <td>   -0.343</td> <td>    0.399</td>\n",
       "</tr>\n",
       "<tr>\n",
       "  <th>Coastline (coast/area ratio)</th>       <td>  -15.1276</td> <td>    3.853</td> <td>   -3.926</td> <td> 0.000</td> <td>  -22.723</td> <td>   -7.532</td>\n",
       "</tr>\n",
       "<tr>\n",
       "  <th>Net migration</th>                      <td>  295.1782</td> <td>   45.856</td> <td>    6.437</td> <td> 0.000</td> <td>  204.779</td> <td>  385.577</td>\n",
       "</tr>\n",
       "<tr>\n",
       "  <th>Infant mortality (per 1000 births)</th> <td>  -37.6590</td> <td>   26.997</td> <td>   -1.395</td> <td> 0.165</td> <td>  -90.881</td> <td>   15.563</td>\n",
       "</tr>\n",
       "<tr>\n",
       "  <th>Literacy (%)</th>                       <td>   -0.4939</td> <td>   25.102</td> <td>   -0.020</td> <td> 0.984</td> <td>  -49.979</td> <td>   48.991</td>\n",
       "</tr>\n",
       "<tr>\n",
       "  <th>Phones (per 1000)</th>                  <td>   32.2409</td> <td>    2.414</td> <td>   13.358</td> <td> 0.000</td> <td>   27.483</td> <td>   36.999</td>\n",
       "</tr>\n",
       "<tr>\n",
       "  <th>Arable (%)</th>                         <td>  -75.8229</td> <td>   72.753</td> <td>   -1.042</td> <td> 0.299</td> <td> -219.247</td> <td>   67.601</td>\n",
       "</tr>\n",
       "<tr>\n",
       "  <th>Crops (%)</th>                          <td>  -21.7611</td> <td>   39.638</td> <td>   -0.549</td> <td> 0.584</td> <td>  -99.903</td> <td>   56.381</td>\n",
       "</tr>\n",
       "<tr>\n",
       "  <th>Other (%)</th>                          <td>  -34.6986</td> <td>   70.617</td> <td>   -0.491</td> <td> 0.624</td> <td> -173.912</td> <td>  104.515</td>\n",
       "</tr>\n",
       "<tr>\n",
       "  <th>Climate</th>                            <td> -187.4946</td> <td>  561.108</td> <td>   -0.334</td> <td> 0.739</td> <td>-1293.652</td> <td>  918.663</td>\n",
       "</tr>\n",
       "<tr>\n",
       "  <th>Birthrate</th>                          <td>  -30.8857</td> <td>   66.935</td> <td>   -0.461</td> <td> 0.645</td> <td> -162.839</td> <td>  101.068</td>\n",
       "</tr>\n",
       "<tr>\n",
       "  <th>Deathrate</th>                          <td>  125.3649</td> <td>   80.701</td> <td>    1.553</td> <td> 0.122</td> <td>  -33.726</td> <td>  284.456</td>\n",
       "</tr>\n",
       "<tr>\n",
       "  <th>Agriculture</th>                        <td>-4532.7267</td> <td> 9322.350</td> <td>   -0.486</td> <td> 0.627</td> <td>-2.29e+04</td> <td> 1.38e+04</td>\n",
       "</tr>\n",
       "<tr>\n",
       "  <th>Industry</th>                           <td> 2115.0018</td> <td> 8947.628</td> <td>    0.236</td> <td> 0.813</td> <td>-1.55e+04</td> <td> 1.98e+04</td>\n",
       "</tr>\n",
       "<tr>\n",
       "  <th>Service</th>                            <td>-1155.9880</td> <td> 9240.786</td> <td>   -0.125</td> <td> 0.901</td> <td>-1.94e+04</td> <td> 1.71e+04</td>\n",
       "</tr>\n",
       "</table>\n",
       "<table class=\"simpletable\">\n",
       "<tr>\n",
       "  <th>Omnibus:</th>       <td> 9.555</td> <th>  Durbin-Watson:     </th> <td>   1.855</td>\n",
       "</tr>\n",
       "<tr>\n",
       "  <th>Prob(Omnibus):</th> <td> 0.008</td> <th>  Jarque-Bera (JB):  </th> <td>  15.716</td>\n",
       "</tr>\n",
       "<tr>\n",
       "  <th>Skew:</th>          <td> 0.209</td> <th>  Prob(JB):          </th> <td>0.000387</td>\n",
       "</tr>\n",
       "<tr>\n",
       "  <th>Kurtosis:</th>      <td> 4.220</td> <th>  Cond. No.          </th> <td>6.21e+09</td>\n",
       "</tr>\n",
       "</table><br/><br/>Warnings:<br/>[1] Standard Errors assume that the covariance matrix of the errors is correctly specified.<br/>[2] The condition number is large, 6.21e+09. This might indicate that there are<br/>strong multicollinearity or other numerical problems."
      ],
      "text/plain": [
       "<class 'statsmodels.iolib.summary.Summary'>\n",
       "\"\"\"\n",
       "                            OLS Regression Results                            \n",
       "==============================================================================\n",
       "Dep. Variable:     GDP ($ per capita)   R-squared:                       0.801\n",
       "Model:                            OLS   Adj. R-squared:                  0.785\n",
       "Method:                 Least Squares   F-statistic:                     49.48\n",
       "Date:                Wed, 09 Dec 2020   Prob (F-statistic):           1.40e-63\n",
       "Time:                        10:48:01   Log-Likelihood:                -2222.8\n",
       "No. Observations:                 227   AIC:                             4482.\n",
       "Df Residuals:                     209   BIC:                             4543.\n",
       "Df Model:                          17                                         \n",
       "Covariance Type:            nonrobust                                         \n",
       "======================================================================================================\n",
       "                                         coef    std err          t      P>|t|      [0.025      0.975]\n",
       "------------------------------------------------------------------------------------------------------\n",
       "const                               8642.6765   1.21e+04      0.715      0.475   -1.52e+04    3.25e+04\n",
       "Population                          1.698e-06   3.89e-06      0.437      0.663   -5.97e-06    9.36e-06\n",
       "Area_sqm                           -1.905e-05      0.000     -0.166      0.868      -0.000       0.000\n",
       "Pop_Density_per sqm                    0.0281      0.188      0.150      0.881      -0.343       0.399\n",
       "Coastline (coast/area ratio)         -15.1276      3.853     -3.926      0.000     -22.723      -7.532\n",
       "Net migration                        295.1782     45.856      6.437      0.000     204.779     385.577\n",
       "Infant mortality (per 1000 births)   -37.6590     26.997     -1.395      0.165     -90.881      15.563\n",
       "Literacy (%)                          -0.4939     25.102     -0.020      0.984     -49.979      48.991\n",
       "Phones (per 1000)                     32.2409      2.414     13.358      0.000      27.483      36.999\n",
       "Arable (%)                           -75.8229     72.753     -1.042      0.299    -219.247      67.601\n",
       "Crops (%)                            -21.7611     39.638     -0.549      0.584     -99.903      56.381\n",
       "Other (%)                            -34.6986     70.617     -0.491      0.624    -173.912     104.515\n",
       "Climate                             -187.4946    561.108     -0.334      0.739   -1293.652     918.663\n",
       "Birthrate                            -30.8857     66.935     -0.461      0.645    -162.839     101.068\n",
       "Deathrate                            125.3649     80.701      1.553      0.122     -33.726     284.456\n",
       "Agriculture                        -4532.7267   9322.350     -0.486      0.627   -2.29e+04    1.38e+04\n",
       "Industry                            2115.0018   8947.628      0.236      0.813   -1.55e+04    1.98e+04\n",
       "Service                            -1155.9880   9240.786     -0.125      0.901   -1.94e+04    1.71e+04\n",
       "==============================================================================\n",
       "Omnibus:                        9.555   Durbin-Watson:                   1.855\n",
       "Prob(Omnibus):                  0.008   Jarque-Bera (JB):               15.716\n",
       "Skew:                           0.209   Prob(JB):                     0.000387\n",
       "Kurtosis:                       4.220   Cond. No.                     6.21e+09\n",
       "==============================================================================\n",
       "\n",
       "Warnings:\n",
       "[1] Standard Errors assume that the covariance matrix of the errors is correctly specified.\n",
       "[2] The condition number is large, 6.21e+09. This might indicate that there are\n",
       "strong multicollinearity or other numerical problems.\n",
       "\"\"\""
      ]
     },
     "execution_count": 91,
     "metadata": {},
     "output_type": "execute_result"
    }
   ],
   "source": [
    "inpc=sm.add_constant(inp)\n",
    "ols=sm.OLS(out,inpc)\n",
    "ols_mod=ols.fit()\n",
    "ols_mod.summary()"
   ]
  },
  {
   "cell_type": "code",
   "execution_count": 97,
   "metadata": {},
   "outputs": [],
   "source": [
    "from sklearn.preprocessing import StandardScaler\n",
    "sc=StandardScaler() \n",
    "inp_sc=sc.fit_transform(inp)\n",
    "inp_sc=pd.DataFrame(inp_sc,columns=inp.columns,index=inp.index)"
   ]
  },
  {
   "cell_type": "code",
   "execution_count": 99,
   "metadata": {},
   "outputs": [
    {
     "data": {
      "text/html": [
       "<div>\n",
       "<style scoped>\n",
       "    .dataframe tbody tr th:only-of-type {\n",
       "        vertical-align: middle;\n",
       "    }\n",
       "\n",
       "    .dataframe tbody tr th {\n",
       "        vertical-align: top;\n",
       "    }\n",
       "\n",
       "    .dataframe thead th {\n",
       "        text-align: right;\n",
       "    }\n",
       "</style>\n",
       "<table border=\"1\" class=\"dataframe\">\n",
       "  <thead>\n",
       "    <tr style=\"text-align: right;\">\n",
       "      <th></th>\n",
       "      <th>Population</th>\n",
       "      <th>Area_sqm</th>\n",
       "      <th>Pop_Density_per sqm</th>\n",
       "      <th>Coastline (coast/area ratio)</th>\n",
       "      <th>Net migration</th>\n",
       "      <th>Infant mortality (per 1000 births)</th>\n",
       "      <th>Literacy (%)</th>\n",
       "      <th>Phones (per 1000)</th>\n",
       "      <th>Arable (%)</th>\n",
       "      <th>Crops (%)</th>\n",
       "      <th>Other (%)</th>\n",
       "      <th>Climate</th>\n",
       "      <th>Birthrate</th>\n",
       "      <th>Deathrate</th>\n",
       "      <th>Agriculture</th>\n",
       "      <th>Industry</th>\n",
       "      <th>Service</th>\n",
       "    </tr>\n",
       "    <tr>\n",
       "      <th>Country</th>\n",
       "      <th></th>\n",
       "      <th></th>\n",
       "      <th></th>\n",
       "      <th></th>\n",
       "      <th></th>\n",
       "      <th></th>\n",
       "      <th></th>\n",
       "      <th></th>\n",
       "      <th></th>\n",
       "      <th></th>\n",
       "      <th></th>\n",
       "      <th></th>\n",
       "      <th></th>\n",
       "      <th></th>\n",
       "      <th></th>\n",
       "      <th></th>\n",
       "      <th></th>\n",
       "    </tr>\n",
       "  </thead>\n",
       "  <tbody>\n",
       "    <tr>\n",
       "      <th>Afghanistan</th>\n",
       "      <td>-0.115094</td>\n",
       "      <td>-0.220266</td>\n",
       "      <td>-0.347864</td>\n",
       "      <td>-0.47018</td>\n",
       "      <td>2.143829</td>\n",
       "      <td>3.079871</td>\n",
       "      <td>-2.537552</td>\n",
       "      <td>-1.041107</td>\n",
       "      <td>-0.132135</td>\n",
       "      <td>-0.502354</td>\n",
       "      <td>0.375437</td>\n",
       "      <td>-1.69457</td>\n",
       "      <td>2.210162</td>\n",
       "      <td>3.055247</td>\n",
       "      <td>1.612835</td>\n",
       "      <td>-0.263552</td>\n",
       "      <td>-1.201003</td>\n",
       "    </tr>\n",
       "  </tbody>\n",
       "</table>\n",
       "</div>"
      ],
      "text/plain": [
       "              Population  Area_sqm  Pop_Density_per sqm  \\\n",
       "Country                                                   \n",
       "Afghanistan    -0.115094 -0.220266            -0.347864   \n",
       "\n",
       "              Coastline (coast/area ratio)  Net migration  \\\n",
       "Country                                                     \n",
       "Afghanistan                       -0.47018       2.143829   \n",
       "\n",
       "              Infant mortality (per 1000 births)  Literacy (%)  \\\n",
       "Country                                                          \n",
       "Afghanistan                             3.079871     -2.537552   \n",
       "\n",
       "              Phones (per 1000)  Arable (%)  Crops (%)  Other (%)  Climate  \\\n",
       "Country                                                                      \n",
       "Afghanistan           -1.041107   -0.132135  -0.502354   0.375437 -1.69457   \n",
       "\n",
       "              Birthrate  Deathrate  Agriculture  Industry   Service  \n",
       "Country                                                              \n",
       "Afghanistan    2.210162   3.055247     1.612835 -0.263552 -1.201003  "
      ]
     },
     "execution_count": 99,
     "metadata": {},
     "output_type": "execute_result"
    }
   ],
   "source": [
    "inp_sc.head(1)"
   ]
  },
  {
   "cell_type": "code",
   "execution_count": 100,
   "metadata": {},
   "outputs": [
    {
     "data": {
      "text/html": [
       "<div>\n",
       "<style scoped>\n",
       "    .dataframe tbody tr th:only-of-type {\n",
       "        vertical-align: middle;\n",
       "    }\n",
       "\n",
       "    .dataframe tbody tr th {\n",
       "        vertical-align: top;\n",
       "    }\n",
       "\n",
       "    .dataframe thead th {\n",
       "        text-align: right;\n",
       "    }\n",
       "</style>\n",
       "<table border=\"1\" class=\"dataframe\">\n",
       "  <thead>\n",
       "    <tr style=\"text-align: right;\">\n",
       "      <th></th>\n",
       "      <th>Population</th>\n",
       "      <th>Area_sqm</th>\n",
       "      <th>Pop_Density_per sqm</th>\n",
       "      <th>Coastline (coast/area ratio)</th>\n",
       "      <th>Net migration</th>\n",
       "      <th>Infant mortality (per 1000 births)</th>\n",
       "      <th>Literacy (%)</th>\n",
       "      <th>Phones (per 1000)</th>\n",
       "      <th>Arable (%)</th>\n",
       "      <th>Crops (%)</th>\n",
       "      <th>Other (%)</th>\n",
       "      <th>Climate</th>\n",
       "      <th>Birthrate</th>\n",
       "      <th>Deathrate</th>\n",
       "      <th>Agriculture</th>\n",
       "      <th>Industry</th>\n",
       "      <th>Service</th>\n",
       "    </tr>\n",
       "    <tr>\n",
       "      <th>Country</th>\n",
       "      <th></th>\n",
       "      <th></th>\n",
       "      <th></th>\n",
       "      <th></th>\n",
       "      <th></th>\n",
       "      <th></th>\n",
       "      <th></th>\n",
       "      <th></th>\n",
       "      <th></th>\n",
       "      <th></th>\n",
       "      <th></th>\n",
       "      <th></th>\n",
       "      <th></th>\n",
       "      <th></th>\n",
       "      <th></th>\n",
       "      <th></th>\n",
       "      <th></th>\n",
       "    </tr>\n",
       "  </thead>\n",
       "  <tbody>\n",
       "    <tr>\n",
       "      <th>Afghanistan</th>\n",
       "      <td>31056997.0</td>\n",
       "      <td>647500.0</td>\n",
       "      <td>48.0</td>\n",
       "      <td>0.0</td>\n",
       "      <td>15.7414</td>\n",
       "      <td>140.299</td>\n",
       "      <td>32.57</td>\n",
       "      <td>3.2</td>\n",
       "      <td>12.13</td>\n",
       "      <td>0.22</td>\n",
       "      <td>87.65</td>\n",
       "      <td>1.0</td>\n",
       "      <td>46.6</td>\n",
       "      <td>27.5374</td>\n",
       "      <td>0.38</td>\n",
       "      <td>0.24</td>\n",
       "      <td>0.38</td>\n",
       "    </tr>\n",
       "  </tbody>\n",
       "</table>\n",
       "</div>"
      ],
      "text/plain": [
       "              Population  Area_sqm  Pop_Density_per sqm  \\\n",
       "Country                                                   \n",
       "Afghanistan   31056997.0  647500.0                 48.0   \n",
       "\n",
       "              Coastline (coast/area ratio)  Net migration  \\\n",
       "Country                                                     \n",
       "Afghanistan                            0.0        15.7414   \n",
       "\n",
       "              Infant mortality (per 1000 births)  Literacy (%)  \\\n",
       "Country                                                          \n",
       "Afghanistan                              140.299         32.57   \n",
       "\n",
       "              Phones (per 1000)  Arable (%)  Crops (%)  Other (%)  Climate  \\\n",
       "Country                                                                      \n",
       "Afghanistan                 3.2       12.13       0.22      87.65      1.0   \n",
       "\n",
       "              Birthrate  Deathrate  Agriculture  Industry  Service  \n",
       "Country                                                             \n",
       "Afghanistan        46.6    27.5374         0.38      0.24     0.38  "
      ]
     },
     "execution_count": 100,
     "metadata": {},
     "output_type": "execute_result"
    }
   ],
   "source": [
    "inp.head(1)"
   ]
  },
  {
   "cell_type": "code",
   "execution_count": 93,
   "metadata": {},
   "outputs": [
    {
     "data": {
      "text/plain": [
       "Coastline (coast/area ratio)    1.170419e-04\n",
       "Net migration                   8.195876e-10\n",
       "Phones (per 1000)               7.879399e-30\n",
       "dtype: float64"
      ]
     },
     "execution_count": 93,
     "metadata": {},
     "output_type": "execute_result"
    }
   ],
   "source": [
    "pval=ols_mod.pvalues\n",
    "pval[ols_mod.pvalues < 0.05]"
   ]
  },
  {
   "cell_type": "code",
   "execution_count": 101,
   "metadata": {},
   "outputs": [
    {
     "data": {
      "text/html": [
       "<table class=\"simpletable\">\n",
       "<caption>OLS Regression Results</caption>\n",
       "<tr>\n",
       "  <th>Dep. Variable:</th>    <td>GDP ($ per capita)</td> <th>  R-squared:         </th> <td>   0.801</td>\n",
       "</tr>\n",
       "<tr>\n",
       "  <th>Model:</th>                    <td>OLS</td>        <th>  Adj. R-squared:    </th> <td>   0.785</td>\n",
       "</tr>\n",
       "<tr>\n",
       "  <th>Method:</th>              <td>Least Squares</td>   <th>  F-statistic:       </th> <td>   49.48</td>\n",
       "</tr>\n",
       "<tr>\n",
       "  <th>Date:</th>              <td>Wed, 09 Dec 2020</td>  <th>  Prob (F-statistic):</th> <td>1.40e-63</td>\n",
       "</tr>\n",
       "<tr>\n",
       "  <th>Time:</th>                  <td>11:16:20</td>      <th>  Log-Likelihood:    </th> <td> -2222.8</td>\n",
       "</tr>\n",
       "<tr>\n",
       "  <th>No. Observations:</th>       <td>   227</td>       <th>  AIC:               </th> <td>   4482.</td>\n",
       "</tr>\n",
       "<tr>\n",
       "  <th>Df Residuals:</th>           <td>   209</td>       <th>  BIC:               </th> <td>   4543.</td>\n",
       "</tr>\n",
       "<tr>\n",
       "  <th>Df Model:</th>               <td>    17</td>       <th>                     </th>     <td> </td>   \n",
       "</tr>\n",
       "<tr>\n",
       "  <th>Covariance Type:</th>       <td>nonrobust</td>     <th>                     </th>     <td> </td>   \n",
       "</tr>\n",
       "</table>\n",
       "<table class=\"simpletable\">\n",
       "<tr>\n",
       "                   <td></td>                     <th>coef</th>     <th>std err</th>      <th>t</th>      <th>P>|t|</th>  <th>[0.025</th>    <th>0.975]</th>  \n",
       "</tr>\n",
       "<tr>\n",
       "  <th>const</th>                              <td> 9620.3348</td> <td>  299.480</td> <td>   32.123</td> <td> 0.000</td> <td> 9029.946</td> <td> 1.02e+04</td>\n",
       "</tr>\n",
       "<tr>\n",
       "  <th>Population</th>                         <td>  155.5794</td> <td>  356.182</td> <td>    0.437</td> <td> 0.663</td> <td> -546.590</td> <td>  857.749</td>\n",
       "</tr>\n",
       "<tr>\n",
       "  <th>Area_sqm</th>                           <td>  -59.3790</td> <td>  357.475</td> <td>   -0.166</td> <td> 0.868</td> <td> -764.099</td> <td>  645.341</td>\n",
       "</tr>\n",
       "<tr>\n",
       "  <th>Pop_Density_per sqm</th>                <td>   51.8321</td> <td>  346.271</td> <td>    0.150</td> <td> 0.881</td> <td> -630.799</td> <td>  734.463</td>\n",
       "</tr>\n",
       "<tr>\n",
       "  <th>Coastline (coast/area ratio)</th>       <td>-1581.3918</td> <td>  402.751</td> <td>   -3.926</td> <td> 0.000</td> <td>-2375.366</td> <td> -787.417</td>\n",
       "</tr>\n",
       "<tr>\n",
       "  <th>Net migration</th>                      <td> 2115.4650</td> <td>  328.636</td> <td>    6.437</td> <td> 0.000</td> <td> 1467.598</td> <td> 2763.331</td>\n",
       "</tr>\n",
       "<tr>\n",
       "  <th>Infant mortality (per 1000 births)</th> <td>-1287.6527</td> <td>  923.107</td> <td>   -1.395</td> <td> 0.165</td> <td>-3107.447</td> <td>  532.142</td>\n",
       "</tr>\n",
       "<tr>\n",
       "  <th>Literacy (%)</th>                       <td>   -9.7969</td> <td>  497.915</td> <td>   -0.020</td> <td> 0.984</td> <td> -991.376</td> <td>  971.782</td>\n",
       "</tr>\n",
       "<tr>\n",
       "  <th>Phones (per 1000)</th>                  <td> 7198.9293</td> <td>  538.933</td> <td>   13.358</td> <td> 0.000</td> <td> 6136.488</td> <td> 8261.371</td>\n",
       "</tr>\n",
       "<tr>\n",
       "  <th>Arable (%)</th>                         <td>-1011.6755</td> <td>  970.714</td> <td>   -1.042</td> <td> 0.299</td> <td>-2925.321</td> <td>  901.970</td>\n",
       "</tr>\n",
       "<tr>\n",
       "  <th>Crops (%)</th>                          <td> -321.7995</td> <td>  586.161</td> <td>   -0.549</td> <td> 0.584</td> <td>-1477.345</td> <td>  833.746</td>\n",
       "</tr>\n",
       "<tr>\n",
       "  <th>Other (%)</th>                          <td> -553.4537</td> <td> 1126.368</td> <td>   -0.491</td> <td> 0.624</td> <td>-2773.953</td> <td> 1667.046</td>\n",
       "</tr>\n",
       "<tr>\n",
       "  <th>Climate</th>                            <td> -126.8755</td> <td>  379.696</td> <td>   -0.334</td> <td> 0.739</td> <td> -875.400</td> <td>  621.649</td>\n",
       "</tr>\n",
       "<tr>\n",
       "  <th>Birthrate</th>                          <td> -342.2609</td> <td>  741.738</td> <td>   -0.461</td> <td> 0.645</td> <td>-1804.507</td> <td> 1119.985</td>\n",
       "</tr>\n",
       "<tr>\n",
       "  <th>Deathrate</th>                          <td>  737.4182</td> <td>  474.695</td> <td>    1.553</td> <td> 0.122</td> <td> -198.385</td> <td> 1673.221</td>\n",
       "</tr>\n",
       "<tr>\n",
       "  <th>Agriculture</th>                        <td> -651.6274</td> <td> 1340.186</td> <td>   -0.486</td> <td> 0.627</td> <td>-3293.643</td> <td> 1990.389</td>\n",
       "</tr>\n",
       "<tr>\n",
       "  <th>Industry</th>                           <td>  287.9492</td> <td> 1218.184</td> <td>    0.236</td> <td> 0.813</td> <td>-2113.554</td> <td> 2689.453</td>\n",
       "</tr>\n",
       "<tr>\n",
       "  <th>Service</th>                            <td> -189.3032</td> <td> 1513.260</td> <td>   -0.125</td> <td> 0.901</td> <td>-3172.512</td> <td> 2793.906</td>\n",
       "</tr>\n",
       "</table>\n",
       "<table class=\"simpletable\">\n",
       "<tr>\n",
       "  <th>Omnibus:</th>       <td> 9.555</td> <th>  Durbin-Watson:     </th> <td>   1.855</td>\n",
       "</tr>\n",
       "<tr>\n",
       "  <th>Prob(Omnibus):</th> <td> 0.008</td> <th>  Jarque-Bera (JB):  </th> <td>  15.716</td>\n",
       "</tr>\n",
       "<tr>\n",
       "  <th>Skew:</th>          <td> 0.209</td> <th>  Prob(JB):          </th> <td>0.000387</td>\n",
       "</tr>\n",
       "<tr>\n",
       "  <th>Kurtosis:</th>      <td> 4.220</td> <th>  Cond. No.          </th> <td>    17.5</td>\n",
       "</tr>\n",
       "</table><br/><br/>Warnings:<br/>[1] Standard Errors assume that the covariance matrix of the errors is correctly specified."
      ],
      "text/plain": [
       "<class 'statsmodels.iolib.summary.Summary'>\n",
       "\"\"\"\n",
       "                            OLS Regression Results                            \n",
       "==============================================================================\n",
       "Dep. Variable:     GDP ($ per capita)   R-squared:                       0.801\n",
       "Model:                            OLS   Adj. R-squared:                  0.785\n",
       "Method:                 Least Squares   F-statistic:                     49.48\n",
       "Date:                Wed, 09 Dec 2020   Prob (F-statistic):           1.40e-63\n",
       "Time:                        11:16:20   Log-Likelihood:                -2222.8\n",
       "No. Observations:                 227   AIC:                             4482.\n",
       "Df Residuals:                     209   BIC:                             4543.\n",
       "Df Model:                          17                                         \n",
       "Covariance Type:            nonrobust                                         \n",
       "======================================================================================================\n",
       "                                         coef    std err          t      P>|t|      [0.025      0.975]\n",
       "------------------------------------------------------------------------------------------------------\n",
       "const                               9620.3348    299.480     32.123      0.000    9029.946    1.02e+04\n",
       "Population                           155.5794    356.182      0.437      0.663    -546.590     857.749\n",
       "Area_sqm                             -59.3790    357.475     -0.166      0.868    -764.099     645.341\n",
       "Pop_Density_per sqm                   51.8321    346.271      0.150      0.881    -630.799     734.463\n",
       "Coastline (coast/area ratio)       -1581.3918    402.751     -3.926      0.000   -2375.366    -787.417\n",
       "Net migration                       2115.4650    328.636      6.437      0.000    1467.598    2763.331\n",
       "Infant mortality (per 1000 births) -1287.6527    923.107     -1.395      0.165   -3107.447     532.142\n",
       "Literacy (%)                          -9.7969    497.915     -0.020      0.984    -991.376     971.782\n",
       "Phones (per 1000)                   7198.9293    538.933     13.358      0.000    6136.488    8261.371\n",
       "Arable (%)                         -1011.6755    970.714     -1.042      0.299   -2925.321     901.970\n",
       "Crops (%)                           -321.7995    586.161     -0.549      0.584   -1477.345     833.746\n",
       "Other (%)                           -553.4537   1126.368     -0.491      0.624   -2773.953    1667.046\n",
       "Climate                             -126.8755    379.696     -0.334      0.739    -875.400     621.649\n",
       "Birthrate                           -342.2609    741.738     -0.461      0.645   -1804.507    1119.985\n",
       "Deathrate                            737.4182    474.695      1.553      0.122    -198.385    1673.221\n",
       "Agriculture                         -651.6274   1340.186     -0.486      0.627   -3293.643    1990.389\n",
       "Industry                             287.9492   1218.184      0.236      0.813   -2113.554    2689.453\n",
       "Service                             -189.3032   1513.260     -0.125      0.901   -3172.512    2793.906\n",
       "==============================================================================\n",
       "Omnibus:                        9.555   Durbin-Watson:                   1.855\n",
       "Prob(Omnibus):                  0.008   Jarque-Bera (JB):               15.716\n",
       "Skew:                           0.209   Prob(JB):                     0.000387\n",
       "Kurtosis:                       4.220   Cond. No.                         17.5\n",
       "==============================================================================\n",
       "\n",
       "Warnings:\n",
       "[1] Standard Errors assume that the covariance matrix of the errors is correctly specified.\n",
       "\"\"\""
      ]
     },
     "execution_count": 101,
     "metadata": {},
     "output_type": "execute_result"
    }
   ],
   "source": [
    "inpc=sm.add_constant(inp_sc)\n",
    "ols=sm.OLS(out,inpc)\n",
    "ols_mod=ols.fit()\n",
    "ols_mod.summary()"
   ]
  },
  {
   "cell_type": "code",
   "execution_count": 94,
   "metadata": {},
   "outputs": [],
   "source": [
    "# Multicollinearity\n",
    "from statsmodels.stats.outliers_influence import variance_inflation_factor"
   ]
  },
  {
   "cell_type": "code",
   "execution_count": 96,
   "metadata": {},
   "outputs": [],
   "source": [
    "#Standard Scaler = x-x.mean() / x.std()\n",
    "inp1=inp-inp.mean()"
   ]
  },
  {
   "cell_type": "code",
   "execution_count": 102,
   "metadata": {},
   "outputs": [
    {
     "data": {
      "text/html": [
       "<table class=\"simpletable\">\n",
       "<caption>OLS Regression Results</caption>\n",
       "<tr>\n",
       "  <th>Dep. Variable:</th>    <td>GDP ($ per capita)</td> <th>  R-squared:         </th> <td>   0.801</td>\n",
       "</tr>\n",
       "<tr>\n",
       "  <th>Model:</th>                    <td>OLS</td>        <th>  Adj. R-squared:    </th> <td>   0.785</td>\n",
       "</tr>\n",
       "<tr>\n",
       "  <th>Method:</th>              <td>Least Squares</td>   <th>  F-statistic:       </th> <td>   49.48</td>\n",
       "</tr>\n",
       "<tr>\n",
       "  <th>Date:</th>              <td>Wed, 09 Dec 2020</td>  <th>  Prob (F-statistic):</th> <td>1.40e-63</td>\n",
       "</tr>\n",
       "<tr>\n",
       "  <th>Time:</th>                  <td>11:25:38</td>      <th>  Log-Likelihood:    </th> <td> -2222.8</td>\n",
       "</tr>\n",
       "<tr>\n",
       "  <th>No. Observations:</th>       <td>   227</td>       <th>  AIC:               </th> <td>   4482.</td>\n",
       "</tr>\n",
       "<tr>\n",
       "  <th>Df Residuals:</th>           <td>   209</td>       <th>  BIC:               </th> <td>   4543.</td>\n",
       "</tr>\n",
       "<tr>\n",
       "  <th>Df Model:</th>               <td>    17</td>       <th>                     </th>     <td> </td>   \n",
       "</tr>\n",
       "<tr>\n",
       "  <th>Covariance Type:</th>       <td>nonrobust</td>     <th>                     </th>     <td> </td>   \n",
       "</tr>\n",
       "</table>\n",
       "<table class=\"simpletable\">\n",
       "<tr>\n",
       "                   <td></td>                     <th>coef</th>     <th>std err</th>      <th>t</th>      <th>P>|t|</th>  <th>[0.025</th>    <th>0.975]</th>  \n",
       "</tr>\n",
       "<tr>\n",
       "  <th>const</th>                              <td> 9620.3348</td> <td>  299.480</td> <td>   32.123</td> <td> 0.000</td> <td> 9029.946</td> <td> 1.02e+04</td>\n",
       "</tr>\n",
       "<tr>\n",
       "  <th>Population</th>                         <td> 1.698e-06</td> <td> 3.89e-06</td> <td>    0.437</td> <td> 0.663</td> <td>-5.97e-06</td> <td> 9.36e-06</td>\n",
       "</tr>\n",
       "<tr>\n",
       "  <th>Area_sqm</th>                           <td>-1.905e-05</td> <td>    0.000</td> <td>   -0.166</td> <td> 0.868</td> <td>   -0.000</td> <td>    0.000</td>\n",
       "</tr>\n",
       "<tr>\n",
       "  <th>Pop_Density_per sqm</th>                <td>    0.0281</td> <td>    0.188</td> <td>    0.150</td> <td> 0.881</td> <td>   -0.343</td> <td>    0.399</td>\n",
       "</tr>\n",
       "<tr>\n",
       "  <th>Coastline (coast/area ratio)</th>       <td>  -15.1276</td> <td>    3.853</td> <td>   -3.926</td> <td> 0.000</td> <td>  -22.723</td> <td>   -7.532</td>\n",
       "</tr>\n",
       "<tr>\n",
       "  <th>Net migration</th>                      <td>  295.1782</td> <td>   45.856</td> <td>    6.437</td> <td> 0.000</td> <td>  204.779</td> <td>  385.577</td>\n",
       "</tr>\n",
       "<tr>\n",
       "  <th>Infant mortality (per 1000 births)</th> <td>  -37.6590</td> <td>   26.997</td> <td>   -1.395</td> <td> 0.165</td> <td>  -90.881</td> <td>   15.563</td>\n",
       "</tr>\n",
       "<tr>\n",
       "  <th>Literacy (%)</th>                       <td>   -0.4939</td> <td>   25.102</td> <td>   -0.020</td> <td> 0.984</td> <td>  -49.979</td> <td>   48.991</td>\n",
       "</tr>\n",
       "<tr>\n",
       "  <th>Phones (per 1000)</th>                  <td>   32.2409</td> <td>    2.414</td> <td>   13.358</td> <td> 0.000</td> <td>   27.483</td> <td>   36.999</td>\n",
       "</tr>\n",
       "<tr>\n",
       "  <th>Arable (%)</th>                         <td>  -75.8229</td> <td>   72.753</td> <td>   -1.042</td> <td> 0.299</td> <td> -219.247</td> <td>   67.601</td>\n",
       "</tr>\n",
       "<tr>\n",
       "  <th>Crops (%)</th>                          <td>  -21.7611</td> <td>   39.638</td> <td>   -0.549</td> <td> 0.584</td> <td>  -99.903</td> <td>   56.381</td>\n",
       "</tr>\n",
       "<tr>\n",
       "  <th>Other (%)</th>                          <td>  -34.6986</td> <td>   70.617</td> <td>   -0.491</td> <td> 0.624</td> <td> -173.912</td> <td>  104.515</td>\n",
       "</tr>\n",
       "<tr>\n",
       "  <th>Climate</th>                            <td> -187.4946</td> <td>  561.108</td> <td>   -0.334</td> <td> 0.739</td> <td>-1293.652</td> <td>  918.663</td>\n",
       "</tr>\n",
       "<tr>\n",
       "  <th>Birthrate</th>                          <td>  -30.8857</td> <td>   66.935</td> <td>   -0.461</td> <td> 0.645</td> <td> -162.839</td> <td>  101.068</td>\n",
       "</tr>\n",
       "<tr>\n",
       "  <th>Deathrate</th>                          <td>  125.3649</td> <td>   80.701</td> <td>    1.553</td> <td> 0.122</td> <td>  -33.726</td> <td>  284.456</td>\n",
       "</tr>\n",
       "<tr>\n",
       "  <th>Agriculture</th>                        <td>-4532.7267</td> <td> 9322.350</td> <td>   -0.486</td> <td> 0.627</td> <td>-2.29e+04</td> <td> 1.38e+04</td>\n",
       "</tr>\n",
       "<tr>\n",
       "  <th>Industry</th>                           <td> 2115.0018</td> <td> 8947.628</td> <td>    0.236</td> <td> 0.813</td> <td>-1.55e+04</td> <td> 1.98e+04</td>\n",
       "</tr>\n",
       "<tr>\n",
       "  <th>Service</th>                            <td>-1155.9880</td> <td> 9240.786</td> <td>   -0.125</td> <td> 0.901</td> <td>-1.94e+04</td> <td> 1.71e+04</td>\n",
       "</tr>\n",
       "</table>\n",
       "<table class=\"simpletable\">\n",
       "<tr>\n",
       "  <th>Omnibus:</th>       <td> 9.555</td> <th>  Durbin-Watson:     </th> <td>   1.855</td>\n",
       "</tr>\n",
       "<tr>\n",
       "  <th>Prob(Omnibus):</th> <td> 0.008</td> <th>  Jarque-Bera (JB):  </th> <td>  15.716</td>\n",
       "</tr>\n",
       "<tr>\n",
       "  <th>Skew:</th>          <td> 0.209</td> <th>  Prob(JB):          </th> <td>0.000387</td>\n",
       "</tr>\n",
       "<tr>\n",
       "  <th>Kurtosis:</th>      <td> 4.220</td> <th>  Cond. No.          </th> <td>4.75e+09</td>\n",
       "</tr>\n",
       "</table><br/><br/>Warnings:<br/>[1] Standard Errors assume that the covariance matrix of the errors is correctly specified.<br/>[2] The condition number is large, 4.75e+09. This might indicate that there are<br/>strong multicollinearity or other numerical problems."
      ],
      "text/plain": [
       "<class 'statsmodels.iolib.summary.Summary'>\n",
       "\"\"\"\n",
       "                            OLS Regression Results                            \n",
       "==============================================================================\n",
       "Dep. Variable:     GDP ($ per capita)   R-squared:                       0.801\n",
       "Model:                            OLS   Adj. R-squared:                  0.785\n",
       "Method:                 Least Squares   F-statistic:                     49.48\n",
       "Date:                Wed, 09 Dec 2020   Prob (F-statistic):           1.40e-63\n",
       "Time:                        11:25:38   Log-Likelihood:                -2222.8\n",
       "No. Observations:                 227   AIC:                             4482.\n",
       "Df Residuals:                     209   BIC:                             4543.\n",
       "Df Model:                          17                                         \n",
       "Covariance Type:            nonrobust                                         \n",
       "======================================================================================================\n",
       "                                         coef    std err          t      P>|t|      [0.025      0.975]\n",
       "------------------------------------------------------------------------------------------------------\n",
       "const                               9620.3348    299.480     32.123      0.000    9029.946    1.02e+04\n",
       "Population                          1.698e-06   3.89e-06      0.437      0.663   -5.97e-06    9.36e-06\n",
       "Area_sqm                           -1.905e-05      0.000     -0.166      0.868      -0.000       0.000\n",
       "Pop_Density_per sqm                    0.0281      0.188      0.150      0.881      -0.343       0.399\n",
       "Coastline (coast/area ratio)         -15.1276      3.853     -3.926      0.000     -22.723      -7.532\n",
       "Net migration                        295.1782     45.856      6.437      0.000     204.779     385.577\n",
       "Infant mortality (per 1000 births)   -37.6590     26.997     -1.395      0.165     -90.881      15.563\n",
       "Literacy (%)                          -0.4939     25.102     -0.020      0.984     -49.979      48.991\n",
       "Phones (per 1000)                     32.2409      2.414     13.358      0.000      27.483      36.999\n",
       "Arable (%)                           -75.8229     72.753     -1.042      0.299    -219.247      67.601\n",
       "Crops (%)                            -21.7611     39.638     -0.549      0.584     -99.903      56.381\n",
       "Other (%)                            -34.6986     70.617     -0.491      0.624    -173.912     104.515\n",
       "Climate                             -187.4946    561.108     -0.334      0.739   -1293.652     918.663\n",
       "Birthrate                            -30.8857     66.935     -0.461      0.645    -162.839     101.068\n",
       "Deathrate                            125.3649     80.701      1.553      0.122     -33.726     284.456\n",
       "Agriculture                        -4532.7267   9322.350     -0.486      0.627   -2.29e+04    1.38e+04\n",
       "Industry                            2115.0018   8947.628      0.236      0.813   -1.55e+04    1.98e+04\n",
       "Service                            -1155.9880   9240.786     -0.125      0.901   -1.94e+04    1.71e+04\n",
       "==============================================================================\n",
       "Omnibus:                        9.555   Durbin-Watson:                   1.855\n",
       "Prob(Omnibus):                  0.008   Jarque-Bera (JB):               15.716\n",
       "Skew:                           0.209   Prob(JB):                     0.000387\n",
       "Kurtosis:                       4.220   Cond. No.                     4.75e+09\n",
       "==============================================================================\n",
       "\n",
       "Warnings:\n",
       "[1] Standard Errors assume that the covariance matrix of the errors is correctly specified.\n",
       "[2] The condition number is large, 4.75e+09. This might indicate that there are\n",
       "strong multicollinearity or other numerical problems.\n",
       "\"\"\""
      ]
     },
     "execution_count": 102,
     "metadata": {},
     "output_type": "execute_result"
    }
   ],
   "source": [
    "inpc=sm.add_constant(inp1)\n",
    "ols=sm.OLS(out,inpc)\n",
    "ols_mod=ols.fit()\n",
    "ols_mod.summary()"
   ]
  },
  {
   "cell_type": "code",
   "execution_count": 105,
   "metadata": {},
   "outputs": [
    {
     "data": {
      "text/html": [
       "<div>\n",
       "<style scoped>\n",
       "    .dataframe tbody tr th:only-of-type {\n",
       "        vertical-align: middle;\n",
       "    }\n",
       "\n",
       "    .dataframe tbody tr th {\n",
       "        vertical-align: top;\n",
       "    }\n",
       "\n",
       "    .dataframe thead th {\n",
       "        text-align: right;\n",
       "    }\n",
       "</style>\n",
       "<table border=\"1\" class=\"dataframe\">\n",
       "  <thead>\n",
       "    <tr style=\"text-align: right;\">\n",
       "      <th></th>\n",
       "      <th>VIF</th>\n",
       "      <th>feature</th>\n",
       "    </tr>\n",
       "  </thead>\n",
       "  <tbody>\n",
       "    <tr>\n",
       "      <th>16</th>\n",
       "      <td>25.532397</td>\n",
       "      <td>Service</td>\n",
       "    </tr>\n",
       "    <tr>\n",
       "      <th>14</th>\n",
       "      <td>20.026042</td>\n",
       "      <td>Agriculture</td>\n",
       "    </tr>\n",
       "    <tr>\n",
       "      <th>15</th>\n",
       "      <td>16.545912</td>\n",
       "      <td>Industry</td>\n",
       "    </tr>\n",
       "    <tr>\n",
       "      <th>10</th>\n",
       "      <td>14.145739</td>\n",
       "      <td>Other (%)</td>\n",
       "    </tr>\n",
       "    <tr>\n",
       "      <th>8</th>\n",
       "      <td>10.506242</td>\n",
       "      <td>Arable (%)</td>\n",
       "    </tr>\n",
       "    <tr>\n",
       "      <th>5</th>\n",
       "      <td>9.500994</td>\n",
       "      <td>Infant mortality (per 1000 births)</td>\n",
       "    </tr>\n",
       "    <tr>\n",
       "      <th>12</th>\n",
       "      <td>6.134302</td>\n",
       "      <td>Birthrate</td>\n",
       "    </tr>\n",
       "    <tr>\n",
       "      <th>9</th>\n",
       "      <td>3.830876</td>\n",
       "      <td>Crops (%)</td>\n",
       "    </tr>\n",
       "    <tr>\n",
       "      <th>7</th>\n",
       "      <td>3.238427</td>\n",
       "      <td>Phones (per 1000)</td>\n",
       "    </tr>\n",
       "    <tr>\n",
       "      <th>6</th>\n",
       "      <td>2.764233</td>\n",
       "      <td>Literacy (%)</td>\n",
       "    </tr>\n",
       "    <tr>\n",
       "      <th>13</th>\n",
       "      <td>2.512426</td>\n",
       "      <td>Deathrate</td>\n",
       "    </tr>\n",
       "    <tr>\n",
       "      <th>3</th>\n",
       "      <td>1.808579</td>\n",
       "      <td>Coastline (coast/area ratio)</td>\n",
       "    </tr>\n",
       "    <tr>\n",
       "      <th>11</th>\n",
       "      <td>1.607444</td>\n",
       "      <td>Climate</td>\n",
       "    </tr>\n",
       "    <tr>\n",
       "      <th>1</th>\n",
       "      <td>1.424810</td>\n",
       "      <td>Area_sqm</td>\n",
       "    </tr>\n",
       "    <tr>\n",
       "      <th>0</th>\n",
       "      <td>1.414517</td>\n",
       "      <td>Population</td>\n",
       "    </tr>\n",
       "    <tr>\n",
       "      <th>2</th>\n",
       "      <td>1.336890</td>\n",
       "      <td>Pop_Density_per sqm</td>\n",
       "    </tr>\n",
       "    <tr>\n",
       "      <th>4</th>\n",
       "      <td>1.204191</td>\n",
       "      <td>Net migration</td>\n",
       "    </tr>\n",
       "  </tbody>\n",
       "</table>\n",
       "</div>"
      ],
      "text/plain": [
       "          VIF                             feature\n",
       "16  25.532397                             Service\n",
       "14  20.026042                         Agriculture\n",
       "15  16.545912                            Industry\n",
       "10  14.145739                           Other (%)\n",
       "8   10.506242                          Arable (%)\n",
       "5    9.500994  Infant mortality (per 1000 births)\n",
       "12   6.134302                           Birthrate\n",
       "9    3.830876                           Crops (%)\n",
       "7    3.238427                   Phones (per 1000)\n",
       "6    2.764233                        Literacy (%)\n",
       "13   2.512426                           Deathrate\n",
       "3    1.808579        Coastline (coast/area ratio)\n",
       "11   1.607444                             Climate\n",
       "1    1.424810                            Area_sqm\n",
       "0    1.414517                          Population\n",
       "2    1.336890                 Pop_Density_per sqm\n",
       "4    1.204191                       Net migration"
      ]
     },
     "execution_count": 105,
     "metadata": {},
     "output_type": "execute_result"
    }
   ],
   "source": [
    "vif=pd.DataFrame()\n",
    "vif['VIF']=[variance_inflation_factor(inp1.values,i) for i in range(inp1.shape[1])]\n",
    "vif['feature']=inp1.columns\n",
    "vif.sort_values('VIF',ascending=False)"
   ]
  },
  {
   "cell_type": "code",
   "execution_count": 108,
   "metadata": {},
   "outputs": [
    {
     "data": {
      "text/plain": [
       "Population                            0.017884\n",
       "Area_sqm                             -0.060373\n",
       "Pop_Density_per sqm                   0.238214\n",
       "Coastline (coast/area ratio)          0.177843\n",
       "Net migration                         0.403517\n",
       "Infant mortality (per 1000 births)   -0.619008\n",
       "GDP ($ per capita)                    1.000000\n",
       "Literacy (%)                          0.513722\n",
       "Phones (per 1000)                     0.847224\n",
       "Arable (%)                            0.014793\n",
       "Crops (%)                            -0.230128\n",
       "Other (%)                             0.105637\n",
       "Climate                               0.318543\n",
       "Birthrate                            -0.661537\n",
       "Deathrate                            -0.219528\n",
       "Agriculture                          -0.580424\n",
       "Industry                             -0.036918\n",
       "Service                               0.535850\n",
       "Name: GDP ($ per capita), dtype: float64"
      ]
     },
     "execution_count": 108,
     "metadata": {},
     "output_type": "execute_result"
    }
   ],
   "source": [
    "data2.corr()['GDP ($ per capita)']"
   ]
  },
  {
   "cell_type": "code",
   "execution_count": 109,
   "metadata": {},
   "outputs": [
    {
     "data": {
      "text/html": [
       "<div>\n",
       "<style scoped>\n",
       "    .dataframe tbody tr th:only-of-type {\n",
       "        vertical-align: middle;\n",
       "    }\n",
       "\n",
       "    .dataframe tbody tr th {\n",
       "        vertical-align: top;\n",
       "    }\n",
       "\n",
       "    .dataframe thead th {\n",
       "        text-align: right;\n",
       "    }\n",
       "</style>\n",
       "<table border=\"1\" class=\"dataframe\">\n",
       "  <thead>\n",
       "    <tr style=\"text-align: right;\">\n",
       "      <th></th>\n",
       "      <th>VIF</th>\n",
       "      <th>feature</th>\n",
       "    </tr>\n",
       "  </thead>\n",
       "  <tbody>\n",
       "    <tr>\n",
       "      <th>10</th>\n",
       "      <td>14.141041</td>\n",
       "      <td>Other (%)</td>\n",
       "    </tr>\n",
       "    <tr>\n",
       "      <th>8</th>\n",
       "      <td>10.504615</td>\n",
       "      <td>Arable (%)</td>\n",
       "    </tr>\n",
       "    <tr>\n",
       "      <th>5</th>\n",
       "      <td>9.466748</td>\n",
       "      <td>Infant mortality (per 1000 births)</td>\n",
       "    </tr>\n",
       "    <tr>\n",
       "      <th>12</th>\n",
       "      <td>6.134036</td>\n",
       "      <td>Birthrate</td>\n",
       "    </tr>\n",
       "    <tr>\n",
       "      <th>9</th>\n",
       "      <td>3.830859</td>\n",
       "      <td>Crops (%)</td>\n",
       "    </tr>\n",
       "    <tr>\n",
       "      <th>14</th>\n",
       "      <td>3.252902</td>\n",
       "      <td>Agriculture</td>\n",
       "    </tr>\n",
       "    <tr>\n",
       "      <th>7</th>\n",
       "      <td>3.212241</td>\n",
       "      <td>Phones (per 1000)</td>\n",
       "    </tr>\n",
       "    <tr>\n",
       "      <th>6</th>\n",
       "      <td>2.740219</td>\n",
       "      <td>Literacy (%)</td>\n",
       "    </tr>\n",
       "    <tr>\n",
       "      <th>13</th>\n",
       "      <td>2.508962</td>\n",
       "      <td>Deathrate</td>\n",
       "    </tr>\n",
       "    <tr>\n",
       "      <th>3</th>\n",
       "      <td>1.780749</td>\n",
       "      <td>Coastline (coast/area ratio)</td>\n",
       "    </tr>\n",
       "    <tr>\n",
       "      <th>15</th>\n",
       "      <td>1.714570</td>\n",
       "      <td>Industry</td>\n",
       "    </tr>\n",
       "    <tr>\n",
       "      <th>11</th>\n",
       "      <td>1.590360</td>\n",
       "      <td>Climate</td>\n",
       "    </tr>\n",
       "    <tr>\n",
       "      <th>0</th>\n",
       "      <td>1.413954</td>\n",
       "      <td>Population</td>\n",
       "    </tr>\n",
       "    <tr>\n",
       "      <th>1</th>\n",
       "      <td>1.408147</td>\n",
       "      <td>Area_sqm</td>\n",
       "    </tr>\n",
       "    <tr>\n",
       "      <th>2</th>\n",
       "      <td>1.331512</td>\n",
       "      <td>Pop_Density_per sqm</td>\n",
       "    </tr>\n",
       "    <tr>\n",
       "      <th>4</th>\n",
       "      <td>1.199117</td>\n",
       "      <td>Net migration</td>\n",
       "    </tr>\n",
       "  </tbody>\n",
       "</table>\n",
       "</div>"
      ],
      "text/plain": [
       "          VIF                             feature\n",
       "10  14.141041                           Other (%)\n",
       "8   10.504615                          Arable (%)\n",
       "5    9.466748  Infant mortality (per 1000 births)\n",
       "12   6.134036                           Birthrate\n",
       "9    3.830859                           Crops (%)\n",
       "14   3.252902                         Agriculture\n",
       "7    3.212241                   Phones (per 1000)\n",
       "6    2.740219                        Literacy (%)\n",
       "13   2.508962                           Deathrate\n",
       "3    1.780749        Coastline (coast/area ratio)\n",
       "15   1.714570                            Industry\n",
       "11   1.590360                             Climate\n",
       "0    1.413954                          Population\n",
       "1    1.408147                            Area_sqm\n",
       "2    1.331512                 Pop_Density_per sqm\n",
       "4    1.199117                       Net migration"
      ]
     },
     "execution_count": 109,
     "metadata": {},
     "output_type": "execute_result"
    }
   ],
   "source": [
    "inpv1=inp1.drop('Service',axis=1)\n",
    "\n",
    "vif=pd.DataFrame()\n",
    "vif['VIF']=[variance_inflation_factor(inpv1.values,i) for i in range(inpv1.shape[1])]\n",
    "vif['feature']=inpv1.columns\n",
    "vif.sort_values('VIF',ascending=False)"
   ]
  },
  {
   "cell_type": "code",
   "execution_count": 110,
   "metadata": {},
   "outputs": [
    {
     "data": {
      "text/html": [
       "<div>\n",
       "<style scoped>\n",
       "    .dataframe tbody tr th:only-of-type {\n",
       "        vertical-align: middle;\n",
       "    }\n",
       "\n",
       "    .dataframe tbody tr th {\n",
       "        vertical-align: top;\n",
       "    }\n",
       "\n",
       "    .dataframe thead th {\n",
       "        text-align: right;\n",
       "    }\n",
       "</style>\n",
       "<table border=\"1\" class=\"dataframe\">\n",
       "  <thead>\n",
       "    <tr style=\"text-align: right;\">\n",
       "      <th></th>\n",
       "      <th>VIF</th>\n",
       "      <th>feature</th>\n",
       "    </tr>\n",
       "  </thead>\n",
       "  <tbody>\n",
       "    <tr>\n",
       "      <th>5</th>\n",
       "      <td>9.437339</td>\n",
       "      <td>Infant mortality (per 1000 births)</td>\n",
       "    </tr>\n",
       "    <tr>\n",
       "      <th>11</th>\n",
       "      <td>6.065702</td>\n",
       "      <td>Birthrate</td>\n",
       "    </tr>\n",
       "    <tr>\n",
       "      <th>13</th>\n",
       "      <td>3.252899</td>\n",
       "      <td>Agriculture</td>\n",
       "    </tr>\n",
       "    <tr>\n",
       "      <th>7</th>\n",
       "      <td>3.201979</td>\n",
       "      <td>Phones (per 1000)</td>\n",
       "    </tr>\n",
       "    <tr>\n",
       "      <th>6</th>\n",
       "      <td>2.718619</td>\n",
       "      <td>Literacy (%)</td>\n",
       "    </tr>\n",
       "    <tr>\n",
       "      <th>12</th>\n",
       "      <td>2.508164</td>\n",
       "      <td>Deathrate</td>\n",
       "    </tr>\n",
       "    <tr>\n",
       "      <th>3</th>\n",
       "      <td>1.744867</td>\n",
       "      <td>Coastline (coast/area ratio)</td>\n",
       "    </tr>\n",
       "    <tr>\n",
       "      <th>14</th>\n",
       "      <td>1.713809</td>\n",
       "      <td>Industry</td>\n",
       "    </tr>\n",
       "    <tr>\n",
       "      <th>10</th>\n",
       "      <td>1.588994</td>\n",
       "      <td>Climate</td>\n",
       "    </tr>\n",
       "    <tr>\n",
       "      <th>8</th>\n",
       "      <td>1.413931</td>\n",
       "      <td>Arable (%)</td>\n",
       "    </tr>\n",
       "    <tr>\n",
       "      <th>1</th>\n",
       "      <td>1.398809</td>\n",
       "      <td>Area_sqm</td>\n",
       "    </tr>\n",
       "    <tr>\n",
       "      <th>0</th>\n",
       "      <td>1.394332</td>\n",
       "      <td>Population</td>\n",
       "    </tr>\n",
       "    <tr>\n",
       "      <th>9</th>\n",
       "      <td>1.375567</td>\n",
       "      <td>Crops (%)</td>\n",
       "    </tr>\n",
       "    <tr>\n",
       "      <th>2</th>\n",
       "      <td>1.324509</td>\n",
       "      <td>Pop_Density_per sqm</td>\n",
       "    </tr>\n",
       "    <tr>\n",
       "      <th>4</th>\n",
       "      <td>1.177433</td>\n",
       "      <td>Net migration</td>\n",
       "    </tr>\n",
       "  </tbody>\n",
       "</table>\n",
       "</div>"
      ],
      "text/plain": [
       "         VIF                             feature\n",
       "5   9.437339  Infant mortality (per 1000 births)\n",
       "11  6.065702                           Birthrate\n",
       "13  3.252899                         Agriculture\n",
       "7   3.201979                   Phones (per 1000)\n",
       "6   2.718619                        Literacy (%)\n",
       "12  2.508164                           Deathrate\n",
       "3   1.744867        Coastline (coast/area ratio)\n",
       "14  1.713809                            Industry\n",
       "10  1.588994                             Climate\n",
       "8   1.413931                          Arable (%)\n",
       "1   1.398809                            Area_sqm\n",
       "0   1.394332                          Population\n",
       "9   1.375567                           Crops (%)\n",
       "2   1.324509                 Pop_Density_per sqm\n",
       "4   1.177433                       Net migration"
      ]
     },
     "execution_count": 110,
     "metadata": {},
     "output_type": "execute_result"
    }
   ],
   "source": [
    "inpv2=inpv1.drop('Other (%)',axis=1)\n",
    "\n",
    "vif=pd.DataFrame()\n",
    "vif['VIF']=[variance_inflation_factor(inpv2.values,i) for i in range(inpv2.shape[1])]\n",
    "vif['feature']=inpv2.columns\n",
    "vif.sort_values('VIF',ascending=False)"
   ]
  },
  {
   "cell_type": "code",
   "execution_count": 111,
   "metadata": {},
   "outputs": [
    {
     "data": {
      "text/html": [
       "<div>\n",
       "<style scoped>\n",
       "    .dataframe tbody tr th:only-of-type {\n",
       "        vertical-align: middle;\n",
       "    }\n",
       "\n",
       "    .dataframe tbody tr th {\n",
       "        vertical-align: top;\n",
       "    }\n",
       "\n",
       "    .dataframe thead th {\n",
       "        text-align: right;\n",
       "    }\n",
       "</style>\n",
       "<table border=\"1\" class=\"dataframe\">\n",
       "  <thead>\n",
       "    <tr style=\"text-align: right;\">\n",
       "      <th></th>\n",
       "      <th>VIF</th>\n",
       "      <th>feature</th>\n",
       "    </tr>\n",
       "  </thead>\n",
       "  <tbody>\n",
       "    <tr>\n",
       "      <th>10</th>\n",
       "      <td>4.484879</td>\n",
       "      <td>Birthrate</td>\n",
       "    </tr>\n",
       "    <tr>\n",
       "      <th>6</th>\n",
       "      <td>3.132257</td>\n",
       "      <td>Phones (per 1000)</td>\n",
       "    </tr>\n",
       "    <tr>\n",
       "      <th>12</th>\n",
       "      <td>2.771160</td>\n",
       "      <td>Agriculture</td>\n",
       "    </tr>\n",
       "    <tr>\n",
       "      <th>5</th>\n",
       "      <td>2.582218</td>\n",
       "      <td>Literacy (%)</td>\n",
       "    </tr>\n",
       "    <tr>\n",
       "      <th>3</th>\n",
       "      <td>1.738336</td>\n",
       "      <td>Coastline (coast/area ratio)</td>\n",
       "    </tr>\n",
       "    <tr>\n",
       "      <th>13</th>\n",
       "      <td>1.665256</td>\n",
       "      <td>Industry</td>\n",
       "    </tr>\n",
       "    <tr>\n",
       "      <th>9</th>\n",
       "      <td>1.580450</td>\n",
       "      <td>Climate</td>\n",
       "    </tr>\n",
       "    <tr>\n",
       "      <th>11</th>\n",
       "      <td>1.463293</td>\n",
       "      <td>Deathrate</td>\n",
       "    </tr>\n",
       "    <tr>\n",
       "      <th>7</th>\n",
       "      <td>1.413394</td>\n",
       "      <td>Arable (%)</td>\n",
       "    </tr>\n",
       "    <tr>\n",
       "      <th>1</th>\n",
       "      <td>1.397710</td>\n",
       "      <td>Area_sqm</td>\n",
       "    </tr>\n",
       "    <tr>\n",
       "      <th>0</th>\n",
       "      <td>1.382396</td>\n",
       "      <td>Population</td>\n",
       "    </tr>\n",
       "    <tr>\n",
       "      <th>8</th>\n",
       "      <td>1.346897</td>\n",
       "      <td>Crops (%)</td>\n",
       "    </tr>\n",
       "    <tr>\n",
       "      <th>2</th>\n",
       "      <td>1.322850</td>\n",
       "      <td>Pop_Density_per sqm</td>\n",
       "    </tr>\n",
       "    <tr>\n",
       "      <th>4</th>\n",
       "      <td>1.176766</td>\n",
       "      <td>Net migration</td>\n",
       "    </tr>\n",
       "  </tbody>\n",
       "</table>\n",
       "</div>"
      ],
      "text/plain": [
       "         VIF                       feature\n",
       "10  4.484879                     Birthrate\n",
       "6   3.132257             Phones (per 1000)\n",
       "12  2.771160                   Agriculture\n",
       "5   2.582218                  Literacy (%)\n",
       "3   1.738336  Coastline (coast/area ratio)\n",
       "13  1.665256                      Industry\n",
       "9   1.580450                       Climate\n",
       "11  1.463293                     Deathrate\n",
       "7   1.413394                    Arable (%)\n",
       "1   1.397710                      Area_sqm\n",
       "0   1.382396                    Population\n",
       "8   1.346897                     Crops (%)\n",
       "2   1.322850           Pop_Density_per sqm\n",
       "4   1.176766                 Net migration"
      ]
     },
     "execution_count": 111,
     "metadata": {},
     "output_type": "execute_result"
    }
   ],
   "source": [
    "inpv3=inpv2.drop('Infant mortality (per 1000 births)',axis=1)\n",
    "\n",
    "vif=pd.DataFrame()\n",
    "vif['VIF']=[variance_inflation_factor(inpv3.values,i) for i in range(inpv3.shape[1])]\n",
    "vif['feature']=inpv3.columns\n",
    "vif.sort_values('VIF',ascending=False)"
   ]
  },
  {
   "cell_type": "code",
   "execution_count": 112,
   "metadata": {},
   "outputs": [
    {
     "data": {
      "text/html": [
       "<table class=\"simpletable\">\n",
       "<caption>OLS Regression Results</caption>\n",
       "<tr>\n",
       "  <th>Dep. Variable:</th>    <td>GDP ($ per capita)</td> <th>  R-squared:         </th> <td>   0.799</td>\n",
       "</tr>\n",
       "<tr>\n",
       "  <th>Model:</th>                    <td>OLS</td>        <th>  Adj. R-squared:    </th> <td>   0.786</td>\n",
       "</tr>\n",
       "<tr>\n",
       "  <th>Method:</th>              <td>Least Squares</td>   <th>  F-statistic:       </th> <td>   60.12</td>\n",
       "</tr>\n",
       "<tr>\n",
       "  <th>Date:</th>              <td>Wed, 09 Dec 2020</td>  <th>  Prob (F-statistic):</th> <td>9.60e-66</td>\n",
       "</tr>\n",
       "<tr>\n",
       "  <th>Time:</th>                  <td>11:41:41</td>      <th>  Log-Likelihood:    </th> <td> -2224.0</td>\n",
       "</tr>\n",
       "<tr>\n",
       "  <th>No. Observations:</th>       <td>   227</td>       <th>  AIC:               </th> <td>   4478.</td>\n",
       "</tr>\n",
       "<tr>\n",
       "  <th>Df Residuals:</th>           <td>   212</td>       <th>  BIC:               </th> <td>   4529.</td>\n",
       "</tr>\n",
       "<tr>\n",
       "  <th>Df Model:</th>               <td>    14</td>       <th>                     </th>     <td> </td>   \n",
       "</tr>\n",
       "<tr>\n",
       "  <th>Covariance Type:</th>       <td>nonrobust</td>     <th>                     </th>     <td> </td>   \n",
       "</tr>\n",
       "</table>\n",
       "<table class=\"simpletable\">\n",
       "<tr>\n",
       "                <td></td>                  <th>coef</th>     <th>std err</th>      <th>t</th>      <th>P>|t|</th>  <th>[0.025</th>    <th>0.975]</th>  \n",
       "</tr>\n",
       "<tr>\n",
       "  <th>const</th>                        <td> 9620.3348</td> <td>  298.964</td> <td>   32.179</td> <td> 0.000</td> <td> 9031.013</td> <td> 1.02e+04</td>\n",
       "</tr>\n",
       "<tr>\n",
       "  <th>Population</th>                   <td> 1.405e-06</td> <td> 3.84e-06</td> <td>    0.366</td> <td> 0.714</td> <td>-6.16e-06</td> <td> 8.97e-06</td>\n",
       "</tr>\n",
       "<tr>\n",
       "  <th>Area_sqm</th>                     <td>-2.966e-05</td> <td>    0.000</td> <td>   -0.262</td> <td> 0.794</td> <td>   -0.000</td> <td>    0.000</td>\n",
       "</tr>\n",
       "<tr>\n",
       "  <th>Pop_Density_per sqm</th>          <td>    0.0106</td> <td>    0.187</td> <td>    0.057</td> <td> 0.955</td> <td>   -0.357</td> <td>    0.379</td>\n",
       "</tr>\n",
       "<tr>\n",
       "  <th>Coastline (coast/area ratio)</th> <td>  -15.2505</td> <td>    3.771</td> <td>   -4.045</td> <td> 0.000</td> <td>  -22.683</td> <td>   -7.818</td>\n",
       "</tr>\n",
       "<tr>\n",
       "  <th>Net migration</th>                <td>  294.0734</td> <td>   45.252</td> <td>    6.499</td> <td> 0.000</td> <td>  204.871</td> <td>  383.276</td>\n",
       "</tr>\n",
       "<tr>\n",
       "  <th>Literacy (%)</th>                 <td>    8.7987</td> <td>   24.219</td> <td>    0.363</td> <td> 0.717</td> <td>  -38.943</td> <td>   56.540</td>\n",
       "</tr>\n",
       "<tr>\n",
       "  <th>Phones (per 1000)</th>            <td>   32.6500</td> <td>    2.370</td> <td>   13.778</td> <td> 0.000</td> <td>   27.979</td> <td>   37.321</td>\n",
       "</tr>\n",
       "<tr>\n",
       "  <th>Arable (%)</th>                   <td>  -41.8676</td> <td>   26.638</td> <td>   -1.572</td> <td> 0.118</td> <td>  -94.378</td> <td>   10.643</td>\n",
       "</tr>\n",
       "<tr>\n",
       "  <th>Crops (%)</th>                    <td>   -1.3818</td> <td>   23.463</td> <td>   -0.059</td> <td> 0.953</td> <td>  -47.632</td> <td>   44.869</td>\n",
       "</tr>\n",
       "<tr>\n",
       "  <th>Climate</th>                      <td> -128.6667</td> <td>  555.418</td> <td>   -0.232</td> <td> 0.817</td> <td>-1223.515</td> <td>  966.182</td>\n",
       "</tr>\n",
       "<tr>\n",
       "  <th>Birthrate</th>                    <td>  -75.7142</td> <td>   57.134</td> <td>   -1.325</td> <td> 0.187</td> <td> -188.337</td> <td>   36.909</td>\n",
       "</tr>\n",
       "<tr>\n",
       "  <th>Deathrate</th>                    <td>   50.4181</td> <td>   61.482</td> <td>    0.820</td> <td> 0.413</td> <td>  -70.776</td> <td>  171.612</td>\n",
       "</tr>\n",
       "<tr>\n",
       "  <th>Agriculture</th>                  <td>-5516.0947</td> <td> 3461.857</td> <td>   -1.593</td> <td> 0.113</td> <td>-1.23e+04</td> <td> 1307.978</td>\n",
       "</tr>\n",
       "<tr>\n",
       "  <th>Industry</th>                     <td> 2457.0810</td> <td> 2833.698</td> <td>    0.867</td> <td> 0.387</td> <td>-3128.753</td> <td> 8042.915</td>\n",
       "</tr>\n",
       "</table>\n",
       "<table class=\"simpletable\">\n",
       "<tr>\n",
       "  <th>Omnibus:</th>       <td> 9.500</td> <th>  Durbin-Watson:     </th> <td>   1.819</td>\n",
       "</tr>\n",
       "<tr>\n",
       "  <th>Prob(Omnibus):</th> <td> 0.009</td> <th>  Jarque-Bera (JB):  </th> <td>  15.039</td>\n",
       "</tr>\n",
       "<tr>\n",
       "  <th>Skew:</th>          <td> 0.225</td> <th>  Prob(JB):          </th> <td>0.000542</td>\n",
       "</tr>\n",
       "<tr>\n",
       "  <th>Kurtosis:</th>      <td> 4.178</td> <th>  Cond. No.          </th> <td>1.20e+09</td>\n",
       "</tr>\n",
       "</table><br/><br/>Warnings:<br/>[1] Standard Errors assume that the covariance matrix of the errors is correctly specified.<br/>[2] The condition number is large, 1.2e+09. This might indicate that there are<br/>strong multicollinearity or other numerical problems."
      ],
      "text/plain": [
       "<class 'statsmodels.iolib.summary.Summary'>\n",
       "\"\"\"\n",
       "                            OLS Regression Results                            \n",
       "==============================================================================\n",
       "Dep. Variable:     GDP ($ per capita)   R-squared:                       0.799\n",
       "Model:                            OLS   Adj. R-squared:                  0.786\n",
       "Method:                 Least Squares   F-statistic:                     60.12\n",
       "Date:                Wed, 09 Dec 2020   Prob (F-statistic):           9.60e-66\n",
       "Time:                        11:41:41   Log-Likelihood:                -2224.0\n",
       "No. Observations:                 227   AIC:                             4478.\n",
       "Df Residuals:                     212   BIC:                             4529.\n",
       "Df Model:                          14                                         \n",
       "Covariance Type:            nonrobust                                         \n",
       "================================================================================================\n",
       "                                   coef    std err          t      P>|t|      [0.025      0.975]\n",
       "------------------------------------------------------------------------------------------------\n",
       "const                         9620.3348    298.964     32.179      0.000    9031.013    1.02e+04\n",
       "Population                    1.405e-06   3.84e-06      0.366      0.714   -6.16e-06    8.97e-06\n",
       "Area_sqm                     -2.966e-05      0.000     -0.262      0.794      -0.000       0.000\n",
       "Pop_Density_per sqm              0.0106      0.187      0.057      0.955      -0.357       0.379\n",
       "Coastline (coast/area ratio)   -15.2505      3.771     -4.045      0.000     -22.683      -7.818\n",
       "Net migration                  294.0734     45.252      6.499      0.000     204.871     383.276\n",
       "Literacy (%)                     8.7987     24.219      0.363      0.717     -38.943      56.540\n",
       "Phones (per 1000)               32.6500      2.370     13.778      0.000      27.979      37.321\n",
       "Arable (%)                     -41.8676     26.638     -1.572      0.118     -94.378      10.643\n",
       "Crops (%)                       -1.3818     23.463     -0.059      0.953     -47.632      44.869\n",
       "Climate                       -128.6667    555.418     -0.232      0.817   -1223.515     966.182\n",
       "Birthrate                      -75.7142     57.134     -1.325      0.187    -188.337      36.909\n",
       "Deathrate                       50.4181     61.482      0.820      0.413     -70.776     171.612\n",
       "Agriculture                  -5516.0947   3461.857     -1.593      0.113   -1.23e+04    1307.978\n",
       "Industry                      2457.0810   2833.698      0.867      0.387   -3128.753    8042.915\n",
       "==============================================================================\n",
       "Omnibus:                        9.500   Durbin-Watson:                   1.819\n",
       "Prob(Omnibus):                  0.009   Jarque-Bera (JB):               15.039\n",
       "Skew:                           0.225   Prob(JB):                     0.000542\n",
       "Kurtosis:                       4.178   Cond. No.                     1.20e+09\n",
       "==============================================================================\n",
       "\n",
       "Warnings:\n",
       "[1] Standard Errors assume that the covariance matrix of the errors is correctly specified.\n",
       "[2] The condition number is large, 1.2e+09. This might indicate that there are\n",
       "strong multicollinearity or other numerical problems.\n",
       "\"\"\""
      ]
     },
     "execution_count": 112,
     "metadata": {},
     "output_type": "execute_result"
    }
   ],
   "source": [
    "inpc=sm.add_constant(inpv3)\n",
    "ols=sm.OLS(out,inpc)\n",
    "ols_mod=ols.fit()\n",
    "ols_mod.summary()"
   ]
  },
  {
   "cell_type": "code",
   "execution_count": 116,
   "metadata": {},
   "outputs": [
    {
     "data": {
      "text/plain": [
       "Country\n",
       "Afghanistan       -4070.248562\n",
       "Albania            4483.127877\n",
       "Algeria            -564.873566\n",
       "American Samoa     5523.648334\n",
       "Andorra           -6189.432704\n",
       "                      ...     \n",
       "West Bank         -6357.222720\n",
       "Western Sahara     -102.002783\n",
       "Yemen             -2214.732453\n",
       "Zambia            -1408.481678\n",
       "Zimbabwe          -2058.438021\n",
       "Length: 227, dtype: float64"
      ]
     },
     "execution_count": 116,
     "metadata": {},
     "output_type": "execute_result"
    }
   ],
   "source": [
    "# Normality \n",
    "#Check normality for residue\n",
    "#residue = yactual - ypred\n",
    "inpv3_c=sm.add_constant(inpv3)\n",
    "ypred=ols_mod.predict(inpv3_c)\n",
    "residue=out-ypred\n",
    "residue\n"
   ]
  },
  {
   "cell_type": "code",
   "execution_count": 117,
   "metadata": {},
   "outputs": [
    {
     "data": {
      "text/plain": [
       "Country\n",
       "Afghanistan       -4070.248562\n",
       "Albania            4483.127877\n",
       "Algeria            -564.873566\n",
       "American Samoa     5523.648334\n",
       "Andorra           -6189.432704\n",
       "                      ...     \n",
       "West Bank         -6357.222720\n",
       "Western Sahara     -102.002783\n",
       "Yemen             -2214.732453\n",
       "Zambia            -1408.481678\n",
       "Zimbabwe          -2058.438021\n",
       "Length: 227, dtype: float64"
      ]
     },
     "execution_count": 117,
     "metadata": {},
     "output_type": "execute_result"
    }
   ],
   "source": [
    "ols_mod.resid"
   ]
  },
  {
   "cell_type": "code",
   "execution_count": 118,
   "metadata": {},
   "outputs": [
    {
     "data": {
      "text/plain": [
       "0.22683588080400058"
      ]
     },
     "execution_count": 118,
     "metadata": {},
     "output_type": "execute_result"
    }
   ],
   "source": [
    "residue.skew()"
   ]
  },
  {
   "cell_type": "code",
   "execution_count": 119,
   "metadata": {},
   "outputs": [
    {
     "data": {
      "text/plain": [
       "0.22683588080400058"
      ]
     },
     "execution_count": 119,
     "metadata": {},
     "output_type": "execute_result"
    }
   ],
   "source": [
    "ols_mod.resid.skew()"
   ]
  },
  {
   "cell_type": "code",
   "execution_count": 120,
   "metadata": {},
   "outputs": [
    {
     "data": {
      "text/plain": [
       "<AxesSubplot:ylabel='Density'>"
      ]
     },
     "execution_count": 120,
     "metadata": {},
     "output_type": "execute_result"
    },
    {
     "data": {
      "image/png": "[encoded data removed]",
      "text/plain": [
       "<Figure size 432x288 with 1 Axes>"
      ]
     },
     "metadata": {
      "needs_background": "light"
     },
     "output_type": "display_data"
    }
   ],
   "source": [
    "ols_mod.resid.plot(kind='kde')"
   ]
  },
  {
   "cell_type": "code",
   "execution_count": 121,
   "metadata": {},
   "outputs": [],
   "source": [
    "import scipy.stats as stats"
   ]
  },
  {
   "cell_type": "code",
   "execution_count": 122,
   "metadata": {},
   "outputs": [
    {
     "data": {
      "image/png": "[encoded data removed]",
      "text/plain": [
       "<Figure size 432x288 with 1 Axes>"
      ]
     },
     "metadata": {
      "needs_background": "light"
     },
     "output_type": "display_data"
    }
   ],
   "source": [
    "stats.probplot(ols_mod.resid,plot=plt)\n",
    "plt.show()"
   ]
  },
  {
   "cell_type": "code",
   "execution_count": 123,
   "metadata": {},
   "outputs": [],
   "source": [
    "# skew is between -0.5 to +0.5, we are ok with it and u can say ur residue is normal"
   ]
  },
  {
   "cell_type": "code",
   "execution_count": 124,
   "metadata": {},
   "outputs": [],
   "source": [
    "# what if residue skew is more than 0.5, What is residue is not normal\n",
    "\n",
    "# then go back and transform the output(actual) of data, \n",
    "     #then build the model again and check the skew of residue"
   ]
  },
  {
   "cell_type": "code",
   "execution_count": null,
   "metadata": {},
   "outputs": [],
   "source": []
  }
 ],
 "metadata": {
  "kernelspec": {
   "display_name": "Python 3",
   "language": "python",
   "name": "python3"
  },
  "language_info": {
   "codemirror_mode": {
    "name": "ipython",
    "version": 3
   },
   "file_extension": ".py",
   "mimetype": "text/x-python",
   "name": "python",
   "nbconvert_exporter": "python",
   "pygments_lexer": "ipython3",
   "version": "3.8.3"
  }
 },
 "nbformat": 4,
 "nbformat_minor": 4
}
