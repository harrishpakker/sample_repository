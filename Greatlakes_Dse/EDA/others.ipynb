{
 "cells": [
  {
   "cell_type": "code",
   "execution_count": 13,
   "metadata": {},
   "outputs": [
    {
     "data": {
      "text/html": [
       "<div>\n",
       "<style scoped>\n",
       "    .dataframe tbody tr th:only-of-type {\n",
       "        vertical-align: middle;\n",
       "    }\n",
       "\n",
       "    .dataframe tbody tr th {\n",
       "        vertical-align: top;\n",
       "    }\n",
       "\n",
       "    .dataframe thead th {\n",
       "        text-align: right;\n",
       "    }\n",
       "</style>\n",
       "<table border=\"1\" class=\"dataframe\">\n",
       "  <thead>\n",
       "    <tr style=\"text-align: right;\">\n",
       "      <th></th>\n",
       "      <th>data</th>\n",
       "      <th>min_max</th>\n",
       "      <th>z_score</th>\n",
       "    </tr>\n",
       "  </thead>\n",
       "  <tbody>\n",
       "    <tr>\n",
       "      <th>0</th>\n",
       "      <td>200</td>\n",
       "      <td>0.000</td>\n",
       "      <td>-0.948683</td>\n",
       "    </tr>\n",
       "    <tr>\n",
       "      <th>1</th>\n",
       "      <td>300</td>\n",
       "      <td>0.125</td>\n",
       "      <td>-0.632456</td>\n",
       "    </tr>\n",
       "    <tr>\n",
       "      <th>2</th>\n",
       "      <td>400</td>\n",
       "      <td>0.250</td>\n",
       "      <td>-0.316228</td>\n",
       "    </tr>\n",
       "    <tr>\n",
       "      <th>3</th>\n",
       "      <td>600</td>\n",
       "      <td>0.500</td>\n",
       "      <td>0.316228</td>\n",
       "    </tr>\n",
       "    <tr>\n",
       "      <th>4</th>\n",
       "      <td>1000</td>\n",
       "      <td>1.000</td>\n",
       "      <td>1.581139</td>\n",
       "    </tr>\n",
       "  </tbody>\n",
       "</table>\n",
       "</div>"
      ],
      "text/plain": [
       "   data  min_max   z_score\n",
       "0   200    0.000 -0.948683\n",
       "1   300    0.125 -0.632456\n",
       "2   400    0.250 -0.316228\n",
       "3   600    0.500  0.316228\n",
       "4  1000    1.000  1.581139"
      ]
     },
     "execution_count": 13,
     "metadata": {},
     "output_type": "execute_result"
    }
   ],
   "source": [
    "# importing pandas module for using dataframes and associated in-built functions\n",
    "import pandas as pd\n",
    "\n",
    "# creating dataframe df using the data values given in question\n",
    "df = pd.DataFrame({'data' : [200, 300, 400, 600, 1000]} )\n",
    "\n",
    "# a) min_max scaling\n",
    "\n",
    "# Forumula : min_max value = (x - x min) / (x max - x min)\n",
    "# x is the data, x max is the largest data and x min is the smallest data\n",
    "x_min = df['data'].min()\n",
    "x_max = df['data'].max()\n",
    "\n",
    "# creating a new column for the normalized values by min_max method\n",
    "df['min_max'] = (df['data']-x_min)/(x_max-x_min)\n",
    "\n",
    "# b) z-score normalization\n",
    "\n",
    "# Formula : z-score value = (x - mean value of data) / standard value deviation\n",
    "# mean can be computed by df['data'].mean() and standard value deviation can\n",
    "# be computed by df['data'].std()\n",
    "\n",
    "# creating a new column for the normalized values by z score method\n",
    "df['z_score'] = (df['data']-df['data'].mean())/df['data'].std()\n",
    "\n",
    "# displaying df dataframe\n",
    "df"
   ]
  },
  {
   "cell_type": "code",
   "execution_count": null,
   "metadata": {},
   "outputs": [],
   "source": []
  }
 ],
 "metadata": {
  "kernelspec": {
   "display_name": "Python 3",
   "language": "python",
   "name": "python3"
  },
  "language_info": {
   "codemirror_mode": {
    "name": "ipython",
    "version": 3
   },
   "file_extension": ".py",
   "mimetype": "text/x-python",
   "name": "python",
   "nbconvert_exporter": "python",
   "pygments_lexer": "ipython3",
   "version": "3.8.3"
  }
 },
 "nbformat": 4,
 "nbformat_minor": 4
}
