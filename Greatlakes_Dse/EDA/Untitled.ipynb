{
 "cells": [
  {
   "cell_type": "code",
   "execution_count": 29,
   "metadata": {},
   "outputs": [],
   "source": [
    "# importing necessary libraries\n",
    "import pandas as pd\n",
    "import matplotlib.pyplot as plt"
   ]
  },
  {
   "cell_type": "code",
   "execution_count": 30,
   "metadata": {},
   "outputs": [
    {
     "data": {
      "text/html": [
       "<div>\n",
       "<style scoped>\n",
       "    .dataframe tbody tr th:only-of-type {\n",
       "        vertical-align: middle;\n",
       "    }\n",
       "\n",
       "    .dataframe tbody tr th {\n",
       "        vertical-align: top;\n",
       "    }\n",
       "\n",
       "    .dataframe thead th {\n",
       "        text-align: right;\n",
       "    }\n",
       "</style>\n",
       "<table border=\"1\" class=\"dataframe\">\n",
       "  <thead>\n",
       "    <tr style=\"text-align: right;\">\n",
       "      <th></th>\n",
       "      <th>Borough</th>\n",
       "      <th>Neighborhood</th>\n",
       "      <th>Type of Home</th>\n",
       "      <th>Number of Sales</th>\n",
       "      <th>Lowest Sales Price</th>\n",
       "      <th>Average Sales Price</th>\n",
       "      <th>Median Sales Price</th>\n",
       "      <th>Highest Sales Price</th>\n",
       "    </tr>\n",
       "  </thead>\n",
       "  <tbody>\n",
       "    <tr>\n",
       "      <th>0</th>\n",
       "      <td>Manhattan</td>\n",
       "      <td>ALPHABET CITY</td>\n",
       "      <td>01 ONE FAMILY DWELLINGS</td>\n",
       "      <td>1</td>\n",
       "      <td>3200000</td>\n",
       "      <td>3200000</td>\n",
       "      <td>3200000</td>\n",
       "      <td>3200000</td>\n",
       "    </tr>\n",
       "    <tr>\n",
       "      <th>1</th>\n",
       "      <td>Manhattan</td>\n",
       "      <td>ALPHABET CITY</td>\n",
       "      <td>03 THREE FAMILY DWELLINGS</td>\n",
       "      <td>1</td>\n",
       "      <td>6300000</td>\n",
       "      <td>6300000</td>\n",
       "      <td>6300000</td>\n",
       "      <td>6300000</td>\n",
       "    </tr>\n",
       "    <tr>\n",
       "      <th>2</th>\n",
       "      <td>Manhattan</td>\n",
       "      <td>CHELSEA</td>\n",
       "      <td>01 ONE FAMILY DWELLINGS</td>\n",
       "      <td>3</td>\n",
       "      <td>2421900</td>\n",
       "      <td>7285347</td>\n",
       "      <td>6725000</td>\n",
       "      <td>12709140</td>\n",
       "    </tr>\n",
       "    <tr>\n",
       "      <th>3</th>\n",
       "      <td>Manhattan</td>\n",
       "      <td>CHELSEA</td>\n",
       "      <td>02 TWO FAMILY DWELLINGS</td>\n",
       "      <td>4</td>\n",
       "      <td>4100000</td>\n",
       "      <td>9618750</td>\n",
       "      <td>7237500</td>\n",
       "      <td>19900000</td>\n",
       "    </tr>\n",
       "    <tr>\n",
       "      <th>4</th>\n",
       "      <td>Bronx</td>\n",
       "      <td>WOODLAWN</td>\n",
       "      <td>01 ONE FAMILY DWELLINGS</td>\n",
       "      <td>18</td>\n",
       "      <td>225000</td>\n",
       "      <td>490878</td>\n",
       "      <td>475000</td>\n",
       "      <td>725000</td>\n",
       "    </tr>\n",
       "  </tbody>\n",
       "</table>\n",
       "</div>"
      ],
      "text/plain": [
       "     Borough   Neighborhood               Type of Home  Number of Sales  \\\n",
       "0  Manhattan  ALPHABET CITY    01 ONE FAMILY DWELLINGS                1   \n",
       "1  Manhattan  ALPHABET CITY  03 THREE FAMILY DWELLINGS                1   \n",
       "2  Manhattan        CHELSEA    01 ONE FAMILY DWELLINGS                3   \n",
       "3  Manhattan        CHELSEA    02 TWO FAMILY DWELLINGS                4   \n",
       "4      Bronx       WOODLAWN    01 ONE FAMILY DWELLINGS               18   \n",
       "\n",
       "   Lowest Sales Price  Average Sales Price  Median Sales Price  \\\n",
       "0             3200000              3200000             3200000   \n",
       "1             6300000              6300000             6300000   \n",
       "2             2421900              7285347             6725000   \n",
       "3             4100000              9618750             7237500   \n",
       "4              225000               490878              475000   \n",
       "\n",
       "   Highest Sales Price  \n",
       "0              3200000  \n",
       "1              6300000  \n",
       "2             12709140  \n",
       "3             19900000  \n",
       "4               725000  "
      ]
     },
     "execution_count": 30,
     "metadata": {},
     "output_type": "execute_result"
    }
   ],
   "source": [
    "# pd.read_excel can be used to read the excel datasheet\n",
    "df = pd.read_csv('home.csv')\n",
    "# displaying it for verification\n",
    "df.head()"
   ]
  },
  {
   "cell_type": "code",
   "execution_count": 31,
   "metadata": {},
   "outputs": [
    {
     "data": {
      "image/png": "[encoded data removed]",
      "text/plain": [
       "<Figure size 432x288 with 1 Axes>"
      ]
     },
     "metadata": {
      "needs_background": "light"
     },
     "output_type": "display_data"
    }
   ],
   "source": [
    "# giving title for the graph\n",
    "plt.title('Manhattan Borough')\n",
    "# using the pivot table to group based on Type of Home and Borough which is same as crosstab and\n",
    "# performing mean operation on Average Sales Price column and segregating Manhattan alone\n",
    "# plotting the same pivot table as bar graph\n",
    "df.pivot_table(index = 'Type of Home',columns='Borough',values = 'Average Sales Price',\n",
    "                           aggfunc='mean' )['Manhattan'].plot(kind = 'bar')\n",
    "plt.show()"
   ]
  },
  {
   "cell_type": "code",
   "execution_count": 32,
   "metadata": {},
   "outputs": [
    {
     "data": {
      "image/png": "[encoded data removed]",
      "text/plain": [
       "<Figure size 432x288 with 1 Axes>"
      ]
     },
     "metadata": {
      "needs_background": "light"
     },
     "output_type": "display_data"
    }
   ],
   "source": [
    "plt.title('Brooklyn Borough')\n",
    "# using the pivot table to group based on Type of Home and Borough which is same as crosstab and\n",
    "# performing mean operation on Average Sales Price column and segregating Brooklyn alone\n",
    "# plotting the same pivot table as bar graph\n",
    "df.pivot_table(index = 'Type of Home',columns='Borough',values = 'Average Sales Price',\n",
    "                           aggfunc='mean' )['Brooklyn'].plot(kind = 'bar')\n",
    "plt.show()"
   ]
  }
 ],
 "metadata": {
  "kernelspec": {
   "display_name": "Python 3",
   "language": "python",
   "name": "python3"
  },
  "language_info": {
   "codemirror_mode": {
    "name": "ipython",
    "version": 3
   },
   "file_extension": ".py",
   "mimetype": "text/x-python",
   "name": "python",
   "nbconvert_exporter": "python",
   "pygments_lexer": "ipython3",
   "version": "3.8.3"
  }
 },
 "nbformat": 4,
 "nbformat_minor": 4
}
