{
 "cells": [
  {
   "cell_type": "markdown",
   "metadata": {},
   "source": [
    "Find the total of matching letters for a string\n",
    "\n",
    "Get the below input from user:\n",
    "    • Mention the number of letters for which we are looking for match.\n",
    "    • Mention the letters.\n",
    "    • Mention the piece of string from which we are looking for the match. \n",
    "\n",
    "Input:\n",
    "Provide the number of Letter: 3\n",
    "Provide the letters: a#g#r\n",
    "Mention the string: wertyuiopsadfghjklzxcvbnbmnAGwqgfdgESRSRDTFHGHGJGJ"
   ]
  },
  {
   "cell_type": "code",
   "execution_count": 1,
   "metadata": {},
   "outputs": [
    {
     "name": "stdout",
     "output_type": "stream",
     "text": [
      "Provide the number of Letter : 5\n",
      "Provide the Letters : 51\n",
      "Mention the string : 5\n"
     ]
    }
   ],
   "source": [
    "num = int(input(\"Provide the number of Letter : \"))\n",
    "letters = input(\"Provide the Letters : \").split('#')\n",
    "text = input(\"Mention the string : \")\n",
    "\n",
    "\n"
   ]
  },
  {
   "cell_type": "code",
   "execution_count": 5,
   "metadata": {},
   "outputs": [
    {
     "ename": "SyntaxError",
     "evalue": "invalid syntax (<ipython-input-5-b651eee0c785>, line 2)",
     "output_type": "error",
     "traceback": [
      "\u001b[0;36m  File \u001b[0;32m\"<ipython-input-5-b651eee0c785>\"\u001b[0;36m, line \u001b[0;32m2\u001b[0m\n\u001b[0;31m    l = [[x for i in range(1000)]x for x in (random.randint(0, 1)]\u001b[0m\n\u001b[0m                                 ^\u001b[0m\n\u001b[0;31mSyntaxError\u001b[0m\u001b[0;31m:\u001b[0m invalid syntax\n"
     ]
    }
   ],
   "source": [
    "import random\n",
    "l = [[x for i in range(1000)]x for x in (random.randint(0, 1)]\n"
   ]
  },
  {
   "cell_type": "code",
   "execution_count": null,
   "metadata": {},
   "outputs": [],
   "source": []
  }
 ],
 "metadata": {
  "kernelspec": {
   "display_name": "Python 3",
   "language": "python",
   "name": "python3"
  },
  "language_info": {
   "codemirror_mode": {
    "name": "ipython",
    "version": 3
   },
   "file_extension": ".py",
   "mimetype": "text/x-python",
   "name": "python",
   "nbconvert_exporter": "python",
   "pygments_lexer": "ipython3",
   "version": "3.7.3"
  }
 },
 "nbformat": 4,
 "nbformat_minor": 2
}
