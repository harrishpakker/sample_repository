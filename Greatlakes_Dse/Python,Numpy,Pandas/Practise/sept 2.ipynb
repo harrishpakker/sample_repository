{
 "cells": [
  {
   "cell_type": "code",
   "execution_count": 1,
   "metadata": {},
   "outputs": [],
   "source": [
    "# arithmetic with numpy-1D,2D array\n",
    "# statistical measures on array-1D array\n",
    "# stacking options-stack() and column_stack()"
   ]
  },
  {
   "cell_type": "code",
   "execution_count": 2,
   "metadata": {},
   "outputs": [],
   "source": [
    "import numpy as np"
   ]
  },
  {
   "cell_type": "code",
   "execution_count": 4,
   "metadata": {},
   "outputs": [],
   "source": [
    "a1=np.arange(21,39)\n",
    "b1=np.arange(0.23,78.90) # the starting should should be error free."
   ]
  },
  {
   "cell_type": "code",
   "execution_count": 5,
   "metadata": {},
   "outputs": [
    {
     "data": {
      "text/plain": [
       "array([21, 22, 23, 24, 25, 26, 27, 28, 29, 30, 31, 32, 33, 34, 35, 36, 37,\n",
       "       38])"
      ]
     },
     "execution_count": 5,
     "metadata": {},
     "output_type": "execute_result"
    }
   ],
   "source": [
    "a1"
   ]
  },
  {
   "cell_type": "code",
   "execution_count": 23,
   "metadata": {},
   "outputs": [
    {
     "name": "stdout",
     "output_type": "stream",
     "text": [
      "[ 0.23  1.23  2.23  3.23  4.23  5.23  6.23  7.23  8.23  9.23 10.23 11.23\n",
      " 12.23 13.23 14.23 15.23 16.23 17.23 18.23 19.23 20.23 21.23 22.23 23.23\n",
      " 24.23 25.23 26.23 27.23 28.23 29.23 30.23 31.23 32.23 33.23 34.23 35.23\n",
      " 36.23 37.23 38.23 39.23 40.23 41.23 42.23 43.23 44.23 45.23 46.23 47.23\n",
      " 48.23 49.23 50.23 51.23 52.23 53.23 54.23 55.23 56.23 57.23 58.23 59.23\n",
      " 60.23 61.23 62.23 63.23 64.23 65.23 66.23 67.23 68.23 69.23 70.23 71.23\n",
      " 72.23 73.23 74.23 75.23 76.23 77.23 78.23]\n"
     ]
    }
   ],
   "source": [
    "print(b1)"
   ]
  },
  {
   "cell_type": "code",
   "execution_count": 8,
   "metadata": {},
   "outputs": [
    {
     "ename": "ValueError",
     "evalue": "operands could not be broadcast together with shapes (18,) (79,) ",
     "output_type": "error",
     "traceback": [
      "\u001b[1;31m---------------------------------------------------------------------------\u001b[0m",
      "\u001b[1;31mValueError\u001b[0m                                Traceback (most recent call last)",
      "\u001b[1;32m<ipython-input-8-9fbf353047cd>\u001b[0m in \u001b[0;36m<module>\u001b[1;34m\u001b[0m\n\u001b[1;32m----> 1\u001b[1;33m \u001b[0ma1\u001b[0m\u001b[1;33m+\u001b[0m\u001b[0mb1\u001b[0m\u001b[1;33m\u001b[0m\u001b[1;33m\u001b[0m\u001b[0m\n\u001b[0m",
      "\u001b[1;31mValueError\u001b[0m: operands could not be broadcast together with shapes (18,) (79,) "
     ]
    }
   ],
   "source": [
    "a1+b1"
   ]
  },
  {
   "cell_type": "code",
   "execution_count": 9,
   "metadata": {},
   "outputs": [
    {
     "ename": "ValueError",
     "evalue": "could not convert string to float: 'virus'",
     "output_type": "error",
     "traceback": [
      "\u001b[1;31m---------------------------------------------------------------------------\u001b[0m",
      "\u001b[1;31mValueError\u001b[0m                                Traceback (most recent call last)",
      "\u001b[1;32m<ipython-input-9-c022ec2b9f8f>\u001b[0m in \u001b[0;36m<module>\u001b[1;34m\u001b[0m\n\u001b[1;32m----> 1\u001b[1;33m \u001b[0mfloat\u001b[0m\u001b[1;33m(\u001b[0m\u001b[1;34m'virus'\u001b[0m\u001b[1;33m)\u001b[0m\u001b[1;33m\u001b[0m\u001b[1;33m\u001b[0m\u001b[0m\n\u001b[0m",
      "\u001b[1;31mValueError\u001b[0m: could not convert string to float: 'virus'"
     ]
    }
   ],
   "source": [
    "float('virus')"
   ]
  },
  {
   "cell_type": "code",
   "execution_count": 10,
   "metadata": {},
   "outputs": [],
   "source": [
    "a1=np.array([1,2,3,4,5,6])\n",
    "a2=np.array([10,20,30,40,50,60])"
   ]
  },
  {
   "cell_type": "code",
   "execution_count": 11,
   "metadata": {},
   "outputs": [
    {
     "data": {
      "text/plain": [
       "array([11, 22, 33, 44, 55, 66])"
      ]
     },
     "execution_count": 11,
     "metadata": {},
     "output_type": "execute_result"
    }
   ],
   "source": [
    "a1+a2"
   ]
  },
  {
   "cell_type": "code",
   "execution_count": null,
   "metadata": {},
   "outputs": [],
   "source": [
    "# +, the arrays should numbers\n",
    "     the arrays, the shape should the same==> dimensions should be the same\n",
    "     arithmetic operations happen at respective indices"
   ]
  },
  {
   "cell_type": "code",
   "execution_count": 12,
   "metadata": {},
   "outputs": [],
   "source": [
    "a1=np.array([1,2,3,4,5,6])\n",
    "a2=np.array([10,20,30,40,50,60])"
   ]
  },
  {
   "cell_type": "code",
   "execution_count": 13,
   "metadata": {},
   "outputs": [
    {
     "data": {
      "text/plain": [
       "array([ -9, -18, -27, -36, -45, -54])"
      ]
     },
     "execution_count": 13,
     "metadata": {},
     "output_type": "execute_result"
    }
   ],
   "source": [
    "a1-a2"
   ]
  },
  {
   "cell_type": "code",
   "execution_count": 14,
   "metadata": {},
   "outputs": [
    {
     "data": {
      "text/plain": [
       "array([ 10,  40,  90, 160, 250, 360])"
      ]
     },
     "execution_count": 14,
     "metadata": {},
     "output_type": "execute_result"
    }
   ],
   "source": [
    "a1*a2"
   ]
  },
  {
   "cell_type": "code",
   "execution_count": 15,
   "metadata": {},
   "outputs": [
    {
     "data": {
      "text/plain": [
       "array([0.1, 0.1, 0.1, 0.1, 0.1, 0.1])"
      ]
     },
     "execution_count": 15,
     "metadata": {},
     "output_type": "execute_result"
    }
   ],
   "source": [
    "a1/a2"
   ]
  },
  {
   "cell_type": "code",
   "execution_count": 16,
   "metadata": {},
   "outputs": [
    {
     "data": {
      "text/plain": [
       "array([1, 2, 3, 4, 5, 6], dtype=int32)"
      ]
     },
     "execution_count": 16,
     "metadata": {},
     "output_type": "execute_result"
    }
   ],
   "source": [
    "a1%a2 # remainder"
   ]
  },
  {
   "cell_type": "code",
   "execution_count": 17,
   "metadata": {},
   "outputs": [
    {
     "data": {
      "text/plain": [
       "array([0, 0, 0, 0, 0, 0], dtype=int32)"
      ]
     },
     "execution_count": 17,
     "metadata": {},
     "output_type": "execute_result"
    }
   ],
   "source": [
    "a1//a2 ==> #integers and not floating is preferred"
   ]
  },
  {
   "cell_type": "code",
   "execution_count": 21,
   "metadata": {},
   "outputs": [
    {
     "name": "stdout",
     "output_type": "stream",
     "text": [
      "[          1     1048576 -1010140999           0  1296002393           0]\n"
     ]
    }
   ],
   "source": [
    "print(a1**a2)"
   ]
  },
  {
   "cell_type": "code",
   "execution_count": 19,
   "metadata": {},
   "outputs": [
    {
     "data": {
      "text/plain": [
       "array([  41.,  182.,  423.,  764., 1205., 1746.])"
      ]
     },
     "execution_count": 19,
     "metadata": {},
     "output_type": "execute_result"
    }
   ],
   "source": [
    "a1-a2+a2/2*a2"
   ]
  },
  {
   "cell_type": "code",
   "execution_count": 20,
   "metadata": {},
   "outputs": [],
   "source": [
    "# order of precedence"
   ]
  },
  {
   "cell_type": "code",
   "execution_count": null,
   "metadata": {},
   "outputs": [],
   "source": [
    "PEDMAS"
   ]
  },
  {
   "cell_type": "code",
   "execution_count": 24,
   "metadata": {},
   "outputs": [
    {
     "data": {
      "text/plain": [
       "4"
      ]
     },
     "execution_count": 24,
     "metadata": {},
     "output_type": "execute_result"
    }
   ],
   "source": [
    "pow(2,2)"
   ]
  },
  {
   "cell_type": "code",
   "execution_count": 25,
   "metadata": {},
   "outputs": [
    {
     "data": {
      "text/plain": [
       "array([          1,     1048576, -1010140999,           0,  1296002393,\n",
       "                 0], dtype=int32)"
      ]
     },
     "execution_count": 25,
     "metadata": {},
     "output_type": "execute_result"
    }
   ],
   "source": [
    "pow(a1,a2) # inbuilt 69 functions of python works with arrays positionwise"
   ]
  },
  {
   "cell_type": "code",
   "execution_count": 29,
   "metadata": {},
   "outputs": [
    {
     "data": {
      "text/plain": [
       "array([ 0.23,  1.23,  2.23,  3.23,  4.23,  5.23,  6.23,  7.23,  8.23,\n",
       "        9.23, 10.23, 11.23, 12.23, 13.23, 14.23, 15.23, 16.23, 17.23,\n",
       "       18.23, 19.23, 20.23, 21.23, 22.23, 23.23, 24.23, 25.23, 26.23,\n",
       "       27.23, 28.23, 29.23, 30.23, 31.23, 32.23, 33.23, 34.23, 35.23,\n",
       "       36.23, 37.23, 38.23, 39.23, 40.23, 41.23, 42.23, 43.23, 44.23,\n",
       "       45.23, 46.23, 47.23, 48.23, 49.23, 50.23, 51.23, 52.23, 53.23,\n",
       "       54.23, 55.23, 56.23, 57.23, 58.23, 59.23, 60.23, 61.23, 62.23,\n",
       "       63.23, 64.23, 65.23, 66.23, 67.23, 68.23, 69.23, 70.23, 71.23,\n",
       "       72.23, 73.23, 74.23, 75.23, 76.23, 77.23, 78.23])"
      ]
     },
     "execution_count": 29,
     "metadata": {},
     "output_type": "execute_result"
    }
   ],
   "source": [
    "b1"
   ]
  },
  {
   "cell_type": "code",
   "execution_count": 30,
   "metadata": {},
   "outputs": [
    {
     "data": {
      "text/plain": [
       "10"
      ]
     },
     "execution_count": 30,
     "metadata": {},
     "output_type": "execute_result"
    }
   ],
   "source": [
    "sum([1,2,3,4])"
   ]
  },
  {
   "cell_type": "code",
   "execution_count": 31,
   "metadata": {},
   "outputs": [
    {
     "data": {
      "text/plain": [
       "3099.170000000001"
      ]
     },
     "execution_count": 31,
     "metadata": {},
     "output_type": "execute_result"
    }
   ],
   "source": [
    "sum(b1)"
   ]
  },
  {
   "cell_type": "code",
   "execution_count": 32,
   "metadata": {},
   "outputs": [
    {
     "data": {
      "text/plain": [
       "array([ 0.23,  1.23,  2.23,  3.23,  4.23,  5.23,  6.23,  7.23,  8.23,\n",
       "        9.23, 10.23, 11.23, 12.23, 13.23, 14.23, 15.23, 16.23, 17.23,\n",
       "       18.23, 19.23, 20.23, 21.23, 22.23, 23.23, 24.23, 25.23, 26.23,\n",
       "       27.23, 28.23, 29.23, 30.23, 31.23, 32.23, 33.23, 34.23, 35.23,\n",
       "       36.23, 37.23, 38.23, 39.23, 40.23, 41.23, 42.23, 43.23, 44.23,\n",
       "       45.23, 46.23, 47.23, 48.23, 49.23, 50.23, 51.23, 52.23, 53.23,\n",
       "       54.23, 55.23, 56.23, 57.23, 58.23, 59.23, 60.23, 61.23, 62.23,\n",
       "       63.23, 64.23, 65.23, 66.23, 67.23, 68.23, 69.23, 70.23, 71.23,\n",
       "       72.23, 73.23, 74.23, 75.23, 76.23, 77.23, 78.23])"
      ]
     },
     "execution_count": 32,
     "metadata": {},
     "output_type": "execute_result"
    }
   ],
   "source": [
    "b1"
   ]
  },
  {
   "cell_type": "code",
   "execution_count": 34,
   "metadata": {},
   "outputs": [
    {
     "data": {
      "text/plain": [
       "78.23"
      ]
     },
     "execution_count": 34,
     "metadata": {},
     "output_type": "execute_result"
    }
   ],
   "source": [
    "b1.max()"
   ]
  },
  {
   "cell_type": "code",
   "execution_count": 35,
   "metadata": {},
   "outputs": [
    {
     "data": {
      "text/plain": [
       "0.23"
      ]
     },
     "execution_count": 35,
     "metadata": {},
     "output_type": "execute_result"
    }
   ],
   "source": [
    "b1.min()"
   ]
  },
  {
   "cell_type": "code",
   "execution_count": 36,
   "metadata": {},
   "outputs": [
    {
     "data": {
      "text/plain": [
       "39.230000000000004"
      ]
     },
     "execution_count": 36,
     "metadata": {},
     "output_type": "execute_result"
    }
   ],
   "source": [
    "b1.mean()"
   ]
  },
  {
   "cell_type": "code",
   "execution_count": 38,
   "metadata": {},
   "outputs": [
    {
     "data": {
      "text/plain": [
       "array([ 0.23,  1.23,  2.23,  3.23,  4.23,  5.23,  6.23,  7.23,  8.23,\n",
       "        9.23, 10.23, 11.23, 12.23, 13.23, 14.23, 15.23, 16.23, 17.23,\n",
       "       18.23, 19.23, 20.23, 21.23, 22.23, 23.23, 24.23, 25.23, 26.23,\n",
       "       27.23, 28.23, 29.23, 30.23, 31.23, 32.23, 33.23, 34.23, 35.23,\n",
       "       36.23, 37.23, 38.23, 39.23, 40.23, 41.23, 42.23, 43.23, 44.23,\n",
       "       45.23, 46.23, 47.23, 48.23, 49.23, 50.23, 51.23, 52.23, 53.23,\n",
       "       54.23, 55.23, 56.23, 57.23, 58.23, 59.23, 60.23, 61.23, 62.23,\n",
       "       63.23, 64.23, 65.23, 66.23, 67.23, 68.23, 69.23, 70.23, 71.23,\n",
       "       72.23, 73.23, 74.23, 75.23, 76.23, 77.23, 78.23])"
      ]
     },
     "execution_count": 38,
     "metadata": {},
     "output_type": "execute_result"
    }
   ],
   "source": [
    "b1"
   ]
  },
  {
   "cell_type": "code",
   "execution_count": 39,
   "metadata": {},
   "outputs": [],
   "source": [
    "b1.sort() # ascending order is preferred"
   ]
  },
  {
   "cell_type": "code",
   "execution_count": 43,
   "metadata": {},
   "outputs": [
    {
     "data": {
      "text/plain": [
       "array([ 0.23,  1.23,  2.23,  3.23,  4.23,  5.23,  6.23,  7.23,  8.23,\n",
       "        9.23, 10.23, 11.23, 12.23, 13.23, 14.23, 15.23, 16.23, 17.23,\n",
       "       18.23, 19.23, 20.23, 21.23, 22.23, 23.23, 24.23, 25.23, 26.23,\n",
       "       27.23, 28.23, 29.23, 30.23, 31.23, 32.23, 33.23, 34.23, 35.23,\n",
       "       36.23, 37.23, 38.23, 39.23, 40.23, 41.23, 42.23, 43.23, 44.23,\n",
       "       45.23, 46.23, 47.23, 48.23, 49.23, 50.23, 51.23, 52.23, 53.23,\n",
       "       54.23, 55.23, 56.23, 57.23, 58.23, 59.23, 60.23, 61.23, 62.23,\n",
       "       63.23, 64.23, 65.23, 66.23, 67.23, 68.23, 69.23, 70.23, 71.23,\n",
       "       72.23, 73.23, 74.23, 75.23, 76.23, 77.23, 78.23])"
      ]
     },
     "execution_count": 43,
     "metadata": {},
     "output_type": "execute_result"
    }
   ],
   "source": [
    "b1"
   ]
  },
  {
   "cell_type": "code",
   "execution_count": 44,
   "metadata": {},
   "outputs": [
    {
     "data": {
      "text/plain": [
       "(79,)"
      ]
     },
     "execution_count": 44,
     "metadata": {},
     "output_type": "execute_result"
    }
   ],
   "source": [
    "b1.shape"
   ]
  },
  {
   "cell_type": "code",
   "execution_count": 45,
   "metadata": {},
   "outputs": [],
   "source": [
    "# reshape this array and let us know your conclusion"
   ]
  },
  {
   "cell_type": "code",
   "execution_count": null,
   "metadata": {},
   "outputs": [],
   "source": [
    "79\n",
    "1 79==>prime number"
   ]
  },
  {
   "cell_type": "code",
   "execution_count": 46,
   "metadata": {},
   "outputs": [
    {
     "data": {
      "text/plain": [
       "array([[ 0.23,  1.23,  2.23,  3.23,  4.23,  5.23,  6.23,  7.23,  8.23,\n",
       "         9.23, 10.23, 11.23, 12.23, 13.23, 14.23, 15.23, 16.23, 17.23,\n",
       "        18.23, 19.23, 20.23, 21.23, 22.23, 23.23, 24.23, 25.23, 26.23,\n",
       "        27.23, 28.23, 29.23, 30.23, 31.23, 32.23, 33.23, 34.23, 35.23,\n",
       "        36.23, 37.23, 38.23, 39.23, 40.23, 41.23, 42.23, 43.23, 44.23,\n",
       "        45.23, 46.23, 47.23, 48.23, 49.23, 50.23, 51.23, 52.23, 53.23,\n",
       "        54.23, 55.23, 56.23, 57.23, 58.23, 59.23, 60.23, 61.23, 62.23,\n",
       "        63.23, 64.23, 65.23, 66.23, 67.23, 68.23, 69.23, 70.23, 71.23,\n",
       "        72.23, 73.23, 74.23, 75.23, 76.23, 77.23, 78.23]])"
      ]
     },
     "execution_count": 46,
     "metadata": {},
     "output_type": "execute_result"
    }
   ],
   "source": [
    "b1.reshape(1,79)"
   ]
  },
  {
   "cell_type": "code",
   "execution_count": 47,
   "metadata": {},
   "outputs": [
    {
     "data": {
      "text/plain": [
       "array([[ 0.23],\n",
       "       [ 1.23],\n",
       "       [ 2.23],\n",
       "       [ 3.23],\n",
       "       [ 4.23],\n",
       "       [ 5.23],\n",
       "       [ 6.23],\n",
       "       [ 7.23],\n",
       "       [ 8.23],\n",
       "       [ 9.23],\n",
       "       [10.23],\n",
       "       [11.23],\n",
       "       [12.23],\n",
       "       [13.23],\n",
       "       [14.23],\n",
       "       [15.23],\n",
       "       [16.23],\n",
       "       [17.23],\n",
       "       [18.23],\n",
       "       [19.23],\n",
       "       [20.23],\n",
       "       [21.23],\n",
       "       [22.23],\n",
       "       [23.23],\n",
       "       [24.23],\n",
       "       [25.23],\n",
       "       [26.23],\n",
       "       [27.23],\n",
       "       [28.23],\n",
       "       [29.23],\n",
       "       [30.23],\n",
       "       [31.23],\n",
       "       [32.23],\n",
       "       [33.23],\n",
       "       [34.23],\n",
       "       [35.23],\n",
       "       [36.23],\n",
       "       [37.23],\n",
       "       [38.23],\n",
       "       [39.23],\n",
       "       [40.23],\n",
       "       [41.23],\n",
       "       [42.23],\n",
       "       [43.23],\n",
       "       [44.23],\n",
       "       [45.23],\n",
       "       [46.23],\n",
       "       [47.23],\n",
       "       [48.23],\n",
       "       [49.23],\n",
       "       [50.23],\n",
       "       [51.23],\n",
       "       [52.23],\n",
       "       [53.23],\n",
       "       [54.23],\n",
       "       [55.23],\n",
       "       [56.23],\n",
       "       [57.23],\n",
       "       [58.23],\n",
       "       [59.23],\n",
       "       [60.23],\n",
       "       [61.23],\n",
       "       [62.23],\n",
       "       [63.23],\n",
       "       [64.23],\n",
       "       [65.23],\n",
       "       [66.23],\n",
       "       [67.23],\n",
       "       [68.23],\n",
       "       [69.23],\n",
       "       [70.23],\n",
       "       [71.23],\n",
       "       [72.23],\n",
       "       [73.23],\n",
       "       [74.23],\n",
       "       [75.23],\n",
       "       [76.23],\n",
       "       [77.23],\n",
       "       [78.23]])"
      ]
     },
     "execution_count": 47,
     "metadata": {},
     "output_type": "execute_result"
    }
   ],
   "source": [
    "b1.reshape(79,1)"
   ]
  },
  {
   "cell_type": "code",
   "execution_count": null,
   "metadata": {},
   "outputs": [],
   "source": [
    "in numpy, when we face prime numbers, the arrays can only be shapes into row/column matri depecting on their factors"
   ]
  },
  {
   "cell_type": "code",
   "execution_count": 50,
   "metadata": {},
   "outputs": [
    {
     "data": {
      "text/plain": [
       "array([1, 2, 3, 4, 5, 6])"
      ]
     },
     "execution_count": 50,
     "metadata": {},
     "output_type": "execute_result"
    }
   ],
   "source": [
    "a1"
   ]
  },
  {
   "cell_type": "code",
   "execution_count": 51,
   "metadata": {},
   "outputs": [
    {
     "data": {
      "text/plain": [
       "array([3, 4, 5, 6, 7, 8])"
      ]
     },
     "execution_count": 51,
     "metadata": {},
     "output_type": "execute_result"
    }
   ],
   "source": [
    "a1+2 # add 2 to each and every index value"
   ]
  },
  {
   "cell_type": "code",
   "execution_count": 52,
   "metadata": {},
   "outputs": [
    {
     "data": {
      "text/plain": [
       "[1, 2, 3, 4, 4, 5]"
      ]
     },
     "execution_count": 52,
     "metadata": {},
     "output_type": "execute_result"
    }
   ],
   "source": [
    "[1,2,3,4]+[4,5] # python limitation"
   ]
  },
  {
   "cell_type": "code",
   "execution_count": 69,
   "metadata": {},
   "outputs": [],
   "source": [
    "z1=np.array([[67,67,100],[123,456,789]])"
   ]
  },
  {
   "cell_type": "code",
   "execution_count": 70,
   "metadata": {},
   "outputs": [
    {
     "data": {
      "text/plain": [
       "array([[ 67,  67, 100],\n",
       "       [123, 456, 789]])"
      ]
     },
     "execution_count": 70,
     "metadata": {},
     "output_type": "execute_result"
    }
   ],
   "source": [
    "z1"
   ]
  },
  {
   "cell_type": "code",
   "execution_count": 71,
   "metadata": {},
   "outputs": [],
   "source": [
    "z2=np.array([[12,78,56],[78,90,343]])   "
   ]
  },
  {
   "cell_type": "code",
   "execution_count": 72,
   "metadata": {},
   "outputs": [
    {
     "data": {
      "text/plain": [
       "array([[ 12,  78,  56],\n",
       "       [ 78,  90, 343]])"
      ]
     },
     "execution_count": 72,
     "metadata": {},
     "output_type": "execute_result"
    }
   ],
   "source": [
    "z2"
   ]
  },
  {
   "cell_type": "code",
   "execution_count": 73,
   "metadata": {},
   "outputs": [
    {
     "data": {
      "text/plain": [
       "array([[  79,  145,  156],\n",
       "       [ 201,  546, 1132]])"
      ]
     },
     "execution_count": 73,
     "metadata": {},
     "output_type": "execute_result"
    }
   ],
   "source": [
    "z1+z2"
   ]
  },
  {
   "cell_type": "code",
   "execution_count": 74,
   "metadata": {},
   "outputs": [
    {
     "data": {
      "text/plain": [
       "267.0"
      ]
     },
     "execution_count": 74,
     "metadata": {},
     "output_type": "execute_result"
    }
   ],
   "source": [
    "z1.mean()"
   ]
  },
  {
   "cell_type": "code",
   "execution_count": 75,
   "metadata": {},
   "outputs": [
    {
     "data": {
      "text/plain": [
       "789"
      ]
     },
     "execution_count": 75,
     "metadata": {},
     "output_type": "execute_result"
    }
   ],
   "source": [
    "z1.max()"
   ]
  },
  {
   "cell_type": "code",
   "execution_count": 76,
   "metadata": {},
   "outputs": [
    {
     "data": {
      "text/plain": [
       "array([[ 67,  67, 100],\n",
       "       [123, 456, 789]])"
      ]
     },
     "execution_count": 76,
     "metadata": {},
     "output_type": "execute_result"
    }
   ],
   "source": [
    "z1"
   ]
  },
  {
   "cell_type": "code",
   "execution_count": 77,
   "metadata": {},
   "outputs": [
    {
     "data": {
      "text/plain": [
       "5"
      ]
     },
     "execution_count": 77,
     "metadata": {},
     "output_type": "execute_result"
    }
   ],
   "source": [
    "z1.argmax()"
   ]
  },
  {
   "cell_type": "code",
   "execution_count": 78,
   "metadata": {},
   "outputs": [
    {
     "data": {
      "text/plain": [
       "0"
      ]
     },
     "execution_count": 78,
     "metadata": {},
     "output_type": "execute_result"
    }
   ],
   "source": [
    "z1.argmin()"
   ]
  },
  {
   "cell_type": "code",
   "execution_count": 79,
   "metadata": {},
   "outputs": [
    {
     "data": {
      "text/plain": [
       "array([[ 67,  67, 100],\n",
       "       [123, 456, 789]])"
      ]
     },
     "execution_count": 79,
     "metadata": {},
     "output_type": "execute_result"
    }
   ],
   "source": [
    "z1"
   ]
  },
  {
   "cell_type": "code",
   "execution_count": 80,
   "metadata": {},
   "outputs": [
    {
     "data": {
      "text/plain": [
       "array([[ 12,  78,  56],\n",
       "       [ 78,  90, 343]])"
      ]
     },
     "execution_count": 80,
     "metadata": {},
     "output_type": "execute_result"
    }
   ],
   "source": [
    "z2"
   ]
  },
  {
   "cell_type": "code",
   "execution_count": 86,
   "metadata": {},
   "outputs": [
    {
     "data": {
      "text/plain": [
       "array([[[ 67,  67, 100],\n",
       "        [123, 456, 789]],\n",
       "\n",
       "       [[ 12,  78,  56],\n",
       "        [ 78,  90, 343]]])"
      ]
     },
     "execution_count": 86,
     "metadata": {},
     "output_type": "execute_result"
    }
   ],
   "source": [
    "np.stack((z1,z2))"
   ]
  },
  {
   "cell_type": "code",
   "execution_count": 87,
   "metadata": {},
   "outputs": [
    {
     "data": {
      "text/plain": [
       "array([[ 67,  67, 100,  12,  78,  56],\n",
       "       [123, 456, 789,  78,  90, 343]])"
      ]
     },
     "execution_count": 87,
     "metadata": {},
     "output_type": "execute_result"
    }
   ],
   "source": [
    "np.column_stack((z1,z2))"
   ]
  },
  {
   "cell_type": "code",
   "execution_count": 88,
   "metadata": {},
   "outputs": [],
   "source": [
    "# axis=0 means a row\n",
    "# axis =1 means a column"
   ]
  },
  {
   "cell_type": "code",
   "execution_count": null,
   "metadata": {},
   "outputs": [],
   "source": []
  }
 ],
 "metadata": {
  "kernelspec": {
   "display_name": "Python 3",
   "language": "python",
   "name": "python3"
  },
  "language_info": {
   "codemirror_mode": {
    "name": "ipython",
    "version": 3
   },
   "file_extension": ".py",
   "mimetype": "text/x-python",
   "name": "python",
   "nbconvert_exporter": "python",
   "pygments_lexer": "ipython3",
   "version": "3.7.3"
  }
 },
 "nbformat": 4,
 "nbformat_minor": 2
}
