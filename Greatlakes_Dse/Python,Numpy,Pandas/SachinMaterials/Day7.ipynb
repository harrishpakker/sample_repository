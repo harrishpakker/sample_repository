{
 "cells": [
  {
   "cell_type": "markdown",
   "metadata": {},
   "source": [
    "# Pandas"
   ]
  },
  {
   "cell_type": "markdown",
   "metadata": {},
   "source": [
    "#  Basic Operations"
   ]
  },
  {
   "cell_type": "code",
   "execution_count": 86,
   "metadata": {},
   "outputs": [
    {
     "data": {
      "text/html": [
       "<div>\n",
       "<style scoped>\n",
       "    .dataframe tbody tr th:only-of-type {\n",
       "        vertical-align: middle;\n",
       "    }\n",
       "\n",
       "    .dataframe tbody tr th {\n",
       "        vertical-align: top;\n",
       "    }\n",
       "\n",
       "    .dataframe thead th {\n",
       "        text-align: right;\n",
       "    }\n",
       "</style>\n",
       "<table border=\"1\" class=\"dataframe\">\n",
       "  <thead>\n",
       "    <tr style=\"text-align: right;\">\n",
       "      <th></th>\n",
       "      <th>Empid</th>\n",
       "      <th>Name</th>\n",
       "      <th>Dept</th>\n",
       "      <th>Gender</th>\n",
       "      <th>City</th>\n",
       "      <th>Salary</th>\n",
       "    </tr>\n",
       "  </thead>\n",
       "  <tbody>\n",
       "    <tr>\n",
       "      <th>0</th>\n",
       "      <td>1</td>\n",
       "      <td>Samuel</td>\n",
       "      <td>Admin</td>\n",
       "      <td>M</td>\n",
       "      <td>Chennai</td>\n",
       "      <td>45000</td>\n",
       "    </tr>\n",
       "    <tr>\n",
       "      <th>1</th>\n",
       "      <td>2</td>\n",
       "      <td>Jerry</td>\n",
       "      <td>IT</td>\n",
       "      <td>M</td>\n",
       "      <td>Blore</td>\n",
       "      <td>75000</td>\n",
       "    </tr>\n",
       "    <tr>\n",
       "      <th>2</th>\n",
       "      <td>3</td>\n",
       "      <td>Michale</td>\n",
       "      <td>Sales</td>\n",
       "      <td>F</td>\n",
       "      <td>Goa</td>\n",
       "      <td>30000</td>\n",
       "    </tr>\n",
       "    <tr>\n",
       "      <th>3</th>\n",
       "      <td>4</td>\n",
       "      <td>Joann</td>\n",
       "      <td>IT</td>\n",
       "      <td>F</td>\n",
       "      <td>Chennai</td>\n",
       "      <td>80000</td>\n",
       "    </tr>\n",
       "    <tr>\n",
       "      <th>4</th>\n",
       "      <td>5</td>\n",
       "      <td>Sherin</td>\n",
       "      <td>IT</td>\n",
       "      <td>F</td>\n",
       "      <td>Blore</td>\n",
       "      <td>78000</td>\n",
       "    </tr>\n",
       "    <tr>\n",
       "      <th>5</th>\n",
       "      <td>6</td>\n",
       "      <td>Maxwell</td>\n",
       "      <td>Networks</td>\n",
       "      <td>M</td>\n",
       "      <td>Chennai</td>\n",
       "      <td>35000</td>\n",
       "    </tr>\n",
       "    <tr>\n",
       "      <th>6</th>\n",
       "      <td>7</td>\n",
       "      <td>John</td>\n",
       "      <td>Sales</td>\n",
       "      <td>M</td>\n",
       "      <td>Chennai</td>\n",
       "      <td>28000</td>\n",
       "    </tr>\n",
       "    <tr>\n",
       "      <th>7</th>\n",
       "      <td>8</td>\n",
       "      <td>Cruz</td>\n",
       "      <td>IT</td>\n",
       "      <td>M</td>\n",
       "      <td>Chennai</td>\n",
       "      <td>89000</td>\n",
       "    </tr>\n",
       "    <tr>\n",
       "      <th>8</th>\n",
       "      <td>9</td>\n",
       "      <td>Mary</td>\n",
       "      <td>IT</td>\n",
       "      <td>F</td>\n",
       "      <td>Blore</td>\n",
       "      <td>65000</td>\n",
       "    </tr>\n",
       "    <tr>\n",
       "      <th>9</th>\n",
       "      <td>10</td>\n",
       "      <td>Merry</td>\n",
       "      <td>Sales</td>\n",
       "      <td>F</td>\n",
       "      <td>Blore</td>\n",
       "      <td>45000</td>\n",
       "    </tr>\n",
       "    <tr>\n",
       "      <th>10</th>\n",
       "      <td>11</td>\n",
       "      <td>Jacob</td>\n",
       "      <td>IT</td>\n",
       "      <td>M</td>\n",
       "      <td>Goa</td>\n",
       "      <td>67000</td>\n",
       "    </tr>\n",
       "    <tr>\n",
       "      <th>11</th>\n",
       "      <td>12</td>\n",
       "      <td>Liz</td>\n",
       "      <td>IT</td>\n",
       "      <td>F</td>\n",
       "      <td>Kolkata</td>\n",
       "      <td>65000</td>\n",
       "    </tr>\n",
       "    <tr>\n",
       "      <th>12</th>\n",
       "      <td>13</td>\n",
       "      <td>Saneeta</td>\n",
       "      <td>Networks</td>\n",
       "      <td>F</td>\n",
       "      <td>Kolkata</td>\n",
       "      <td>55000</td>\n",
       "    </tr>\n",
       "    <tr>\n",
       "      <th>13</th>\n",
       "      <td>14</td>\n",
       "      <td>Jason</td>\n",
       "      <td>Sales</td>\n",
       "      <td>M</td>\n",
       "      <td>Goa</td>\n",
       "      <td>40000</td>\n",
       "    </tr>\n",
       "    <tr>\n",
       "      <th>14</th>\n",
       "      <td>15</td>\n",
       "      <td>Mike</td>\n",
       "      <td>IT</td>\n",
       "      <td>M</td>\n",
       "      <td>Kolkata</td>\n",
       "      <td>8000</td>\n",
       "    </tr>\n",
       "  </tbody>\n",
       "</table>\n",
       "</div>"
      ],
      "text/plain": [
       "    Empid     Name      Dept Gender     City  Salary\n",
       "0       1   Samuel     Admin      M  Chennai   45000\n",
       "1       2    Jerry        IT      M    Blore   75000\n",
       "2       3  Michale     Sales      F      Goa   30000\n",
       "3       4    Joann        IT      F  Chennai   80000\n",
       "4       5   Sherin        IT      F    Blore   78000\n",
       "5       6  Maxwell  Networks      M  Chennai   35000\n",
       "6       7     John     Sales      M  Chennai   28000\n",
       "7       8     Cruz        IT      M  Chennai   89000\n",
       "8       9     Mary        IT      F    Blore   65000\n",
       "9      10    Merry     Sales      F    Blore   45000\n",
       "10     11    Jacob        IT      M      Goa   67000\n",
       "11     12      Liz        IT      F  Kolkata   65000\n",
       "12     13  Saneeta  Networks      F  Kolkata   55000\n",
       "13     14    Jason     Sales      M      Goa   40000\n",
       "14     15     Mike        IT      M  Kolkata    8000"
      ]
     },
     "execution_count": 86,
     "metadata": {},
     "output_type": "execute_result"
    }
   ],
   "source": [
    "data = pd.read_csv('Input.csv')  # slash=/ not \\\n",
    "data"
   ]
  },
  {
   "cell_type": "code",
   "execution_count": 68,
   "metadata": {},
   "outputs": [
    {
     "data": {
      "text/plain": [
       "8000"
      ]
     },
     "execution_count": 68,
     "metadata": {},
     "output_type": "execute_result"
    }
   ],
   "source": [
    "data['Salary'].min()"
   ]
  },
  {
   "cell_type": "code",
   "execution_count": 88,
   "metadata": {},
   "outputs": [
    {
     "data": {
      "text/plain": [
       "8000"
      ]
     },
     "execution_count": 88,
     "metadata": {},
     "output_type": "execute_result"
    }
   ],
   "source": [
    "np.min(data['Salary'])"
   ]
  },
  {
   "cell_type": "code",
   "execution_count": 69,
   "metadata": {},
   "outputs": [
    {
     "data": {
      "text/plain": [
       "89000"
      ]
     },
     "execution_count": 69,
     "metadata": {},
     "output_type": "execute_result"
    }
   ],
   "source": [
    "data['Salary'].max()"
   ]
  },
  {
   "cell_type": "code",
   "execution_count": 70,
   "metadata": {},
   "outputs": [
    {
     "data": {
      "text/plain": [
       "805000"
      ]
     },
     "execution_count": 70,
     "metadata": {},
     "output_type": "execute_result"
    }
   ],
   "source": [
    "data['Salary'].sum()"
   ]
  },
  {
   "cell_type": "code",
   "execution_count": 71,
   "metadata": {},
   "outputs": [
    {
     "data": {
      "text/plain": [
       "53666.666666666664"
      ]
     },
     "execution_count": 71,
     "metadata": {},
     "output_type": "execute_result"
    }
   ],
   "source": [
    "data['Salary'].mean()  # np.mean(data['Salary'])"
   ]
  },
  {
   "cell_type": "code",
   "execution_count": 72,
   "metadata": {},
   "outputs": [
    {
     "data": {
      "text/plain": [
       "23014.488190413154"
      ]
     },
     "execution_count": 72,
     "metadata": {},
     "output_type": "execute_result"
    }
   ],
   "source": [
    "data['Salary'].std()"
   ]
  },
  {
   "cell_type": "code",
   "execution_count": 90,
   "metadata": {},
   "outputs": [
    {
     "data": {
      "text/plain": [
       "array(['Chennai', 'Blore', 'Goa', 'Kolkata'], dtype=object)"
      ]
     },
     "execution_count": 90,
     "metadata": {},
     "output_type": "execute_result"
    }
   ],
   "source": [
    "\n",
    "data['City'].unique()  # unique entries in the column # set(data['City'])"
   ]
  },
  {
   "cell_type": "markdown",
   "metadata": {},
   "source": [
    "### Value_counts"
   ]
  },
  {
   "cell_type": "code",
   "execution_count": 74,
   "metadata": {},
   "outputs": [],
   "source": [
    "#dataframe.value_counts(normalize=False, sort=True, ascending=False, bins=None, dropna=True)"
   ]
  },
  {
   "cell_type": "code",
   "execution_count": 91,
   "metadata": {},
   "outputs": [
    {
     "data": {
      "text/html": [
       "<div>\n",
       "<style scoped>\n",
       "    .dataframe tbody tr th:only-of-type {\n",
       "        vertical-align: middle;\n",
       "    }\n",
       "\n",
       "    .dataframe tbody tr th {\n",
       "        vertical-align: top;\n",
       "    }\n",
       "\n",
       "    .dataframe thead th {\n",
       "        text-align: right;\n",
       "    }\n",
       "</style>\n",
       "<table border=\"1\" class=\"dataframe\">\n",
       "  <thead>\n",
       "    <tr style=\"text-align: right;\">\n",
       "      <th></th>\n",
       "      <th>Empid</th>\n",
       "      <th>Name</th>\n",
       "      <th>Dept</th>\n",
       "      <th>Gender</th>\n",
       "      <th>City</th>\n",
       "      <th>Salary</th>\n",
       "    </tr>\n",
       "  </thead>\n",
       "  <tbody>\n",
       "    <tr>\n",
       "      <th>0</th>\n",
       "      <td>1</td>\n",
       "      <td>Samuel</td>\n",
       "      <td>Admin</td>\n",
       "      <td>M</td>\n",
       "      <td>Chennai</td>\n",
       "      <td>45000</td>\n",
       "    </tr>\n",
       "    <tr>\n",
       "      <th>1</th>\n",
       "      <td>2</td>\n",
       "      <td>Jerry</td>\n",
       "      <td>IT</td>\n",
       "      <td>M</td>\n",
       "      <td>Blore</td>\n",
       "      <td>75000</td>\n",
       "    </tr>\n",
       "    <tr>\n",
       "      <th>2</th>\n",
       "      <td>3</td>\n",
       "      <td>Michale</td>\n",
       "      <td>Sales</td>\n",
       "      <td>F</td>\n",
       "      <td>Goa</td>\n",
       "      <td>30000</td>\n",
       "    </tr>\n",
       "    <tr>\n",
       "      <th>3</th>\n",
       "      <td>4</td>\n",
       "      <td>Joann</td>\n",
       "      <td>IT</td>\n",
       "      <td>F</td>\n",
       "      <td>Chennai</td>\n",
       "      <td>80000</td>\n",
       "    </tr>\n",
       "    <tr>\n",
       "      <th>4</th>\n",
       "      <td>5</td>\n",
       "      <td>Sherin</td>\n",
       "      <td>IT</td>\n",
       "      <td>F</td>\n",
       "      <td>Blore</td>\n",
       "      <td>78000</td>\n",
       "    </tr>\n",
       "    <tr>\n",
       "      <th>5</th>\n",
       "      <td>6</td>\n",
       "      <td>Maxwell</td>\n",
       "      <td>Networks</td>\n",
       "      <td>M</td>\n",
       "      <td>Chennai</td>\n",
       "      <td>35000</td>\n",
       "    </tr>\n",
       "    <tr>\n",
       "      <th>6</th>\n",
       "      <td>7</td>\n",
       "      <td>John</td>\n",
       "      <td>Sales</td>\n",
       "      <td>M</td>\n",
       "      <td>Chennai</td>\n",
       "      <td>28000</td>\n",
       "    </tr>\n",
       "    <tr>\n",
       "      <th>7</th>\n",
       "      <td>8</td>\n",
       "      <td>Cruz</td>\n",
       "      <td>IT</td>\n",
       "      <td>M</td>\n",
       "      <td>Chennai</td>\n",
       "      <td>89000</td>\n",
       "    </tr>\n",
       "    <tr>\n",
       "      <th>8</th>\n",
       "      <td>9</td>\n",
       "      <td>Mary</td>\n",
       "      <td>IT</td>\n",
       "      <td>F</td>\n",
       "      <td>Blore</td>\n",
       "      <td>65000</td>\n",
       "    </tr>\n",
       "    <tr>\n",
       "      <th>9</th>\n",
       "      <td>10</td>\n",
       "      <td>Merry</td>\n",
       "      <td>Sales</td>\n",
       "      <td>F</td>\n",
       "      <td>Blore</td>\n",
       "      <td>45000</td>\n",
       "    </tr>\n",
       "    <tr>\n",
       "      <th>10</th>\n",
       "      <td>11</td>\n",
       "      <td>Jacob</td>\n",
       "      <td>IT</td>\n",
       "      <td>M</td>\n",
       "      <td>Goa</td>\n",
       "      <td>67000</td>\n",
       "    </tr>\n",
       "    <tr>\n",
       "      <th>11</th>\n",
       "      <td>12</td>\n",
       "      <td>Liz</td>\n",
       "      <td>IT</td>\n",
       "      <td>F</td>\n",
       "      <td>Kolkata</td>\n",
       "      <td>65000</td>\n",
       "    </tr>\n",
       "    <tr>\n",
       "      <th>12</th>\n",
       "      <td>13</td>\n",
       "      <td>Saneeta</td>\n",
       "      <td>Networks</td>\n",
       "      <td>F</td>\n",
       "      <td>Kolkata</td>\n",
       "      <td>55000</td>\n",
       "    </tr>\n",
       "    <tr>\n",
       "      <th>13</th>\n",
       "      <td>14</td>\n",
       "      <td>Jason</td>\n",
       "      <td>Sales</td>\n",
       "      <td>M</td>\n",
       "      <td>Goa</td>\n",
       "      <td>40000</td>\n",
       "    </tr>\n",
       "    <tr>\n",
       "      <th>14</th>\n",
       "      <td>15</td>\n",
       "      <td>Mike</td>\n",
       "      <td>IT</td>\n",
       "      <td>M</td>\n",
       "      <td>Kolkata</td>\n",
       "      <td>8000</td>\n",
       "    </tr>\n",
       "  </tbody>\n",
       "</table>\n",
       "</div>"
      ],
      "text/plain": [
       "    Empid     Name      Dept Gender     City  Salary\n",
       "0       1   Samuel     Admin      M  Chennai   45000\n",
       "1       2    Jerry        IT      M    Blore   75000\n",
       "2       3  Michale     Sales      F      Goa   30000\n",
       "3       4    Joann        IT      F  Chennai   80000\n",
       "4       5   Sherin        IT      F    Blore   78000\n",
       "5       6  Maxwell  Networks      M  Chennai   35000\n",
       "6       7     John     Sales      M  Chennai   28000\n",
       "7       8     Cruz        IT      M  Chennai   89000\n",
       "8       9     Mary        IT      F    Blore   65000\n",
       "9      10    Merry     Sales      F    Blore   45000\n",
       "10     11    Jacob        IT      M      Goa   67000\n",
       "11     12      Liz        IT      F  Kolkata   65000\n",
       "12     13  Saneeta  Networks      F  Kolkata   55000\n",
       "13     14    Jason     Sales      M      Goa   40000\n",
       "14     15     Mike        IT      M  Kolkata    8000"
      ]
     },
     "execution_count": 91,
     "metadata": {},
     "output_type": "execute_result"
    }
   ],
   "source": [
    "data"
   ]
  },
  {
   "cell_type": "code",
   "execution_count": 94,
   "metadata": {},
   "outputs": [
    {
     "data": {
      "text/plain": [
       "(15, 6)"
      ]
     },
     "execution_count": 94,
     "metadata": {},
     "output_type": "execute_result"
    }
   ],
   "source": [
    "data.shape"
   ]
  },
  {
   "cell_type": "code",
   "execution_count": 92,
   "metadata": {},
   "outputs": [
    {
     "data": {
      "text/plain": [
       "Chennai    5\n",
       "Blore      4\n",
       "Goa        3\n",
       "Kolkata    3\n",
       "Name: City, dtype: int64"
      ]
     },
     "execution_count": 92,
     "metadata": {},
     "output_type": "execute_result"
    }
   ],
   "source": [
    "data['City'].value_counts()"
   ]
  },
  {
   "cell_type": "code",
   "execution_count": 93,
   "metadata": {},
   "outputs": [
    {
     "name": "stdout",
     "output_type": "stream",
     "text": [
      "Chennai    5\n",
      "Blore      4\n",
      "Goa        3\n",
      "Kolkata    3\n",
      "Name: City, dtype: int64\n",
      "<class 'pandas.core.series.Series'>\n"
     ]
    }
   ],
   "source": [
    "x=data['City'].value_counts()  # it return a series.\n",
    "print(x)\n",
    "print(type(x))"
   ]
  },
  {
   "cell_type": "code",
   "execution_count": 76,
   "metadata": {},
   "outputs": [
    {
     "data": {
      "text/plain": [
       "Chennai    0.333333\n",
       "Blore      0.266667\n",
       "Goa        0.200000\n",
       "Kolkata    0.200000\n",
       "Name: City, dtype: float64"
      ]
     },
     "execution_count": 76,
     "metadata": {},
     "output_type": "execute_result"
    }
   ],
   "source": [
    "data['City'].value_counts(normalize=True)  # scaling the value from 0-1\n",
    "\n",
    "# Sum of value will be 1\n",
    "\n",
    "# Chennai    5   = 5/(5+4+3+3) => 5/(row of the data)\n",
    "# Blore      4   = 4/(5+4+3+3)\n",
    "# Goa        3   = 3/(5+4+3+3)\n",
    "# Kolkata    3   = 3/(5+4+3+3)"
   ]
  },
  {
   "cell_type": "code",
   "execution_count": 95,
   "metadata": {
    "scrolled": true
   },
   "outputs": [
    {
     "data": {
      "text/plain": [
       "65000    2\n",
       "45000    2\n",
       "55000    1\n",
       "75000    1\n",
       "8000     1\n",
       "30000    1\n",
       "67000    1\n",
       "28000    1\n",
       "40000    1\n",
       "89000    1\n",
       "78000    1\n",
       "35000    1\n",
       "80000    1\n",
       "Name: Salary, dtype: int64"
      ]
     },
     "execution_count": 95,
     "metadata": {},
     "output_type": "execute_result"
    }
   ],
   "source": [
    "data['Salary'].value_counts()  # Continous numbers"
   ]
  },
  {
   "cell_type": "code",
   "execution_count": 96,
   "metadata": {},
   "outputs": [
    {
     "data": {
      "text/plain": [
       "(62000.0, 89000.0]     7\n",
       "(35000.0, 62000.0]     4\n",
       "(7918.999, 35000.0]    4\n",
       "Name: Salary, dtype: int64"
      ]
     },
     "execution_count": 96,
     "metadata": {},
     "output_type": "execute_result"
    }
   ],
   "source": [
    "data['Salary'].value_counts(bins=3)"
   ]
  },
  {
   "cell_type": "code",
   "execution_count": 97,
   "metadata": {
    "scrolled": true
   },
   "outputs": [
    {
     "data": {
      "text/plain": [
       "(72800.0, 80900.0]     3\n",
       "(64700.0, 72800.0]     3\n",
       "(40400.0, 48500.0]     2\n",
       "(32300.0, 40400.0]     2\n",
       "(24200.0, 32300.0]     2\n",
       "(80900.0, 89000.0]     1\n",
       "(48500.0, 56600.0]     1\n",
       "(7918.999, 16100.0]    1\n",
       "(56600.0, 64700.0]     0\n",
       "(16100.0, 24200.0]     0\n",
       "Name: Salary, dtype: int64"
      ]
     },
     "execution_count": 97,
     "metadata": {},
     "output_type": "execute_result"
    }
   ],
   "source": [
    "data['Salary'].value_counts(bins=10)"
   ]
  },
  {
   "cell_type": "code",
   "execution_count": 107,
   "metadata": {},
   "outputs": [],
   "source": [
    "# Practice :\n",
    "\n",
    "# Read the iris.json\n",
    "\n",
    "# Perfom value_counts for the species\n",
    "# Perform value_counts on petal width with bins=5"
   ]
  },
  {
   "cell_type": "markdown",
   "metadata": {},
   "source": [
    "# Summary Statistics"
   ]
  },
  {
   "cell_type": "code",
   "execution_count": 108,
   "metadata": {},
   "outputs": [],
   "source": [
    "data=pd.read_json('iris.json')"
   ]
  },
  {
   "cell_type": "code",
   "execution_count": 109,
   "metadata": {},
   "outputs": [
    {
     "data": {
      "text/html": [
       "<div>\n",
       "<style scoped>\n",
       "    .dataframe tbody tr th:only-of-type {\n",
       "        vertical-align: middle;\n",
       "    }\n",
       "\n",
       "    .dataframe tbody tr th {\n",
       "        vertical-align: top;\n",
       "    }\n",
       "\n",
       "    .dataframe thead th {\n",
       "        text-align: right;\n",
       "    }\n",
       "</style>\n",
       "<table border=\"1\" class=\"dataframe\">\n",
       "  <thead>\n",
       "    <tr style=\"text-align: right;\">\n",
       "      <th></th>\n",
       "      <th>sepalLength</th>\n",
       "      <th>sepalWidth</th>\n",
       "      <th>petalLength</th>\n",
       "      <th>petalWidth</th>\n",
       "      <th>species</th>\n",
       "    </tr>\n",
       "  </thead>\n",
       "  <tbody>\n",
       "    <tr>\n",
       "      <th>0</th>\n",
       "      <td>5.1</td>\n",
       "      <td>3.5</td>\n",
       "      <td>1.4</td>\n",
       "      <td>0.2</td>\n",
       "      <td>setosa</td>\n",
       "    </tr>\n",
       "    <tr>\n",
       "      <th>1</th>\n",
       "      <td>4.9</td>\n",
       "      <td>3.0</td>\n",
       "      <td>1.4</td>\n",
       "      <td>0.2</td>\n",
       "      <td>setosa</td>\n",
       "    </tr>\n",
       "    <tr>\n",
       "      <th>2</th>\n",
       "      <td>4.7</td>\n",
       "      <td>3.2</td>\n",
       "      <td>1.3</td>\n",
       "      <td>0.2</td>\n",
       "      <td>setosa</td>\n",
       "    </tr>\n",
       "    <tr>\n",
       "      <th>3</th>\n",
       "      <td>4.6</td>\n",
       "      <td>3.1</td>\n",
       "      <td>1.5</td>\n",
       "      <td>0.2</td>\n",
       "      <td>setosa</td>\n",
       "    </tr>\n",
       "    <tr>\n",
       "      <th>4</th>\n",
       "      <td>5.0</td>\n",
       "      <td>3.6</td>\n",
       "      <td>1.4</td>\n",
       "      <td>0.2</td>\n",
       "      <td>setosa</td>\n",
       "    </tr>\n",
       "  </tbody>\n",
       "</table>\n",
       "</div>"
      ],
      "text/plain": [
       "   sepalLength  sepalWidth  petalLength  petalWidth species\n",
       "0          5.1         3.5          1.4         0.2  setosa\n",
       "1          4.9         3.0          1.4         0.2  setosa\n",
       "2          4.7         3.2          1.3         0.2  setosa\n",
       "3          4.6         3.1          1.5         0.2  setosa\n",
       "4          5.0         3.6          1.4         0.2  setosa"
      ]
     },
     "execution_count": 109,
     "metadata": {},
     "output_type": "execute_result"
    }
   ],
   "source": [
    "data.head()  "
   ]
  },
  {
   "cell_type": "code",
   "execution_count": 110,
   "metadata": {},
   "outputs": [
    {
     "data": {
      "text/html": [
       "<div>\n",
       "<style scoped>\n",
       "    .dataframe tbody tr th:only-of-type {\n",
       "        vertical-align: middle;\n",
       "    }\n",
       "\n",
       "    .dataframe tbody tr th {\n",
       "        vertical-align: top;\n",
       "    }\n",
       "\n",
       "    .dataframe thead th {\n",
       "        text-align: right;\n",
       "    }\n",
       "</style>\n",
       "<table border=\"1\" class=\"dataframe\">\n",
       "  <thead>\n",
       "    <tr style=\"text-align: right;\">\n",
       "      <th></th>\n",
       "      <th>sepalLength</th>\n",
       "      <th>sepalWidth</th>\n",
       "      <th>petalLength</th>\n",
       "      <th>petalWidth</th>\n",
       "    </tr>\n",
       "  </thead>\n",
       "  <tbody>\n",
       "    <tr>\n",
       "      <th>count</th>\n",
       "      <td>150.000000</td>\n",
       "      <td>150.000000</td>\n",
       "      <td>150.000000</td>\n",
       "      <td>150.000000</td>\n",
       "    </tr>\n",
       "    <tr>\n",
       "      <th>mean</th>\n",
       "      <td>5.843333</td>\n",
       "      <td>3.057333</td>\n",
       "      <td>3.758000</td>\n",
       "      <td>1.199333</td>\n",
       "    </tr>\n",
       "    <tr>\n",
       "      <th>std</th>\n",
       "      <td>0.828066</td>\n",
       "      <td>0.435866</td>\n",
       "      <td>1.765298</td>\n",
       "      <td>0.762238</td>\n",
       "    </tr>\n",
       "    <tr>\n",
       "      <th>min</th>\n",
       "      <td>4.300000</td>\n",
       "      <td>2.000000</td>\n",
       "      <td>1.000000</td>\n",
       "      <td>0.100000</td>\n",
       "    </tr>\n",
       "    <tr>\n",
       "      <th>25%</th>\n",
       "      <td>5.100000</td>\n",
       "      <td>2.800000</td>\n",
       "      <td>1.600000</td>\n",
       "      <td>0.300000</td>\n",
       "    </tr>\n",
       "    <tr>\n",
       "      <th>50%</th>\n",
       "      <td>5.800000</td>\n",
       "      <td>3.000000</td>\n",
       "      <td>4.350000</td>\n",
       "      <td>1.300000</td>\n",
       "    </tr>\n",
       "    <tr>\n",
       "      <th>75%</th>\n",
       "      <td>6.400000</td>\n",
       "      <td>3.300000</td>\n",
       "      <td>5.100000</td>\n",
       "      <td>1.800000</td>\n",
       "    </tr>\n",
       "    <tr>\n",
       "      <th>max</th>\n",
       "      <td>7.900000</td>\n",
       "      <td>4.400000</td>\n",
       "      <td>6.900000</td>\n",
       "      <td>2.500000</td>\n",
       "    </tr>\n",
       "  </tbody>\n",
       "</table>\n",
       "</div>"
      ],
      "text/plain": [
       "       sepalLength  sepalWidth  petalLength  petalWidth\n",
       "count   150.000000  150.000000   150.000000  150.000000\n",
       "mean      5.843333    3.057333     3.758000    1.199333\n",
       "std       0.828066    0.435866     1.765298    0.762238\n",
       "min       4.300000    2.000000     1.000000    0.100000\n",
       "25%       5.100000    2.800000     1.600000    0.300000\n",
       "50%       5.800000    3.000000     4.350000    1.300000\n",
       "75%       6.400000    3.300000     5.100000    1.800000\n",
       "max       7.900000    4.400000     6.900000    2.500000"
      ]
     },
     "execution_count": 110,
     "metadata": {},
     "output_type": "execute_result"
    }
   ],
   "source": [
    "data.describe()  # summary statstics numerical column"
   ]
  },
  {
   "cell_type": "code",
   "execution_count": 111,
   "metadata": {
    "scrolled": true
   },
   "outputs": [
    {
     "data": {
      "text/html": [
       "<div>\n",
       "<style scoped>\n",
       "    .dataframe tbody tr th:only-of-type {\n",
       "        vertical-align: middle;\n",
       "    }\n",
       "\n",
       "    .dataframe tbody tr th {\n",
       "        vertical-align: top;\n",
       "    }\n",
       "\n",
       "    .dataframe thead th {\n",
       "        text-align: right;\n",
       "    }\n",
       "</style>\n",
       "<table border=\"1\" class=\"dataframe\">\n",
       "  <thead>\n",
       "    <tr style=\"text-align: right;\">\n",
       "      <th></th>\n",
       "      <th>sepalLength</th>\n",
       "      <th>sepalWidth</th>\n",
       "      <th>petalLength</th>\n",
       "      <th>petalWidth</th>\n",
       "      <th>species</th>\n",
       "    </tr>\n",
       "  </thead>\n",
       "  <tbody>\n",
       "    <tr>\n",
       "      <th>count</th>\n",
       "      <td>150.000000</td>\n",
       "      <td>150.000000</td>\n",
       "      <td>150.000000</td>\n",
       "      <td>150.000000</td>\n",
       "      <td>150</td>\n",
       "    </tr>\n",
       "    <tr>\n",
       "      <th>unique</th>\n",
       "      <td>NaN</td>\n",
       "      <td>NaN</td>\n",
       "      <td>NaN</td>\n",
       "      <td>NaN</td>\n",
       "      <td>3</td>\n",
       "    </tr>\n",
       "    <tr>\n",
       "      <th>top</th>\n",
       "      <td>NaN</td>\n",
       "      <td>NaN</td>\n",
       "      <td>NaN</td>\n",
       "      <td>NaN</td>\n",
       "      <td>versicolor</td>\n",
       "    </tr>\n",
       "    <tr>\n",
       "      <th>freq</th>\n",
       "      <td>NaN</td>\n",
       "      <td>NaN</td>\n",
       "      <td>NaN</td>\n",
       "      <td>NaN</td>\n",
       "      <td>50</td>\n",
       "    </tr>\n",
       "    <tr>\n",
       "      <th>mean</th>\n",
       "      <td>5.843333</td>\n",
       "      <td>3.057333</td>\n",
       "      <td>3.758000</td>\n",
       "      <td>1.199333</td>\n",
       "      <td>NaN</td>\n",
       "    </tr>\n",
       "    <tr>\n",
       "      <th>std</th>\n",
       "      <td>0.828066</td>\n",
       "      <td>0.435866</td>\n",
       "      <td>1.765298</td>\n",
       "      <td>0.762238</td>\n",
       "      <td>NaN</td>\n",
       "    </tr>\n",
       "    <tr>\n",
       "      <th>min</th>\n",
       "      <td>4.300000</td>\n",
       "      <td>2.000000</td>\n",
       "      <td>1.000000</td>\n",
       "      <td>0.100000</td>\n",
       "      <td>NaN</td>\n",
       "    </tr>\n",
       "    <tr>\n",
       "      <th>25%</th>\n",
       "      <td>5.100000</td>\n",
       "      <td>2.800000</td>\n",
       "      <td>1.600000</td>\n",
       "      <td>0.300000</td>\n",
       "      <td>NaN</td>\n",
       "    </tr>\n",
       "    <tr>\n",
       "      <th>50%</th>\n",
       "      <td>5.800000</td>\n",
       "      <td>3.000000</td>\n",
       "      <td>4.350000</td>\n",
       "      <td>1.300000</td>\n",
       "      <td>NaN</td>\n",
       "    </tr>\n",
       "    <tr>\n",
       "      <th>75%</th>\n",
       "      <td>6.400000</td>\n",
       "      <td>3.300000</td>\n",
       "      <td>5.100000</td>\n",
       "      <td>1.800000</td>\n",
       "      <td>NaN</td>\n",
       "    </tr>\n",
       "    <tr>\n",
       "      <th>max</th>\n",
       "      <td>7.900000</td>\n",
       "      <td>4.400000</td>\n",
       "      <td>6.900000</td>\n",
       "      <td>2.500000</td>\n",
       "      <td>NaN</td>\n",
       "    </tr>\n",
       "  </tbody>\n",
       "</table>\n",
       "</div>"
      ],
      "text/plain": [
       "        sepalLength  sepalWidth  petalLength  petalWidth     species\n",
       "count    150.000000  150.000000   150.000000  150.000000         150\n",
       "unique          NaN         NaN          NaN         NaN           3\n",
       "top             NaN         NaN          NaN         NaN  versicolor\n",
       "freq            NaN         NaN          NaN         NaN          50\n",
       "mean       5.843333    3.057333     3.758000    1.199333         NaN\n",
       "std        0.828066    0.435866     1.765298    0.762238         NaN\n",
       "min        4.300000    2.000000     1.000000    0.100000         NaN\n",
       "25%        5.100000    2.800000     1.600000    0.300000         NaN\n",
       "50%        5.800000    3.000000     4.350000    1.300000         NaN\n",
       "75%        6.400000    3.300000     5.100000    1.800000         NaN\n",
       "max        7.900000    4.400000     6.900000    2.500000         NaN"
      ]
     },
     "execution_count": 111,
     "metadata": {},
     "output_type": "execute_result"
    }
   ],
   "source": [
    "data.describe(include='all')  # numerical and non-numerical colum"
   ]
  },
  {
   "cell_type": "code",
   "execution_count": 85,
   "metadata": {},
   "outputs": [
    {
     "name": "stdout",
     "output_type": "stream",
     "text": [
      "<class 'pandas.core.frame.DataFrame'>\n",
      "RangeIndex: 150 entries, 0 to 149\n",
      "Data columns (total 5 columns):\n",
      "sepalLength    150 non-null float64\n",
      "sepalWidth     150 non-null float64\n",
      "petalLength    150 non-null float64\n",
      "petalWidth     150 non-null float64\n",
      "species        150 non-null object\n",
      "dtypes: float64(4), object(1)\n",
      "memory usage: 6.0+ KB\n"
     ]
    }
   ],
   "source": [
    "data.info()"
   ]
  },
  {
   "cell_type": "code",
   "execution_count": 113,
   "metadata": {},
   "outputs": [],
   "source": [
    "#  Practice:\n",
    "\n",
    "# 1) Find the summary statitics and the info for iris data."
   ]
  },
  {
   "cell_type": "markdown",
   "metadata": {},
   "source": [
    "# Few basic function"
   ]
  },
  {
   "cell_type": "code",
   "execution_count": 114,
   "metadata": {},
   "outputs": [
    {
     "data": {
      "text/plain": [
       "(150, 5)"
      ]
     },
     "execution_count": 114,
     "metadata": {},
     "output_type": "execute_result"
    }
   ],
   "source": [
    "data.shape"
   ]
  },
  {
   "cell_type": "code",
   "execution_count": 117,
   "metadata": {},
   "outputs": [
    {
     "data": {
      "text/plain": [
       "750"
      ]
     },
     "execution_count": 117,
     "metadata": {},
     "output_type": "execute_result"
    }
   ],
   "source": [
    "data.size  # no.of elements"
   ]
  },
  {
   "cell_type": "code",
   "execution_count": 115,
   "metadata": {},
   "outputs": [
    {
     "data": {
      "text/plain": [
       "dtype('O')"
      ]
     },
     "execution_count": 115,
     "metadata": {},
     "output_type": "execute_result"
    }
   ],
   "source": [
    "data['species'].dtype  #'O'=object"
   ]
  },
  {
   "cell_type": "code",
   "execution_count": 116,
   "metadata": {},
   "outputs": [
    {
     "data": {
      "text/plain": [
       "dtype('float64')"
      ]
     },
     "execution_count": 116,
     "metadata": {},
     "output_type": "execute_result"
    }
   ],
   "source": [
    "data['sepalLength'].dtype"
   ]
  },
  {
   "cell_type": "markdown",
   "metadata": {},
   "source": [
    "# Iterating through DataFrame"
   ]
  },
  {
   "cell_type": "code",
   "execution_count": 118,
   "metadata": {},
   "outputs": [
    {
     "data": {
      "text/html": [
       "<div>\n",
       "<style scoped>\n",
       "    .dataframe tbody tr th:only-of-type {\n",
       "        vertical-align: middle;\n",
       "    }\n",
       "\n",
       "    .dataframe tbody tr th {\n",
       "        vertical-align: top;\n",
       "    }\n",
       "\n",
       "    .dataframe thead th {\n",
       "        text-align: right;\n",
       "    }\n",
       "</style>\n",
       "<table border=\"1\" class=\"dataframe\">\n",
       "  <thead>\n",
       "    <tr style=\"text-align: right;\">\n",
       "      <th></th>\n",
       "      <th>Empid</th>\n",
       "      <th>Name</th>\n",
       "      <th>Dept</th>\n",
       "      <th>Gender</th>\n",
       "      <th>City</th>\n",
       "      <th>Salary</th>\n",
       "    </tr>\n",
       "  </thead>\n",
       "  <tbody>\n",
       "    <tr>\n",
       "      <th>0</th>\n",
       "      <td>1</td>\n",
       "      <td>Samuel</td>\n",
       "      <td>Admin</td>\n",
       "      <td>M</td>\n",
       "      <td>Chennai</td>\n",
       "      <td>45000</td>\n",
       "    </tr>\n",
       "    <tr>\n",
       "      <th>1</th>\n",
       "      <td>2</td>\n",
       "      <td>Jerry</td>\n",
       "      <td>IT</td>\n",
       "      <td>M</td>\n",
       "      <td>Blore</td>\n",
       "      <td>75000</td>\n",
       "    </tr>\n",
       "    <tr>\n",
       "      <th>2</th>\n",
       "      <td>3</td>\n",
       "      <td>Michale</td>\n",
       "      <td>Sales</td>\n",
       "      <td>F</td>\n",
       "      <td>Goa</td>\n",
       "      <td>30000</td>\n",
       "    </tr>\n",
       "    <tr>\n",
       "      <th>3</th>\n",
       "      <td>4</td>\n",
       "      <td>Joann</td>\n",
       "      <td>IT</td>\n",
       "      <td>F</td>\n",
       "      <td>Chennai</td>\n",
       "      <td>80000</td>\n",
       "    </tr>\n",
       "    <tr>\n",
       "      <th>4</th>\n",
       "      <td>5</td>\n",
       "      <td>Sherin</td>\n",
       "      <td>IT</td>\n",
       "      <td>F</td>\n",
       "      <td>Blore</td>\n",
       "      <td>78000</td>\n",
       "    </tr>\n",
       "    <tr>\n",
       "      <th>5</th>\n",
       "      <td>6</td>\n",
       "      <td>Maxwell</td>\n",
       "      <td>Networks</td>\n",
       "      <td>M</td>\n",
       "      <td>Chennai</td>\n",
       "      <td>35000</td>\n",
       "    </tr>\n",
       "    <tr>\n",
       "      <th>6</th>\n",
       "      <td>7</td>\n",
       "      <td>John</td>\n",
       "      <td>Sales</td>\n",
       "      <td>M</td>\n",
       "      <td>Chennai</td>\n",
       "      <td>28000</td>\n",
       "    </tr>\n",
       "    <tr>\n",
       "      <th>7</th>\n",
       "      <td>8</td>\n",
       "      <td>Cruz</td>\n",
       "      <td>IT</td>\n",
       "      <td>M</td>\n",
       "      <td>Chennai</td>\n",
       "      <td>89000</td>\n",
       "    </tr>\n",
       "    <tr>\n",
       "      <th>8</th>\n",
       "      <td>9</td>\n",
       "      <td>Mary</td>\n",
       "      <td>IT</td>\n",
       "      <td>F</td>\n",
       "      <td>Blore</td>\n",
       "      <td>65000</td>\n",
       "    </tr>\n",
       "    <tr>\n",
       "      <th>9</th>\n",
       "      <td>10</td>\n",
       "      <td>Merry</td>\n",
       "      <td>Sales</td>\n",
       "      <td>F</td>\n",
       "      <td>Blore</td>\n",
       "      <td>45000</td>\n",
       "    </tr>\n",
       "    <tr>\n",
       "      <th>10</th>\n",
       "      <td>11</td>\n",
       "      <td>Jacob</td>\n",
       "      <td>IT</td>\n",
       "      <td>M</td>\n",
       "      <td>Goa</td>\n",
       "      <td>67000</td>\n",
       "    </tr>\n",
       "    <tr>\n",
       "      <th>11</th>\n",
       "      <td>12</td>\n",
       "      <td>Liz</td>\n",
       "      <td>IT</td>\n",
       "      <td>F</td>\n",
       "      <td>Kolkata</td>\n",
       "      <td>65000</td>\n",
       "    </tr>\n",
       "    <tr>\n",
       "      <th>12</th>\n",
       "      <td>13</td>\n",
       "      <td>Saneeta</td>\n",
       "      <td>Networks</td>\n",
       "      <td>F</td>\n",
       "      <td>Kolkata</td>\n",
       "      <td>55000</td>\n",
       "    </tr>\n",
       "    <tr>\n",
       "      <th>13</th>\n",
       "      <td>14</td>\n",
       "      <td>Jason</td>\n",
       "      <td>Sales</td>\n",
       "      <td>M</td>\n",
       "      <td>Goa</td>\n",
       "      <td>40000</td>\n",
       "    </tr>\n",
       "    <tr>\n",
       "      <th>14</th>\n",
       "      <td>15</td>\n",
       "      <td>Mike</td>\n",
       "      <td>IT</td>\n",
       "      <td>M</td>\n",
       "      <td>Kolkata</td>\n",
       "      <td>8000</td>\n",
       "    </tr>\n",
       "  </tbody>\n",
       "</table>\n",
       "</div>"
      ],
      "text/plain": [
       "    Empid     Name      Dept Gender     City  Salary\n",
       "0       1   Samuel     Admin      M  Chennai   45000\n",
       "1       2    Jerry        IT      M    Blore   75000\n",
       "2       3  Michale     Sales      F      Goa   30000\n",
       "3       4    Joann        IT      F  Chennai   80000\n",
       "4       5   Sherin        IT      F    Blore   78000\n",
       "5       6  Maxwell  Networks      M  Chennai   35000\n",
       "6       7     John     Sales      M  Chennai   28000\n",
       "7       8     Cruz        IT      M  Chennai   89000\n",
       "8       9     Mary        IT      F    Blore   65000\n",
       "9      10    Merry     Sales      F    Blore   45000\n",
       "10     11    Jacob        IT      M      Goa   67000\n",
       "11     12      Liz        IT      F  Kolkata   65000\n",
       "12     13  Saneeta  Networks      F  Kolkata   55000\n",
       "13     14    Jason     Sales      M      Goa   40000\n",
       "14     15     Mike        IT      M  Kolkata    8000"
      ]
     },
     "execution_count": 118,
     "metadata": {},
     "output_type": "execute_result"
    }
   ],
   "source": [
    "data = pd.read_csv('Input.csv')  # slash=/ not \\\n",
    "data"
   ]
  },
  {
   "cell_type": "code",
   "execution_count": 187,
   "metadata": {},
   "outputs": [],
   "source": [
    "# Syntax:\n",
    "\n",
    "# for index,row in dataframe.iterrows():\n",
    "#     for block"
   ]
  },
  {
   "cell_type": "code",
   "execution_count": 119,
   "metadata": {},
   "outputs": [
    {
     "name": "stdout",
     "output_type": "stream",
     "text": [
      "Index: 0\n",
      "Row: Empid           1\n",
      "Name       Samuel\n",
      "Dept        Admin\n",
      "Gender          M\n",
      "City      Chennai\n",
      "Salary      45000\n",
      "Name: 0, dtype: object\n",
      "--------------------------------------------------\n",
      "Index: 1\n",
      "Row: Empid         2\n",
      "Name      Jerry\n",
      "Dept         IT\n",
      "Gender        M\n",
      "City      Blore\n",
      "Salary    75000\n",
      "Name: 1, dtype: object\n",
      "--------------------------------------------------\n",
      "Index: 2\n",
      "Row: Empid           3\n",
      "Name      Michale\n",
      "Dept        Sales\n",
      "Gender          F\n",
      "City          Goa\n",
      "Salary      30000\n",
      "Name: 2, dtype: object\n",
      "--------------------------------------------------\n",
      "Index: 3\n",
      "Row: Empid           4\n",
      "Name        Joann\n",
      "Dept           IT\n",
      "Gender          F\n",
      "City      Chennai\n",
      "Salary      80000\n",
      "Name: 3, dtype: object\n",
      "--------------------------------------------------\n",
      "Index: 4\n",
      "Row: Empid          5\n",
      "Name      Sherin\n",
      "Dept          IT\n",
      "Gender         F\n",
      "City       Blore\n",
      "Salary     78000\n",
      "Name: 4, dtype: object\n",
      "--------------------------------------------------\n",
      "Index: 5\n",
      "Row: Empid            6\n",
      "Name       Maxwell\n",
      "Dept      Networks\n",
      "Gender           M\n",
      "City       Chennai\n",
      "Salary       35000\n",
      "Name: 5, dtype: object\n",
      "--------------------------------------------------\n",
      "Index: 6\n",
      "Row: Empid           7\n",
      "Name         John\n",
      "Dept        Sales\n",
      "Gender          M\n",
      "City      Chennai\n",
      "Salary      28000\n",
      "Name: 6, dtype: object\n",
      "--------------------------------------------------\n",
      "Index: 7\n",
      "Row: Empid           8\n",
      "Name         Cruz\n",
      "Dept           IT\n",
      "Gender          M\n",
      "City      Chennai\n",
      "Salary      89000\n",
      "Name: 7, dtype: object\n",
      "--------------------------------------------------\n",
      "Index: 8\n",
      "Row: Empid         9\n",
      "Name       Mary\n",
      "Dept         IT\n",
      "Gender        F\n",
      "City      Blore\n",
      "Salary    65000\n",
      "Name: 8, dtype: object\n",
      "--------------------------------------------------\n",
      "Index: 9\n",
      "Row: Empid        10\n",
      "Name      Merry\n",
      "Dept      Sales\n",
      "Gender        F\n",
      "City      Blore\n",
      "Salary    45000\n",
      "Name: 9, dtype: object\n",
      "--------------------------------------------------\n",
      "Index: 10\n",
      "Row: Empid        11\n",
      "Name      Jacob\n",
      "Dept         IT\n",
      "Gender        M\n",
      "City        Goa\n",
      "Salary    67000\n",
      "Name: 10, dtype: object\n",
      "--------------------------------------------------\n",
      "Index: 11\n",
      "Row: Empid          12\n",
      "Name          Liz\n",
      "Dept           IT\n",
      "Gender          F\n",
      "City      Kolkata\n",
      "Salary      65000\n",
      "Name: 11, dtype: object\n",
      "--------------------------------------------------\n",
      "Index: 12\n",
      "Row: Empid           13\n",
      "Name       Saneeta\n",
      "Dept      Networks\n",
      "Gender           F\n",
      "City       Kolkata\n",
      "Salary       55000\n",
      "Name: 12, dtype: object\n",
      "--------------------------------------------------\n",
      "Index: 13\n",
      "Row: Empid        14\n",
      "Name      Jason\n",
      "Dept      Sales\n",
      "Gender        M\n",
      "City        Goa\n",
      "Salary    40000\n",
      "Name: 13, dtype: object\n",
      "--------------------------------------------------\n",
      "Index: 14\n",
      "Row: Empid          15\n",
      "Name         Mike\n",
      "Dept           IT\n",
      "Gender          M\n",
      "City      Kolkata\n",
      "Salary       8000\n",
      "Name: 14, dtype: object\n",
      "--------------------------------------------------\n"
     ]
    }
   ],
   "source": [
    "for index, row in data.iterrows() :\n",
    "    print('Index:',index)\n",
    "    print('Row:',row)\n",
    "    print('-'*50)"
   ]
  },
  {
   "cell_type": "code",
   "execution_count": 120,
   "metadata": {
    "scrolled": true
   },
   "outputs": [
    {
     "name": "stdout",
     "output_type": "stream",
     "text": [
      "Index 0\n",
      "Row: Dept      Admin\n",
      "Gender        M\n",
      "Name: 0, dtype: object\n",
      "Index 1\n",
      "Row: Dept      IT\n",
      "Gender     M\n",
      "Name: 1, dtype: object\n",
      "Index 2\n",
      "Row: Dept      Sales\n",
      "Gender        F\n",
      "Name: 2, dtype: object\n",
      "Index 3\n",
      "Row: Dept      IT\n",
      "Gender     F\n",
      "Name: 3, dtype: object\n",
      "Index 4\n",
      "Row: Dept      IT\n",
      "Gender     F\n",
      "Name: 4, dtype: object\n",
      "Index 5\n",
      "Row: Dept      Networks\n",
      "Gender           M\n",
      "Name: 5, dtype: object\n",
      "Index 6\n",
      "Row: Dept      Sales\n",
      "Gender        M\n",
      "Name: 6, dtype: object\n",
      "Index 7\n",
      "Row: Dept      IT\n",
      "Gender     M\n",
      "Name: 7, dtype: object\n",
      "Index 8\n",
      "Row: Dept      IT\n",
      "Gender     F\n",
      "Name: 8, dtype: object\n",
      "Index 9\n",
      "Row: Dept      Sales\n",
      "Gender        F\n",
      "Name: 9, dtype: object\n",
      "Index 10\n",
      "Row: Dept      IT\n",
      "Gender     M\n",
      "Name: 10, dtype: object\n",
      "Index 11\n",
      "Row: Dept      IT\n",
      "Gender     F\n",
      "Name: 11, dtype: object\n",
      "Index 12\n",
      "Row: Dept      Networks\n",
      "Gender           F\n",
      "Name: 12, dtype: object\n",
      "Index 13\n",
      "Row: Dept      Sales\n",
      "Gender        M\n",
      "Name: 13, dtype: object\n",
      "Index 14\n",
      "Row: Dept      IT\n",
      "Gender     M\n",
      "Name: 14, dtype: object\n"
     ]
    }
   ],
   "source": [
    "for index,row in data.iterrows():\n",
    "    print('Index',index)\n",
    "    print('Row:',row[['Dept','Gender']])"
   ]
  },
  {
   "cell_type": "code",
   "execution_count": 121,
   "metadata": {},
   "outputs": [],
   "source": [
    "## Iterating through column:"
   ]
  },
  {
   "cell_type": "code",
   "execution_count": 124,
   "metadata": {},
   "outputs": [
    {
     "name": "stdout",
     "output_type": "stream",
     "text": [
      "Samuel\n",
      "Jerry\n",
      "Michale\n",
      "Joann\n",
      "Sherin\n",
      "Maxwell\n",
      "John\n",
      "Cruz\n",
      "Mary\n",
      "Merry\n",
      "Jacob\n",
      "Liz\n",
      "Saneeta\n",
      "Jason\n",
      "Mike\n"
     ]
    }
   ],
   "source": [
    "for col in data['Name']:  # for Var_name in df[colname]:\n",
    "    print(col)"
   ]
  },
  {
   "cell_type": "code",
   "execution_count": 123,
   "metadata": {},
   "outputs": [
    {
     "name": "stdout",
     "output_type": "stream",
     "text": [
      "Name\n",
      "Dept\n"
     ]
    }
   ],
   "source": [
    "for col in data[['Name','Dept']]:  # muliple column is not possible\n",
    "    print(col)"
   ]
  },
  {
   "cell_type": "markdown",
   "metadata": {},
   "source": [
    "# Apply:"
   ]
  },
  {
   "cell_type": "code",
   "execution_count": null,
   "metadata": {},
   "outputs": [],
   "source": [
    "# Applying a function on a particular column"
   ]
  },
  {
   "cell_type": "code",
   "execution_count": null,
   "metadata": {},
   "outputs": [],
   "source": [
    "# Syntax\n",
    "# df[colname].apply(functionname)  # display the output\n",
    "# df[new_Colname]=df[colname].apply(functionname) # will store the value in the new column."
   ]
  },
  {
   "cell_type": "code",
   "execution_count": 130,
   "metadata": {},
   "outputs": [
    {
     "data": {
      "text/html": [
       "<div>\n",
       "<style scoped>\n",
       "    .dataframe tbody tr th:only-of-type {\n",
       "        vertical-align: middle;\n",
       "    }\n",
       "\n",
       "    .dataframe tbody tr th {\n",
       "        vertical-align: top;\n",
       "    }\n",
       "\n",
       "    .dataframe thead th {\n",
       "        text-align: right;\n",
       "    }\n",
       "</style>\n",
       "<table border=\"1\" class=\"dataframe\">\n",
       "  <thead>\n",
       "    <tr style=\"text-align: right;\">\n",
       "      <th></th>\n",
       "      <th>Empid</th>\n",
       "      <th>Name</th>\n",
       "      <th>Dept</th>\n",
       "      <th>Gender</th>\n",
       "      <th>City</th>\n",
       "      <th>Salary</th>\n",
       "    </tr>\n",
       "  </thead>\n",
       "  <tbody>\n",
       "    <tr>\n",
       "      <th>0</th>\n",
       "      <td>1</td>\n",
       "      <td>Samuel</td>\n",
       "      <td>Admin</td>\n",
       "      <td>M</td>\n",
       "      <td>Chennai</td>\n",
       "      <td>45000</td>\n",
       "    </tr>\n",
       "    <tr>\n",
       "      <th>1</th>\n",
       "      <td>2</td>\n",
       "      <td>Jerry</td>\n",
       "      <td>IT</td>\n",
       "      <td>M</td>\n",
       "      <td>Blore</td>\n",
       "      <td>75000</td>\n",
       "    </tr>\n",
       "    <tr>\n",
       "      <th>2</th>\n",
       "      <td>3</td>\n",
       "      <td>Michale</td>\n",
       "      <td>Sales</td>\n",
       "      <td>F</td>\n",
       "      <td>Goa</td>\n",
       "      <td>30000</td>\n",
       "    </tr>\n",
       "    <tr>\n",
       "      <th>3</th>\n",
       "      <td>4</td>\n",
       "      <td>Joann</td>\n",
       "      <td>IT</td>\n",
       "      <td>F</td>\n",
       "      <td>Chennai</td>\n",
       "      <td>80000</td>\n",
       "    </tr>\n",
       "    <tr>\n",
       "      <th>4</th>\n",
       "      <td>5</td>\n",
       "      <td>Sherin</td>\n",
       "      <td>IT</td>\n",
       "      <td>F</td>\n",
       "      <td>Blore</td>\n",
       "      <td>78000</td>\n",
       "    </tr>\n",
       "    <tr>\n",
       "      <th>5</th>\n",
       "      <td>6</td>\n",
       "      <td>Maxwell</td>\n",
       "      <td>Networks</td>\n",
       "      <td>M</td>\n",
       "      <td>Chennai</td>\n",
       "      <td>35000</td>\n",
       "    </tr>\n",
       "    <tr>\n",
       "      <th>6</th>\n",
       "      <td>7</td>\n",
       "      <td>John</td>\n",
       "      <td>Sales</td>\n",
       "      <td>M</td>\n",
       "      <td>Chennai</td>\n",
       "      <td>28000</td>\n",
       "    </tr>\n",
       "    <tr>\n",
       "      <th>7</th>\n",
       "      <td>8</td>\n",
       "      <td>Cruz</td>\n",
       "      <td>IT</td>\n",
       "      <td>M</td>\n",
       "      <td>Chennai</td>\n",
       "      <td>89000</td>\n",
       "    </tr>\n",
       "    <tr>\n",
       "      <th>8</th>\n",
       "      <td>9</td>\n",
       "      <td>Mary</td>\n",
       "      <td>IT</td>\n",
       "      <td>F</td>\n",
       "      <td>Blore</td>\n",
       "      <td>65000</td>\n",
       "    </tr>\n",
       "    <tr>\n",
       "      <th>9</th>\n",
       "      <td>10</td>\n",
       "      <td>Merry</td>\n",
       "      <td>Sales</td>\n",
       "      <td>F</td>\n",
       "      <td>Blore</td>\n",
       "      <td>45000</td>\n",
       "    </tr>\n",
       "    <tr>\n",
       "      <th>10</th>\n",
       "      <td>11</td>\n",
       "      <td>Jacob</td>\n",
       "      <td>IT</td>\n",
       "      <td>M</td>\n",
       "      <td>Goa</td>\n",
       "      <td>67000</td>\n",
       "    </tr>\n",
       "    <tr>\n",
       "      <th>11</th>\n",
       "      <td>12</td>\n",
       "      <td>Liz</td>\n",
       "      <td>IT</td>\n",
       "      <td>F</td>\n",
       "      <td>Kolkata</td>\n",
       "      <td>65000</td>\n",
       "    </tr>\n",
       "    <tr>\n",
       "      <th>12</th>\n",
       "      <td>13</td>\n",
       "      <td>Saneeta</td>\n",
       "      <td>Networks</td>\n",
       "      <td>F</td>\n",
       "      <td>Kolkata</td>\n",
       "      <td>55000</td>\n",
       "    </tr>\n",
       "    <tr>\n",
       "      <th>13</th>\n",
       "      <td>14</td>\n",
       "      <td>Jason</td>\n",
       "      <td>Sales</td>\n",
       "      <td>M</td>\n",
       "      <td>Goa</td>\n",
       "      <td>40000</td>\n",
       "    </tr>\n",
       "    <tr>\n",
       "      <th>14</th>\n",
       "      <td>15</td>\n",
       "      <td>Mike</td>\n",
       "      <td>IT</td>\n",
       "      <td>M</td>\n",
       "      <td>Kolkata</td>\n",
       "      <td>8000</td>\n",
       "    </tr>\n",
       "  </tbody>\n",
       "</table>\n",
       "</div>"
      ],
      "text/plain": [
       "    Empid     Name      Dept Gender     City  Salary\n",
       "0       1   Samuel     Admin      M  Chennai   45000\n",
       "1       2    Jerry        IT      M    Blore   75000\n",
       "2       3  Michale     Sales      F      Goa   30000\n",
       "3       4    Joann        IT      F  Chennai   80000\n",
       "4       5   Sherin        IT      F    Blore   78000\n",
       "5       6  Maxwell  Networks      M  Chennai   35000\n",
       "6       7     John     Sales      M  Chennai   28000\n",
       "7       8     Cruz        IT      M  Chennai   89000\n",
       "8       9     Mary        IT      F    Blore   65000\n",
       "9      10    Merry     Sales      F    Blore   45000\n",
       "10     11    Jacob        IT      M      Goa   67000\n",
       "11     12      Liz        IT      F  Kolkata   65000\n",
       "12     13  Saneeta  Networks      F  Kolkata   55000\n",
       "13     14    Jason     Sales      M      Goa   40000\n",
       "14     15     Mike        IT      M  Kolkata    8000"
      ]
     },
     "execution_count": 130,
     "metadata": {},
     "output_type": "execute_result"
    }
   ],
   "source": [
    "data = pd.read_csv('Input.csv')  # slash=/ not \\\n",
    "data"
   ]
  },
  {
   "cell_type": "code",
   "execution_count": 131,
   "metadata": {},
   "outputs": [],
   "source": [
    "def sqr(x):\n",
    "    return x**2"
   ]
  },
  {
   "cell_type": "code",
   "execution_count": 132,
   "metadata": {},
   "outputs": [
    {
     "data": {
      "text/plain": [
       "0     2025000000\n",
       "1     5625000000\n",
       "2      900000000\n",
       "3     6400000000\n",
       "4     6084000000\n",
       "5     1225000000\n",
       "6      784000000\n",
       "7     7921000000\n",
       "8     4225000000\n",
       "9     2025000000\n",
       "10    4489000000\n",
       "11    4225000000\n",
       "12    3025000000\n",
       "13    1600000000\n",
       "14      64000000\n",
       "Name: Salary, dtype: int64"
      ]
     },
     "execution_count": 132,
     "metadata": {},
     "output_type": "execute_result"
    }
   ],
   "source": [
    "data['Salary'].apply(sqr)"
   ]
  },
  {
   "cell_type": "code",
   "execution_count": 133,
   "metadata": {},
   "outputs": [
    {
     "data": {
      "text/html": [
       "<div>\n",
       "<style scoped>\n",
       "    .dataframe tbody tr th:only-of-type {\n",
       "        vertical-align: middle;\n",
       "    }\n",
       "\n",
       "    .dataframe tbody tr th {\n",
       "        vertical-align: top;\n",
       "    }\n",
       "\n",
       "    .dataframe thead th {\n",
       "        text-align: right;\n",
       "    }\n",
       "</style>\n",
       "<table border=\"1\" class=\"dataframe\">\n",
       "  <thead>\n",
       "    <tr style=\"text-align: right;\">\n",
       "      <th></th>\n",
       "      <th>Empid</th>\n",
       "      <th>Name</th>\n",
       "      <th>Dept</th>\n",
       "      <th>Gender</th>\n",
       "      <th>City</th>\n",
       "      <th>Salary</th>\n",
       "    </tr>\n",
       "  </thead>\n",
       "  <tbody>\n",
       "    <tr>\n",
       "      <th>0</th>\n",
       "      <td>1</td>\n",
       "      <td>Samuel</td>\n",
       "      <td>Admin</td>\n",
       "      <td>M</td>\n",
       "      <td>Chennai</td>\n",
       "      <td>45000</td>\n",
       "    </tr>\n",
       "    <tr>\n",
       "      <th>1</th>\n",
       "      <td>2</td>\n",
       "      <td>Jerry</td>\n",
       "      <td>IT</td>\n",
       "      <td>M</td>\n",
       "      <td>Blore</td>\n",
       "      <td>75000</td>\n",
       "    </tr>\n",
       "    <tr>\n",
       "      <th>2</th>\n",
       "      <td>3</td>\n",
       "      <td>Michale</td>\n",
       "      <td>Sales</td>\n",
       "      <td>F</td>\n",
       "      <td>Goa</td>\n",
       "      <td>30000</td>\n",
       "    </tr>\n",
       "    <tr>\n",
       "      <th>3</th>\n",
       "      <td>4</td>\n",
       "      <td>Joann</td>\n",
       "      <td>IT</td>\n",
       "      <td>F</td>\n",
       "      <td>Chennai</td>\n",
       "      <td>80000</td>\n",
       "    </tr>\n",
       "    <tr>\n",
       "      <th>4</th>\n",
       "      <td>5</td>\n",
       "      <td>Sherin</td>\n",
       "      <td>IT</td>\n",
       "      <td>F</td>\n",
       "      <td>Blore</td>\n",
       "      <td>78000</td>\n",
       "    </tr>\n",
       "    <tr>\n",
       "      <th>5</th>\n",
       "      <td>6</td>\n",
       "      <td>Maxwell</td>\n",
       "      <td>Networks</td>\n",
       "      <td>M</td>\n",
       "      <td>Chennai</td>\n",
       "      <td>35000</td>\n",
       "    </tr>\n",
       "    <tr>\n",
       "      <th>6</th>\n",
       "      <td>7</td>\n",
       "      <td>John</td>\n",
       "      <td>Sales</td>\n",
       "      <td>M</td>\n",
       "      <td>Chennai</td>\n",
       "      <td>28000</td>\n",
       "    </tr>\n",
       "    <tr>\n",
       "      <th>7</th>\n",
       "      <td>8</td>\n",
       "      <td>Cruz</td>\n",
       "      <td>IT</td>\n",
       "      <td>M</td>\n",
       "      <td>Chennai</td>\n",
       "      <td>89000</td>\n",
       "    </tr>\n",
       "    <tr>\n",
       "      <th>8</th>\n",
       "      <td>9</td>\n",
       "      <td>Mary</td>\n",
       "      <td>IT</td>\n",
       "      <td>F</td>\n",
       "      <td>Blore</td>\n",
       "      <td>65000</td>\n",
       "    </tr>\n",
       "    <tr>\n",
       "      <th>9</th>\n",
       "      <td>10</td>\n",
       "      <td>Merry</td>\n",
       "      <td>Sales</td>\n",
       "      <td>F</td>\n",
       "      <td>Blore</td>\n",
       "      <td>45000</td>\n",
       "    </tr>\n",
       "    <tr>\n",
       "      <th>10</th>\n",
       "      <td>11</td>\n",
       "      <td>Jacob</td>\n",
       "      <td>IT</td>\n",
       "      <td>M</td>\n",
       "      <td>Goa</td>\n",
       "      <td>67000</td>\n",
       "    </tr>\n",
       "    <tr>\n",
       "      <th>11</th>\n",
       "      <td>12</td>\n",
       "      <td>Liz</td>\n",
       "      <td>IT</td>\n",
       "      <td>F</td>\n",
       "      <td>Kolkata</td>\n",
       "      <td>65000</td>\n",
       "    </tr>\n",
       "    <tr>\n",
       "      <th>12</th>\n",
       "      <td>13</td>\n",
       "      <td>Saneeta</td>\n",
       "      <td>Networks</td>\n",
       "      <td>F</td>\n",
       "      <td>Kolkata</td>\n",
       "      <td>55000</td>\n",
       "    </tr>\n",
       "    <tr>\n",
       "      <th>13</th>\n",
       "      <td>14</td>\n",
       "      <td>Jason</td>\n",
       "      <td>Sales</td>\n",
       "      <td>M</td>\n",
       "      <td>Goa</td>\n",
       "      <td>40000</td>\n",
       "    </tr>\n",
       "    <tr>\n",
       "      <th>14</th>\n",
       "      <td>15</td>\n",
       "      <td>Mike</td>\n",
       "      <td>IT</td>\n",
       "      <td>M</td>\n",
       "      <td>Kolkata</td>\n",
       "      <td>8000</td>\n",
       "    </tr>\n",
       "  </tbody>\n",
       "</table>\n",
       "</div>"
      ],
      "text/plain": [
       "    Empid     Name      Dept Gender     City  Salary\n",
       "0       1   Samuel     Admin      M  Chennai   45000\n",
       "1       2    Jerry        IT      M    Blore   75000\n",
       "2       3  Michale     Sales      F      Goa   30000\n",
       "3       4    Joann        IT      F  Chennai   80000\n",
       "4       5   Sherin        IT      F    Blore   78000\n",
       "5       6  Maxwell  Networks      M  Chennai   35000\n",
       "6       7     John     Sales      M  Chennai   28000\n",
       "7       8     Cruz        IT      M  Chennai   89000\n",
       "8       9     Mary        IT      F    Blore   65000\n",
       "9      10    Merry     Sales      F    Blore   45000\n",
       "10     11    Jacob        IT      M      Goa   67000\n",
       "11     12      Liz        IT      F  Kolkata   65000\n",
       "12     13  Saneeta  Networks      F  Kolkata   55000\n",
       "13     14    Jason     Sales      M      Goa   40000\n",
       "14     15     Mike        IT      M  Kolkata    8000"
      ]
     },
     "execution_count": 133,
     "metadata": {},
     "output_type": "execute_result"
    }
   ],
   "source": [
    "data"
   ]
  },
  {
   "cell_type": "code",
   "execution_count": null,
   "metadata": {},
   "outputs": [],
   "source": [
    "# Practice:\n",
    "\n",
    "# 1) Find the log of sepal length and store it in log_sepal_length"
   ]
  },
  {
   "cell_type": "code",
   "execution_count": 137,
   "metadata": {},
   "outputs": [],
   "source": [
    "def log(x):\n",
    "    return np.log(x)"
   ]
  },
  {
   "cell_type": "code",
   "execution_count": 138,
   "metadata": {},
   "outputs": [],
   "source": [
    "data=pd.read_json('iris.json')\n"
   ]
  },
  {
   "cell_type": "code",
   "execution_count": 139,
   "metadata": {},
   "outputs": [],
   "source": [
    "data['log_sep']=data['sepalLength'].apply(log)"
   ]
  },
  {
   "cell_type": "code",
   "execution_count": 142,
   "metadata": {},
   "outputs": [],
   "source": [
    "data['log_sep']=data['sepalLength'].apply(np.log) # inbuilt operation"
   ]
  },
  {
   "cell_type": "markdown",
   "metadata": {},
   "source": [
    "# Saving files:"
   ]
  },
  {
   "cell_type": "code",
   "execution_count": null,
   "metadata": {},
   "outputs": [],
   "source": [
    "# Syntax:\n",
    "\n",
    "# dataframe.to_csv('filename')\n",
    "# dataframe.to_json('filename')"
   ]
  },
  {
   "cell_type": "code",
   "execution_count": 144,
   "metadata": {},
   "outputs": [],
   "source": [
    "data.to_csv('logiris.csv')"
   ]
  },
  {
   "cell_type": "code",
   "execution_count": 145,
   "metadata": {},
   "outputs": [],
   "source": [
    "data.to_json('logiris.json')"
   ]
  },
  {
   "cell_type": "code",
   "execution_count": 143,
   "metadata": {},
   "outputs": [],
   "source": [
    "# Break: 11.13am -11.23am"
   ]
  },
  {
   "cell_type": "markdown",
   "metadata": {},
   "source": [
    "##  Table of Content\n",
    "\n",
    "1. **[Plots using Matplotlib ](#matplotlib)**"
   ]
  },
  {
   "cell_type": "code",
   "execution_count": 147,
   "metadata": {},
   "outputs": [],
   "source": [
    "# import the library NumPy \n",
    "import numpy as np\n",
    "\n",
    "# import the library Pandas\n",
    "import pandas as pd\n",
    "\n",
    "# import the library matplotlib\n",
    "import matplotlib.pyplot as plt"
   ]
  },
  {
   "cell_type": "markdown",
   "metadata": {},
   "source": [
    "<a id=\"matplotlib\"> </a>\n",
    "## 1. Plots using Matplotlib\n",
    "\n",
    "Matplotlib is a Python 2D plotting library. Many libraries are built based on it and use its functions in the backend. pyplot is a subpackage of matplotlib that provides a MATLAB-like way of plotting. <br><br>\n",
    "                        matplotlib.pyplot is a mostly used package because it is elementary to use, and it generates plots in less time."
   ]
  },
  {
   "cell_type": "code",
   "execution_count": 148,
   "metadata": {},
   "outputs": [],
   "source": [
    "# import matplotlib.pyplot as name\n",
    "\n",
    "import matplotlib.pyplot as plt"
   ]
  },
  {
   "cell_type": "code",
   "execution_count": null,
   "metadata": {},
   "outputs": [],
   "source": [
    "# linspace:\n",
    "# np.linspace(start,stop,no_of_values)\n",
    "# IT generates values with equal difference."
   ]
  },
  {
   "cell_type": "code",
   "execution_count": 149,
   "metadata": {},
   "outputs": [
    {
     "data": {
      "text/plain": [
       "array([1.        , 1.33333333, 1.66666667, 2.        ])"
      ]
     },
     "execution_count": 149,
     "metadata": {},
     "output_type": "execute_result"
    }
   ],
   "source": [
    "np.linspace(1,2,4)"
   ]
  },
  {
   "cell_type": "code",
   "execution_count": 150,
   "metadata": {},
   "outputs": [
    {
     "data": {
      "text/plain": [
       "array([1.  , 1.25, 1.5 , 1.75, 2.  ])"
      ]
     },
     "execution_count": 150,
     "metadata": {},
     "output_type": "execute_result"
    }
   ],
   "source": [
    "np.linspace(1,2,5)"
   ]
  },
  {
   "cell_type": "code",
   "execution_count": 151,
   "metadata": {
    "scrolled": true
   },
   "outputs": [
    {
     "data": {
      "text/plain": [
       "array([1.        , 1.11111111, 1.22222222, 1.33333333, 1.44444444,\n",
       "       1.55555556, 1.66666667, 1.77777778, 1.88888889, 2.        ])"
      ]
     },
     "execution_count": 151,
     "metadata": {},
     "output_type": "execute_result"
    }
   ],
   "source": [
    "np.linspace(1,2,10)"
   ]
  },
  {
   "cell_type": "code",
   "execution_count": null,
   "metadata": {},
   "outputs": [],
   "source": []
  },
  {
   "cell_type": "markdown",
   "metadata": {},
   "source": [
    "# Line Plot"
   ]
  },
  {
   "cell_type": "code",
   "execution_count": 153,
   "metadata": {},
   "outputs": [],
   "source": [
    "x=np.array([1,2,3,4,5])\n",
    "y=x**2"
   ]
  },
  {
   "cell_type": "code",
   "execution_count": 154,
   "metadata": {},
   "outputs": [
    {
     "data": {
      "text/plain": [
       "array([1, 2, 3, 4, 5])"
      ]
     },
     "execution_count": 154,
     "metadata": {},
     "output_type": "execute_result"
    }
   ],
   "source": [
    "x"
   ]
  },
  {
   "cell_type": "code",
   "execution_count": 155,
   "metadata": {},
   "outputs": [
    {
     "data": {
      "text/plain": [
       "array([ 1,  4,  9, 16, 25], dtype=int32)"
      ]
     },
     "execution_count": 155,
     "metadata": {},
     "output_type": "execute_result"
    }
   ],
   "source": [
    "y"
   ]
  },
  {
   "cell_type": "code",
   "execution_count": 157,
   "metadata": {},
   "outputs": [],
   "source": [
    "# Syntax:\n",
    "\n",
    "# plt.plot(x_axis,y_axis)\n",
    "# plt.show()"
   ]
  },
  {
   "cell_type": "code",
   "execution_count": 156,
   "metadata": {},
   "outputs": [
    {
     "data": {
      "image/png": "[encoded data removed]",
      "text/plain": [
       "<Figure size 432x288 with 1 Axes>"
      ]
     },
     "metadata": {
      "needs_background": "light"
     },
     "output_type": "display_data"
    }
   ],
   "source": [
    "plt.plot(x,y)\n",
    "plt.show()"
   ]
  },
  {
   "cell_type": "code",
   "execution_count": null,
   "metadata": {},
   "outputs": [],
   "source": [
    "# Practice :\n",
    "\n",
    "# Create values from 1,20 and find the exponential of the point\n",
    "# And plot the line graph."
   ]
  },
  {
   "cell_type": "code",
   "execution_count": 2,
   "metadata": {},
   "outputs": [
    {
     "data": {
      "image/png": "[encoded data removed]",
      "text/plain": [
       "<Figure size 432x288 with 1 Axes>"
      ]
     },
     "metadata": {
      "needs_background": "light"
     },
     "output_type": "display_data"
    }
   ],
   "source": [
    "# # data\n",
    "# create an array using linspace\n",
    "X = np.linspace(1,20,100)\n",
    "# create an array by taking exponential of X\n",
    "Y = np.exp(X)\n",
    "\n",
    "# line plot\n",
    "plt.plot(X,Y)\n",
    "\n",
    "# display the plot\n",
    "plt.show()"
   ]
  },
  {
   "cell_type": "code",
   "execution_count": 164,
   "metadata": {},
   "outputs": [
    {
     "data": {
      "image/png": "[encoded data removed]",
      "text/plain": [
       "<Figure size 432x288 with 1 Axes>"
      ]
     },
     "metadata": {
      "needs_background": "light"
     },
     "output_type": "display_data"
    }
   ],
   "source": [
    "# # data\n",
    "# create an array using linspace\n",
    "X = np.linspace(1,20,100)\n",
    "# create an array by taking exponential of X\n",
    "Y = np.exp(X)\n",
    "\n",
    "# line plot\n",
    "plt.plot(X,Y,'green')  # plt.plot(x,y,colorname)\n",
    "\n",
    "# display the plot\n",
    "plt.show()"
   ]
  },
  {
   "cell_type": "code",
   "execution_count": 167,
   "metadata": {},
   "outputs": [
    {
     "data": {
      "image/png": "[encoded data removed]",
      "text/plain": [
       "<Figure size 432x288 with 1 Axes>"
      ]
     },
     "metadata": {
      "needs_background": "light"
     },
     "output_type": "display_data"
    }
   ],
   "source": [
    "# data\n",
    "# create an array using linspace\n",
    "X = np.linspace(1,20,100)\n",
    "# create an array by taking exponential of X\n",
    "Y = np.exp(X)\n",
    "\n",
    "# line plot\n",
    "# the argument 'r*' plots each point as a red '*' \n",
    "plt.plot(X,Y, 'r*')  # it works for '*'\n",
    "\n",
    "# display the plot\n",
    "plt.show()"
   ]
  },
  {
   "cell_type": "code",
   "execution_count": 168,
   "metadata": {},
   "outputs": [],
   "source": [
    "# Practice:\n",
    "\n",
    "# Create values from 1,20 and find the exponential of the point\n",
    "# And plot the line graph.\n",
    "# Change the color of the graph\n",
    "# Change the points to *"
   ]
  },
  {
   "cell_type": "code",
   "execution_count": 173,
   "metadata": {},
   "outputs": [
    {
     "data": {
      "image/png": "[encoded data removed]",
      "text/plain": [
       "<Figure size 720x360 with 1 Axes>"
      ]
     },
     "metadata": {
      "needs_background": "light"
     },
     "output_type": "display_data"
    }
   ],
   "source": [
    "# data\n",
    "# create an array using linspace\n",
    "X = np.linspace(1,20,100)\n",
    "# create an array by taking exponential of X\n",
    "Y = np.square(X)\n",
    "\n",
    "# line plot\n",
    "# the argument 'r*' plots each point as a red '*' \n",
    "plt.figure(figsize=(10,5))  #(length,breadth)  # first step\n",
    "plt.plot(X,Y)\n",
    "plt.title('x vs sqaure(x)') # title of the graph\n",
    "plt.xlabel('x')  # x axis name\n",
    "plt.ylabel('y=(x^2)') # y axis name\n",
    "plt.xlim(1,50)  # the range of the x axis\n",
    "plt.ylim(1,500) # the ranfe of the y axis\n",
    "# display the plot\n",
    "plt.show()"
   ]
  },
  {
   "cell_type": "code",
   "execution_count": null,
   "metadata": {},
   "outputs": [],
   "source": [
    "# Practice:\n",
    "\n",
    "# Create values from 1,20 and find the exponential of the point\n",
    "# And plot the line graph."
   ]
  },
  {
   "cell_type": "code",
   "execution_count": null,
   "metadata": {},
   "outputs": [],
   "source": [
    "# Mutiple curve on a single grph"
   ]
  },
  {
   "cell_type": "code",
   "execution_count": 174,
   "metadata": {},
   "outputs": [],
   "source": [
    "x=np.arange(1,100)\n",
    "y=x\n",
    "z=x**2"
   ]
  },
  {
   "cell_type": "code",
   "execution_count": 177,
   "metadata": {},
   "outputs": [
    {
     "data": {
      "image/png": "[encoded data removed]",
      "text/plain": [
       "<Figure size 432x288 with 1 Axes>"
      ]
     },
     "metadata": {
      "needs_background": "light"
     },
     "output_type": "display_data"
    }
   ],
   "source": [
    "plt.plot(x,y)\n",
    "plt.plot(x,z)\n",
    "plt.show()"
   ]
  },
  {
   "cell_type": "code",
   "execution_count": 178,
   "metadata": {},
   "outputs": [],
   "source": [
    "# Plot:\n",
    "\n",
    "# x=1,20\n",
    "# plot the exponential and log curve on the same graph"
   ]
  },
  {
   "cell_type": "code",
   "execution_count": 10,
   "metadata": {},
   "outputs": [
    {
     "data": {
      "image/png": "[encoded data removed]",
      "text/plain": [
       "<Figure size 432x288 with 1 Axes>"
      ]
     },
     "metadata": {
      "needs_background": "light"
     },
     "output_type": "display_data"
    }
   ],
   "source": [
    "# data\n",
    "# create an array using linspace\n",
    "X = np.linspace(1,20,100)\n",
    "# create an array by taking square of X\n",
    "Y_square = np.square(X)\n",
    "# create an array by taking squareroot of X\n",
    "Y_sqrt = np.sqrt(X)\n",
    "\n",
    "# line plot\n",
    "plt.plot( X,Y_square,'b')\n",
    "plt.plot(X,Y_sqrt,'g')\n",
    "\n",
    "# add title to the plot\n",
    "plt.title('Line Plot')\n",
    "\n",
    "# display the plot\n",
    "plt.show()"
   ]
  },
  {
   "cell_type": "markdown",
   "metadata": {},
   "source": [
    "### 1.2 Scatter Plot\n",
    "\n",
    "A scatter plot is a set of points plotted on horizontal and vertical axes. The scatter plot can be used to study the correlation between the two variables. One can also detect the extreme data points using a scatter plot."
   ]
  },
  {
   "cell_type": "code",
   "execution_count": 179,
   "metadata": {},
   "outputs": [
    {
     "data": {
      "image/png": "[encoded data removed]",
      "text/plain": [
       "<Figure size 432x288 with 1 Axes>"
      ]
     },
     "metadata": {
      "needs_background": "light"
     },
     "output_type": "display_data"
    }
   ],
   "source": [
    "x=np.arange(1,20)\n",
    "y=x**2\n",
    "plt.scatter(x,y)\n",
    "plt.show()"
   ]
  },
  {
   "cell_type": "code",
   "execution_count": 180,
   "metadata": {},
   "outputs": [
    {
     "data": {
      "image/png": "[encoded data removed]",
      "text/plain": [
       "<Figure size 432x288 with 1 Axes>"
      ]
     },
     "metadata": {
      "needs_background": "light"
     },
     "output_type": "display_data"
    }
   ],
   "source": [
    "x=np.arange(1,20)\n",
    "y=x**2\n",
    "plt.scatter(x,y)\n",
    "plt.plot(x,y)\n",
    "plt.show()"
   ]
  },
  {
   "cell_type": "code",
   "execution_count": 28,
   "metadata": {},
   "outputs": [
    {
     "data": {
      "image/png": "[encoded data removed]",
      "text/plain": [
       "<Figure size 432x288 with 1 Axes>"
      ]
     },
     "metadata": {
      "needs_background": "light"
     },
     "output_type": "display_data"
    }
   ],
   "source": [
    "# # data\n",
    "# create an array using linspace\n",
    "X = np.linspace(1,20,100)\n",
    "# create an array by taking exponential of X\n",
    "Y = np.exp(X)\n",
    "\n",
    "# line plot\n",
    "plt.scatter(X,Y)\n",
    "\n",
    "# display the plot\n",
    "plt.show()"
   ]
  },
  {
   "cell_type": "code",
   "execution_count": 181,
   "metadata": {},
   "outputs": [
    {
     "data": {
      "image/png": "[encoded data removed]",
      "text/plain": [
       "<Figure size 432x288 with 1 Axes>"
      ]
     },
     "metadata": {
      "needs_background": "light"
     },
     "output_type": "display_data"
    }
   ],
   "source": [
    "# # data\n",
    "# create an array using linspace\n",
    "X = np.linspace(1,20,100)\n",
    "# create an array by taking exponential of X\n",
    "Y = np.exp(X)\n",
    "\n",
    "# line plot\n",
    "plt.scatter(X,Y,c='green',marker='*') # c -color, marker='symbol'\n",
    "\n",
    "# display the plot\n",
    "plt.show()"
   ]
  },
  {
   "cell_type": "code",
   "execution_count": null,
   "metadata": {},
   "outputs": [],
   "source": [
    "# Practice\n",
    "\n",
    "# 1) x= np.linspace(1,100,20)\n",
    "# 2) Plot the log of the values and  x using scatter plot\n",
    "# 3) Plot the log of the values and  x using scatter plot and line graph on the same graph"
   ]
  },
  {
   "cell_type": "markdown",
   "metadata": {},
   "source": [
    "## Datasets"
   ]
  },
  {
   "cell_type": "code",
   "execution_count": 26,
   "metadata": {},
   "outputs": [],
   "source": [
    "import seaborn as sns\n",
    "\n",
    "# Kind of visualization library\n",
    "# It also has some predefined datasets."
   ]
  },
  {
   "cell_type": "code",
   "execution_count": 27,
   "metadata": {},
   "outputs": [
    {
     "data": {
      "text/html": [
       "<div>\n",
       "<style scoped>\n",
       "    .dataframe tbody tr th:only-of-type {\n",
       "        vertical-align: middle;\n",
       "    }\n",
       "\n",
       "    .dataframe tbody tr th {\n",
       "        vertical-align: top;\n",
       "    }\n",
       "\n",
       "    .dataframe thead th {\n",
       "        text-align: right;\n",
       "    }\n",
       "</style>\n",
       "<table border=\"1\" class=\"dataframe\">\n",
       "  <thead>\n",
       "    <tr style=\"text-align: right;\">\n",
       "      <th></th>\n",
       "      <th>total_bill</th>\n",
       "      <th>tip</th>\n",
       "      <th>sex</th>\n",
       "      <th>smoker</th>\n",
       "      <th>day</th>\n",
       "      <th>time</th>\n",
       "      <th>size</th>\n",
       "    </tr>\n",
       "  </thead>\n",
       "  <tbody>\n",
       "    <tr>\n",
       "      <th>0</th>\n",
       "      <td>16.99</td>\n",
       "      <td>1.01</td>\n",
       "      <td>Female</td>\n",
       "      <td>No</td>\n",
       "      <td>Sun</td>\n",
       "      <td>Dinner</td>\n",
       "      <td>2</td>\n",
       "    </tr>\n",
       "    <tr>\n",
       "      <th>1</th>\n",
       "      <td>10.34</td>\n",
       "      <td>1.66</td>\n",
       "      <td>Male</td>\n",
       "      <td>No</td>\n",
       "      <td>Sun</td>\n",
       "      <td>Dinner</td>\n",
       "      <td>3</td>\n",
       "    </tr>\n",
       "    <tr>\n",
       "      <th>2</th>\n",
       "      <td>21.01</td>\n",
       "      <td>3.50</td>\n",
       "      <td>Male</td>\n",
       "      <td>No</td>\n",
       "      <td>Sun</td>\n",
       "      <td>Dinner</td>\n",
       "      <td>3</td>\n",
       "    </tr>\n",
       "    <tr>\n",
       "      <th>3</th>\n",
       "      <td>23.68</td>\n",
       "      <td>3.31</td>\n",
       "      <td>Male</td>\n",
       "      <td>No</td>\n",
       "      <td>Sun</td>\n",
       "      <td>Dinner</td>\n",
       "      <td>2</td>\n",
       "    </tr>\n",
       "    <tr>\n",
       "      <th>4</th>\n",
       "      <td>24.59</td>\n",
       "      <td>3.61</td>\n",
       "      <td>Female</td>\n",
       "      <td>No</td>\n",
       "      <td>Sun</td>\n",
       "      <td>Dinner</td>\n",
       "      <td>4</td>\n",
       "    </tr>\n",
       "  </tbody>\n",
       "</table>\n",
       "</div>"
      ],
      "text/plain": [
       "   total_bill   tip     sex smoker  day    time  size\n",
       "0       16.99  1.01  Female     No  Sun  Dinner     2\n",
       "1       10.34  1.66    Male     No  Sun  Dinner     3\n",
       "2       21.01  3.50    Male     No  Sun  Dinner     3\n",
       "3       23.68  3.31    Male     No  Sun  Dinner     2\n",
       "4       24.59  3.61  Female     No  Sun  Dinner     4"
      ]
     },
     "execution_count": 27,
     "metadata": {},
     "output_type": "execute_result"
    }
   ],
   "source": [
    "# load the 'tips' dataset from seaborn\n",
    "df_tips = sns.load_dataset('tips')\n",
    "\n",
    "# display head() of the dataset\n",
    "df_tips.head()"
   ]
  },
  {
   "cell_type": "code",
   "execution_count": null,
   "metadata": {},
   "outputs": [],
   "source": []
  },
  {
   "cell_type": "code",
   "execution_count": 182,
   "metadata": {
    "scrolled": true
   },
   "outputs": [
    {
     "data": {
      "image/png": "[encoded data removed]",
      "text/plain": [
       "<Figure size 1080x576 with 1 Axes>"
      ]
     },
     "metadata": {
      "needs_background": "light"
     },
     "output_type": "display_data"
    }
   ],
   "source": [
    "X = df_tips['total_bill']\n",
    "# let Y be the column of the tip collected\n",
    "Y = df_tips['tip']\n",
    "\n",
    "# set the plot size\n",
    "plt.figure(figsize=(15,8))\n",
    "\n",
    "# plot the scatter plot\n",
    "plt.scatter(X,Y)\n",
    "\n",
    "# add the axes labels to the plot\n",
    "plt.xlabel('total_bill')\n",
    "plt.ylabel('tip')\n",
    "\n",
    "# display the plot\n",
    "plt.show()"
   ]
  },
  {
   "cell_type": "code",
   "execution_count": 186,
   "metadata": {},
   "outputs": [
    {
     "data": {
      "image/png": "[encoded data removed]",
      "text/plain": [
       "<Figure size 1080x576 with 1 Axes>"
      ]
     },
     "metadata": {
      "needs_background": "light"
     },
     "output_type": "display_data"
    }
   ],
   "source": [
    "X = df_tips['total_bill']\n",
    "# let Y be the column of the tip collected\n",
    "Y = df_tips['tip']\n",
    "\n",
    "# set the plot size\n",
    "plt.figure(figsize=(15,8))\n",
    "\n",
    "# plot the scatter plot\n",
    "plt.scatter(X,Y)\n",
    "\n",
    "# add the axes labels to the plot\n",
    "plt.xlabel('total_bill')\n",
    "plt.ylabel('tip')\n",
    "\n",
    "# display the plot\n",
    "plt.show()"
   ]
  },
  {
   "cell_type": "code",
   "execution_count": 184,
   "metadata": {},
   "outputs": [],
   "source": [
    "# Note:\n",
    "# Data is sorted line plot/ scatter plot both are recommended\n",
    "# Data is scatter scatter plot is recommended"
   ]
  },
  {
   "cell_type": "code",
   "execution_count": null,
   "metadata": {},
   "outputs": [],
   "source": [
    "# Practice:\n",
    "\n",
    "# Plot both line and scatter for tip and bill"
   ]
  }
 ],
 "metadata": {
  "kernelspec": {
   "display_name": "Python 3",
   "language": "python",
   "name": "python3"
  },
  "language_info": {
   "codemirror_mode": {
    "name": "ipython",
    "version": 3
   },
   "file_extension": ".py",
   "mimetype": "text/x-python",
   "name": "python",
   "nbconvert_exporter": "python",
   "pygments_lexer": "ipython3",
   "version": "3.8.3"
  }
 },
 "nbformat": 4,
 "nbformat_minor": 4
}
