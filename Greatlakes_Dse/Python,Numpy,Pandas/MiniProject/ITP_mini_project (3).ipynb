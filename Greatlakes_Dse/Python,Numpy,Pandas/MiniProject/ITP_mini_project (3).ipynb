{
 "cells": [
  {
   "cell_type": "markdown",
   "metadata": {},
   "source": [
    "# <center>PGP Data Science Engineering</center>\n",
    "## <center>Introduction to Programming – Mini Project:</center>\n"
   ]
  },
  {
   "cell_type": "markdown",
   "metadata": {},
   "source": [
    "### Problem 1:\n",
    "\n",
    "1. Write a program to calculate area of shapes. Your program should be capable of calculating the area of a square, rectangle, triangle and a circle. The user should be presented with options to select the shape. Based on which shape is chosed by the user, the program should ask for the appropriate input and print the resulting area on the screen.\n",
    "\n",
    "When the program is run, the screen should display something like this:\n",
    "\n",
    "**Which shape would you like to calculate the area for? Please enter the option number-**<br>\n",
    "**1. Square**<br>\n",
    "**2. Rectangle**<br>\n",
    "**3. Triangle**<br>\n",
    "**4. Circle**<br>\n",
    "**Enter Option: _**\n",
    "\n",
    "Say the user enters the option 1.\n",
    "\n",
    "**Please enter the length of a side: _**\n",
    "\n",
    "If the user enters a value of 5. The output should be:\n",
    "\n",
    "**The area of the square is 25**\n",
    "\n",
    "This program should indicate that the input is invalid if the user enters a character instead of a number as input. For instance if the user enters a value of ‘a’ instead of 5 in the previous example the program should prompt:\n",
    "\n",
    "**Invalid input, please enter a number: _**\n"
   ]
  },
  {
   "cell_type": "code",
   "execution_count": 11,
   "metadata": {},
   "outputs": [
    {
     "name": "stdout",
     "output_type": "stream",
     "text": [
      "Which shape would you like to calculate the area for? \n",
      "Please enter the option number  \n",
      "1. Square \n",
      "2. Rectangle \n",
      "3. Triangle \n",
      "4. Circle \n",
      "5. Exit \n",
      "Enter Option : 4\n",
      "Enter radius : 5\n",
      "The area of circle is : 78.5\n",
      "Which shape would you like to calculate the area for? \n",
      "Please enter the option number  \n",
      "1. Square \n",
      "2. Rectangle \n",
      "3. Triangle \n",
      "4. Circle \n",
      "5. Exit \n",
      "Enter Option : 3\n",
      "Enter base : 4\n",
      "Enter height : 5\n",
      "The area of trianle is : 10.0\n",
      "Which shape would you like to calculate the area for? \n",
      "Please enter the option number  \n",
      "1. Square \n",
      "2. Rectangle \n",
      "3. Triangle \n",
      "4. Circle \n",
      "5. Exit \n",
      "Enter Option : 5\n",
      "Thanks!\n"
     ]
    }
   ],
   "source": [
    "\n",
    "while True:\n",
    "    a = int(input(\"Which shape would you like to calculate the area for? \\nPlease enter the option number  \\n1. Square \\n2. Rectangle \\n3. Triangle \\n4. Circle \\n5. Exit \\nEnter Option : \"))\n",
    "    if (a not in [1,2,3,4,5]):\n",
    "        print(\"Invalid input, please enter a valid number\")\n",
    "        continue\n",
    "    else :\n",
    "        if (a == 1):\n",
    "            l =  int(input(\"Enter length : \"))\n",
    "            print(\"The area of square is : \"+ str(l*l))\n",
    "            continue\n",
    "        elif (a == 2):\n",
    "            l =  int(input(\"Enter length : \"))\n",
    "            b =  int(input(\"Enter breadth : \"))\n",
    "            print(\"The area of rectangle is : \"+ str(l*b))\n",
    "            continue\n",
    "        elif (a == 3):\n",
    "            b =  int(input(\"Enter base : \"))\n",
    "            h =  int(input(\"Enter height : \"))\n",
    "            print(\"The area of trianle is : \"+ str(0.5*b*h))\n",
    "            continue\n",
    "        elif (a == 4):\n",
    "            r =  int(input(\"Enter radius : \"))\n",
    "            print(\"The area of circle is : \"+ str(3.14*r**2))\n",
    "            continue\n",
    "        else :\n",
    "            print(\"Thanks!\")\n",
    "            break\n",
    "        "
   ]
  },
  {
   "cell_type": "markdown",
   "metadata": {},
   "source": [
    "### Problem 2:\n",
    "\n",
    "Create and encrypter in python based on the ceaser cipher. It is a substitution cipher where each character of the original text is shifted a certain number characters in the alphabet. Write a function that would require 2 arguments – the input text to be encrypted and a key. For eg: Given the input text ‘hello’ and the key 3, the resulting encryted text would be ‘khoor’. Here you can see that every character in the string hello is shifted by 3 characters. ‘h’ has shifted to ‘k’, ‘e’ has shifted to ‘h’ and so on. If a key of 5 were used, the resulting string would be ‘mjqqt’. This function should be capable of ignoring any characters which are not alphabets. Th2 character ‘z’ entered b\n",
    "y the user for a key of 3 would result in ‘c’.\n",
    "\n",
    "Usage:<br>\n",
    "**encrypt(‘hello world!’, 3)**<br>\n",
    "**‘khoor zruog!’**\n",
    "\n",
    "Similarly create decrypter which can decode the encryted text when provided the input text and key\n",
    "\n",
    "Usage:<br>\n",
    "**decrypt(‘khoor zruog!’, 3)**<br>\n",
    "**‘hello world!’**\n",
    "\n",
    "For the sake of simplicity you can assume that input solely consists of lowercase alphabets, spaces and punctuation symbols. Numbers in the input text would also be ignored similar to symbols."
   ]
  },
  {
   "cell_type": "code",
   "execution_count": 20,
   "metadata": {},
   "outputs": [
    {
     "name": "stdout",
     "output_type": "stream",
     "text": [
      "Enter the text to encrypt : Hello WorLd\n",
      "Enter the key number : 5\n",
      "Mjqqt BtwQi\n",
      "Enter the text to decrypt : Mjqqt BtwQi\n",
      "Enter the key number : 5\n",
      "Hello WorLd\n"
     ]
    }
   ],
   "source": [
    "def encryption():\n",
    "    text = input(\"Enter the text to encrypt : \")\n",
    "    key = int(input(\"Enter the key number : \"))\n",
    "    encrypted_text = \"\"\n",
    "    for i in text:\n",
    "        if (i.isalpha()):\n",
    "            if(ord(i) in range(65,91)):\n",
    "                a = (ord(i)+key)%91\n",
    "                if(a < 65) :\n",
    "                    encrypted_text += chr(65 + a)\n",
    "                else:\n",
    "                    encrypted_text += chr(a)\n",
    "            else:\n",
    "                b = (ord(i)+key)%123\n",
    "                if(b < 97) :\n",
    "                    encrypted_text += chr(97 + b)\n",
    "                else:\n",
    "                    encrypted_text += chr(b)\n",
    "        else :\n",
    "            encrypted_text += i\n",
    "    print(encrypted_text)\n",
    "\n",
    "def decryption():   \n",
    "    text = input(\"Enter the text to decrypt : \")\n",
    "    key = int(input(\"Enter the key number : \"))\n",
    "    decrypted_text = \"\"\n",
    "    for i in text :\n",
    "        if (i.isalpha()):\n",
    "            if(ord(i) in range(65,91)):\n",
    "                a = ord(i)-key\n",
    "                if(a < 65) :\n",
    "                    decrypted_text += chr(91 - (65-a))\n",
    "                else:\n",
    "                    decrypted_text += chr(a)\n",
    "            else:\n",
    "                b = ord(i)-key\n",
    "                if(b < 97) :\n",
    "                    decrypted_text += chr(123 - (97-b))\n",
    "                else:\n",
    "                    decrypted_text += chr(b)\n",
    "        else :\n",
    "            decrypted_text += i\n",
    "    print(decrypted_text)\n",
    "            \n",
    "encryption()\n",
    "decryption()\n"
   ]
  },
  {
   "cell_type": "code",
   "execution_count": null,
   "metadata": {},
   "outputs": [],
   "source": []
  },
  {
   "cell_type": "code",
   "execution_count": null,
   "metadata": {},
   "outputs": [],
   "source": []
  }
 ],
 "metadata": {
  "kernelspec": {
   "display_name": "Python 3",
   "language": "python",
   "name": "python3"
  },
  "language_info": {
   "codemirror_mode": {
    "name": "ipython",
    "version": 3
   },
   "file_extension": ".py",
   "mimetype": "text/x-python",
   "name": "python",
   "nbconvert_exporter": "python",
   "pygments_lexer": "ipython3",
   "version": "3.7.3"
  }
 },
 "nbformat": 4,
 "nbformat_minor": 2
}
