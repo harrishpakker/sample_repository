{
 "cells": [
  {
   "cell_type": "markdown",
   "metadata": {},
   "source": [
    "There is a game in which a player needs to roll a dice 6 times. If the sum of the results of the surface of the dice is greater than 25 then a person wins otherwise he losses.\n",
    "Input\n",
    "Output\n",
    "4,6,4,6,1,6\n",
    "Wins\n",
    "5,3,2,1,1,4\n",
    "Loss\n"
   ]
  },
  {
   "cell_type": "code",
   "execution_count": 6,
   "metadata": {},
   "outputs": [
    {
     "name": "stdout",
     "output_type": "stream",
     "text": [
      "Enter the dice 1 value :5\n",
      "Enter the dice 2 value :5\n",
      "Enter the dice 3 value :5\n",
      "Enter the dice 4 value :2\n",
      "Enter the dice 5 value :9\n",
      "Enter the dice 6 value :2\n"
     ]
    },
    {
     "data": {
      "text/plain": [
       "'Win'"
      ]
     },
     "execution_count": 6,
     "metadata": {},
     "output_type": "execute_result"
    }
   ],
   "source": [
    "sum = 0\n",
    "for i in range(6):\n",
    "    a = int(input(\"Enter the dice %d value :\" %(i+1) ))\n",
    "    sum += a\n",
    "\"Win\" if sum>25 else \"Loss\""
   ]
  },
  {
   "cell_type": "markdown",
   "metadata": {},
   "source": [
    "Problem 2:\n",
    "    \n",
    "Get 2 players name, get numbers from the players. \n",
    "Count the turns and check for the multiple of 5\n",
    "Whichever player gets the multiple of 5 in less number of turns, that player wins the game\n"
   ]
  },
  {
   "cell_type": "code",
   "execution_count": 13,
   "metadata": {},
   "outputs": [
    {
     "name": "stdout",
     "output_type": "stream",
     "text": [
      "Player 1 turn :\n",
      "4\n",
      "5\n",
      "1\n",
      "Player 2 turn :\n",
      "8\n",
      "1\n",
      "1\n"
     ]
    },
    {
     "data": {
      "text/plain": [
       "'Draw'"
      ]
     },
     "execution_count": 13,
     "metadata": {},
     "output_type": "execute_result"
    }
   ],
   "source": [
    "def player_turns(player_num):\n",
    "    l = []\n",
    "    print(\"Player \"+ str(player_num) + \" turn :\")\n",
    "    while True:\n",
    "        s = 0\n",
    "        i = int(input())\n",
    "        l.append(i)\n",
    "        s = sum(l)\n",
    "        if(s%5==0):\n",
    "            return len(l)\n",
    "x = player_turns(1)\n",
    "y = player_turns(2)\n",
    "\"Player 1 wins\" if x<y else \"Player 2 wins\" if x!=y else \"Draw\"\n"
   ]
  },
  {
   "cell_type": "markdown",
   "metadata": {},
   "source": [
    "Game 3: Stone Paper Scissor Cut\n",
    "There are two players. There are there options, stone, paper, scissor. Each player has one of the three options to select.\n",
    "Choice\n",
    "Decision\n",
    "Player A\n",
    "Player B\n",
    "\n",
    "Stone \n",
    "Stone\n",
    "DRAW\n",
    "Stone\n",
    "Paper\n",
    "Player A wins\n",
    "Stone\n",
    "Scissor\n",
    "Player B wins\n",
    "Paper\n",
    "Stone\n",
    "Player B wins\n",
    "Paper\n",
    "Paper\n",
    "DRAW\n",
    "Paper\n",
    "Scissor\n",
    "Player A wins\n",
    "Scissor\n",
    "Scissor\n",
    "DRAW\n",
    "Scissor\n",
    "Stone\n",
    "Player A wins\n",
    "Scissor\n",
    "Paper\n",
    "Player B wins\n",
    "\n",
    "Input\n",
    "Output\n",
    "Player A\n",
    "Player B\n",
    "\n",
    "Stone\n",
    "PAPER\n",
    "Point to A.Score of A  1 , Score of B  0\n",
    "Paper\n",
    "sciSSOr\n",
    "Point to A.Score of A  2 , Score of B  0\n",
    "S to ne\n",
    "SCIssor\n",
    "Point to B.Score of A  2 , Score of B  1\n",
    "PaPEr\n",
    "PAPER\n",
    "Draw\n",
    "SCIssor\n",
    "stOne\n",
    "Point to A.Score of A  3 , Score of B  1\n",
    "Scissor\n",
    "SciSSOr\n",
    "Draw\n",
    "PAPER\n",
    "StonE\n",
    "Point to B.Score of A  3 , Score of B  2\n",
    "stone\n",
    "PAper\n",
    "Point to A.Score of A  4 , Score of B  2\n",
    "PAPEr\n",
    "ScisSor\n",
    "Point to A.Score of A  5 , Score of B  2\n",
    "N/A\n",
    "N/A\n",
    "A Wins\n",
    "\n",
    "Each win of a player will be counted as a pint for the player. The game continues until any of the player scores 5."
   ]
  },
  {
   "cell_type": "code",
   "execution_count": 25,
   "metadata": {},
   "outputs": [
    {
     "name": "stdout",
     "output_type": "stream",
     "text": [
      "Player 1 : rock\n",
      "Player 2 : paper\n",
      "0\n",
      "0\n",
      "Points to Player 2\n",
      "Player 1 : paper\n",
      "Player 2 : rock\n",
      "0\n",
      "1\n",
      "Points to Player 1\n",
      "Player 1 : rock\n",
      "Player 2 : paper\n",
      "1\n",
      "1\n",
      "Points to Player 2\n",
      "Player 1 : rock\n",
      "Player 2 : paper\n",
      "1\n",
      "2\n",
      "Points to Player 2\n",
      "Player 1 : rock\n",
      "Player 2 : scissor\n",
      "1\n",
      "3\n",
      "Points to Player 1\n",
      "Player 1 : scissor\n",
      "Player 2 : rock\n",
      "2\n",
      "3\n",
      "Points to Player 2\n",
      "Player 1 : rock\n",
      "Player 2 : paper\n",
      "2\n",
      "4\n",
      "Points to Player 2\n",
      "Player 1 : scissor\n",
      "Player 2 : rock\n",
      "2\n",
      "5\n",
      "Points to Player 2\n"
     ]
    },
    {
     "data": {
      "text/plain": [
       "'Player 2 wins'"
      ]
     },
     "execution_count": 25,
     "metadata": {},
     "output_type": "execute_result"
    }
   ],
   "source": [
    "point1,point2 = 0,0\n",
    "while (point1<6 and point2<6):\n",
    "    player1 = input(\"Player 1 : \").lower().replace(' ','')\n",
    "    player2 = input(\"Player 2 : \").lower().replace(' ','')\n",
    "    print(point1)\n",
    "    print(point2)\n",
    "    if(player1==player2):\n",
    "        print(\"Draw\")\n",
    "    elif(player1==\"rock\" and player2==\"scissor\"):\n",
    "        print(\"Points to Player 1\")\n",
    "        point1+=1\n",
    "    elif(player1==\"scissor\" and player2==\"paper\"):\n",
    "        print(\"Points to Player 1\")\n",
    "        point1+=1\n",
    "    elif(player1==\"paper\" and player2==\"rock\"):\n",
    "        print(\"Points to Player 1\")\n",
    "        point1+=1\n",
    "    elif(player2==\"rock\" and player1==\"scissor\"):\n",
    "        print(\"Points to Player 2\")\n",
    "        point2+=1\n",
    "    elif(player2==\"scissor\" and player1==\"paper\"):\n",
    "        print(\"Points to Player 2\")\n",
    "        point2+=1\n",
    "    elif(player2==\"paper\" and player1==\"rock\"):\n",
    "        print(\"Points to Player 2\")\n",
    "        point2+=1\n",
    "\"Player 1 wins\" if point1>point2 else \"Player 2 wins\""
   ]
  },
  {
   "cell_type": "markdown",
   "metadata": {},
   "source": [
    "In this game there are 4 rounds. The rules to qualify each round are as follows.\n",
    "Round 1: A participant need to score more than 15, in order to qualify for round 2. Otherwise a message as “ Name of the Participant is eliminated from round 1” should display\n",
    "Round 2: A participant need to score less than 8, in order to qualify for round 3. Otherwise a message as “Name of the Participant is eliminated from round 2” should display\n",
    "Round 3: A participant need to score between 3 and 9, in order to qualify for round 4. Otherwise a message as “Name of the Participant is eliminated from round 3” should display\n",
    "Round 4: Highest A participant need to score anything but zero, in order to qualify as potential Winner. Otherwise a message as “Name of the Participant is eliminated from round 4” should display.\n",
    "Participant who qualifies in the all four round and gets maximum score in Round 4 wins the game and a declaration as “Name of the Participant is the Winner” should display.\n",
    "For rest of the participants a declaration as “Name of the Participant has lost the game” should display.\n",
    "\n",
    "\n",
    "Participant Name\n",
    "Input\n",
    "Status\n",
    "A\n",
    "A:10,9,5,10\n",
    "A is eliminated from round 1\n",
    "B\n",
    "B:17,6,6,4\n",
    "B is eliminated from round 4\n",
    "C\n",
    "C:20,7,8,3\n",
    "C has lost the game\n",
    "D\n",
    "D:19,6,4,5\n",
    "D has lost the game\n",
    "E\n",
    "E:18,7,10,5\n",
    "E is eliminated from round 3\n",
    "F\n",
    "F:16,5,4,6\n",
    "F is the Winner\n",
    "G\n",
    "G:18,9,8,7\n",
    "G is eliminated from round 2\n",
    "\n",
    "\n"
   ]
  },
  {
   "cell_type": "code",
   "execution_count": 3,
   "metadata": {},
   "outputs": [
    {
     "name": "stdout",
     "output_type": "stream",
     "text": [
      "Enter Partcipant Name : a\n",
      "10,9,5,10\n",
      "a has been eliminated from round 1\n",
      "Enter Partcipant Name : B\n",
      "17,6,6,4\n",
      "B is the winner\n",
      "Enter Partcipant Name : g\n",
      "18,9,8,7\n",
      "g has been eliminated from round 2\n",
      "Enter Partcipant Name : \n",
      "Thanks for playing!\n"
     ]
    }
   ],
   "source": [
    "l = []\n",
    "name = \"\"\n",
    "while True:\n",
    "    name = input(\"Enter Partcipant Name : \")\n",
    "    if (name==\"\"):\n",
    "        print(\"Thanks for playing!\")\n",
    "        break\n",
    "    l = input().split(',')\n",
    "    n = [int(i) for i in l]\n",
    "    if(n[0]>15):\n",
    "        if(n[1]<8):\n",
    "            if(n[2]>3 and n[2]<9):\n",
    "                if(n[3]!=0):\n",
    "                    print(name + \" is the winner\")\n",
    "                else:\n",
    "                    print(name + \" has been eliminated from round 4\")\n",
    "            else:\n",
    "                print(name + \" has been eliminated from round 3\")\n",
    "        else:\n",
    "            print(name + \" has been eliminated from round 2\")\n",
    "    else:\n",
    "        print(name + \" has been eliminated from round 1\")"
   ]
  },
  {
   "cell_type": "code",
   "execution_count": null,
   "metadata": {},
   "outputs": [],
   "source": []
  }
 ],
 "metadata": {
  "kernelspec": {
   "display_name": "Python 3",
   "language": "python",
   "name": "python3"
  },
  "language_info": {
   "codemirror_mode": {
    "name": "ipython",
    "version": 3
   },
   "file_extension": ".py",
   "mimetype": "text/x-python",
   "name": "python",
   "nbconvert_exporter": "python",
   "pygments_lexer": "ipython3",
   "version": "3.7.3"
  }
 },
 "nbformat": 4,
 "nbformat_minor": 2
}
