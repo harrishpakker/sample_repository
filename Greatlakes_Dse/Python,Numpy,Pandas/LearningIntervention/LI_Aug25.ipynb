{
 "cells": [
  {
   "cell_type": "markdown",
   "metadata": {},
   "source": [
    "Find the total of matching letters for a string\n",
    "\n",
    "Get the below input from user:\n",
    "    • Mention the number of letters for which we are looking for match.\n",
    "    • Mention the letters.\n",
    "    • Mention the piece of string from which we are looking for the match. \n",
    "\n",
    "Input:\n",
    "Provide the number of Letter: 3\n",
    "Provide the letters: a#g#r\n",
    "Mention the string: wertyuiopsadfghjklzxcvbnbmnAGwqgfdgESRSRDTFHGHGJGJ"
   ]
  },
  {
   "cell_type": "code",
   "execution_count": 8,
   "metadata": {},
   "outputs": [
    {
     "name": "stdout",
     "output_type": "stream",
     "text": [
      "Provide the number of Letter : 1\n",
      "Provide the Letters : a\n",
      "Mention the string : efssdazgdagzrdgfdzhfzgfAAAAA\n",
      "Count of a is : 2\n"
     ]
    }
   ],
   "source": [
    "num = int(input(\"Provide the number of Letter : \"))\n",
    "letters = input(\"Provide the Letters : \").split('#')\n",
    "text = input(\"Mention the string : \")\n",
    "for i in range(num):\n",
    "    print(\"Count of \"+letters[i]+\" is : \" + str(text.count(letters[i])))"
   ]
  },
  {
   "cell_type": "markdown",
   "metadata": {},
   "source": [
    "Validity of ATM Card Number\n",
    "    • For an online payment Customers need to provide their Debit Card Number. The transactional site receives only a special type of Cards. Cards which possess following Criterion, through those only payment is possible.\n",
    "    • Criterion 1: It should be a 14-digit number.\n",
    "    • Criterion 2: 3 Digits- 4 Digits - 4 Digits - 3 Digits\n",
    "    • Criterion 3: There should not be any special characters apart for \"-\" or letters.\n",
    "    • Criterion 4: There should not be any 3 consecutive repeated digits.\n",
    "    • Criterion 5: There should not be any 0 in first three digits.\n",
    "    • Criterion 6: Alternative group must end with same Digit. As in the first and third group of numbers must end with same digit and the second and forth group of numbers must end with same digits.\n",
    "    • If any of the Criterion does not get satisfied show the \"Card number is Invalid\" otherwise show \"Card number is valid\"\n",
    "\n",
    "\n",
    "Input: Provide the Card Number: 123-2345-2343-235\n",
    "Output: Card number is valid\n"
   ]
  },
  {
   "cell_type": "code",
   "execution_count": 17,
   "metadata": {},
   "outputs": [
    {
     "name": "stdout",
     "output_type": "stream",
     "text": [
      "Provide the Card Number : 123-2345-2343-2355\n",
      "CARD NUMBER IS INVALID\n"
     ]
    }
   ],
   "source": [
    "def card_check():\n",
    "    f = 0\n",
    "    card_number = input(\"Provide the Card Number : \")\n",
    "    try :\n",
    "        card_numeric = [int(i) for i in card_number.replace('-','')]\n",
    "    except:\n",
    "        print(\"INSIDE EXCEPT\")\n",
    "        f +=1\n",
    "    if(f >0):\n",
    "        print(\"CARD NUMBER IS INVALID\")\n",
    "        return\n",
    "    card = card_number.split('-')\n",
    "\n",
    "    for i in range(len(card_numeric)-2):\n",
    "        if(card_numeric[i] == card_numeric[i+1] and card_numeric[i+1] == card_numeric[i+2]):\n",
    "            f += 1\n",
    "    if(len(card_numeric)==14):\n",
    "        if(len(card[0])==3 and len(card[1])==4 and len(card[2])==4 and len(card[3])==3):\n",
    "            if(card[0].isnumeric() and card[1].isnumeric() and card[2].isnumeric() and card[3].isnumeric()):\n",
    "                if('0' not in card[0]):\n",
    "                    if(card[0][2] == card[2][3] and card[1][3] == card[3][2] and f==0):\n",
    "                        print(\"CARD NUMBER IS VALID\")\n",
    "                    else:\n",
    "                        print(\"CARD NUMBER IS INVALID\")\n",
    "                else:\n",
    "                    print(\"CARD NUMBER IS INVALID\")\n",
    "            else:\n",
    "                print(\"CARD NUMBER IS INVALID\")\n",
    "        else:\n",
    "            print(\"CARD NUMBER IS INVALID\")\n",
    "    else:\n",
    "        print(\"CARD NUMBER IS INVALID\")\n",
    "    \n",
    "card_check()\n",
    "                        \n",
    "        "
   ]
  },
  {
   "cell_type": "code",
   "execution_count": null,
   "metadata": {},
   "outputs": [],
   "source": []
  }
 ],
 "metadata": {
  "kernelspec": {
   "display_name": "Python 3",
   "language": "python",
   "name": "python3"
  },
  "language_info": {
   "codemirror_mode": {
    "name": "ipython",
    "version": 3
   },
   "file_extension": ".py",
   "mimetype": "text/x-python",
   "name": "python",
   "nbconvert_exporter": "python",
   "pygments_lexer": "ipython3",
   "version": "3.7.3"
  }
 },
 "nbformat": 4,
 "nbformat_minor": 2
}
