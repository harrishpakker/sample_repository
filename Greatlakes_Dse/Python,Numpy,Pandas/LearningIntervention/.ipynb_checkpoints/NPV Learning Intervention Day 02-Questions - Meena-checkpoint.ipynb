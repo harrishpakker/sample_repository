{
 "cells": [
  {
   "cell_type": "markdown",
   "metadata": {},
   "source": [
    "<p style=\"background-color:#b5e7a0;font-size:18px;color:#4040a1\" size=\"4\"><b> Import the necessary libraries: </b> </p>"
   ]
  },
  {
   "cell_type": "code",
   "execution_count": 2,
   "metadata": {},
   "outputs": [],
   "source": [
    "import numpy as np\n",
    "import pandas as pd\n",
    "import matplotlib.pyplot as plt\n",
    "import seaborn as sns\n",
    "import random"
   ]
  },
  {
   "cell_type": "markdown",
   "metadata": {},
   "source": [
    "<p style=\"background-color:#b5e7a0;font-size:18px;color:#4040a1\" size=\"4\"><b> Exercise 1: Write a NumPy program to create a 5x5 array with random values with 3 decimal places  </b> </p>\n"
   ]
  },
  {
   "cell_type": "code",
   "execution_count": 17,
   "metadata": {},
   "outputs": [
    {
     "data": {
      "text/plain": [
       "array([[0.677, 0.648, 0.243, 0.331, 0.979],\n",
       "       [0.116, 0.527, 0.136, 0.812, 0.603],\n",
       "       [0.226, 0.675, 0.153, 0.696, 0.811],\n",
       "       [0.903, 0.422, 0.046, 0.239, 0.82 ],\n",
       "       [0.508, 0.235, 0.091, 0.002, 0.806]])"
      ]
     },
     "execution_count": 17,
     "metadata": {},
     "output_type": "execute_result"
    }
   ],
   "source": [
    "# np.random.randn(25).reshape(5,5).round(3)\n",
    "np.random.random((5,5)).round(3)\n",
    "# np.set_printoptions(precision=3)"
   ]
  },
  {
   "cell_type": "code",
   "execution_count": null,
   "metadata": {},
   "outputs": [],
   "source": []
  },
  {
   "cell_type": "markdown",
   "metadata": {},
   "source": [
    "<p style=\"background-color:#b5e7a0;font-size:18px;color:#4040a1\" size=\"4\"><b> Exercise 2: Create an array with 10 equally spaced elements in the interval 10 to 100. Limit the number of items in the print statment to 6 elements\n",
    "</b> </p>\n"
   ]
  },
  {
   "cell_type": "code",
   "execution_count": 19,
   "metadata": {},
   "outputs": [
    {
     "data": {
      "text/plain": [
       "array([ 10.,  20.,  30., ...,  80.,  90., 100.])"
      ]
     },
     "execution_count": 19,
     "metadata": {},
     "output_type": "execute_result"
    }
   ],
   "source": [
    "a = np.linspace(10,100,10)\n",
    "np.set_printoptions(threshold=6)\n",
    "a"
   ]
  },
  {
   "cell_type": "code",
   "execution_count": 20,
   "metadata": {},
   "outputs": [],
   "source": [
    "np.set_printoptions(threshold=1000)"
   ]
  },
  {
   "cell_type": "code",
   "execution_count": null,
   "metadata": {},
   "outputs": [],
   "source": []
  },
  {
   "cell_type": "markdown",
   "metadata": {},
   "source": [
    "<p style=\"background-color:#b5e7a0;font-size:18px;color:#4040a1\" size=\"4\"><b> Exercise 3: Create 5 random integers from the interval 0 to 19. Sort the elements and prints its index values \n",
    "    \n",
    "     # The above is asked in question number 9 (TH - 1) as rank\n",
    "</b> </p>\n"
   ]
  },
  {
   "cell_type": "code",
   "execution_count": 28,
   "metadata": {},
   "outputs": [
    {
     "name": "stdout",
     "output_type": "stream",
     "text": [
      "[ 9  4 15  0 17]\n"
     ]
    },
    {
     "data": {
      "text/plain": [
       "array([3, 1, 0, 2, 4])"
      ]
     },
     "execution_count": 28,
     "metadata": {},
     "output_type": "execute_result"
    }
   ],
   "source": [
    "np.random.seed(10)\n",
    "a = np.random.randint(0,19,5)\n",
    "print(a)\n",
    "a.argsort()"
   ]
  },
  {
   "cell_type": "code",
   "execution_count": 29,
   "metadata": {},
   "outputs": [
    {
     "name": "stdout",
     "output_type": "stream",
     "text": [
      "[3 2 4 1 5]\n"
     ]
    }
   ],
   "source": [
    "from scipy.stats import rankdata\n",
    "print(rankdata(a,method = 'min'))"
   ]
  },
  {
   "cell_type": "markdown",
   "metadata": {},
   "source": [
    "<p style=\"background-color:#b5e7a0;font-size:18px;color:#4040a1\" size=\"4\"><b> Exercise 4: For the given numeric array print the rank array with same shape of numeric array. \n",
    "    \n",
    "</b> </p>\n"
   ]
  },
  {
   "cell_type": "code",
   "execution_count": 31,
   "metadata": {},
   "outputs": [
    {
     "data": {
      "text/plain": [
       "array([[ 9,  4, 15,  0, 17],\n",
       "       [16, 17,  8,  9,  0]])"
      ]
     },
     "execution_count": 31,
     "metadata": {},
     "output_type": "execute_result"
    }
   ],
   "source": [
    "np.random.seed(10)\n",
    "r1 = np.random.randint(20,size = [2,5])\n",
    "r1"
   ]
  },
  {
   "cell_type": "code",
   "execution_count": 33,
   "metadata": {},
   "outputs": [
    {
     "name": "stdout",
     "output_type": "stream",
     "text": [
      "[[5 3 7 1 9]\n",
      " [8 9 4 5 1]]\n"
     ]
    }
   ],
   "source": [
    "print(rankdata(r1,method = 'min').reshape(2,5))"
   ]
  },
  {
   "cell_type": "markdown",
   "metadata": {},
   "source": [
    "<p style=\"background-color:#b5e7a0;font-size:18px;color:#4040a1\" size=\"4\"><b> Exercise 5: Subtract the 1d array y_1d from the 2d array x_2d, such that each item of y_1d subtracts from respective row of x_2d.\n",
    "    \n",
    "</b> </p>\n"
   ]
  },
  {
   "cell_type": "code",
   "execution_count": null,
   "metadata": {},
   "outputs": [],
   "source": []
  },
  {
   "cell_type": "code",
   "execution_count": null,
   "metadata": {},
   "outputs": [],
   "source": []
  },
  {
   "cell_type": "markdown",
   "metadata": {},
   "source": [
    "<p style=\"background-color:#b5e7a0;font-size:18px;color:#4040a1\" size=\"4\"><b> Exercise 6: Find out the unique game types present in the games dataset\n",
    "    \n",
    "</b> </p>\n"
   ]
  },
  {
   "cell_type": "code",
   "execution_count": 36,
   "metadata": {},
   "outputs": [
    {
     "data": {
      "text/plain": [
       "2"
      ]
     },
     "execution_count": 36,
     "metadata": {},
     "output_type": "execute_result"
    }
   ],
   "source": [
    "games = pd.read_csv('games.csv')\n",
    "games.head()\n",
    "games['type'].nunique()"
   ]
  },
  {
   "cell_type": "code",
   "execution_count": 35,
   "metadata": {},
   "outputs": [
    {
     "name": "stdout",
     "output_type": "stream",
     "text": [
      "<class 'pandas.core.frame.DataFrame'>\n",
      "RangeIndex: 150 entries, 0 to 149\n",
      "Data columns (total 20 columns):\n",
      " #   Column                Non-Null Count  Dtype  \n",
      "---  ------                --------------  -----  \n",
      " 0   id                    150 non-null    int64  \n",
      " 1   type                  150 non-null    object \n",
      " 2   name                  150 non-null    object \n",
      " 3   yearpublished         150 non-null    int64  \n",
      " 4   minplayers            150 non-null    int64  \n",
      " 5   maxplayers            150 non-null    int64  \n",
      " 6   playingtime           150 non-null    int64  \n",
      " 7   minplaytime           150 non-null    int64  \n",
      " 8   maxplaytime           150 non-null    int64  \n",
      " 9   minage                150 non-null    int64  \n",
      " 10  users_rated           150 non-null    int64  \n",
      " 11  average_rating        150 non-null    float64\n",
      " 12  bayes_average_rating  150 non-null    float64\n",
      " 13  total_owners          150 non-null    int64  \n",
      " 14  total_traders         150 non-null    int64  \n",
      " 15  total_wanters         150 non-null    int64  \n",
      " 16  total_wishers         150 non-null    int64  \n",
      " 17  total_comments        150 non-null    int64  \n",
      " 18  total_weights         150 non-null    int64  \n",
      " 19  average_weight        150 non-null    float64\n",
      "dtypes: float64(3), int64(15), object(2)\n",
      "memory usage: 23.6+ KB\n"
     ]
    }
   ],
   "source": [
    "games.info()"
   ]
  },
  {
   "cell_type": "markdown",
   "metadata": {},
   "source": [
    "<p style=\"background-color:#b5e7a0;font-size:18px;color:#4040a1\" size=\"4\"><b> Exercise 7: Write a code to identify number of duplicates in name column \n",
    "    \n",
    "</b> </p>\n"
   ]
  },
  {
   "cell_type": "code",
   "execution_count": 39,
   "metadata": {},
   "outputs": [
    {
     "data": {
      "text/plain": [
       "False    150\n",
       "Name: name, dtype: int64"
      ]
     },
     "execution_count": 39,
     "metadata": {},
     "output_type": "execute_result"
    }
   ],
   "source": [
    "games['name'].duplicated().value_counts()"
   ]
  },
  {
   "cell_type": "code",
   "execution_count": 43,
   "metadata": {},
   "outputs": [
    {
     "data": {
      "text/plain": [
       "148"
      ]
     },
     "execution_count": 43,
     "metadata": {},
     "output_type": "execute_result"
    }
   ],
   "source": [
    "\n",
    "games['type'].duplicated().sum()"
   ]
  },
  {
   "cell_type": "markdown",
   "metadata": {},
   "source": [
    "<p style=\"background-color:#b5e7a0;font-size:18px;color:#4040a1\" size=\"4\"><b> Exercise 8: Write a code to identify the highest number of year in which the games were published \n",
    "    \n",
    "</b> </p>\n"
   ]
  },
  {
   "cell_type": "code",
   "execution_count": 51,
   "metadata": {},
   "outputs": [
    {
     "data": {
      "text/plain": [
       "2012    14\n",
       "Name: yearpublished, dtype: int64"
      ]
     },
     "execution_count": 51,
     "metadata": {},
     "output_type": "execute_result"
    }
   ],
   "source": [
    "games['yearpublished'].value_counts().head(1)\n"
   ]
  },
  {
   "cell_type": "code",
   "execution_count": 57,
   "metadata": {},
   "outputs": [
    {
     "data": {
      "text/plain": [
       "0    2012\n",
       "dtype: int64"
      ]
     },
     "execution_count": 57,
     "metadata": {},
     "output_type": "execute_result"
    }
   ],
   "source": [
    "games['yearpublished'].mode()"
   ]
  },
  {
   "cell_type": "code",
   "execution_count": 59,
   "metadata": {},
   "outputs": [
    {
     "data": {
      "text/plain": [
       "2012"
      ]
     },
     "execution_count": 59,
     "metadata": {},
     "output_type": "execute_result"
    }
   ],
   "source": [
    "games['yearpublished'].value_counts().idxmax()"
   ]
  },
  {
   "cell_type": "markdown",
   "metadata": {},
   "source": [
    "<p style=\"background-color:#b5e7a0;font-size:18px;color:#4040a1\" size=\"4\"><b> Exercise 9: Write a code to show how the playingtime is skewed in the dataset\n",
    "    \n",
    "</b> </p>\n"
   ]
  },
  {
   "cell_type": "code",
   "execution_count": 62,
   "metadata": {},
   "outputs": [
    {
     "data": {
      "text/plain": [
       "1.9976396074330593"
      ]
     },
     "execution_count": 62,
     "metadata": {},
     "output_type": "execute_result"
    }
   ],
   "source": [
    "games['playingtime'].skew()"
   ]
  },
  {
   "cell_type": "code",
   "execution_count": 66,
   "metadata": {},
   "outputs": [
    {
     "data": {
      "text/plain": [
       "(array([ 5., 22., 18., 35., 24.,  8., 15.,  2., 17.,  0.,  0.,  0.,  2.,\n",
       "         0.,  0.,  0.,  1.,  0.,  0.,  1.]),\n",
       " array([  0.,  30.,  60.,  90., 120., 150., 180., 210., 240., 270., 300.,\n",
       "        330., 360., 390., 420., 450., 480., 510., 540., 570., 600.]),\n",
       " <BarContainer object of 20 artists>)"
      ]
     },
     "execution_count": 66,
     "metadata": {},
     "output_type": "execute_result"
    },
    {
     "data": {
      "image/png": "[encoded data removed]",
      "text/plain": [
       "<Figure size 432x288 with 1 Axes>"
      ]
     },
     "metadata": {
      "needs_background": "light"
     },
     "output_type": "display_data"
    }
   ],
   "source": [
    "plt.hist(games['playingtime'],bins = 20)"
   ]
  },
  {
   "cell_type": "markdown",
   "metadata": {},
   "source": [
    "<p style=\"background-color:#b5e7a0;font-size:18px;color:#4040a1\" size=\"4\"><b> Exercise 10: Write a code to find out the kurtosis in playingtime. Plot the variable to describe the Kurtosis\n",
    "    \n",
    "</b> </p>\n"
   ]
  },
  {
   "cell_type": "code",
   "execution_count": 67,
   "metadata": {},
   "outputs": [
    {
     "data": {
      "text/plain": [
       "7.07467945049797"
      ]
     },
     "execution_count": 67,
     "metadata": {},
     "output_type": "execute_result"
    }
   ],
   "source": [
    "games['playingtime'].kurtosis()"
   ]
  },
  {
   "cell_type": "code",
   "execution_count": 68,
   "metadata": {},
   "outputs": [
    {
     "data": {
      "text/plain": [
       "<AxesSubplot:xlabel='playingtime', ylabel='Density'>"
      ]
     },
     "execution_count": 68,
     "metadata": {},
     "output_type": "execute_result"
    },
    {
     "data": {
      "image/png": "[encoded data removed]",
      "text/plain": [
       "<Figure size 432x288 with 1 Axes>"
      ]
     },
     "metadata": {
      "needs_background": "light"
     },
     "output_type": "display_data"
    }
   ],
   "source": [
    "sns.kdeplot(games['playingtime'])"
   ]
  },
  {
   "cell_type": "markdown",
   "metadata": {},
   "source": [
    "<p style=\"background-color:#b5e7a0;font-size:18px;color:#4040a1\" size=\"4\"><b> Exercise 11: Find the rank of games as per there average_rating (set method to max)\n",
    "    \n",
    "</b> </p>\n"
   ]
  },
  {
   "cell_type": "code",
   "execution_count": 70,
   "metadata": {},
   "outputs": [
    {
     "data": {
      "text/plain": [
       "0        3.0\n",
       "1        5.0\n",
       "2        4.0\n",
       "3        6.0\n",
       "4       10.0\n",
       "       ...  \n",
       "145    146.0\n",
       "146    120.0\n",
       "147    136.0\n",
       "148    128.0\n",
       "149    118.0\n",
       "Name: average_rating, Length: 150, dtype: float64"
      ]
     },
     "execution_count": 70,
     "metadata": {},
     "output_type": "execute_result"
    }
   ],
   "source": [
    "games['average_rating'].rank(ascending = 0,method = 'max')"
   ]
  },
  {
   "cell_type": "code",
   "execution_count": null,
   "metadata": {},
   "outputs": [],
   "source": []
  },
  {
   "cell_type": "markdown",
   "metadata": {},
   "source": [
    "<p style=\"background-color:#b5e7a0;font-size:18px;color:#4040a1\" size=\"4\"><b> Exercise 12: Find the rank of games as per there average_rating, where the rank values must be continuous without gaps in between"
   ]
  },
  {
   "cell_type": "code",
   "execution_count": 71,
   "metadata": {},
   "outputs": [
    {
     "data": {
      "text/plain": [
       "0        3.0\n",
       "1        5.0\n",
       "2        4.0\n",
       "3        6.0\n",
       "4       10.0\n",
       "       ...  \n",
       "145    146.0\n",
       "146    120.0\n",
       "147    136.0\n",
       "148    128.0\n",
       "149    118.0\n",
       "Name: average_rating, Length: 150, dtype: float64"
      ]
     },
     "execution_count": 71,
     "metadata": {},
     "output_type": "execute_result"
    }
   ],
   "source": [
    "games['average_rating'].rank(ascending = 0,method = 'dense')"
   ]
  },
  {
   "cell_type": "code",
   "execution_count": null,
   "metadata": {},
   "outputs": [],
   "source": []
  },
  {
   "cell_type": "markdown",
   "metadata": {},
   "source": [
    "<p style=\"background-color:#b5e7a0;font-size:18px;color:#4040a1\" size=\"4\"><b> Exercise 13: Write a code to show the average playingtime of each game type"
   ]
  },
  {
   "cell_type": "code",
   "execution_count": 73,
   "metadata": {},
   "outputs": [
    {
     "data": {
      "text/plain": [
       "type\n",
       "boardgame             115.4\n",
       "boardgameexpansion    135.2\n",
       "Name: playingtime, dtype: float64"
      ]
     },
     "execution_count": 73,
     "metadata": {},
     "output_type": "execute_result"
    }
   ],
   "source": [
    "games.groupby(by = 'type').mean()['playingtime']"
   ]
  },
  {
   "cell_type": "code",
   "execution_count": null,
   "metadata": {},
   "outputs": [],
   "source": []
  },
  {
   "cell_type": "markdown",
   "metadata": {},
   "source": [
    "<p style=\"background-color:#b5e7a0;font-size:18px;color:#4040a1\" size=\"4\"><b> Exercise 14: Provide the summary of the variables with object data types "
   ]
  },
  {
   "cell_type": "code",
   "execution_count": 74,
   "metadata": {},
   "outputs": [
    {
     "data": {
      "text/html": [
       "<div>\n",
       "<style scoped>\n",
       "    .dataframe tbody tr th:only-of-type {\n",
       "        vertical-align: middle;\n",
       "    }\n",
       "\n",
       "    .dataframe tbody tr th {\n",
       "        vertical-align: top;\n",
       "    }\n",
       "\n",
       "    .dataframe thead th {\n",
       "        text-align: right;\n",
       "    }\n",
       "</style>\n",
       "<table border=\"1\" class=\"dataframe\">\n",
       "  <thead>\n",
       "    <tr style=\"text-align: right;\">\n",
       "      <th></th>\n",
       "      <th>id</th>\n",
       "      <th>yearpublished</th>\n",
       "      <th>minplayers</th>\n",
       "      <th>maxplayers</th>\n",
       "      <th>playingtime</th>\n",
       "      <th>minplaytime</th>\n",
       "      <th>maxplaytime</th>\n",
       "      <th>minage</th>\n",
       "      <th>users_rated</th>\n",
       "      <th>average_rating</th>\n",
       "      <th>bayes_average_rating</th>\n",
       "      <th>total_owners</th>\n",
       "      <th>total_traders</th>\n",
       "      <th>total_wanters</th>\n",
       "      <th>total_wishers</th>\n",
       "      <th>total_comments</th>\n",
       "      <th>total_weights</th>\n",
       "      <th>average_weight</th>\n",
       "    </tr>\n",
       "  </thead>\n",
       "  <tbody>\n",
       "    <tr>\n",
       "      <th>count</th>\n",
       "      <td>150.000000</td>\n",
       "      <td>150.00000</td>\n",
       "      <td>150.000000</td>\n",
       "      <td>150.000000</td>\n",
       "      <td>150.000000</td>\n",
       "      <td>150.000000</td>\n",
       "      <td>150.000000</td>\n",
       "      <td>150.000000</td>\n",
       "      <td>150.000000</td>\n",
       "      <td>150.000000</td>\n",
       "      <td>150.000000</td>\n",
       "      <td>150.000000</td>\n",
       "      <td>150.000000</td>\n",
       "      <td>150.000000</td>\n",
       "      <td>150.000000</td>\n",
       "      <td>150.000000</td>\n",
       "      <td>150.000000</td>\n",
       "      <td>150.000000</td>\n",
       "    </tr>\n",
       "    <tr>\n",
       "      <th>mean</th>\n",
       "      <td>44426.813333</td>\n",
       "      <td>1961.04000</td>\n",
       "      <td>1.993333</td>\n",
       "      <td>4.620000</td>\n",
       "      <td>122.000000</td>\n",
       "      <td>102.133333</td>\n",
       "      <td>122.000000</td>\n",
       "      <td>11.580000</td>\n",
       "      <td>8203.100000</td>\n",
       "      <td>7.497297</td>\n",
       "      <td>7.052961</td>\n",
       "      <td>10335.913333</td>\n",
       "      <td>182.946667</td>\n",
       "      <td>514.733333</td>\n",
       "      <td>2122.253333</td>\n",
       "      <td>1897.993333</td>\n",
       "      <td>797.213333</td>\n",
       "      <td>2.879184</td>\n",
       "    </tr>\n",
       "    <tr>\n",
       "      <th>std</th>\n",
       "      <td>53361.197107</td>\n",
       "      <td>379.33902</td>\n",
       "      <td>0.709444</td>\n",
       "      <td>1.812225</td>\n",
       "      <td>86.441585</td>\n",
       "      <td>84.857454</td>\n",
       "      <td>86.441585</td>\n",
       "      <td>1.994186</td>\n",
       "      <td>9244.923207</td>\n",
       "      <td>0.648806</td>\n",
       "      <td>0.978584</td>\n",
       "      <td>11156.670410</td>\n",
       "      <td>199.526849</td>\n",
       "      <td>405.150261</td>\n",
       "      <td>1824.291383</td>\n",
       "      <td>2028.184732</td>\n",
       "      <td>979.104053</td>\n",
       "      <td>0.724372</td>\n",
       "    </tr>\n",
       "    <tr>\n",
       "      <th>min</th>\n",
       "      <td>1.000000</td>\n",
       "      <td>-2200.00000</td>\n",
       "      <td>0.000000</td>\n",
       "      <td>0.000000</td>\n",
       "      <td>0.000000</td>\n",
       "      <td>0.000000</td>\n",
       "      <td>0.000000</td>\n",
       "      <td>0.000000</td>\n",
       "      <td>10.000000</td>\n",
       "      <td>4.200000</td>\n",
       "      <td>0.000000</td>\n",
       "      <td>43.000000</td>\n",
       "      <td>3.000000</td>\n",
       "      <td>4.000000</td>\n",
       "      <td>5.000000</td>\n",
       "      <td>4.000000</td>\n",
       "      <td>0.000000</td>\n",
       "      <td>0.000000</td>\n",
       "    </tr>\n",
       "    <tr>\n",
       "      <th>25%</th>\n",
       "      <td>1566.000000</td>\n",
       "      <td>1997.00000</td>\n",
       "      <td>2.000000</td>\n",
       "      <td>4.000000</td>\n",
       "      <td>60.000000</td>\n",
       "      <td>45.000000</td>\n",
       "      <td>60.000000</td>\n",
       "      <td>10.000000</td>\n",
       "      <td>802.000000</td>\n",
       "      <td>7.398950</td>\n",
       "      <td>6.283012</td>\n",
       "      <td>1556.000000</td>\n",
       "      <td>42.250000</td>\n",
       "      <td>91.000000</td>\n",
       "      <td>97.000000</td>\n",
       "      <td>234.000000</td>\n",
       "      <td>67.250000</td>\n",
       "      <td>2.378600</td>\n",
       "    </tr>\n",
       "    <tr>\n",
       "      <th>50%</th>\n",
       "      <td>17997.000000</td>\n",
       "      <td>2005.50000</td>\n",
       "      <td>2.000000</td>\n",
       "      <td>5.000000</td>\n",
       "      <td>90.000000</td>\n",
       "      <td>90.000000</td>\n",
       "      <td>90.000000</td>\n",
       "      <td>12.000000</td>\n",
       "      <td>6075.500000</td>\n",
       "      <td>7.679540</td>\n",
       "      <td>7.451375</td>\n",
       "      <td>7373.500000</td>\n",
       "      <td>132.500000</td>\n",
       "      <td>532.500000</td>\n",
       "      <td>2043.000000</td>\n",
       "      <td>1430.000000</td>\n",
       "      <td>517.500000</td>\n",
       "      <td>2.927400</td>\n",
       "    </tr>\n",
       "    <tr>\n",
       "      <th>75%</th>\n",
       "      <td>91164.000000</td>\n",
       "      <td>2011.00000</td>\n",
       "      <td>2.000000</td>\n",
       "      <td>6.000000</td>\n",
       "      <td>172.500000</td>\n",
       "      <td>120.000000</td>\n",
       "      <td>172.500000</td>\n",
       "      <td>13.000000</td>\n",
       "      <td>10516.000000</td>\n",
       "      <td>7.854400</td>\n",
       "      <td>7.609897</td>\n",
       "      <td>14217.500000</td>\n",
       "      <td>241.000000</td>\n",
       "      <td>795.750000</td>\n",
       "      <td>3265.750000</td>\n",
       "      <td>2583.250000</td>\n",
       "      <td>1006.500000</td>\n",
       "      <td>3.403325</td>\n",
       "    </tr>\n",
       "    <tr>\n",
       "      <th>max</th>\n",
       "      <td>164153.000000</td>\n",
       "      <td>2014.00000</td>\n",
       "      <td>5.000000</td>\n",
       "      <td>10.000000</td>\n",
       "      <td>600.000000</td>\n",
       "      <td>600.000000</td>\n",
       "      <td>600.000000</td>\n",
       "      <td>17.000000</td>\n",
       "      <td>44319.000000</td>\n",
       "      <td>8.439440</td>\n",
       "      <td>8.221860</td>\n",
       "      <td>59298.000000</td>\n",
       "      <td>1162.000000</td>\n",
       "      <td>1586.000000</td>\n",
       "      <td>6402.000000</td>\n",
       "      <td>9310.000000</td>\n",
       "      <td>5213.000000</td>\n",
       "      <td>4.350600</td>\n",
       "    </tr>\n",
       "  </tbody>\n",
       "</table>\n",
       "</div>"
      ],
      "text/plain": [
       "                  id  yearpublished  minplayers  maxplayers  playingtime  \\\n",
       "count     150.000000      150.00000  150.000000  150.000000   150.000000   \n",
       "mean    44426.813333     1961.04000    1.993333    4.620000   122.000000   \n",
       "std     53361.197107      379.33902    0.709444    1.812225    86.441585   \n",
       "min         1.000000    -2200.00000    0.000000    0.000000     0.000000   \n",
       "25%      1566.000000     1997.00000    2.000000    4.000000    60.000000   \n",
       "50%     17997.000000     2005.50000    2.000000    5.000000    90.000000   \n",
       "75%     91164.000000     2011.00000    2.000000    6.000000   172.500000   \n",
       "max    164153.000000     2014.00000    5.000000   10.000000   600.000000   \n",
       "\n",
       "       minplaytime  maxplaytime      minage   users_rated  average_rating  \\\n",
       "count   150.000000   150.000000  150.000000    150.000000      150.000000   \n",
       "mean    102.133333   122.000000   11.580000   8203.100000        7.497297   \n",
       "std      84.857454    86.441585    1.994186   9244.923207        0.648806   \n",
       "min       0.000000     0.000000    0.000000     10.000000        4.200000   \n",
       "25%      45.000000    60.000000   10.000000    802.000000        7.398950   \n",
       "50%      90.000000    90.000000   12.000000   6075.500000        7.679540   \n",
       "75%     120.000000   172.500000   13.000000  10516.000000        7.854400   \n",
       "max     600.000000   600.000000   17.000000  44319.000000        8.439440   \n",
       "\n",
       "       bayes_average_rating  total_owners  total_traders  total_wanters  \\\n",
       "count            150.000000    150.000000     150.000000     150.000000   \n",
       "mean               7.052961  10335.913333     182.946667     514.733333   \n",
       "std                0.978584  11156.670410     199.526849     405.150261   \n",
       "min                0.000000     43.000000       3.000000       4.000000   \n",
       "25%                6.283012   1556.000000      42.250000      91.000000   \n",
       "50%                7.451375   7373.500000     132.500000     532.500000   \n",
       "75%                7.609897  14217.500000     241.000000     795.750000   \n",
       "max                8.221860  59298.000000    1162.000000    1586.000000   \n",
       "\n",
       "       total_wishers  total_comments  total_weights  average_weight  \n",
       "count     150.000000      150.000000     150.000000      150.000000  \n",
       "mean     2122.253333     1897.993333     797.213333        2.879184  \n",
       "std      1824.291383     2028.184732     979.104053        0.724372  \n",
       "min         5.000000        4.000000       0.000000        0.000000  \n",
       "25%        97.000000      234.000000      67.250000        2.378600  \n",
       "50%      2043.000000     1430.000000     517.500000        2.927400  \n",
       "75%      3265.750000     2583.250000    1006.500000        3.403325  \n",
       "max      6402.000000     9310.000000    5213.000000        4.350600  "
      ]
     },
     "execution_count": 74,
     "metadata": {},
     "output_type": "execute_result"
    }
   ],
   "source": [
    "games.describe()"
   ]
  },
  {
   "cell_type": "code",
   "execution_count": null,
   "metadata": {},
   "outputs": [],
   "source": []
  },
  {
   "cell_type": "markdown",
   "metadata": {},
   "source": [
    "<p style=\"background-color:#b5e7a0;font-size:18px;color:#4040a1\" size=\"4\"><b> Exercise 15: Provide the summary of the variables regardless of data types "
   ]
  },
  {
   "cell_type": "code",
   "execution_count": 75,
   "metadata": {},
   "outputs": [
    {
     "data": {
      "text/html": [
       "<div>\n",
       "<style scoped>\n",
       "    .dataframe tbody tr th:only-of-type {\n",
       "        vertical-align: middle;\n",
       "    }\n",
       "\n",
       "    .dataframe tbody tr th {\n",
       "        vertical-align: top;\n",
       "    }\n",
       "\n",
       "    .dataframe thead th {\n",
       "        text-align: right;\n",
       "    }\n",
       "</style>\n",
       "<table border=\"1\" class=\"dataframe\">\n",
       "  <thead>\n",
       "    <tr style=\"text-align: right;\">\n",
       "      <th></th>\n",
       "      <th>id</th>\n",
       "      <th>type</th>\n",
       "      <th>name</th>\n",
       "      <th>yearpublished</th>\n",
       "      <th>minplayers</th>\n",
       "      <th>maxplayers</th>\n",
       "      <th>playingtime</th>\n",
       "      <th>minplaytime</th>\n",
       "      <th>maxplaytime</th>\n",
       "      <th>minage</th>\n",
       "      <th>users_rated</th>\n",
       "      <th>average_rating</th>\n",
       "      <th>bayes_average_rating</th>\n",
       "      <th>total_owners</th>\n",
       "      <th>total_traders</th>\n",
       "      <th>total_wanters</th>\n",
       "      <th>total_wishers</th>\n",
       "      <th>total_comments</th>\n",
       "      <th>total_weights</th>\n",
       "      <th>average_weight</th>\n",
       "    </tr>\n",
       "  </thead>\n",
       "  <tbody>\n",
       "    <tr>\n",
       "      <th>count</th>\n",
       "      <td>150.000000</td>\n",
       "      <td>150</td>\n",
       "      <td>150</td>\n",
       "      <td>150.00000</td>\n",
       "      <td>150.000000</td>\n",
       "      <td>150.000000</td>\n",
       "      <td>150.000000</td>\n",
       "      <td>150.000000</td>\n",
       "      <td>150.000000</td>\n",
       "      <td>150.000000</td>\n",
       "      <td>150.000000</td>\n",
       "      <td>150.000000</td>\n",
       "      <td>150.000000</td>\n",
       "      <td>150.000000</td>\n",
       "      <td>150.000000</td>\n",
       "      <td>150.000000</td>\n",
       "      <td>150.000000</td>\n",
       "      <td>150.000000</td>\n",
       "      <td>150.000000</td>\n",
       "      <td>150.000000</td>\n",
       "    </tr>\n",
       "    <tr>\n",
       "      <th>unique</th>\n",
       "      <td>NaN</td>\n",
       "      <td>2</td>\n",
       "      <td>150</td>\n",
       "      <td>NaN</td>\n",
       "      <td>NaN</td>\n",
       "      <td>NaN</td>\n",
       "      <td>NaN</td>\n",
       "      <td>NaN</td>\n",
       "      <td>NaN</td>\n",
       "      <td>NaN</td>\n",
       "      <td>NaN</td>\n",
       "      <td>NaN</td>\n",
       "      <td>NaN</td>\n",
       "      <td>NaN</td>\n",
       "      <td>NaN</td>\n",
       "      <td>NaN</td>\n",
       "      <td>NaN</td>\n",
       "      <td>NaN</td>\n",
       "      <td>NaN</td>\n",
       "      <td>NaN</td>\n",
       "    </tr>\n",
       "    <tr>\n",
       "      <th>top</th>\n",
       "      <td>NaN</td>\n",
       "      <td>boardgame</td>\n",
       "      <td>Svea Rike: Batalj</td>\n",
       "      <td>NaN</td>\n",
       "      <td>NaN</td>\n",
       "      <td>NaN</td>\n",
       "      <td>NaN</td>\n",
       "      <td>NaN</td>\n",
       "      <td>NaN</td>\n",
       "      <td>NaN</td>\n",
       "      <td>NaN</td>\n",
       "      <td>NaN</td>\n",
       "      <td>NaN</td>\n",
       "      <td>NaN</td>\n",
       "      <td>NaN</td>\n",
       "      <td>NaN</td>\n",
       "      <td>NaN</td>\n",
       "      <td>NaN</td>\n",
       "      <td>NaN</td>\n",
       "      <td>NaN</td>\n",
       "    </tr>\n",
       "    <tr>\n",
       "      <th>freq</th>\n",
       "      <td>NaN</td>\n",
       "      <td>100</td>\n",
       "      <td>1</td>\n",
       "      <td>NaN</td>\n",
       "      <td>NaN</td>\n",
       "      <td>NaN</td>\n",
       "      <td>NaN</td>\n",
       "      <td>NaN</td>\n",
       "      <td>NaN</td>\n",
       "      <td>NaN</td>\n",
       "      <td>NaN</td>\n",
       "      <td>NaN</td>\n",
       "      <td>NaN</td>\n",
       "      <td>NaN</td>\n",
       "      <td>NaN</td>\n",
       "      <td>NaN</td>\n",
       "      <td>NaN</td>\n",
       "      <td>NaN</td>\n",
       "      <td>NaN</td>\n",
       "      <td>NaN</td>\n",
       "    </tr>\n",
       "    <tr>\n",
       "      <th>mean</th>\n",
       "      <td>44426.813333</td>\n",
       "      <td>NaN</td>\n",
       "      <td>NaN</td>\n",
       "      <td>1961.04000</td>\n",
       "      <td>1.993333</td>\n",
       "      <td>4.620000</td>\n",
       "      <td>122.000000</td>\n",
       "      <td>102.133333</td>\n",
       "      <td>122.000000</td>\n",
       "      <td>11.580000</td>\n",
       "      <td>8203.100000</td>\n",
       "      <td>7.497297</td>\n",
       "      <td>7.052961</td>\n",
       "      <td>10335.913333</td>\n",
       "      <td>182.946667</td>\n",
       "      <td>514.733333</td>\n",
       "      <td>2122.253333</td>\n",
       "      <td>1897.993333</td>\n",
       "      <td>797.213333</td>\n",
       "      <td>2.879184</td>\n",
       "    </tr>\n",
       "    <tr>\n",
       "      <th>std</th>\n",
       "      <td>53361.197107</td>\n",
       "      <td>NaN</td>\n",
       "      <td>NaN</td>\n",
       "      <td>379.33902</td>\n",
       "      <td>0.709444</td>\n",
       "      <td>1.812225</td>\n",
       "      <td>86.441585</td>\n",
       "      <td>84.857454</td>\n",
       "      <td>86.441585</td>\n",
       "      <td>1.994186</td>\n",
       "      <td>9244.923207</td>\n",
       "      <td>0.648806</td>\n",
       "      <td>0.978584</td>\n",
       "      <td>11156.670410</td>\n",
       "      <td>199.526849</td>\n",
       "      <td>405.150261</td>\n",
       "      <td>1824.291383</td>\n",
       "      <td>2028.184732</td>\n",
       "      <td>979.104053</td>\n",
       "      <td>0.724372</td>\n",
       "    </tr>\n",
       "    <tr>\n",
       "      <th>min</th>\n",
       "      <td>1.000000</td>\n",
       "      <td>NaN</td>\n",
       "      <td>NaN</td>\n",
       "      <td>-2200.00000</td>\n",
       "      <td>0.000000</td>\n",
       "      <td>0.000000</td>\n",
       "      <td>0.000000</td>\n",
       "      <td>0.000000</td>\n",
       "      <td>0.000000</td>\n",
       "      <td>0.000000</td>\n",
       "      <td>10.000000</td>\n",
       "      <td>4.200000</td>\n",
       "      <td>0.000000</td>\n",
       "      <td>43.000000</td>\n",
       "      <td>3.000000</td>\n",
       "      <td>4.000000</td>\n",
       "      <td>5.000000</td>\n",
       "      <td>4.000000</td>\n",
       "      <td>0.000000</td>\n",
       "      <td>0.000000</td>\n",
       "    </tr>\n",
       "    <tr>\n",
       "      <th>25%</th>\n",
       "      <td>1566.000000</td>\n",
       "      <td>NaN</td>\n",
       "      <td>NaN</td>\n",
       "      <td>1997.00000</td>\n",
       "      <td>2.000000</td>\n",
       "      <td>4.000000</td>\n",
       "      <td>60.000000</td>\n",
       "      <td>45.000000</td>\n",
       "      <td>60.000000</td>\n",
       "      <td>10.000000</td>\n",
       "      <td>802.000000</td>\n",
       "      <td>7.398950</td>\n",
       "      <td>6.283012</td>\n",
       "      <td>1556.000000</td>\n",
       "      <td>42.250000</td>\n",
       "      <td>91.000000</td>\n",
       "      <td>97.000000</td>\n",
       "      <td>234.000000</td>\n",
       "      <td>67.250000</td>\n",
       "      <td>2.378600</td>\n",
       "    </tr>\n",
       "    <tr>\n",
       "      <th>50%</th>\n",
       "      <td>17997.000000</td>\n",
       "      <td>NaN</td>\n",
       "      <td>NaN</td>\n",
       "      <td>2005.50000</td>\n",
       "      <td>2.000000</td>\n",
       "      <td>5.000000</td>\n",
       "      <td>90.000000</td>\n",
       "      <td>90.000000</td>\n",
       "      <td>90.000000</td>\n",
       "      <td>12.000000</td>\n",
       "      <td>6075.500000</td>\n",
       "      <td>7.679540</td>\n",
       "      <td>7.451375</td>\n",
       "      <td>7373.500000</td>\n",
       "      <td>132.500000</td>\n",
       "      <td>532.500000</td>\n",
       "      <td>2043.000000</td>\n",
       "      <td>1430.000000</td>\n",
       "      <td>517.500000</td>\n",
       "      <td>2.927400</td>\n",
       "    </tr>\n",
       "    <tr>\n",
       "      <th>75%</th>\n",
       "      <td>91164.000000</td>\n",
       "      <td>NaN</td>\n",
       "      <td>NaN</td>\n",
       "      <td>2011.00000</td>\n",
       "      <td>2.000000</td>\n",
       "      <td>6.000000</td>\n",
       "      <td>172.500000</td>\n",
       "      <td>120.000000</td>\n",
       "      <td>172.500000</td>\n",
       "      <td>13.000000</td>\n",
       "      <td>10516.000000</td>\n",
       "      <td>7.854400</td>\n",
       "      <td>7.609897</td>\n",
       "      <td>14217.500000</td>\n",
       "      <td>241.000000</td>\n",
       "      <td>795.750000</td>\n",
       "      <td>3265.750000</td>\n",
       "      <td>2583.250000</td>\n",
       "      <td>1006.500000</td>\n",
       "      <td>3.403325</td>\n",
       "    </tr>\n",
       "    <tr>\n",
       "      <th>max</th>\n",
       "      <td>164153.000000</td>\n",
       "      <td>NaN</td>\n",
       "      <td>NaN</td>\n",
       "      <td>2014.00000</td>\n",
       "      <td>5.000000</td>\n",
       "      <td>10.000000</td>\n",
       "      <td>600.000000</td>\n",
       "      <td>600.000000</td>\n",
       "      <td>600.000000</td>\n",
       "      <td>17.000000</td>\n",
       "      <td>44319.000000</td>\n",
       "      <td>8.439440</td>\n",
       "      <td>8.221860</td>\n",
       "      <td>59298.000000</td>\n",
       "      <td>1162.000000</td>\n",
       "      <td>1586.000000</td>\n",
       "      <td>6402.000000</td>\n",
       "      <td>9310.000000</td>\n",
       "      <td>5213.000000</td>\n",
       "      <td>4.350600</td>\n",
       "    </tr>\n",
       "  </tbody>\n",
       "</table>\n",
       "</div>"
      ],
      "text/plain": [
       "                   id       type               name  yearpublished  \\\n",
       "count      150.000000        150                150      150.00000   \n",
       "unique            NaN          2                150            NaN   \n",
       "top               NaN  boardgame  Svea Rike: Batalj            NaN   \n",
       "freq              NaN        100                  1            NaN   \n",
       "mean     44426.813333        NaN                NaN     1961.04000   \n",
       "std      53361.197107        NaN                NaN      379.33902   \n",
       "min          1.000000        NaN                NaN    -2200.00000   \n",
       "25%       1566.000000        NaN                NaN     1997.00000   \n",
       "50%      17997.000000        NaN                NaN     2005.50000   \n",
       "75%      91164.000000        NaN                NaN     2011.00000   \n",
       "max     164153.000000        NaN                NaN     2014.00000   \n",
       "\n",
       "        minplayers  maxplayers  playingtime  minplaytime  maxplaytime  \\\n",
       "count   150.000000  150.000000   150.000000   150.000000   150.000000   \n",
       "unique         NaN         NaN          NaN          NaN          NaN   \n",
       "top            NaN         NaN          NaN          NaN          NaN   \n",
       "freq           NaN         NaN          NaN          NaN          NaN   \n",
       "mean      1.993333    4.620000   122.000000   102.133333   122.000000   \n",
       "std       0.709444    1.812225    86.441585    84.857454    86.441585   \n",
       "min       0.000000    0.000000     0.000000     0.000000     0.000000   \n",
       "25%       2.000000    4.000000    60.000000    45.000000    60.000000   \n",
       "50%       2.000000    5.000000    90.000000    90.000000    90.000000   \n",
       "75%       2.000000    6.000000   172.500000   120.000000   172.500000   \n",
       "max       5.000000   10.000000   600.000000   600.000000   600.000000   \n",
       "\n",
       "            minage   users_rated  average_rating  bayes_average_rating  \\\n",
       "count   150.000000    150.000000      150.000000            150.000000   \n",
       "unique         NaN           NaN             NaN                   NaN   \n",
       "top            NaN           NaN             NaN                   NaN   \n",
       "freq           NaN           NaN             NaN                   NaN   \n",
       "mean     11.580000   8203.100000        7.497297              7.052961   \n",
       "std       1.994186   9244.923207        0.648806              0.978584   \n",
       "min       0.000000     10.000000        4.200000              0.000000   \n",
       "25%      10.000000    802.000000        7.398950              6.283012   \n",
       "50%      12.000000   6075.500000        7.679540              7.451375   \n",
       "75%      13.000000  10516.000000        7.854400              7.609897   \n",
       "max      17.000000  44319.000000        8.439440              8.221860   \n",
       "\n",
       "        total_owners  total_traders  total_wanters  total_wishers  \\\n",
       "count     150.000000     150.000000     150.000000     150.000000   \n",
       "unique           NaN            NaN            NaN            NaN   \n",
       "top              NaN            NaN            NaN            NaN   \n",
       "freq             NaN            NaN            NaN            NaN   \n",
       "mean    10335.913333     182.946667     514.733333    2122.253333   \n",
       "std     11156.670410     199.526849     405.150261    1824.291383   \n",
       "min        43.000000       3.000000       4.000000       5.000000   \n",
       "25%      1556.000000      42.250000      91.000000      97.000000   \n",
       "50%      7373.500000     132.500000     532.500000    2043.000000   \n",
       "75%     14217.500000     241.000000     795.750000    3265.750000   \n",
       "max     59298.000000    1162.000000    1586.000000    6402.000000   \n",
       "\n",
       "        total_comments  total_weights  average_weight  \n",
       "count       150.000000     150.000000      150.000000  \n",
       "unique             NaN            NaN             NaN  \n",
       "top                NaN            NaN             NaN  \n",
       "freq               NaN            NaN             NaN  \n",
       "mean       1897.993333     797.213333        2.879184  \n",
       "std        2028.184732     979.104053        0.724372  \n",
       "min           4.000000       0.000000        0.000000  \n",
       "25%         234.000000      67.250000        2.378600  \n",
       "50%        1430.000000     517.500000        2.927400  \n",
       "75%        2583.250000    1006.500000        3.403325  \n",
       "max        9310.000000    5213.000000        4.350600  "
      ]
     },
     "execution_count": 75,
     "metadata": {},
     "output_type": "execute_result"
    }
   ],
   "source": [
    "games.describe(include='all')"
   ]
  },
  {
   "cell_type": "code",
   "execution_count": null,
   "metadata": {},
   "outputs": [],
   "source": []
  },
  {
   "cell_type": "markdown",
   "metadata": {},
   "source": [
    "<p style=\"background-color:#b5e7a0;font-size:18px;color:#4040a1\" size=\"4\"><b> Exercise 16: Write a code to show a kde plot for 'total_traders' column\n",
    "    where title = 'density plot for 'total_traders' and set color as red."
   ]
  },
  {
   "cell_type": "code",
   "execution_count": null,
   "metadata": {},
   "outputs": [],
   "source": []
  },
  {
   "cell_type": "code",
   "execution_count": null,
   "metadata": {},
   "outputs": [],
   "source": []
  },
  {
   "cell_type": "markdown",
   "metadata": {},
   "source": [
    "<p style=\"background-color:#b5e7a0;font-size:18px;color:#4040a1\" size=\"4\"><b> Exercise 17: Write a code to show Areaplot for maxplaytime column after sort index "
   ]
  },
  {
   "cell_type": "code",
   "execution_count": null,
   "metadata": {},
   "outputs": [],
   "source": []
  },
  {
   "cell_type": "code",
   "execution_count": null,
   "metadata": {},
   "outputs": [],
   "source": []
  },
  {
   "cell_type": "markdown",
   "metadata": {},
   "source": [
    "<p style=\"background-color:#b5e7a0;font-size:18px;color:#4040a1\" size=\"4\"><b> Exercise 18: Display the count of each data type present in the games dataset using for loop"
   ]
  },
  {
   "cell_type": "code",
   "execution_count": null,
   "metadata": {},
   "outputs": [],
   "source": []
  },
  {
   "cell_type": "code",
   "execution_count": null,
   "metadata": {},
   "outputs": [],
   "source": []
  },
  {
   "cell_type": "markdown",
   "metadata": {},
   "source": [
    "<body>\n",
    "<h2 style=\"background-color:#0067a7; color:#FFFFFF\"align=\"center\">Wine Dataset</h2>\n",
    "</body>\n",
    "\n"
   ]
  },
  {
   "cell_type": "markdown",
   "metadata": {},
   "source": [
    "<p style=\"background-color:#b5e7a0;font-size:18px;color:#4040a1\" size=\"4\"><b> Load the wine data </b> </p>\n"
   ]
  },
  {
   "cell_type": "code",
   "execution_count": 100,
   "metadata": {},
   "outputs": [],
   "source": [
    "wine = pd.read_csv('Wine_data.csv')"
   ]
  },
  {
   "cell_type": "code",
   "execution_count": 101,
   "metadata": {},
   "outputs": [
    {
     "data": {
      "text/html": [
       "<div>\n",
       "<style scoped>\n",
       "    .dataframe tbody tr th:only-of-type {\n",
       "        vertical-align: middle;\n",
       "    }\n",
       "\n",
       "    .dataframe tbody tr th {\n",
       "        vertical-align: top;\n",
       "    }\n",
       "\n",
       "    .dataframe thead th {\n",
       "        text-align: right;\n",
       "    }\n",
       "</style>\n",
       "<table border=\"1\" class=\"dataframe\">\n",
       "  <thead>\n",
       "    <tr style=\"text-align: right;\">\n",
       "      <th></th>\n",
       "      <th>fixed acidity</th>\n",
       "      <th>volatile acidity</th>\n",
       "      <th>citric acid</th>\n",
       "      <th>residual sugar</th>\n",
       "      <th>chlorides</th>\n",
       "      <th>free sulfur dioxide</th>\n",
       "      <th>total sulfur dioxide</th>\n",
       "      <th>density</th>\n",
       "      <th>pH</th>\n",
       "      <th>sulphates</th>\n",
       "      <th>alcohol</th>\n",
       "      <th>quality</th>\n",
       "    </tr>\n",
       "  </thead>\n",
       "  <tbody>\n",
       "    <tr>\n",
       "      <th>0</th>\n",
       "      <td>7.0</td>\n",
       "      <td>0.27</td>\n",
       "      <td>0.36</td>\n",
       "      <td>20.7</td>\n",
       "      <td>0.045</td>\n",
       "      <td>45.0</td>\n",
       "      <td>170.0</td>\n",
       "      <td>1.0010</td>\n",
       "      <td>3.00</td>\n",
       "      <td>0.45</td>\n",
       "      <td>8.8</td>\n",
       "      <td>6</td>\n",
       "    </tr>\n",
       "    <tr>\n",
       "      <th>1</th>\n",
       "      <td>6.3</td>\n",
       "      <td>0.30</td>\n",
       "      <td>0.34</td>\n",
       "      <td>1.6</td>\n",
       "      <td>0.049</td>\n",
       "      <td>14.0</td>\n",
       "      <td>132.0</td>\n",
       "      <td>0.9940</td>\n",
       "      <td>3.30</td>\n",
       "      <td>0.49</td>\n",
       "      <td>9.5</td>\n",
       "      <td>6</td>\n",
       "    </tr>\n",
       "    <tr>\n",
       "      <th>2</th>\n",
       "      <td>8.1</td>\n",
       "      <td>0.28</td>\n",
       "      <td>0.40</td>\n",
       "      <td>6.9</td>\n",
       "      <td>0.050</td>\n",
       "      <td>30.0</td>\n",
       "      <td>97.0</td>\n",
       "      <td>0.9951</td>\n",
       "      <td>3.26</td>\n",
       "      <td>0.44</td>\n",
       "      <td>10.1</td>\n",
       "      <td>6</td>\n",
       "    </tr>\n",
       "    <tr>\n",
       "      <th>3</th>\n",
       "      <td>7.2</td>\n",
       "      <td>0.23</td>\n",
       "      <td>0.32</td>\n",
       "      <td>8.5</td>\n",
       "      <td>0.058</td>\n",
       "      <td>47.0</td>\n",
       "      <td>186.0</td>\n",
       "      <td>0.9956</td>\n",
       "      <td>3.19</td>\n",
       "      <td>0.40</td>\n",
       "      <td>9.9</td>\n",
       "      <td>6</td>\n",
       "    </tr>\n",
       "    <tr>\n",
       "      <th>4</th>\n",
       "      <td>7.2</td>\n",
       "      <td>0.23</td>\n",
       "      <td>0.32</td>\n",
       "      <td>8.5</td>\n",
       "      <td>0.058</td>\n",
       "      <td>47.0</td>\n",
       "      <td>186.0</td>\n",
       "      <td>0.9956</td>\n",
       "      <td>3.19</td>\n",
       "      <td>0.40</td>\n",
       "      <td>9.9</td>\n",
       "      <td>6</td>\n",
       "    </tr>\n",
       "  </tbody>\n",
       "</table>\n",
       "</div>"
      ],
      "text/plain": [
       "   fixed acidity  volatile acidity  citric acid  residual sugar  chlorides  \\\n",
       "0            7.0              0.27         0.36            20.7      0.045   \n",
       "1            6.3              0.30         0.34             1.6      0.049   \n",
       "2            8.1              0.28         0.40             6.9      0.050   \n",
       "3            7.2              0.23         0.32             8.5      0.058   \n",
       "4            7.2              0.23         0.32             8.5      0.058   \n",
       "\n",
       "   free sulfur dioxide  total sulfur dioxide  density    pH  sulphates  \\\n",
       "0                 45.0                 170.0   1.0010  3.00       0.45   \n",
       "1                 14.0                 132.0   0.9940  3.30       0.49   \n",
       "2                 30.0                  97.0   0.9951  3.26       0.44   \n",
       "3                 47.0                 186.0   0.9956  3.19       0.40   \n",
       "4                 47.0                 186.0   0.9956  3.19       0.40   \n",
       "\n",
       "   alcohol  quality  \n",
       "0      8.8        6  \n",
       "1      9.5        6  \n",
       "2     10.1        6  \n",
       "3      9.9        6  \n",
       "4      9.9        6  "
      ]
     },
     "execution_count": 101,
     "metadata": {},
     "output_type": "execute_result"
    }
   ],
   "source": [
    "wine.head()"
   ]
  },
  {
   "cell_type": "code",
   "execution_count": 102,
   "metadata": {
    "scrolled": true
   },
   "outputs": [
    {
     "name": "stdout",
     "output_type": "stream",
     "text": [
      "<class 'pandas.core.frame.DataFrame'>\n",
      "RangeIndex: 4898 entries, 0 to 4897\n",
      "Data columns (total 12 columns):\n",
      " #   Column                Non-Null Count  Dtype  \n",
      "---  ------                --------------  -----  \n",
      " 0   fixed acidity         4898 non-null   float64\n",
      " 1   volatile acidity      4898 non-null   float64\n",
      " 2   citric acid           4898 non-null   float64\n",
      " 3   residual sugar        4898 non-null   float64\n",
      " 4   chlorides             4898 non-null   float64\n",
      " 5   free sulfur dioxide   4898 non-null   float64\n",
      " 6   total sulfur dioxide  4898 non-null   float64\n",
      " 7   density               4898 non-null   float64\n",
      " 8   pH                    4898 non-null   float64\n",
      " 9   sulphates             4898 non-null   float64\n",
      " 10  alcohol               4898 non-null   float64\n",
      " 11  quality               4898 non-null   int64  \n",
      "dtypes: float64(11), int64(1)\n",
      "memory usage: 459.2 KB\n"
     ]
    }
   ],
   "source": [
    "wine.info()"
   ]
  },
  {
   "cell_type": "markdown",
   "metadata": {},
   "source": [
    "<p style=\"background-color:#b5e7a0;font-size:18px;color:#4040a1\" size=\"4\"><b> Exercise 19: Display a barplot comparing the wine quality and alcohol level"
   ]
  },
  {
   "cell_type": "code",
   "execution_count": null,
   "metadata": {},
   "outputs": [],
   "source": []
  },
  {
   "cell_type": "code",
   "execution_count": null,
   "metadata": {},
   "outputs": [],
   "source": []
  },
  {
   "cell_type": "markdown",
   "metadata": {},
   "source": [
    "<p style=\"background-color:#b5e7a0;font-size:18px;color:#4040a1\" size=\"4\"><b> Exercise 20: Plot the Percentage of Top 5 wines"
   ]
  },
  {
   "cell_type": "code",
   "execution_count": null,
   "metadata": {},
   "outputs": [],
   "source": []
  },
  {
   "cell_type": "code",
   "execution_count": null,
   "metadata": {},
   "outputs": [],
   "source": []
  },
  {
   "cell_type": "markdown",
   "metadata": {},
   "source": [
    "<p style=\"background-color:#b5e7a0;font-size:18px;color:#4040a1\" size=\"4\"><b> Exercise 21: visualize the linear relationship of alcohol and citric acid"
   ]
  },
  {
   "cell_type": "code",
   "execution_count": null,
   "metadata": {},
   "outputs": [],
   "source": []
  },
  {
   "cell_type": "code",
   "execution_count": null,
   "metadata": {},
   "outputs": [],
   "source": []
  },
  {
   "cell_type": "markdown",
   "metadata": {},
   "source": [
    "<p style=\"background-color:#b5e7a0;font-size:18px;color:#4040a1\" size=\"4\"><b> Exercise 22: Show the correlation plot for the variables present in the wine dataset"
   ]
  },
  {
   "cell_type": "code",
   "execution_count": null,
   "metadata": {},
   "outputs": [],
   "source": []
  },
  {
   "cell_type": "code",
   "execution_count": null,
   "metadata": {},
   "outputs": [],
   "source": []
  },
  {
   "cell_type": "markdown",
   "metadata": {},
   "source": [
    "<p style=\"background-color:#b5e7a0;font-size:18px;color:#4040a1\" size=\"4\"><b> Exercise 23: Check for the outliers present in the chloride content for each wine quality"
   ]
  },
  {
   "cell_type": "code",
   "execution_count": null,
   "metadata": {},
   "outputs": [],
   "source": []
  },
  {
   "cell_type": "code",
   "execution_count": null,
   "metadata": {},
   "outputs": [],
   "source": []
  },
  {
   "cell_type": "code",
   "execution_count": null,
   "metadata": {},
   "outputs": [],
   "source": []
  },
  {
   "cell_type": "markdown",
   "metadata": {},
   "source": [
    "<p style=\"background-color:#b5e7a0;font-size:18px;color:#4040a1\" size=\"4\"><b> Exercise 24: Show a pie chart with details if wine quality %"
   ]
  },
  {
   "cell_type": "code",
   "execution_count": null,
   "metadata": {},
   "outputs": [],
   "source": []
  },
  {
   "cell_type": "code",
   "execution_count": null,
   "metadata": {},
   "outputs": [],
   "source": []
  },
  {
   "cell_type": "markdown",
   "metadata": {},
   "source": [
    "<p style=\"background-color:#b5e7a0;font-size:18px;color:#4040a1\" size=\"4\"><b> Exercise 25: Create a Dependent Variable column by simplifying the quality column, Derive three categories from wine quality , 1 - 3 --> 1, 4 - 7 --> 2, 8 - 10 --> 3 and use this in DV column.\n",
    "    Display the histogram for the DV column showing the pecentage distribution "
   ]
  },
  {
   "cell_type": "code",
   "execution_count": null,
   "metadata": {},
   "outputs": [],
   "source": []
  },
  {
   "cell_type": "code",
   "execution_count": null,
   "metadata": {},
   "outputs": [],
   "source": []
  }
 ],
 "metadata": {
  "kernelspec": {
   "display_name": "Python 3",
   "language": "python",
   "name": "python3"
  },
  "language_info": {
   "codemirror_mode": {
    "name": "ipython",
    "version": 3
   },
   "file_extension": ".py",
   "mimetype": "text/x-python",
   "name": "python",
   "nbconvert_exporter": "python",
   "pygments_lexer": "ipython3",
   "version": "3.8.3"
  }
 },
 "nbformat": 4,
 "nbformat_minor": 4
}
