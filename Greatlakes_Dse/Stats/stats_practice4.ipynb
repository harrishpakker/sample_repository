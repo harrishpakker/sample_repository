{
 "cells": [
  {
   "cell_type": "code",
   "execution_count": 1,
   "metadata": {},
   "outputs": [],
   "source": [
    "import numpy as np\n",
    "import pandas as pd\n",
    "import scipy.stats as stats\n",
    "import math\n",
    "import matplotlib.pyplot as plt\n",
    "import seaborn as sns\n",
    "%matplotlib inline"
   ]
  },
  {
   "cell_type": "code",
   "execution_count": 4,
   "metadata": {},
   "outputs": [
    {
     "data": {
      "text/plain": [
       "1.6448536269514729"
      ]
     },
     "execution_count": 4,
     "metadata": {},
     "output_type": "execute_result"
    }
   ],
   "source": [
    "stats.norm.isf(q = 0.05)"
   ]
  },
  {
   "cell_type": "code",
   "execution_count": 13,
   "metadata": {},
   "outputs": [],
   "source": [
    "# Courier company in New York claims that its mean time for delivery is less than 3hrs.\n",
    "# Generate samples using randn function with mean 2.86hrs and standard deviation 0.641hrs"
   ]
  },
  {
   "cell_type": "code",
   "execution_count": 14,
   "metadata": {},
   "outputs": [
    {
     "data": {
      "text/plain": [
       "array([3.65354695, 3.25849382, 1.80939841, 2.79462595, 3.19827636,\n",
       "       2.33842516, 2.97019293, 2.8695796 , 2.80275081, 2.68808127,\n",
       "       3.07756979, 3.57114696, 2.18139291, 3.45912368, 2.94655191,\n",
       "       3.08533321, 2.07143798, 2.88662274, 3.75158822, 2.10784507,\n",
       "       1.53227617, 1.68249836, 2.97055098, 4.32876406, 3.52028609,\n",
       "       3.87215084, 2.86355465, 3.69611568, 2.62613004, 3.19306388,\n",
       "       2.62864968, 2.44789292, 2.88506602, 2.49479297, 3.63873124,\n",
       "       2.92500351, 3.0565346 , 2.58357767, 3.60539872, 2.33080755,\n",
       "       3.22320842, 2.57509112, 2.19782322, 2.48633484, 2.28425708,\n",
       "       2.66366081, 2.5826111 , 3.00010093, 3.16226286, 2.70550361])"
      ]
     },
     "execution_count": 14,
     "metadata": {},
     "output_type": "execute_result"
    }
   ],
   "source": [
    "np.random.seed(10)\n",
    "samples = np.random.randn(50)\n",
    "s = samples * 0.641 + 2.8\n",
    "s"
   ]
  },
  {
   "cell_type": "code",
   "execution_count": 15,
   "metadata": {},
   "outputs": [
    {
     "data": {
      "text/plain": [
       "0.5833787611431096"
      ]
     },
     "execution_count": 15,
     "metadata": {},
     "output_type": "execute_result"
    }
   ],
   "source": [
    "np.std(s,ddof=1)"
   ]
  },
  {
   "cell_type": "code",
   "execution_count": 16,
   "metadata": {},
   "outputs": [
    {
     "data": {
      "text/plain": [
       "2.8656936671272693"
      ]
     },
     "execution_count": 16,
     "metadata": {},
     "output_type": "execute_result"
    }
   ],
   "source": [
    "np.mean(s)"
   ]
  },
  {
   "cell_type": "code",
   "execution_count": 18,
   "metadata": {},
   "outputs": [
    {
     "data": {
      "text/plain": [
       "-1.6279807288884465"
      ]
     },
     "execution_count": 18,
     "metadata": {},
     "output_type": "execute_result"
    }
   ],
   "source": [
    "tstat = (2.86569 - 3)/(0.58337/np.sqrt(50))\n",
    "tstat"
   ]
  },
  {
   "cell_type": "code",
   "execution_count": 19,
   "metadata": {},
   "outputs": [],
   "source": [
    "from scipy.stats import ttest_1samp"
   ]
  },
  {
   "cell_type": "code",
   "execution_count": 22,
   "metadata": {},
   "outputs": [
    {
     "data": {
      "text/plain": [
       "(-1.6279118311492429, 0.054978739683359965)"
      ]
     },
     "execution_count": 22,
     "metadata": {},
     "output_type": "execute_result"
    }
   ],
   "source": [
    "tstat,pval = ttest_1samp(s,3)\n",
    "tstat,pval/2"
   ]
  },
  {
   "cell_type": "code",
   "execution_count": 23,
   "metadata": {},
   "outputs": [],
   "source": [
    "# QUESTION\n",
    "# company maintains 300 g as standard fill volume for Lays.\n",
    "# verify by one sample ttest by collecting 100 samples with mean 295g and SD = 10g"
   ]
  },
  {
   "cell_type": "code",
   "execution_count": 24,
   "metadata": {},
   "outputs": [
    {
     "data": {
      "text/plain": [
       "array([294.74094663, 297.89094204, 289.60120929, 302.0816002 ,\n",
       "       303.42224738, 297.03580797, 318.94703665, 304.17458938,\n",
       "       293.87727529, 291.37819553, 292.67817744, 289.982711  ,\n",
       "       306.28785153, 288.0218997 , 294.18877816, 289.70703919,\n",
       "       305.46182857, 280.81443971, 291.37500817, 293.78094309,\n",
       "       298.19356421, 299.60902902, 292.84210108, 304.89072457,\n",
       "       298.14753779, 319.67651056, 279.91678513, 301.20600663,\n",
       "       284.54867462, 287.01991182, 314.85084591, 312.44814148,\n",
       "       276.43814519, 292.77226301, 294.34152152, 273.68287892,\n",
       "       294.51169489, 298.93341217, 297.17265145, 275.0560623 ,\n",
       "       306.07708235, 297.44543977, 294.38087971, 287.46107039,\n",
       "       302.11959017, 304.18269151, 290.17906861, 295.89587613,\n",
       "       303.26998623, 275.4548788 , 296.17475661, 275.92543112,\n",
       "       285.77090735, 299.69751434, 293.55633237, 290.99861648,\n",
       "       292.04016147, 303.48208609, 302.06830455, 287.12731074,\n",
       "       297.92940725, 290.29192749, 319.04325606, 287.60643261,\n",
       "       291.87171243, 291.51118082, 290.60973764, 296.41104168,\n",
       "       297.7304932 , 278.81429252, 289.26886638, 281.79552454,\n",
       "       307.36205326, 319.65325082, 308.8323223 , 298.46233115,\n",
       "       305.22516107, 296.66810267, 311.56716624, 301.67889609,\n",
       "       292.70053356, 283.70448806, 288.60037396, 298.13830522,\n",
       "       282.74164019, 292.78206864, 308.3992631 , 295.29309711,\n",
       "       314.85385746, 309.47165601, 292.12370586, 281.40689427,\n",
       "       294.51958675, 290.1921266 , 298.77753086, 311.14407974,\n",
       "       283.76895965, 291.11272053, 298.3234995 , 306.34973173])"
      ]
     },
     "execution_count": 24,
     "metadata": {},
     "output_type": "execute_result"
    }
   ],
   "source": [
    "samples = np.random.randn(100)\n",
    "s = samples * 10 + 295\n",
    "s"
   ]
  },
  {
   "cell_type": "code",
   "execution_count": 26,
   "metadata": {},
   "outputs": [
    {
     "data": {
      "text/plain": [
       "<matplotlib.axes._subplots.AxesSubplot at 0x7f3d6c50a940>"
      ]
     },
     "execution_count": 26,
     "metadata": {},
     "output_type": "execute_result"
    },
    {
     "data": {
      "image/png": "[encoded data removed]",
      "text/plain": [
       "<Figure size 432x288 with 1 Axes>"
      ]
     },
     "metadata": {
      "needs_background": "light"
     },
     "output_type": "display_data"
    }
   ],
   "source": [
    "sns.distplot(s)"
   ]
  },
  {
   "cell_type": "code",
   "execution_count": 30,
   "metadata": {},
   "outputs": [
    {
     "data": {
      "text/plain": [
       "(10.243558704025844, 295.81752248977944)"
      ]
     },
     "execution_count": 30,
     "metadata": {},
     "output_type": "execute_result"
    }
   ],
   "source": [
    "np.std(s,ddof=1),np.mean(s)"
   ]
  },
  {
   "cell_type": "code",
   "execution_count": 34,
   "metadata": {},
   "outputs": [
    {
     "data": {
      "text/plain": [
       "(-4.083031718827169, 9.022862851989514e-05)"
      ]
     },
     "execution_count": 34,
     "metadata": {},
     "output_type": "execute_result"
    }
   ],
   "source": [
    "tstat,pval = ttest_1samp(s,300)\n",
    "tstat,pval"
   ]
  },
  {
   "cell_type": "code",
   "execution_count": null,
   "metadata": {},
   "outputs": [],
   "source": []
  },
  {
   "cell_type": "code",
   "execution_count": null,
   "metadata": {},
   "outputs": [],
   "source": []
  }
 ],
 "metadata": {
  "kernelspec": {
   "display_name": "Python 3",
   "language": "python",
   "name": "python3"
  },
  "language_info": {
   "codemirror_mode": {
    "name": "ipython",
    "version": 3
   },
   "file_extension": ".py",
   "mimetype": "text/x-python",
   "name": "python",
   "nbconvert_exporter": "python",
   "pygments_lexer": "ipython3",
   "version": "3.8.3"
  }
 },
 "nbformat": 4,
 "nbformat_minor": 4
}
