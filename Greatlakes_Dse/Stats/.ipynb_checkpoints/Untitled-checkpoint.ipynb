{
 "cells": [
  {
   "cell_type": "code",
   "execution_count": 49,
   "metadata": {},
   "outputs": [],
   "source": [
    "import numpy as np\n",
    "import pandas as pd\n",
    "from scipy.stats import ttest_1samp, ttest_ind, mannwhitneyu,shapiro,wilcoxon\n",
    "from statsmodels.stats.power import ttest_power\n",
    "from statsmodels.stats.proportion import proportions_ztest\n",
    "import matplotlib.pyplot as plt\n",
    "%matplotlib inline\n",
    "import scipy.stats as stats\n",
    "import statsmodels.api         as     sm\n",
    "from   statsmodels.formula.api import ols\n",
    "from   statsmodels.stats.anova import anova_lm\n",
    "import seaborn as sns\n",
    "from scipy.stats import chi2_contingency\n"
   ]
  },
  {
   "cell_type": "code",
   "execution_count": 2,
   "metadata": {},
   "outputs": [],
   "source": [
    "df = pd.read_csv('Bank.csv')"
   ]
  },
  {
   "cell_type": "code",
   "execution_count": 3,
   "metadata": {},
   "outputs": [
    {
     "data": {
      "text/html": [
       "<div>\n",
       "<style scoped>\n",
       "    .dataframe tbody tr th:only-of-type {\n",
       "        vertical-align: middle;\n",
       "    }\n",
       "\n",
       "    .dataframe tbody tr th {\n",
       "        vertical-align: top;\n",
       "    }\n",
       "\n",
       "    .dataframe thead th {\n",
       "        text-align: right;\n",
       "    }\n",
       "</style>\n",
       "<table border=\"1\" class=\"dataframe\">\n",
       "  <thead>\n",
       "    <tr style=\"text-align: right;\">\n",
       "      <th></th>\n",
       "      <th>User I.D</th>\n",
       "      <th>Age</th>\n",
       "      <th>Income</th>\n",
       "      <th>Income2</th>\n",
       "      <th>Deposit</th>\n",
       "      <th>Deposit2</th>\n",
       "      <th>Customer_type</th>\n",
       "      <th>Deposit_Scheme</th>\n",
       "    </tr>\n",
       "  </thead>\n",
       "  <tbody>\n",
       "    <tr>\n",
       "      <th>0</th>\n",
       "      <td>ACX570081</td>\n",
       "      <td>26</td>\n",
       "      <td>32900</td>\n",
       "      <td>20230</td>\n",
       "      <td>14805.0</td>\n",
       "      <td>11935.7</td>\n",
       "      <td>Irregular</td>\n",
       "      <td>Hal-Yearly</td>\n",
       "    </tr>\n",
       "    <tr>\n",
       "      <th>1</th>\n",
       "      <td>ACX570082</td>\n",
       "      <td>43</td>\n",
       "      <td>37390</td>\n",
       "      <td>21410</td>\n",
       "      <td>19442.8</td>\n",
       "      <td>10276.8</td>\n",
       "      <td>Regular</td>\n",
       "      <td>Quaterly</td>\n",
       "    </tr>\n",
       "    <tr>\n",
       "      <th>2</th>\n",
       "      <td>ACX570083</td>\n",
       "      <td>35</td>\n",
       "      <td>11300</td>\n",
       "      <td>22290</td>\n",
       "      <td>5989.0</td>\n",
       "      <td>9361.8</td>\n",
       "      <td>Irregular</td>\n",
       "      <td>Monthly</td>\n",
       "    </tr>\n",
       "    <tr>\n",
       "      <th>3</th>\n",
       "      <td>ACX570084</td>\n",
       "      <td>27</td>\n",
       "      <td>41680</td>\n",
       "      <td>26970</td>\n",
       "      <td>19589.6</td>\n",
       "      <td>15912.3</td>\n",
       "      <td>Irregular</td>\n",
       "      <td>Quaterly</td>\n",
       "    </tr>\n",
       "    <tr>\n",
       "      <th>4</th>\n",
       "      <td>ACX570085</td>\n",
       "      <td>42</td>\n",
       "      <td>27170</td>\n",
       "      <td>27220</td>\n",
       "      <td>14943.5</td>\n",
       "      <td>11160.2</td>\n",
       "      <td>Regular</td>\n",
       "      <td>Quaterly</td>\n",
       "    </tr>\n",
       "    <tr>\n",
       "      <th>...</th>\n",
       "      <td>...</td>\n",
       "      <td>...</td>\n",
       "      <td>...</td>\n",
       "      <td>...</td>\n",
       "      <td>...</td>\n",
       "      <td>...</td>\n",
       "      <td>...</td>\n",
       "      <td>...</td>\n",
       "    </tr>\n",
       "    <tr>\n",
       "      <th>259</th>\n",
       "      <td>ACX570326</td>\n",
       "      <td>28</td>\n",
       "      <td>35350</td>\n",
       "      <td>22240</td>\n",
       "      <td>15907.5</td>\n",
       "      <td>9785.6</td>\n",
       "      <td>Irregular</td>\n",
       "      <td>Yearly</td>\n",
       "    </tr>\n",
       "    <tr>\n",
       "      <th>260</th>\n",
       "      <td>ACX570327</td>\n",
       "      <td>36</td>\n",
       "      <td>21500</td>\n",
       "      <td>34410</td>\n",
       "      <td>10535.0</td>\n",
       "      <td>17893.2</td>\n",
       "      <td>Regular</td>\n",
       "      <td>Quaterly</td>\n",
       "    </tr>\n",
       "    <tr>\n",
       "      <th>261</th>\n",
       "      <td>ACX570328</td>\n",
       "      <td>25</td>\n",
       "      <td>27840</td>\n",
       "      <td>24250</td>\n",
       "      <td>16425.6</td>\n",
       "      <td>10427.5</td>\n",
       "      <td>Irregular</td>\n",
       "      <td>Quaterly</td>\n",
       "    </tr>\n",
       "    <tr>\n",
       "      <th>262</th>\n",
       "      <td>ACX570329</td>\n",
       "      <td>36</td>\n",
       "      <td>38530</td>\n",
       "      <td>26800</td>\n",
       "      <td>18494.4</td>\n",
       "      <td>11256.0</td>\n",
       "      <td>Regular</td>\n",
       "      <td>Quaterly</td>\n",
       "    </tr>\n",
       "    <tr>\n",
       "      <th>263</th>\n",
       "      <td>ACX570330</td>\n",
       "      <td>49</td>\n",
       "      <td>36170</td>\n",
       "      <td>26010</td>\n",
       "      <td>20616.9</td>\n",
       "      <td>15866.1</td>\n",
       "      <td>Regular</td>\n",
       "      <td>Monthly</td>\n",
       "    </tr>\n",
       "  </tbody>\n",
       "</table>\n",
       "<p>264 rows × 8 columns</p>\n",
       "</div>"
      ],
      "text/plain": [
       "      User I.D  Age  Income  Income2  Deposit  Deposit2 Customer_type  \\\n",
       "0    ACX570081   26   32900    20230  14805.0   11935.7     Irregular   \n",
       "1    ACX570082   43   37390    21410  19442.8   10276.8       Regular   \n",
       "2    ACX570083   35   11300    22290   5989.0    9361.8     Irregular   \n",
       "3    ACX570084   27   41680    26970  19589.6   15912.3     Irregular   \n",
       "4    ACX570085   42   27170    27220  14943.5   11160.2       Regular   \n",
       "..         ...  ...     ...      ...      ...       ...           ...   \n",
       "259  ACX570326   28   35350    22240  15907.5    9785.6     Irregular   \n",
       "260  ACX570327   36   21500    34410  10535.0   17893.2       Regular   \n",
       "261  ACX570328   25   27840    24250  16425.6   10427.5     Irregular   \n",
       "262  ACX570329   36   38530    26800  18494.4   11256.0       Regular   \n",
       "263  ACX570330   49   36170    26010  20616.9   15866.1       Regular   \n",
       "\n",
       "    Deposit_Scheme  \n",
       "0       Hal-Yearly  \n",
       "1         Quaterly  \n",
       "2          Monthly  \n",
       "3         Quaterly  \n",
       "4         Quaterly  \n",
       "..             ...  \n",
       "259         Yearly  \n",
       "260       Quaterly  \n",
       "261       Quaterly  \n",
       "262       Quaterly  \n",
       "263        Monthly  \n",
       "\n",
       "[264 rows x 8 columns]"
      ]
     },
     "execution_count": 3,
     "metadata": {},
     "output_type": "execute_result"
    }
   ],
   "source": [
    "df"
   ]
  },
  {
   "cell_type": "code",
   "execution_count": 4,
   "metadata": {},
   "outputs": [
    {
     "data": {
      "text/html": [
       "<div>\n",
       "<style scoped>\n",
       "    .dataframe tbody tr th:only-of-type {\n",
       "        vertical-align: middle;\n",
       "    }\n",
       "\n",
       "    .dataframe tbody tr th {\n",
       "        vertical-align: top;\n",
       "    }\n",
       "\n",
       "    .dataframe thead th {\n",
       "        text-align: right;\n",
       "    }\n",
       "</style>\n",
       "<table border=\"1\" class=\"dataframe\">\n",
       "  <thead>\n",
       "    <tr style=\"text-align: right;\">\n",
       "      <th></th>\n",
       "      <th>Age</th>\n",
       "      <th>Income</th>\n",
       "      <th>Income2</th>\n",
       "      <th>Deposit</th>\n",
       "      <th>Deposit2</th>\n",
       "    </tr>\n",
       "  </thead>\n",
       "  <tbody>\n",
       "    <tr>\n",
       "      <th>count</th>\n",
       "      <td>264.000000</td>\n",
       "      <td>264.000000</td>\n",
       "      <td>264.000000</td>\n",
       "      <td>264.000000</td>\n",
       "      <td>264.000000</td>\n",
       "    </tr>\n",
       "    <tr>\n",
       "      <th>mean</th>\n",
       "      <td>35.143939</td>\n",
       "      <td>30104.583333</td>\n",
       "      <td>25014.545455</td>\n",
       "      <td>15601.345076</td>\n",
       "      <td>12915.172348</td>\n",
       "    </tr>\n",
       "    <tr>\n",
       "      <th>std</th>\n",
       "      <td>6.045622</td>\n",
       "      <td>9383.489941</td>\n",
       "      <td>5079.402956</td>\n",
       "      <td>5184.112352</td>\n",
       "      <td>3038.508903</td>\n",
       "    </tr>\n",
       "    <tr>\n",
       "      <th>min</th>\n",
       "      <td>16.000000</td>\n",
       "      <td>5110.000000</td>\n",
       "      <td>11200.000000</td>\n",
       "      <td>2606.100000</td>\n",
       "      <td>5104.000000</td>\n",
       "    </tr>\n",
       "    <tr>\n",
       "      <th>25%</th>\n",
       "      <td>31.000000</td>\n",
       "      <td>24207.500000</td>\n",
       "      <td>21797.500000</td>\n",
       "      <td>11934.975000</td>\n",
       "      <td>10554.575000</td>\n",
       "    </tr>\n",
       "    <tr>\n",
       "      <th>50%</th>\n",
       "      <td>35.000000</td>\n",
       "      <td>30360.000000</td>\n",
       "      <td>25160.000000</td>\n",
       "      <td>15561.100000</td>\n",
       "      <td>12881.200000</td>\n",
       "    </tr>\n",
       "    <tr>\n",
       "      <th>75%</th>\n",
       "      <td>39.000000</td>\n",
       "      <td>36132.500000</td>\n",
       "      <td>28532.500000</td>\n",
       "      <td>19049.375000</td>\n",
       "      <td>15140.825000</td>\n",
       "    </tr>\n",
       "    <tr>\n",
       "      <th>max</th>\n",
       "      <td>49.000000</td>\n",
       "      <td>57000.000000</td>\n",
       "      <td>38300.000000</td>\n",
       "      <td>31920.000000</td>\n",
       "      <td>21065.000000</td>\n",
       "    </tr>\n",
       "  </tbody>\n",
       "</table>\n",
       "</div>"
      ],
      "text/plain": [
       "              Age        Income       Income2       Deposit      Deposit2\n",
       "count  264.000000    264.000000    264.000000    264.000000    264.000000\n",
       "mean    35.143939  30104.583333  25014.545455  15601.345076  12915.172348\n",
       "std      6.045622   9383.489941   5079.402956   5184.112352   3038.508903\n",
       "min     16.000000   5110.000000  11200.000000   2606.100000   5104.000000\n",
       "25%     31.000000  24207.500000  21797.500000  11934.975000  10554.575000\n",
       "50%     35.000000  30360.000000  25160.000000  15561.100000  12881.200000\n",
       "75%     39.000000  36132.500000  28532.500000  19049.375000  15140.825000\n",
       "max     49.000000  57000.000000  38300.000000  31920.000000  21065.000000"
      ]
     },
     "execution_count": 4,
     "metadata": {},
     "output_type": "execute_result"
    }
   ],
   "source": [
    "df.describe()"
   ]
  },
  {
   "cell_type": "markdown",
   "metadata": {},
   "source": [
    "# In the manager’s report, it is mentioned that the average Age of the Customers is 35. "
   ]
  },
  {
   "cell_type": "code",
   "execution_count": 5,
   "metadata": {},
   "outputs": [
    {
     "data": {
      "text/plain": [
       "ShapiroResult(statistic=0.9926846623420715, pvalue=0.22020867466926575)"
      ]
     },
     "execution_count": 5,
     "metadata": {},
     "output_type": "execute_result"
    }
   ],
   "source": [
    "shapiro(df['Age'])"
   ]
  },
  {
   "cell_type": "code",
   "execution_count": 6,
   "metadata": {},
   "outputs": [
    {
     "data": {
      "text/plain": [
       "Ttest_1sampResult(statistic=0.38684825882837526, pvalue=0.6991813724146171)"
      ]
     },
     "execution_count": 6,
     "metadata": {},
     "output_type": "execute_result"
    }
   ],
   "source": [
    "ttest_1samp(df['Age'],35)"
   ]
  },
  {
   "cell_type": "code",
   "execution_count": 7,
   "metadata": {},
   "outputs": [],
   "source": [
    "# YES AGE IS AROUND 35(NULL HYPOTHESIS TRUE)"
   ]
  },
  {
   "cell_type": "markdown",
   "metadata": {},
   "source": [
    "# Before corona the mean income was 40000"
   ]
  },
  {
   "cell_type": "code",
   "execution_count": 8,
   "metadata": {},
   "outputs": [
    {
     "data": {
      "text/plain": [
       "ShapiroResult(statistic=0.9979685544967651, pvalue=0.9867026805877686)"
      ]
     },
     "execution_count": 8,
     "metadata": {},
     "output_type": "execute_result"
    }
   ],
   "source": [
    "shapiro(df.Income)"
   ]
  },
  {
   "cell_type": "code",
   "execution_count": 9,
   "metadata": {},
   "outputs": [
    {
     "data": {
      "text/plain": [
       "Ttest_1sampResult(statistic=-17.134508702826132, pvalue=1.0354363597848094e-44)"
      ]
     },
     "execution_count": 9,
     "metadata": {},
     "output_type": "execute_result"
    }
   ],
   "source": [
    "ttest_1samp(df['Income'],40000)"
   ]
  },
  {
   "cell_type": "code",
   "execution_count": 10,
   "metadata": {},
   "outputs": [],
   "source": [
    "# NO INCOME IS NOT AROUND 40000,Alternate hypothesis holds true"
   ]
  },
  {
   "cell_type": "markdown",
   "metadata": {},
   "source": [
    "# EFFECT OF AGE GROUP ON INCOME"
   ]
  },
  {
   "cell_type": "code",
   "execution_count": 11,
   "metadata": {},
   "outputs": [
    {
     "data": {
      "text/plain": [
       "Index(['User I.D', 'Age', 'Income', 'Income2', 'Deposit', 'Deposit2',\n",
       "       'Customer_type', 'Deposit_Scheme'],\n",
       "      dtype='object')"
      ]
     },
     "execution_count": 11,
     "metadata": {},
     "output_type": "execute_result"
    }
   ],
   "source": [
    "df.columns"
   ]
  },
  {
   "cell_type": "code",
   "execution_count": 18,
   "metadata": {},
   "outputs": [],
   "source": [
    "bins = [0,18,24,30,40,48,np.inf]\n",
    "names = \"Group_A Group_B Group_C Group_D Group_E Group_F\".split()\n",
    "df['Age_Group'] = pd.cut(df.Age,bins,labels=names)"
   ]
  },
  {
   "cell_type": "code",
   "execution_count": 19,
   "metadata": {},
   "outputs": [
    {
     "data": {
      "text/html": [
       "<div>\n",
       "<style scoped>\n",
       "    .dataframe tbody tr th:only-of-type {\n",
       "        vertical-align: middle;\n",
       "    }\n",
       "\n",
       "    .dataframe tbody tr th {\n",
       "        vertical-align: top;\n",
       "    }\n",
       "\n",
       "    .dataframe thead th {\n",
       "        text-align: right;\n",
       "    }\n",
       "</style>\n",
       "<table border=\"1\" class=\"dataframe\">\n",
       "  <thead>\n",
       "    <tr style=\"text-align: right;\">\n",
       "      <th></th>\n",
       "      <th>User I.D</th>\n",
       "      <th>Age</th>\n",
       "      <th>Income</th>\n",
       "      <th>Income2</th>\n",
       "      <th>Deposit</th>\n",
       "      <th>Deposit2</th>\n",
       "      <th>Customer_type</th>\n",
       "      <th>Deposit_Scheme</th>\n",
       "      <th>Age_Group</th>\n",
       "    </tr>\n",
       "  </thead>\n",
       "  <tbody>\n",
       "    <tr>\n",
       "      <th>0</th>\n",
       "      <td>ACX570081</td>\n",
       "      <td>26</td>\n",
       "      <td>32900</td>\n",
       "      <td>20230</td>\n",
       "      <td>14805.0</td>\n",
       "      <td>11935.7</td>\n",
       "      <td>Irregular</td>\n",
       "      <td>Hal-Yearly</td>\n",
       "      <td>Group_C</td>\n",
       "    </tr>\n",
       "    <tr>\n",
       "      <th>1</th>\n",
       "      <td>ACX570082</td>\n",
       "      <td>43</td>\n",
       "      <td>37390</td>\n",
       "      <td>21410</td>\n",
       "      <td>19442.8</td>\n",
       "      <td>10276.8</td>\n",
       "      <td>Regular</td>\n",
       "      <td>Quaterly</td>\n",
       "      <td>Group_E</td>\n",
       "    </tr>\n",
       "    <tr>\n",
       "      <th>2</th>\n",
       "      <td>ACX570083</td>\n",
       "      <td>35</td>\n",
       "      <td>11300</td>\n",
       "      <td>22290</td>\n",
       "      <td>5989.0</td>\n",
       "      <td>9361.8</td>\n",
       "      <td>Irregular</td>\n",
       "      <td>Monthly</td>\n",
       "      <td>Group_D</td>\n",
       "    </tr>\n",
       "    <tr>\n",
       "      <th>3</th>\n",
       "      <td>ACX570084</td>\n",
       "      <td>27</td>\n",
       "      <td>41680</td>\n",
       "      <td>26970</td>\n",
       "      <td>19589.6</td>\n",
       "      <td>15912.3</td>\n",
       "      <td>Irregular</td>\n",
       "      <td>Quaterly</td>\n",
       "      <td>Group_C</td>\n",
       "    </tr>\n",
       "    <tr>\n",
       "      <th>4</th>\n",
       "      <td>ACX570085</td>\n",
       "      <td>42</td>\n",
       "      <td>27170</td>\n",
       "      <td>27220</td>\n",
       "      <td>14943.5</td>\n",
       "      <td>11160.2</td>\n",
       "      <td>Regular</td>\n",
       "      <td>Quaterly</td>\n",
       "      <td>Group_E</td>\n",
       "    </tr>\n",
       "    <tr>\n",
       "      <th>...</th>\n",
       "      <td>...</td>\n",
       "      <td>...</td>\n",
       "      <td>...</td>\n",
       "      <td>...</td>\n",
       "      <td>...</td>\n",
       "      <td>...</td>\n",
       "      <td>...</td>\n",
       "      <td>...</td>\n",
       "      <td>...</td>\n",
       "    </tr>\n",
       "    <tr>\n",
       "      <th>259</th>\n",
       "      <td>ACX570326</td>\n",
       "      <td>28</td>\n",
       "      <td>35350</td>\n",
       "      <td>22240</td>\n",
       "      <td>15907.5</td>\n",
       "      <td>9785.6</td>\n",
       "      <td>Irregular</td>\n",
       "      <td>Yearly</td>\n",
       "      <td>Group_C</td>\n",
       "    </tr>\n",
       "    <tr>\n",
       "      <th>260</th>\n",
       "      <td>ACX570327</td>\n",
       "      <td>36</td>\n",
       "      <td>21500</td>\n",
       "      <td>34410</td>\n",
       "      <td>10535.0</td>\n",
       "      <td>17893.2</td>\n",
       "      <td>Regular</td>\n",
       "      <td>Quaterly</td>\n",
       "      <td>Group_D</td>\n",
       "    </tr>\n",
       "    <tr>\n",
       "      <th>261</th>\n",
       "      <td>ACX570328</td>\n",
       "      <td>25</td>\n",
       "      <td>27840</td>\n",
       "      <td>24250</td>\n",
       "      <td>16425.6</td>\n",
       "      <td>10427.5</td>\n",
       "      <td>Irregular</td>\n",
       "      <td>Quaterly</td>\n",
       "      <td>Group_C</td>\n",
       "    </tr>\n",
       "    <tr>\n",
       "      <th>262</th>\n",
       "      <td>ACX570329</td>\n",
       "      <td>36</td>\n",
       "      <td>38530</td>\n",
       "      <td>26800</td>\n",
       "      <td>18494.4</td>\n",
       "      <td>11256.0</td>\n",
       "      <td>Regular</td>\n",
       "      <td>Quaterly</td>\n",
       "      <td>Group_D</td>\n",
       "    </tr>\n",
       "    <tr>\n",
       "      <th>263</th>\n",
       "      <td>ACX570330</td>\n",
       "      <td>49</td>\n",
       "      <td>36170</td>\n",
       "      <td>26010</td>\n",
       "      <td>20616.9</td>\n",
       "      <td>15866.1</td>\n",
       "      <td>Regular</td>\n",
       "      <td>Monthly</td>\n",
       "      <td>Group_F</td>\n",
       "    </tr>\n",
       "  </tbody>\n",
       "</table>\n",
       "<p>264 rows × 9 columns</p>\n",
       "</div>"
      ],
      "text/plain": [
       "      User I.D  Age  Income  Income2  Deposit  Deposit2 Customer_type  \\\n",
       "0    ACX570081   26   32900    20230  14805.0   11935.7     Irregular   \n",
       "1    ACX570082   43   37390    21410  19442.8   10276.8       Regular   \n",
       "2    ACX570083   35   11300    22290   5989.0    9361.8     Irregular   \n",
       "3    ACX570084   27   41680    26970  19589.6   15912.3     Irregular   \n",
       "4    ACX570085   42   27170    27220  14943.5   11160.2       Regular   \n",
       "..         ...  ...     ...      ...      ...       ...           ...   \n",
       "259  ACX570326   28   35350    22240  15907.5    9785.6     Irregular   \n",
       "260  ACX570327   36   21500    34410  10535.0   17893.2       Regular   \n",
       "261  ACX570328   25   27840    24250  16425.6   10427.5     Irregular   \n",
       "262  ACX570329   36   38530    26800  18494.4   11256.0       Regular   \n",
       "263  ACX570330   49   36170    26010  20616.9   15866.1       Regular   \n",
       "\n",
       "    Deposit_Scheme Age_Group  \n",
       "0       Hal-Yearly   Group_C  \n",
       "1         Quaterly   Group_E  \n",
       "2          Monthly   Group_D  \n",
       "3         Quaterly   Group_C  \n",
       "4         Quaterly   Group_E  \n",
       "..             ...       ...  \n",
       "259         Yearly   Group_C  \n",
       "260       Quaterly   Group_D  \n",
       "261       Quaterly   Group_C  \n",
       "262       Quaterly   Group_D  \n",
       "263        Monthly   Group_F  \n",
       "\n",
       "[264 rows x 9 columns]"
      ]
     },
     "execution_count": 19,
     "metadata": {},
     "output_type": "execute_result"
    }
   ],
   "source": [
    "df"
   ]
  },
  {
   "cell_type": "code",
   "execution_count": 22,
   "metadata": {},
   "outputs": [
    {
     "data": {
      "image/png": "[encoded data removed]",
      "text/plain": [
       "<Figure size 432x288 with 1 Axes>"
      ]
     },
     "metadata": {
      "needs_background": "light"
     },
     "output_type": "display_data"
    }
   ],
   "source": [
    "sns.boxplot(df.Age_Group,df.Income);"
   ]
  },
  {
   "cell_type": "code",
   "execution_count": 27,
   "metadata": {},
   "outputs": [],
   "source": [
    "mod = ols('Income ~ Age_Group',data=df).fit()\n",
    "aov_table = sm.stats.anova_lm(mod,type=2)"
   ]
  },
  {
   "cell_type": "code",
   "execution_count": 28,
   "metadata": {},
   "outputs": [
    {
     "name": "stdout",
     "output_type": "stream",
     "text": [
      "              df        sum_sq       mean_sq         F    PR(>F)\n",
      "Age_Group    5.0  1.806153e+08  3.612307e+07  0.405621  0.844716\n",
      "Residual   258.0  2.297650e+10  8.905622e+07       NaN       NaN\n"
     ]
    }
   ],
   "source": [
    "print(aov_table)"
   ]
  },
  {
   "cell_type": "code",
   "execution_count": 29,
   "metadata": {},
   "outputs": [],
   "source": [
    "# Ho holds true meaning all age groups get same salary"
   ]
  },
  {
   "cell_type": "markdown",
   "metadata": {},
   "source": [
    "# EFFECT OF DEPOSIT SCHEME ON INCOME"
   ]
  },
  {
   "cell_type": "code",
   "execution_count": 31,
   "metadata": {},
   "outputs": [
    {
     "data": {
      "image/png": "[encoded data removed]",
      "text/plain": [
       "<Figure size 432x288 with 1 Axes>"
      ]
     },
     "metadata": {
      "needs_background": "light"
     },
     "output_type": "display_data"
    }
   ],
   "source": [
    "sns.boxplot(x = \"Deposit_Scheme\", y = \"Income\", data = df) \n",
    "plt.title('Mean Income by Deposit') \n",
    "plt.show() "
   ]
  },
  {
   "cell_type": "code",
   "execution_count": 36,
   "metadata": {},
   "outputs": [
    {
     "name": "stdout",
     "output_type": "stream",
     "text": [
      "                   df        sum_sq       mean_sq         F        PR(>F)\n",
      "Deposit_Scheme    3.0  7.799853e+09  2.599951e+09  44.01742  4.891310e-23\n",
      "Residual        260.0  1.535727e+10  5.906641e+07       NaN           NaN\n"
     ]
    }
   ],
   "source": [
    "mod = ols('Income ~ Deposit_Scheme',data=df).fit()\n",
    "aov_table = sm.stats.anova_lm(mod,type=2)\n",
    "print(aov_table)\n",
    "# df['Deposit_Scheme']"
   ]
  },
  {
   "cell_type": "code",
   "execution_count": 33,
   "metadata": {},
   "outputs": [
    {
     "name": "stdout",
     "output_type": "stream",
     "text": [
      "        Multiple Comparison of Means - Tukey HSD, FWER=0.05        \n",
      "===================================================================\n",
      "  group1    group2   meandiff  p-adj     lower      upper    reject\n",
      "-------------------------------------------------------------------\n",
      "Hal-Yearly  Monthly -11265.787  0.001 -15750.5592 -6781.0149   True\n",
      "Hal-Yearly Quaterly -1084.7775 0.7602   -4081.533  1911.9779  False\n",
      "Hal-Yearly   Yearly  9037.4893  0.001   5420.7781 12654.2006   True\n",
      "   Monthly Quaterly 10181.0095  0.001   5923.9097 14438.1093   True\n",
      "   Monthly   Yearly 20303.2764  0.001  15589.1534 25017.3993   True\n",
      "  Quaterly   Yearly 10122.2668  0.001    6792.054 13452.4797   True\n",
      "-------------------------------------------------------------------\n"
     ]
    }
   ],
   "source": [
    "from statsmodels.stats.multicomp import pairwise_tukeyhsd \n",
    "print(pairwise_tukeyhsd(df['Income'],df['Deposit_Scheme'])) "
   ]
  },
  {
   "cell_type": "markdown",
   "metadata": {},
   "source": [
    "# Income vs Customer type"
   ]
  },
  {
   "cell_type": "code",
   "execution_count": 39,
   "metadata": {},
   "outputs": [
    {
     "name": "stdout",
     "output_type": "stream",
     "text": [
      "     Multiple Comparison of Means - Tukey HSD, FWER=0.05     \n",
      "=============================================================\n",
      "  group1   group2 meandiff p-adj    lower      upper   reject\n",
      "-------------------------------------------------------------\n",
      "Irregular Regular 388.1275 0.7869 -2330.1655 3106.4204  False\n",
      "-------------------------------------------------------------\n"
     ]
    }
   ],
   "source": [
    "print(pairwise_tukeyhsd(df['Income'],df['Customer_type'])) "
   ]
  },
  {
   "cell_type": "code",
   "execution_count": 41,
   "metadata": {},
   "outputs": [
    {
     "name": "stdout",
     "output_type": "stream",
     "text": [
      "                  df        sum_sq       mean_sq         F    PR(>F)\n",
      "Customer_type    1.0  6.984353e+06  6.984353e+06  0.079045  0.778818\n",
      "Residual       262.0  2.315014e+10  8.835929e+07       NaN       NaN\n"
     ]
    }
   ],
   "source": [
    "mod = ols('Income ~ Customer_type',data=df).fit()\n",
    "aov_table = sm.stats.anova_lm(mod,type=2)\n",
    "print(aov_table)"
   ]
  },
  {
   "cell_type": "code",
   "execution_count": null,
   "metadata": {},
   "outputs": [],
   "source": [
    "# HERE CUST TYPE IS ONLY 2 SO WE SHOULD USE TWO SAMPLE TTEST AND NOT THE ABOVE TESTS"
   ]
  },
  {
   "cell_type": "markdown",
   "metadata": {},
   "source": [
    "# EFFECT OF AGE GROUP ON DEPOSIT"
   ]
  },
  {
   "cell_type": "code",
   "execution_count": null,
   "metadata": {},
   "outputs": [],
   "source": [
    "# numerical deposit and more than 2 categories in age group so ANOVE"
   ]
  },
  {
   "cell_type": "code",
   "execution_count": 42,
   "metadata": {},
   "outputs": [
    {
     "name": "stdout",
     "output_type": "stream",
     "text": [
      "              df        sum_sq       mean_sq         F    PR(>F)\n",
      "Age_Group    5.0  5.336406e+07  1.067281e+07  0.392541  0.853745\n",
      "Residual   258.0  7.014766e+09  2.718902e+07       NaN       NaN\n"
     ]
    }
   ],
   "source": [
    "mod = ols('Deposit ~ Age_Group',data=df).fit()\n",
    "aov_table = sm.stats.anova_lm(mod,type=2)\n",
    "print(aov_table)"
   ]
  },
  {
   "cell_type": "code",
   "execution_count": null,
   "metadata": {},
   "outputs": [],
   "source": [
    "# for all age group same deposit"
   ]
  },
  {
   "cell_type": "markdown",
   "metadata": {},
   "source": [
    "# The bank wants the see the variation of average Deposit over different Deposit Scheme "
   ]
  },
  {
   "cell_type": "code",
   "execution_count": 43,
   "metadata": {},
   "outputs": [
    {
     "data": {
      "text/plain": [
       "Quaterly      113\n",
       "Hal-Yearly     72\n",
       "Yearly         52\n",
       "Monthly        27\n",
       "Name: Deposit_Scheme, dtype: int64"
      ]
     },
     "execution_count": 43,
     "metadata": {},
     "output_type": "execute_result"
    }
   ],
   "source": [
    "df['Deposit_Scheme'].value_counts()"
   ]
  },
  {
   "cell_type": "code",
   "execution_count": 44,
   "metadata": {},
   "outputs": [
    {
     "name": "stdout",
     "output_type": "stream",
     "text": [
      "                   df        sum_sq       mean_sq          F        PR(>F)\n",
      "Deposit_Scheme    3.0  1.964786e+09  6.549286e+08  33.366631  2.808481e-18\n",
      "Residual        260.0  5.103345e+09  1.962825e+07        NaN           NaN\n"
     ]
    }
   ],
   "source": [
    "mod = ols('Deposit ~ Deposit_Scheme',data=df).fit()\n",
    "aov_table = sm.stats.anova_lm(mod,type=2)\n",
    "print(aov_table)"
   ]
  },
  {
   "cell_type": "code",
   "execution_count": null,
   "metadata": {},
   "outputs": [],
   "source": [
    "# Yes for differebnt deposit schemes,different deposits"
   ]
  },
  {
   "cell_type": "markdown",
   "metadata": {},
   "source": [
    "# AGE GROUP AFFECTS DEPOSIT SCHEME"
   ]
  },
  {
   "cell_type": "code",
   "execution_count": 45,
   "metadata": {},
   "outputs": [],
   "source": [
    "# 2 categories and more than two sub catgories so chi square"
   ]
  },
  {
   "cell_type": "code",
   "execution_count": 47,
   "metadata": {},
   "outputs": [
    {
     "data": {
      "text/html": [
       "<div>\n",
       "<style scoped>\n",
       "    .dataframe tbody tr th:only-of-type {\n",
       "        vertical-align: middle;\n",
       "    }\n",
       "\n",
       "    .dataframe tbody tr th {\n",
       "        vertical-align: top;\n",
       "    }\n",
       "\n",
       "    .dataframe thead th {\n",
       "        text-align: right;\n",
       "    }\n",
       "</style>\n",
       "<table border=\"1\" class=\"dataframe\">\n",
       "  <thead>\n",
       "    <tr style=\"text-align: right;\">\n",
       "      <th>Age_Group</th>\n",
       "      <th>Group_A</th>\n",
       "      <th>Group_B</th>\n",
       "      <th>Group_C</th>\n",
       "      <th>Group_D</th>\n",
       "      <th>Group_E</th>\n",
       "      <th>Group_F</th>\n",
       "    </tr>\n",
       "    <tr>\n",
       "      <th>Deposit_Scheme</th>\n",
       "      <th></th>\n",
       "      <th></th>\n",
       "      <th></th>\n",
       "      <th></th>\n",
       "      <th></th>\n",
       "      <th></th>\n",
       "    </tr>\n",
       "  </thead>\n",
       "  <tbody>\n",
       "    <tr>\n",
       "      <th>Hal-Yearly</th>\n",
       "      <td>0</td>\n",
       "      <td>3</td>\n",
       "      <td>15</td>\n",
       "      <td>41</td>\n",
       "      <td>13</td>\n",
       "      <td>0</td>\n",
       "    </tr>\n",
       "    <tr>\n",
       "      <th>Monthly</th>\n",
       "      <td>0</td>\n",
       "      <td>0</td>\n",
       "      <td>5</td>\n",
       "      <td>15</td>\n",
       "      <td>6</td>\n",
       "      <td>1</td>\n",
       "    </tr>\n",
       "    <tr>\n",
       "      <th>Quaterly</th>\n",
       "      <td>1</td>\n",
       "      <td>5</td>\n",
       "      <td>15</td>\n",
       "      <td>71</td>\n",
       "      <td>19</td>\n",
       "      <td>2</td>\n",
       "    </tr>\n",
       "    <tr>\n",
       "      <th>Yearly</th>\n",
       "      <td>0</td>\n",
       "      <td>3</td>\n",
       "      <td>11</td>\n",
       "      <td>29</td>\n",
       "      <td>9</td>\n",
       "      <td>0</td>\n",
       "    </tr>\n",
       "  </tbody>\n",
       "</table>\n",
       "</div>"
      ],
      "text/plain": [
       "Age_Group       Group_A  Group_B  Group_C  Group_D  Group_E  Group_F\n",
       "Deposit_Scheme                                                      \n",
       "Hal-Yearly            0        3       15       41       13        0\n",
       "Monthly               0        0        5       15        6        1\n",
       "Quaterly              1        5       15       71       19        2\n",
       "Yearly                0        3       11       29        9        0"
      ]
     },
     "execution_count": 47,
     "metadata": {},
     "output_type": "execute_result"
    }
   ],
   "source": [
    "CT=pd.crosstab(df['Deposit_Scheme'],df['Age_Group'])\n",
    "CT"
   ]
  },
  {
   "cell_type": "code",
   "execution_count": 50,
   "metadata": {},
   "outputs": [
    {
     "data": {
      "text/plain": [
       "(9.050904513179914,\n",
       " 0.8748407909784324,\n",
       " 15,\n",
       " array([[ 0.27272727,  3.        , 12.54545455, 42.54545455, 12.81818182,\n",
       "          0.81818182],\n",
       "        [ 0.10227273,  1.125     ,  4.70454545, 15.95454545,  4.80681818,\n",
       "          0.30681818],\n",
       "        [ 0.4280303 ,  4.70833333, 19.68939394, 66.77272727, 20.11742424,\n",
       "          1.28409091],\n",
       "        [ 0.1969697 ,  2.16666667,  9.06060606, 30.72727273,  9.25757576,\n",
       "          0.59090909]]))"
      ]
     },
     "execution_count": 50,
     "metadata": {},
     "output_type": "execute_result"
    }
   ],
   "source": [
    "chi2_contingency(CT)"
   ]
  },
  {
   "cell_type": "code",
   "execution_count": null,
   "metadata": {},
   "outputs": [],
   "source": [
    "# proportion pattern has similar pattern"
   ]
  },
  {
   "cell_type": "markdown",
   "metadata": {},
   "source": [
    "# AGE GROUP VS CUTOMER TYPE"
   ]
  },
  {
   "cell_type": "code",
   "execution_count": 51,
   "metadata": {},
   "outputs": [
    {
     "data": {
      "text/html": [
       "<div>\n",
       "<style scoped>\n",
       "    .dataframe tbody tr th:only-of-type {\n",
       "        vertical-align: middle;\n",
       "    }\n",
       "\n",
       "    .dataframe tbody tr th {\n",
       "        vertical-align: top;\n",
       "    }\n",
       "\n",
       "    .dataframe thead th {\n",
       "        text-align: right;\n",
       "    }\n",
       "</style>\n",
       "<table border=\"1\" class=\"dataframe\">\n",
       "  <thead>\n",
       "    <tr style=\"text-align: right;\">\n",
       "      <th>Age_Group</th>\n",
       "      <th>Group_A</th>\n",
       "      <th>Group_B</th>\n",
       "      <th>Group_C</th>\n",
       "      <th>Group_D</th>\n",
       "      <th>Group_E</th>\n",
       "      <th>Group_F</th>\n",
       "    </tr>\n",
       "    <tr>\n",
       "      <th>Customer_type</th>\n",
       "      <th></th>\n",
       "      <th></th>\n",
       "      <th></th>\n",
       "      <th></th>\n",
       "      <th></th>\n",
       "      <th></th>\n",
       "    </tr>\n",
       "  </thead>\n",
       "  <tbody>\n",
       "    <tr>\n",
       "      <th>Irregular</th>\n",
       "      <td>1</td>\n",
       "      <td>4</td>\n",
       "      <td>39</td>\n",
       "      <td>11</td>\n",
       "      <td>3</td>\n",
       "      <td>2</td>\n",
       "    </tr>\n",
       "    <tr>\n",
       "      <th>Regular</th>\n",
       "      <td>0</td>\n",
       "      <td>7</td>\n",
       "      <td>7</td>\n",
       "      <td>145</td>\n",
       "      <td>44</td>\n",
       "      <td>1</td>\n",
       "    </tr>\n",
       "  </tbody>\n",
       "</table>\n",
       "</div>"
      ],
      "text/plain": [
       "Age_Group      Group_A  Group_B  Group_C  Group_D  Group_E  Group_F\n",
       "Customer_type                                                      \n",
       "Irregular            1        4       39       11        3        2\n",
       "Regular              0        7        7      145       44        1"
      ]
     },
     "execution_count": 51,
     "metadata": {},
     "output_type": "execute_result"
    }
   ],
   "source": [
    "CT=pd.crosstab(df['Customer_type'],df['Age_Group'])\n",
    "CT"
   ]
  },
  {
   "cell_type": "code",
   "execution_count": 52,
   "metadata": {},
   "outputs": [
    {
     "data": {
      "text/plain": [
       "(137.70576068469086,\n",
       " 5.498541441859924e-28,\n",
       " 5,\n",
       " array([[  0.22727273,   2.5       ,  10.45454545,  35.45454545,\n",
       "          10.68181818,   0.68181818],\n",
       "        [  0.77272727,   8.5       ,  35.54545455, 120.54545455,\n",
       "          36.31818182,   2.31818182]]))"
      ]
     },
     "execution_count": 52,
     "metadata": {},
     "output_type": "execute_result"
    }
   ],
   "source": [
    "chi2_contingency(CT)"
   ]
  },
  {
   "cell_type": "code",
   "execution_count": null,
   "metadata": {},
   "outputs": [],
   "source": []
  },
  {
   "cell_type": "code",
   "execution_count": null,
   "metadata": {},
   "outputs": [],
   "source": []
  },
  {
   "cell_type": "code",
   "execution_count": null,
   "metadata": {},
   "outputs": [],
   "source": []
  },
  {
   "cell_type": "code",
   "execution_count": null,
   "metadata": {},
   "outputs": [],
   "source": []
  },
  {
   "cell_type": "code",
   "execution_count": null,
   "metadata": {},
   "outputs": [],
   "source": []
  },
  {
   "cell_type": "code",
   "execution_count": 14,
   "metadata": {},
   "outputs": [],
   "source": [
    "# 5. The bank wants the see the variation of average income over different Customer type \n",
    "# Irregular_Customer = np.array(data[data['Customer_type']=='Irregular']['Income']) Regular_Customer = np.array(data[data['Customer_type']=='Regular']['Income']) \n",
    "# Before Corona the mean Deposit of the customers was 15500 \n",
    "# 7.Now the bank wants the see the variation of average Deposit over different age group \n",
    "# ####Conclussion : As the p-value (.853745) is greater than alpha (0.05) implies,We fail to reject Null hypothesis.That means mean Deposit over different Age group is same or in other words different Age Group has no influence on Deposit. \n",
    "# 8.The bank wants the see the variation of average Deposit over different Deposit Scheme \n",
    "# ####Conclussion : As the p-value (2.808481e-18) is less than alpha (0.05) implies,We reject Null hypothesis.That means mean Deposit over different Deposit Scheme are not same or in other words different Deposit Scheme has influence on Deposit. Now,we will try to find out for which Deposit scheme the mean deposit are not same.For that,we will conduct a Tuckey test. "
   ]
  },
  {
   "cell_type": "code",
   "execution_count": null,
   "metadata": {},
   "outputs": [],
   "source": [
    "9. The bank wants the see the variation of average Deposit over different Customer type \n",
    "10.Does there exist any relationship between Age Group & Deposit Scheme "
   ]
  },
  {
   "cell_type": "code",
   "execution_count": null,
   "metadata": {},
   "outputs": [],
   "source": [
    "CT=pd.crosstab(data['Deposit_Scheme'],data['Age_Group']) "
   ]
  },
  {
   "cell_type": "code",
   "execution_count": null,
   "metadata": {},
   "outputs": [],
   "source": [
    "11.Does there exist any relationship between Age Group & Customer type \n",
    "CT=pd.crosstab(data['Customer_type'],data['Age_Group']) CT "
   ]
  },
  {
   "cell_type": "code",
   "execution_count": null,
   "metadata": {},
   "outputs": [],
   "source": [
    "12.Does there exist any relationship between Customer type & Deposit Scheme \n",
    "13.After Corona the mean Income of the customers was 25000. \n",
    "14. After Corona the mean Deposit of the customers was 13000. \n",
    "import matplotlib.pyplot as plt plt.hist(data.Deposit2) \n",
    "15.Is there any effect of Corona on Income \n",
    "16.Is there any effect of Corona on Deposit "
   ]
  },
  {
   "cell_type": "code",
   "execution_count": null,
   "metadata": {},
   "outputs": [],
   "source": []
  }
 ],
 "metadata": {
  "kernelspec": {
   "display_name": "Python 3",
   "language": "python",
   "name": "python3"
  },
  "language_info": {
   "codemirror_mode": {
    "name": "ipython",
    "version": 3
   },
   "file_extension": ".py",
   "mimetype": "text/x-python",
   "name": "python",
   "nbconvert_exporter": "python",
   "pygments_lexer": "ipython3",
   "version": "3.8.3"
  }
 },
 "nbformat": 4,
 "nbformat_minor": 4
}
