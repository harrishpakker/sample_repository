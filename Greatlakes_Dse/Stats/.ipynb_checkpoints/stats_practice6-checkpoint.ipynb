{
 "cells": [
  {
   "cell_type": "code",
   "execution_count": 1,
   "metadata": {},
   "outputs": [],
   "source": [
    "import numpy as np\n",
    "import pandas as pd\n",
    "from scipy.stats import ttest_1samp, ttest_ind, mannwhitneyu,shapiro,wilcoxon\n",
    "from statsmodels.stats.power import ttest_power\n",
    "import matplotlib.pyplot as plt\n",
    "%matplotlib inline"
   ]
  },
  {
   "cell_type": "code",
   "execution_count": 2,
   "metadata": {},
   "outputs": [],
   "source": [
    "A=pd.read_table('HR.txt',index_col=0)"
   ]
  },
  {
   "cell_type": "code",
   "execution_count": 3,
   "metadata": {},
   "outputs": [],
   "source": [
    "# Two sample proportion test is conducted on two categories\n",
    "# QUESTION1 : Does gender have effect in attrition\n",
    "# Ho : Attrition rate of male = Attrition rate of female\n",
    "# Ha : Not equal"
   ]
  },
  {
   "cell_type": "code",
   "execution_count": 4,
   "metadata": {},
   "outputs": [
    {
     "data": {
      "text/html": [
       "<div>\n",
       "<style scoped>\n",
       "    .dataframe tbody tr th:only-of-type {\n",
       "        vertical-align: middle;\n",
       "    }\n",
       "\n",
       "    .dataframe tbody tr th {\n",
       "        vertical-align: top;\n",
       "    }\n",
       "\n",
       "    .dataframe thead th {\n",
       "        text-align: right;\n",
       "    }\n",
       "</style>\n",
       "<table border=\"1\" class=\"dataframe\">\n",
       "  <thead>\n",
       "    <tr style=\"text-align: right;\">\n",
       "      <th>Gender</th>\n",
       "      <th>1</th>\n",
       "      <th>2</th>\n",
       "    </tr>\n",
       "    <tr>\n",
       "      <th>Attrition</th>\n",
       "      <th></th>\n",
       "      <th></th>\n",
       "    </tr>\n",
       "  </thead>\n",
       "  <tbody>\n",
       "    <tr>\n",
       "      <th>No</th>\n",
       "      <td>732</td>\n",
       "      <td>501</td>\n",
       "    </tr>\n",
       "    <tr>\n",
       "      <th>Yes</th>\n",
       "      <td>150</td>\n",
       "      <td>87</td>\n",
       "    </tr>\n",
       "  </tbody>\n",
       "</table>\n",
       "</div>"
      ],
      "text/plain": [
       "Gender       1    2\n",
       "Attrition          \n",
       "No         732  501\n",
       "Yes        150   87"
      ]
     },
     "execution_count": 4,
     "metadata": {},
     "output_type": "execute_result"
    }
   ],
   "source": [
    "pd.crosstab(A['Attrition'],A['Gender'])"
   ]
  },
  {
   "cell_type": "code",
   "execution_count": 6,
   "metadata": {},
   "outputs": [
    {
     "data": {
      "text/plain": [
       "0.17006802721088435"
      ]
     },
     "execution_count": 6,
     "metadata": {},
     "output_type": "execute_result"
    }
   ],
   "source": [
    "# what proportion of male employees left the organisation:\n",
    "p1 = 150 / (732+150)\n",
    "p1"
   ]
  },
  {
   "cell_type": "code",
   "execution_count": 7,
   "metadata": {},
   "outputs": [
    {
     "data": {
      "text/plain": [
       "0.14795918367346939"
      ]
     },
     "execution_count": 7,
     "metadata": {},
     "output_type": "execute_result"
    }
   ],
   "source": [
    "# what proportion of female employees left the organisation:\n",
    "p2 = 87 / (501+87)\n",
    "p2"
   ]
  },
  {
   "cell_type": "code",
   "execution_count": 8,
   "metadata": {},
   "outputs": [
    {
     "data": {
      "text/plain": [
       "0.16122448979591836"
      ]
     },
     "execution_count": 8,
     "metadata": {},
     "output_type": "execute_result"
    }
   ],
   "source": [
    "# total number of attritioned cases\n",
    "pp = 237 /1470\n",
    "pp"
   ]
  },
  {
   "cell_type": "code",
   "execution_count": 11,
   "metadata": {},
   "outputs": [
    {
     "data": {
      "text/plain": [
       "1.1292547809155016"
      ]
     },
     "execution_count": 11,
     "metadata": {},
     "output_type": "execute_result"
    }
   ],
   "source": [
    "z_data = (p1-p2)/ np.sqrt(pp * (1-pp) * (1/882 + (1/588)))\n",
    "z_data"
   ]
  },
  {
   "cell_type": "code",
   "execution_count": 12,
   "metadata": {},
   "outputs": [],
   "source": [
    "from statsmodels.stats.proportion import proportions_ztest"
   ]
  },
  {
   "cell_type": "code",
   "execution_count": 16,
   "metadata": {},
   "outputs": [
    {
     "data": {
      "text/plain": [
       "(1.1292547809155016, 0.2587903704911598)"
      ]
     },
     "execution_count": 16,
     "metadata": {},
     "output_type": "execute_result"
    }
   ],
   "source": [
    "x = np.array([150,87])\n",
    "n = np.array([882,588])\n",
    "proportions_ztest(x,n)\n",
    "# Ho holds true"
   ]
  },
  {
   "cell_type": "code",
   "execution_count": 17,
   "metadata": {},
   "outputs": [],
   "source": [
    "mig = pd.read_csv('Migraine.csv')"
   ]
  },
  {
   "cell_type": "code",
   "execution_count": 18,
   "metadata": {},
   "outputs": [
    {
     "data": {
      "text/html": [
       "<div>\n",
       "<style scoped>\n",
       "    .dataframe tbody tr th:only-of-type {\n",
       "        vertical-align: middle;\n",
       "    }\n",
       "\n",
       "    .dataframe tbody tr th {\n",
       "        vertical-align: top;\n",
       "    }\n",
       "\n",
       "    .dataframe thead th {\n",
       "        text-align: right;\n",
       "    }\n",
       "</style>\n",
       "<table border=\"1\" class=\"dataframe\">\n",
       "  <thead>\n",
       "    <tr style=\"text-align: right;\">\n",
       "      <th></th>\n",
       "      <th>Unnamed: 0</th>\n",
       "      <th>id</th>\n",
       "      <th>time</th>\n",
       "      <th>dos</th>\n",
       "      <th>hatype</th>\n",
       "      <th>age</th>\n",
       "      <th>airq</th>\n",
       "      <th>medication</th>\n",
       "      <th>headache</th>\n",
       "      <th>Gender</th>\n",
       "    </tr>\n",
       "  </thead>\n",
       "  <tbody>\n",
       "    <tr>\n",
       "      <th>0</th>\n",
       "      <td>1</td>\n",
       "      <td>1</td>\n",
       "      <td>-11</td>\n",
       "      <td>753</td>\n",
       "      <td>Aura</td>\n",
       "      <td>30</td>\n",
       "      <td>9.0</td>\n",
       "      <td>continuing</td>\n",
       "      <td>yes</td>\n",
       "      <td>female</td>\n",
       "    </tr>\n",
       "    <tr>\n",
       "      <th>1</th>\n",
       "      <td>2</td>\n",
       "      <td>1</td>\n",
       "      <td>-10</td>\n",
       "      <td>754</td>\n",
       "      <td>Aura</td>\n",
       "      <td>30</td>\n",
       "      <td>7.0</td>\n",
       "      <td>continuing</td>\n",
       "      <td>yes</td>\n",
       "      <td>female</td>\n",
       "    </tr>\n",
       "    <tr>\n",
       "      <th>2</th>\n",
       "      <td>3</td>\n",
       "      <td>1</td>\n",
       "      <td>-9</td>\n",
       "      <td>755</td>\n",
       "      <td>Aura</td>\n",
       "      <td>30</td>\n",
       "      <td>10.0</td>\n",
       "      <td>continuing</td>\n",
       "      <td>yes</td>\n",
       "      <td>female</td>\n",
       "    </tr>\n",
       "    <tr>\n",
       "      <th>3</th>\n",
       "      <td>4</td>\n",
       "      <td>1</td>\n",
       "      <td>-8</td>\n",
       "      <td>756</td>\n",
       "      <td>Aura</td>\n",
       "      <td>30</td>\n",
       "      <td>13.0</td>\n",
       "      <td>continuing</td>\n",
       "      <td>yes</td>\n",
       "      <td>female</td>\n",
       "    </tr>\n",
       "    <tr>\n",
       "      <th>4</th>\n",
       "      <td>5</td>\n",
       "      <td>1</td>\n",
       "      <td>-7</td>\n",
       "      <td>757</td>\n",
       "      <td>Aura</td>\n",
       "      <td>30</td>\n",
       "      <td>18.0</td>\n",
       "      <td>continuing</td>\n",
       "      <td>yes</td>\n",
       "      <td>female</td>\n",
       "    </tr>\n",
       "  </tbody>\n",
       "</table>\n",
       "</div>"
      ],
      "text/plain": [
       "   Unnamed: 0  id  time  dos hatype  age  airq  medication headache  Gender\n",
       "0           1   1   -11  753   Aura   30   9.0  continuing      yes  female\n",
       "1           2   1   -10  754   Aura   30   7.0  continuing      yes  female\n",
       "2           3   1    -9  755   Aura   30  10.0  continuing      yes  female\n",
       "3           4   1    -8  756   Aura   30  13.0  continuing      yes  female\n",
       "4           5   1    -7  757   Aura   30  18.0  continuing      yes  female"
      ]
     },
     "execution_count": 18,
     "metadata": {},
     "output_type": "execute_result"
    }
   ],
   "source": [
    "mig.head()"
   ]
  },
  {
   "cell_type": "code",
   "execution_count": 19,
   "metadata": {},
   "outputs": [
    {
     "data": {
      "text/html": [
       "<div>\n",
       "<style scoped>\n",
       "    .dataframe tbody tr th:only-of-type {\n",
       "        vertical-align: middle;\n",
       "    }\n",
       "\n",
       "    .dataframe tbody tr th {\n",
       "        vertical-align: top;\n",
       "    }\n",
       "\n",
       "    .dataframe thead th {\n",
       "        text-align: right;\n",
       "    }\n",
       "</style>\n",
       "<table border=\"1\" class=\"dataframe\">\n",
       "  <thead>\n",
       "    <tr style=\"text-align: right;\">\n",
       "      <th>headache</th>\n",
       "      <th>no</th>\n",
       "      <th>yes</th>\n",
       "    </tr>\n",
       "    <tr>\n",
       "      <th>Gender</th>\n",
       "      <th></th>\n",
       "      <th></th>\n",
       "    </tr>\n",
       "  </thead>\n",
       "  <tbody>\n",
       "    <tr>\n",
       "      <th>female</th>\n",
       "      <td>1266</td>\n",
       "      <td>2279</td>\n",
       "    </tr>\n",
       "    <tr>\n",
       "      <th>male</th>\n",
       "      <td>220</td>\n",
       "      <td>387</td>\n",
       "    </tr>\n",
       "  </tbody>\n",
       "</table>\n",
       "</div>"
      ],
      "text/plain": [
       "headache    no   yes\n",
       "Gender              \n",
       "female    1266  2279\n",
       "male       220   387"
      ]
     },
     "execution_count": 19,
     "metadata": {},
     "output_type": "execute_result"
    }
   ],
   "source": [
    "# QUESTION : Does gender have effect on headaches\n",
    "pd.crosstab(mig['Gender'],mig['headache'])"
   ]
  },
  {
   "cell_type": "code",
   "execution_count": 23,
   "metadata": {},
   "outputs": [
    {
     "data": {
      "text/plain": [
       "(-0.2524275906432048, 0.8007105762350393)"
      ]
     },
     "execution_count": 23,
     "metadata": {},
     "output_type": "execute_result"
    }
   ],
   "source": [
    "x = np.array([387,2279])\n",
    "n = np.array([607,3545])\n",
    "proportions_ztest(x,n)"
   ]
  },
  {
   "cell_type": "code",
   "execution_count": 22,
   "metadata": {},
   "outputs": [
    {
     "data": {
      "text/plain": [
       "3545"
      ]
     },
     "execution_count": 22,
     "metadata": {},
     "output_type": "execute_result"
    }
   ],
   "source": [
    "2279+1266"
   ]
  },
  {
   "cell_type": "code",
   "execution_count": null,
   "metadata": {},
   "outputs": [],
   "source": [
    "\n",
    "# time 4:42\n",
    "\n",
    "# ec1=(CT['female'].sum()*CT.loc['Aura'].sum())/M.shape[0] ec2=(CT['female'].sum()*CT.loc['Mixed'].sum())/M.shape[0] ec3=(CT['female'].sum()*CT.loc['No Aura'].sum())/M.shape[0] \n",
    "# ec4=(CT['male'].sum()*CT.loc['Aura'].sum())/M.shape[0] ec5=(CT['male'].sum()*CT.loc['Mixed'].sum())/M.shape[0] ec6=(CT['male'].sum()*CT.loc['No Aura'].sum())/M.shape[0] \n",
    "# PFA=1593/3545 PFM=291/3545 PFNA=1661/3545 PFA,PFM,PFNA \n",
    "# PMA=117/607 PMM=166/607 PMNA=324/607 PMA,PMM,PMNA \n",
    "# oc=np.array([1593,291,1661,117,166,324]) ec=np.array([ec1,ec2,ec3,ec4,ec5,ec6]) \n",
    "# chi_sq=np.sum((oc-ec)**2/ec) chi_sq \n",
    "# from scipy.stats import chi2_contingency "
   ]
  }
 ],
 "metadata": {
  "kernelspec": {
   "display_name": "Python 3",
   "language": "python",
   "name": "python3"
  },
  "language_info": {
   "codemirror_mode": {
    "name": "ipython",
    "version": 3
   },
   "file_extension": ".py",
   "mimetype": "text/x-python",
   "name": "python",
   "nbconvert_exporter": "python",
   "pygments_lexer": "ipython3",
   "version": "3.8.3"
  }
 },
 "nbformat": 4,
 "nbformat_minor": 4
}
